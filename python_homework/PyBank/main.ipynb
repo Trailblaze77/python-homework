{
 "cells": [
  {
   "cell_type": "code",
   "execution_count": 1,
   "metadata": {},
   "outputs": [],
   "source": [
    "import csv"
   ]
  },
  {
   "cell_type": "code",
   "execution_count": 2,
   "metadata": {},
   "outputs": [],
   "source": [
    "def read_csv(filename):\n",
    "    \"\"\"\n",
    "    Reads a csv file and returns a list of lists.\n",
    "    \"\"\"\n",
    "    with open(filename, newline='') as csvfile:\n",
    "        csvreader = csv.reader(csvfile, delimiter=',')\n",
    "        data = list(csvreader)\n",
    "    return data[1:]"
   ]
  },
  {
   "cell_type": "code",
   "execution_count": 3,
   "metadata": {},
   "outputs": [],
   "source": [
    "data = read_csv('budget_data.csv')"
   ]
  },
  {
   "cell_type": "code",
   "execution_count": 4,
   "metadata": {},
   "outputs": [
    {
     "data": {
      "text/plain": [
       "[['Jan-2010', '867884'],\n",
       " ['Feb-2010', '984655'],\n",
       " ['Mar-2010', '322013'],\n",
       " ['Apr-2010', '-69417'],\n",
       " ['May-2010', '310503'],\n",
       " ['Jun-2010', '522857'],\n",
       " ['Jul-2010', '1033096'],\n",
       " ['Aug-2010', '604885'],\n",
       " ['Sep-2010', '-216386'],\n",
       " ['Oct-2010', '477532']]"
      ]
     },
     "execution_count": 4,
     "metadata": {},
     "output_type": "execute_result"
    }
   ],
   "source": [
    "data[:10]"
   ]
  },
  {
   "cell_type": "code",
   "execution_count": 5,
   "metadata": {},
   "outputs": [],
   "source": [
    "def get_total_months(data):\n",
    "    \"\"\"\n",
    "    Returns the total number of months in the data set.\n",
    "    \"\"\"\n",
    "    return len(data)"
   ]
  },
  {
   "cell_type": "code",
   "execution_count": 6,
   "metadata": {},
   "outputs": [
    {
     "data": {
      "text/plain": [
       "86"
      ]
     },
     "execution_count": 6,
     "metadata": {},
     "output_type": "execute_result"
    }
   ],
   "source": [
    "get_total_months(data)"
   ]
  },
  {
   "cell_type": "code",
   "execution_count": 7,
   "metadata": {},
   "outputs": [],
   "source": [
    "def get_total_revenue(data):\n",
    "    \"\"\"\n",
    "    Returns the total revenue in the data set.\n",
    "    \"\"\"\n",
    "    return sum([int(row[1]) for row in data])"
   ]
  },
  {
   "cell_type": "code",
   "execution_count": 8,
   "metadata": {},
   "outputs": [
    {
     "data": {
      "text/plain": [
       "38382578"
      ]
     },
     "execution_count": 8,
     "metadata": {},
     "output_type": "execute_result"
    }
   ],
   "source": [
    " \n",
    "get_total_revenue(data)"
   ]
  },
  {
   "cell_type": "code",
   "execution_count": 9,
   "metadata": {},
   "outputs": [
    {
     "data": {
      "text/plain": [
       "86"
      ]
     },
     "execution_count": 9,
     "metadata": {},
     "output_type": "execute_result"
    }
   ],
   "source": [
    "get_total_months(data)"
   ]
  },
  {
   "cell_type": "code",
   "execution_count": 10,
   "metadata": {},
   "outputs": [
    {
     "data": {
      "text/plain": [
       "38382578"
      ]
     },
     "execution_count": 10,
     "metadata": {},
     "output_type": "execute_result"
    }
   ],
   "source": [
    "get_total_revenue(data)"
   ]
  },
  {
   "cell_type": "code",
   "execution_count": 11,
   "metadata": {},
   "outputs": [],
   "source": [
    "def greatest_increase(data):\n",
    "    \"\"\"\n",
    "    Returns the greatest increase in revenue (date and amount) over the entire period.\n",
    "    \"\"\"\n",
    "    greatest_increase = 0\n",
    "\n",
    "    for i, row in enumerate(data):\n",
    "        if int(row[1]) - int(data[i-1][1]) > greatest_increase:\n",
    "            greatest_increase = int(row[1]) - int(data[i-1][1])\n",
    "            greatest_increase_month = row[0]\n",
    "    return greatest_increase_month, greatest_increase"
   ]
  },
  {
   "cell_type": "code",
   "execution_count": 12,
   "metadata": {},
   "outputs": [
    {
     "data": {
      "text/plain": [
       "('Feb-2012', 1926159)"
      ]
     },
     "execution_count": 12,
     "metadata": {},
     "output_type": "execute_result"
    }
   ],
   "source": [
    "greatest_increase(data)"
   ]
  },
  {
   "cell_type": "code",
   "execution_count": 13,
   "metadata": {},
   "outputs": [],
   "source": [
    "def greatest_decrease(data):\n",
    "    \"\"\"\n",
    "    Returns the greatest decrease in revenue (date and amount) over the entire period.\n",
    "    \"\"\"\n",
    "    greatest_decrease = 10000000\n",
    "\n",
    "\n",
    "    for i, row in enumerate(data):\n",
    "        if int(row[1]) - int(data[i-1][1]) < greatest_decrease:\n",
    "            greatest_decrease = int(row[1]) - int(data[i-1][1])\n",
    "            greatest_decrease_month = row[0]\n",
    "    return greatest_decrease_month, greatest_decrease"
   ]
  },
  {
   "cell_type": "code",
   "execution_count": 14,
   "metadata": {},
   "outputs": [
    {
     "data": {
      "text/plain": [
       "('Sep-2013', -2196167)"
      ]
     },
     "execution_count": 14,
     "metadata": {},
     "output_type": "execute_result"
    }
   ],
   "source": [
    "greatest_decrease(data)"
   ]
  },
  {
   "cell_type": "code",
   "execution_count": 15,
   "metadata": {},
   "outputs": [],
   "source": [
    "def average_change(data):\n",
    "    \"\"\"\n",
    "    Returns the average change in revenue between months over the entire period.\n",
    "    \"\"\"\n",
    "    change_list = []\n",
    "    for i, row in enumerate(data[1:]):\n",
    "        change = float(row[1]) - float(data[i-1][1])\n",
    "        change_list.append(change)\n",
    "\n",
    "    return sum(change_list)/len(change_list)"
   ]
  },
  {
   "cell_type": "code",
   "execution_count": 16,
   "metadata": {},
   "outputs": [
    {
     "data": {
      "text/plain": [
       "-8584.164705882353"
      ]
     },
     "execution_count": 16,
     "metadata": {},
     "output_type": "execute_result"
    }
   ],
   "source": [
    "average_change(data)"
   ]
  },
  {
   "cell_type": "code",
   "execution_count": 17,
   "metadata": {},
   "outputs": [
    {
     "name": "stdout",
     "output_type": "stream",
     "text": [
      "Financial Analysis\n",
      "\n",
      "----------------------------\n",
      "\n",
      "Total Months: 86\n",
      "\n",
      "Total: $38382578\n",
      "\n",
      "Average  Change $-8584.164705882353\n",
      "\n",
      "Greatest Increase in Profits: Feb-2012 ($1926159)\n",
      "\n",
      "Greatest Decrease in Profits: Sep-2013 ($-2196167)\n",
      "\n"
     ]
    }
   ],
   "source": [
    "print(\"Financial Analysis\\n\")\n",
    "print(\"----------------------------\\n\")\n",
    "print(\"Total Months: %d\\n\" % get_total_months(data))\n",
    "print(\"Total: $%d\\n\" % get_total_revenue(data))\n",
    "print(\"Average  Change $%s\\n\" % average_change(data))\n",
    "gr_inc_date, gr_inc_val = greatest_increase(data)\n",
    "print(\"Greatest Increase in Profits: %s ($%s)\\n\" % (gr_inc_date, gr_inc_val))\n",
    "gr_dec_date, gr_dec_val = greatest_decrease(data)\n",
    "print(\"Greatest Decrease in Profits: %s ($%s)\\n\" % (gr_dec_date, gr_dec_val))"
   ]
  },
  {
   "cell_type": "code",
   "execution_count": null,
   "metadata": {},
   "outputs": [],
   "source": []
  }
 ],
 "metadata": {
  "interpreter": {
   "hash": "aee8b7b246df8f9039afb4144a1f6fd8d2ca17a180786b69acc140d282b71a49"
  },
  "kernelspec": {
   "display_name": "Python 3.8.7 64-bit",
   "language": "python",
   "name": "python3"
  },
  "language_info": {
   "codemirror_mode": {
    "name": "ipython",
    "version": 3
   },
   "file_extension": ".py",
   "mimetype": "text/x-python",
   "name": "python",
   "nbconvert_exporter": "python",
   "pygments_lexer": "ipython3",
   "version": "3.8.7"
  },
  "orig_nbformat": 4
 },
 "nbformat": 4,
 "nbformat_minor": 2
}
