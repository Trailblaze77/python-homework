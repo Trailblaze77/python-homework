{
 "cells": [
  {
   "cell_type": "markdown",
   "metadata": {},
   "source": [
    "# Toronto Dwellings Analysis\n",
    "\n",
    "In this assignment, you will perform fundamental analysis for the Toronto dwellings market to allow potential real estate investors to choose rental investment properties."
   ]
  },
  {
   "cell_type": "code",
   "execution_count": 3,
   "metadata": {},
   "outputs": [],
   "source": [
    "# imports\n",
    "import panel as pn\n",
    "pn.extension('plotly')\n",
    "import plotly.express as px\n",
    "import pandas as pd\n",
    "import hvplot.pandas\n",
    "import matplotlib.pyplot as plt\n",
    "import os\n",
    "from pathlib import Path\n",
    "from dotenv import load_dotenv"
   ]
  },
  {
   "cell_type": "code",
   "execution_count": 4,
   "metadata": {},
   "outputs": [],
   "source": [
    "# Read the Mapbox API key\n",
    "load_dotenv()\n",
    "# map_box_api = os.getenv(\"mapbox\")\n",
    "map_box_api = \"pk.eyJ1IjoidGJsYXNlciIsImEiOiJjbDByeGN2anEwN3ZoM2NwbjN2cjBycm5nIn0.jPPYxBWujOivBY-TNhCq6w\"\n"
   ]
  },
  {
   "cell_type": "markdown",
   "metadata": {},
   "source": [
    "## Load Data"
   ]
  },
  {
   "cell_type": "code",
   "execution_count": 5,
   "metadata": {},
   "outputs": [
    {
     "data": {
      "text/html": [
       "<div>\n",
       "<style scoped>\n",
       "    .dataframe tbody tr th:only-of-type {\n",
       "        vertical-align: middle;\n",
       "    }\n",
       "\n",
       "    .dataframe tbody tr th {\n",
       "        vertical-align: top;\n",
       "    }\n",
       "\n",
       "    .dataframe thead th {\n",
       "        text-align: right;\n",
       "    }\n",
       "</style>\n",
       "<table border=\"1\" class=\"dataframe\">\n",
       "  <thead>\n",
       "    <tr style=\"text-align: right;\">\n",
       "      <th></th>\n",
       "      <th>neighbourhood</th>\n",
       "      <th>single_detached_house</th>\n",
       "      <th>apartment_five_storeys_plus</th>\n",
       "      <th>movable_dwelling</th>\n",
       "      <th>semi_detached_house</th>\n",
       "      <th>row_house</th>\n",
       "      <th>duplex</th>\n",
       "      <th>apartment_five_storeys_less</th>\n",
       "      <th>other_house</th>\n",
       "      <th>average_house_value</th>\n",
       "      <th>shelter_costs_owned</th>\n",
       "      <th>shelter_costs_rented</th>\n",
       "    </tr>\n",
       "    <tr>\n",
       "      <th>year</th>\n",
       "      <th></th>\n",
       "      <th></th>\n",
       "      <th></th>\n",
       "      <th></th>\n",
       "      <th></th>\n",
       "      <th></th>\n",
       "      <th></th>\n",
       "      <th></th>\n",
       "      <th></th>\n",
       "      <th></th>\n",
       "      <th></th>\n",
       "      <th></th>\n",
       "    </tr>\n",
       "  </thead>\n",
       "  <tbody>\n",
       "    <tr>\n",
       "      <th>2001</th>\n",
       "      <td>Agincourt North</td>\n",
       "      <td>3715</td>\n",
       "      <td>1480</td>\n",
       "      <td>0</td>\n",
       "      <td>1055</td>\n",
       "      <td>1295</td>\n",
       "      <td>195</td>\n",
       "      <td>185</td>\n",
       "      <td>5</td>\n",
       "      <td>200388</td>\n",
       "      <td>810</td>\n",
       "      <td>870</td>\n",
       "    </tr>\n",
       "    <tr>\n",
       "      <th>2001</th>\n",
       "      <td>Agincourt South-Malvern West</td>\n",
       "      <td>3250</td>\n",
       "      <td>1835</td>\n",
       "      <td>0</td>\n",
       "      <td>545</td>\n",
       "      <td>455</td>\n",
       "      <td>105</td>\n",
       "      <td>425</td>\n",
       "      <td>0</td>\n",
       "      <td>203047</td>\n",
       "      <td>806</td>\n",
       "      <td>892</td>\n",
       "    </tr>\n",
       "    <tr>\n",
       "      <th>2001</th>\n",
       "      <td>Alderwood</td>\n",
       "      <td>3175</td>\n",
       "      <td>315</td>\n",
       "      <td>0</td>\n",
       "      <td>470</td>\n",
       "      <td>50</td>\n",
       "      <td>185</td>\n",
       "      <td>370</td>\n",
       "      <td>0</td>\n",
       "      <td>259998</td>\n",
       "      <td>817</td>\n",
       "      <td>924</td>\n",
       "    </tr>\n",
       "    <tr>\n",
       "      <th>2001</th>\n",
       "      <td>Annex</td>\n",
       "      <td>1060</td>\n",
       "      <td>6090</td>\n",
       "      <td>5</td>\n",
       "      <td>1980</td>\n",
       "      <td>605</td>\n",
       "      <td>275</td>\n",
       "      <td>3710</td>\n",
       "      <td>165</td>\n",
       "      <td>453850</td>\n",
       "      <td>1027</td>\n",
       "      <td>1378</td>\n",
       "    </tr>\n",
       "    <tr>\n",
       "      <th>2001</th>\n",
       "      <td>Banbury-Don Mills</td>\n",
       "      <td>3615</td>\n",
       "      <td>4465</td>\n",
       "      <td>0</td>\n",
       "      <td>240</td>\n",
       "      <td>380</td>\n",
       "      <td>15</td>\n",
       "      <td>1360</td>\n",
       "      <td>0</td>\n",
       "      <td>371864</td>\n",
       "      <td>1007</td>\n",
       "      <td>1163</td>\n",
       "    </tr>\n",
       "  </tbody>\n",
       "</table>\n",
       "</div>"
      ],
      "text/plain": [
       "                     neighbourhood  single_detached_house  \\\n",
       "year                                                        \n",
       "2001               Agincourt North                   3715   \n",
       "2001  Agincourt South-Malvern West                   3250   \n",
       "2001                     Alderwood                   3175   \n",
       "2001                         Annex                   1060   \n",
       "2001             Banbury-Don Mills                   3615   \n",
       "\n",
       "      apartment_five_storeys_plus  movable_dwelling  semi_detached_house  \\\n",
       "year                                                                       \n",
       "2001                         1480                 0                 1055   \n",
       "2001                         1835                 0                  545   \n",
       "2001                          315                 0                  470   \n",
       "2001                         6090                 5                 1980   \n",
       "2001                         4465                 0                  240   \n",
       "\n",
       "      row_house  duplex  apartment_five_storeys_less  other_house  \\\n",
       "year                                                                \n",
       "2001       1295     195                          185            5   \n",
       "2001        455     105                          425            0   \n",
       "2001         50     185                          370            0   \n",
       "2001        605     275                         3710          165   \n",
       "2001        380      15                         1360            0   \n",
       "\n",
       "      average_house_value  shelter_costs_owned  shelter_costs_rented  \n",
       "year                                                                  \n",
       "2001               200388                  810                   870  \n",
       "2001               203047                  806                   892  \n",
       "2001               259998                  817                   924  \n",
       "2001               453850                 1027                  1378  \n",
       "2001               371864                 1007                  1163  "
      ]
     },
     "execution_count": 5,
     "metadata": {},
     "output_type": "execute_result"
    }
   ],
   "source": [
    "# Read the census data into a Pandas DataFrame\n",
    "file_path = Path(\"Data/toronto_neighbourhoods_census_data.csv\")\n",
    "to_data = pd.read_csv(file_path, index_col=\"year\")\n",
    "to_data.head()"
   ]
  },
  {
   "cell_type": "markdown",
   "metadata": {},
   "source": [
    "- - - "
   ]
  },
  {
   "cell_type": "markdown",
   "metadata": {},
   "source": [
    "## Dwelling Types Per Year\n",
    "\n",
    "In this section, you will calculate the number of dwelling types per year. Visualize the results using bar charts and the Pandas plot function. \n",
    "\n",
    "**Hint:** Use the Pandas `groupby` function.\n",
    "\n",
    "**Optional challenge:** Plot each bar chart in a different color."
   ]
  },
  {
   "cell_type": "code",
   "execution_count": 8,
   "metadata": {},
   "outputs": [
    {
     "data": {
      "text/html": [
       "<div>\n",
       "<style scoped>\n",
       "    .dataframe tbody tr th:only-of-type {\n",
       "        vertical-align: middle;\n",
       "    }\n",
       "\n",
       "    .dataframe tbody tr th {\n",
       "        vertical-align: top;\n",
       "    }\n",
       "\n",
       "    .dataframe thead th {\n",
       "        text-align: right;\n",
       "    }\n",
       "</style>\n",
       "<table border=\"1\" class=\"dataframe\">\n",
       "  <thead>\n",
       "    <tr style=\"text-align: right;\">\n",
       "      <th></th>\n",
       "      <th>single_detached_house</th>\n",
       "      <th>apartment_five_storeys_plus</th>\n",
       "      <th>movable_dwelling</th>\n",
       "      <th>semi_detached_house</th>\n",
       "      <th>row_house</th>\n",
       "      <th>duplex</th>\n",
       "      <th>apartment_five_storeys_less</th>\n",
       "      <th>other_house</th>\n",
       "      <th>average_house_value</th>\n",
       "      <th>shelter_costs_owned</th>\n",
       "      <th>shelter_costs_rented</th>\n",
       "    </tr>\n",
       "    <tr>\n",
       "      <th>year</th>\n",
       "      <th></th>\n",
       "      <th></th>\n",
       "      <th></th>\n",
       "      <th></th>\n",
       "      <th></th>\n",
       "      <th></th>\n",
       "      <th></th>\n",
       "      <th></th>\n",
       "      <th></th>\n",
       "      <th></th>\n",
       "      <th></th>\n",
       "    </tr>\n",
       "  </thead>\n",
       "  <tbody>\n",
       "    <tr>\n",
       "      <th>2001</th>\n",
       "      <td>300930</td>\n",
       "      <td>355015</td>\n",
       "      <td>75</td>\n",
       "      <td>90995</td>\n",
       "      <td>52355</td>\n",
       "      <td>23785</td>\n",
       "      <td>116900</td>\n",
       "      <td>3040</td>\n",
       "      <td>40583604</td>\n",
       "      <td>118563</td>\n",
       "      <td>152031</td>\n",
       "    </tr>\n",
       "    <tr>\n",
       "      <th>2006</th>\n",
       "      <td>266860</td>\n",
       "      <td>379400</td>\n",
       "      <td>165</td>\n",
       "      <td>69430</td>\n",
       "      <td>54690</td>\n",
       "      <td>44095</td>\n",
       "      <td>162850</td>\n",
       "      <td>1335</td>\n",
       "      <td>59368353</td>\n",
       "      <td>184352</td>\n",
       "      <td>129558</td>\n",
       "    </tr>\n",
       "    <tr>\n",
       "      <th>2011</th>\n",
       "      <td>274940</td>\n",
       "      <td>429220</td>\n",
       "      <td>100</td>\n",
       "      <td>72480</td>\n",
       "      <td>60355</td>\n",
       "      <td>44750</td>\n",
       "      <td>163895</td>\n",
       "      <td>2165</td>\n",
       "      <td>74259461</td>\n",
       "      <td>202750</td>\n",
       "      <td>142771</td>\n",
       "    </tr>\n",
       "    <tr>\n",
       "      <th>2016</th>\n",
       "      <td>269680</td>\n",
       "      <td>493270</td>\n",
       "      <td>95</td>\n",
       "      <td>71200</td>\n",
       "      <td>61565</td>\n",
       "      <td>48585</td>\n",
       "      <td>165575</td>\n",
       "      <td>2845</td>\n",
       "      <td>92969566</td>\n",
       "      <td>246584</td>\n",
       "      <td>175885</td>\n",
       "    </tr>\n",
       "  </tbody>\n",
       "</table>\n",
       "</div>"
      ],
      "text/plain": [
       "      single_detached_house  apartment_five_storeys_plus  movable_dwelling  \\\n",
       "year                                                                         \n",
       "2001                 300930                       355015                75   \n",
       "2006                 266860                       379400               165   \n",
       "2011                 274940                       429220               100   \n",
       "2016                 269680                       493270                95   \n",
       "\n",
       "      semi_detached_house  row_house  duplex  apartment_five_storeys_less  \\\n",
       "year                                                                        \n",
       "2001                90995      52355   23785                       116900   \n",
       "2006                69430      54690   44095                       162850   \n",
       "2011                72480      60355   44750                       163895   \n",
       "2016                71200      61565   48585                       165575   \n",
       "\n",
       "      other_house  average_house_value  shelter_costs_owned  \\\n",
       "year                                                          \n",
       "2001         3040             40583604               118563   \n",
       "2006         1335             59368353               184352   \n",
       "2011         2165             74259461               202750   \n",
       "2016         2845             92969566               246584   \n",
       "\n",
       "      shelter_costs_rented  \n",
       "year                        \n",
       "2001                152031  \n",
       "2006                129558  \n",
       "2011                142771  \n",
       "2016                175885  "
      ]
     },
     "execution_count": 8,
     "metadata": {},
     "output_type": "execute_result"
    }
   ],
   "source": [
    "# Calculate the sum number of dwelling types units per year (hint: use groupby)\n",
    "\n",
    "# YOUR CODE HERE!\n",
    "to_data.groupby(\"year\").sum()"
   ]
  },
  {
   "cell_type": "code",
   "execution_count": 9,
   "metadata": {},
   "outputs": [],
   "source": [
    "# Save the dataframe as a csv file\n",
    "# YOUR CODE HERE!\n",
    "to_data.to_csv(\"Data/toronto_neighbourhoods_census_data_v2.csv\")"
   ]
  },
  {
   "cell_type": "code",
   "execution_count": 11,
   "metadata": {},
   "outputs": [],
   "source": [
    "# Helper create_bar_chart function\n",
    "def create_bar_chart(data, title, xlabel, ylabel, color):\n",
    "    \"\"\"\n",
    "    Create a barplot based in the data argument.\n",
    "    \"\"\"\n",
    "    fig = px.bar(data, x=xlabel, y=ylabel, color=color)\n",
    "    fig.update_layout(title=title)\n",
    "    return fig"
   ]
  },
  {
   "cell_type": "code",
   "execution_count": 12,
   "metadata": {},
   "outputs": [
    {
     "data": {
      "text/html": [
       "<div>\n",
       "<style scoped>\n",
       "    .dataframe tbody tr th:only-of-type {\n",
       "        vertical-align: middle;\n",
       "    }\n",
       "\n",
       "    .dataframe tbody tr th {\n",
       "        vertical-align: top;\n",
       "    }\n",
       "\n",
       "    .dataframe thead th {\n",
       "        text-align: right;\n",
       "    }\n",
       "</style>\n",
       "<table border=\"1\" class=\"dataframe\">\n",
       "  <thead>\n",
       "    <tr style=\"text-align: right;\">\n",
       "      <th></th>\n",
       "      <th>neighbourhood</th>\n",
       "      <th>single_detached_house</th>\n",
       "      <th>apartment_five_storeys_plus</th>\n",
       "      <th>movable_dwelling</th>\n",
       "      <th>semi_detached_house</th>\n",
       "      <th>row_house</th>\n",
       "      <th>duplex</th>\n",
       "      <th>apartment_five_storeys_less</th>\n",
       "      <th>other_house</th>\n",
       "      <th>average_house_value</th>\n",
       "      <th>shelter_costs_owned</th>\n",
       "      <th>shelter_costs_rented</th>\n",
       "    </tr>\n",
       "    <tr>\n",
       "      <th>year</th>\n",
       "      <th></th>\n",
       "      <th></th>\n",
       "      <th></th>\n",
       "      <th></th>\n",
       "      <th></th>\n",
       "      <th></th>\n",
       "      <th></th>\n",
       "      <th></th>\n",
       "      <th></th>\n",
       "      <th></th>\n",
       "      <th></th>\n",
       "      <th></th>\n",
       "    </tr>\n",
       "  </thead>\n",
       "  <tbody>\n",
       "    <tr>\n",
       "      <th>2001</th>\n",
       "      <td>Agincourt North</td>\n",
       "      <td>3715</td>\n",
       "      <td>1480</td>\n",
       "      <td>0</td>\n",
       "      <td>1055</td>\n",
       "      <td>1295</td>\n",
       "      <td>195</td>\n",
       "      <td>185</td>\n",
       "      <td>5</td>\n",
       "      <td>200388</td>\n",
       "      <td>810</td>\n",
       "      <td>870</td>\n",
       "    </tr>\n",
       "    <tr>\n",
       "      <th>2001</th>\n",
       "      <td>Agincourt South-Malvern West</td>\n",
       "      <td>3250</td>\n",
       "      <td>1835</td>\n",
       "      <td>0</td>\n",
       "      <td>545</td>\n",
       "      <td>455</td>\n",
       "      <td>105</td>\n",
       "      <td>425</td>\n",
       "      <td>0</td>\n",
       "      <td>203047</td>\n",
       "      <td>806</td>\n",
       "      <td>892</td>\n",
       "    </tr>\n",
       "    <tr>\n",
       "      <th>2001</th>\n",
       "      <td>Alderwood</td>\n",
       "      <td>3175</td>\n",
       "      <td>315</td>\n",
       "      <td>0</td>\n",
       "      <td>470</td>\n",
       "      <td>50</td>\n",
       "      <td>185</td>\n",
       "      <td>370</td>\n",
       "      <td>0</td>\n",
       "      <td>259998</td>\n",
       "      <td>817</td>\n",
       "      <td>924</td>\n",
       "    </tr>\n",
       "    <tr>\n",
       "      <th>2001</th>\n",
       "      <td>Annex</td>\n",
       "      <td>1060</td>\n",
       "      <td>6090</td>\n",
       "      <td>5</td>\n",
       "      <td>1980</td>\n",
       "      <td>605</td>\n",
       "      <td>275</td>\n",
       "      <td>3710</td>\n",
       "      <td>165</td>\n",
       "      <td>453850</td>\n",
       "      <td>1027</td>\n",
       "      <td>1378</td>\n",
       "    </tr>\n",
       "    <tr>\n",
       "      <th>2001</th>\n",
       "      <td>Banbury-Don Mills</td>\n",
       "      <td>3615</td>\n",
       "      <td>4465</td>\n",
       "      <td>0</td>\n",
       "      <td>240</td>\n",
       "      <td>380</td>\n",
       "      <td>15</td>\n",
       "      <td>1360</td>\n",
       "      <td>0</td>\n",
       "      <td>371864</td>\n",
       "      <td>1007</td>\n",
       "      <td>1163</td>\n",
       "    </tr>\n",
       "  </tbody>\n",
       "</table>\n",
       "</div>"
      ],
      "text/plain": [
       "                     neighbourhood  single_detached_house  \\\n",
       "year                                                        \n",
       "2001               Agincourt North                   3715   \n",
       "2001  Agincourt South-Malvern West                   3250   \n",
       "2001                     Alderwood                   3175   \n",
       "2001                         Annex                   1060   \n",
       "2001             Banbury-Don Mills                   3615   \n",
       "\n",
       "      apartment_five_storeys_plus  movable_dwelling  semi_detached_house  \\\n",
       "year                                                                       \n",
       "2001                         1480                 0                 1055   \n",
       "2001                         1835                 0                  545   \n",
       "2001                          315                 0                  470   \n",
       "2001                         6090                 5                 1980   \n",
       "2001                         4465                 0                  240   \n",
       "\n",
       "      row_house  duplex  apartment_five_storeys_less  other_house  \\\n",
       "year                                                                \n",
       "2001       1295     195                          185            5   \n",
       "2001        455     105                          425            0   \n",
       "2001         50     185                          370            0   \n",
       "2001        605     275                         3710          165   \n",
       "2001        380      15                         1360            0   \n",
       "\n",
       "      average_house_value  shelter_costs_owned  shelter_costs_rented  \n",
       "year                                                                  \n",
       "2001               200388                  810                   870  \n",
       "2001               203047                  806                   892  \n",
       "2001               259998                  817                   924  \n",
       "2001               453850                 1027                  1378  \n",
       "2001               371864                 1007                  1163  "
      ]
     },
     "execution_count": 12,
     "metadata": {},
     "output_type": "execute_result"
    }
   ],
   "source": [
    "to_data.head()"
   ]
  },
  {
   "cell_type": "code",
   "execution_count": 24,
   "metadata": {},
   "outputs": [
    {
     "data": {
      "application/vnd.plotly.v1+json": {
       "config": {
        "plotlyServerURL": "https://plot.ly"
       },
       "data": [
        {
         "alignmentgroup": "True",
         "hovertemplate": "neighbourhood=%{x}<br>single_detached_house=%{y}<extra></extra>",
         "legendgroup": "Agincourt North",
         "marker": {
          "color": "#636efa",
          "pattern": {
           "shape": ""
          }
         },
         "name": "Agincourt North",
         "offsetgroup": "Agincourt North",
         "orientation": "v",
         "showlegend": true,
         "textposition": "auto",
         "type": "bar",
         "x": [
          "Agincourt North"
         ],
         "xaxis": "x",
         "y": [
          3345
         ],
         "yaxis": "y"
        },
        {
         "alignmentgroup": "True",
         "hovertemplate": "neighbourhood=%{x}<br>single_detached_house=%{y}<extra></extra>",
         "legendgroup": "Agincourt South-Malvern West",
         "marker": {
          "color": "#EF553B",
          "pattern": {
           "shape": ""
          }
         },
         "name": "Agincourt South-Malvern West",
         "offsetgroup": "Agincourt South-Malvern West",
         "orientation": "v",
         "showlegend": true,
         "textposition": "auto",
         "type": "bar",
         "x": [
          "Agincourt South-Malvern West"
         ],
         "xaxis": "x",
         "y": [
          2790
         ],
         "yaxis": "y"
        },
        {
         "alignmentgroup": "True",
         "hovertemplate": "neighbourhood=%{x}<br>single_detached_house=%{y}<extra></extra>",
         "legendgroup": "Alderwood",
         "marker": {
          "color": "#00cc96",
          "pattern": {
           "shape": ""
          }
         },
         "name": "Alderwood",
         "offsetgroup": "Alderwood",
         "orientation": "v",
         "showlegend": true,
         "textposition": "auto",
         "type": "bar",
         "x": [
          "Alderwood"
         ],
         "xaxis": "x",
         "y": [
          2840
         ],
         "yaxis": "y"
        },
        {
         "alignmentgroup": "True",
         "hovertemplate": "neighbourhood=%{x}<br>single_detached_house=%{y}<extra></extra>",
         "legendgroup": "Annex",
         "marker": {
          "color": "#ab63fa",
          "pattern": {
           "shape": ""
          }
         },
         "name": "Annex",
         "offsetgroup": "Annex",
         "orientation": "v",
         "showlegend": true,
         "textposition": "auto",
         "type": "bar",
         "x": [
          "Annex"
         ],
         "xaxis": "x",
         "y": [
          645
         ],
         "yaxis": "y"
        },
        {
         "alignmentgroup": "True",
         "hovertemplate": "neighbourhood=%{x}<br>single_detached_house=%{y}<extra></extra>",
         "legendgroup": "Banbury-Don Mills",
         "marker": {
          "color": "#FFA15A",
          "pattern": {
           "shape": ""
          }
         },
         "name": "Banbury-Don Mills",
         "offsetgroup": "Banbury-Don Mills",
         "orientation": "v",
         "showlegend": true,
         "textposition": "auto",
         "type": "bar",
         "x": [
          "Banbury-Don Mills"
         ],
         "xaxis": "x",
         "y": [
          3485
         ],
         "yaxis": "y"
        },
        {
         "alignmentgroup": "True",
         "hovertemplate": "neighbourhood=%{x}<br>single_detached_house=%{y}<extra></extra>",
         "legendgroup": "Bathurst Manor",
         "marker": {
          "color": "#19d3f3",
          "pattern": {
           "shape": ""
          }
         },
         "name": "Bathurst Manor",
         "offsetgroup": "Bathurst Manor",
         "orientation": "v",
         "showlegend": true,
         "textposition": "auto",
         "type": "bar",
         "x": [
          "Bathurst Manor"
         ],
         "xaxis": "x",
         "y": [
          2105
         ],
         "yaxis": "y"
        },
        {
         "alignmentgroup": "True",
         "hovertemplate": "neighbourhood=%{x}<br>single_detached_house=%{y}<extra></extra>",
         "legendgroup": "Bay Street Corridor",
         "marker": {
          "color": "#FF6692",
          "pattern": {
           "shape": ""
          }
         },
         "name": "Bay Street Corridor",
         "offsetgroup": "Bay Street Corridor",
         "orientation": "v",
         "showlegend": true,
         "textposition": "auto",
         "type": "bar",
         "x": [
          "Bay Street Corridor"
         ],
         "xaxis": "x",
         "y": [
          5
         ],
         "yaxis": "y"
        },
        {
         "alignmentgroup": "True",
         "hovertemplate": "neighbourhood=%{x}<br>single_detached_house=%{y}<extra></extra>",
         "legendgroup": "Bayview Village",
         "marker": {
          "color": "#B6E880",
          "pattern": {
           "shape": ""
          }
         },
         "name": "Bayview Village",
         "offsetgroup": "Bayview Village",
         "orientation": "v",
         "showlegend": true,
         "textposition": "auto",
         "type": "bar",
         "x": [
          "Bayview Village"
         ],
         "xaxis": "x",
         "y": [
          2025
         ],
         "yaxis": "y"
        },
        {
         "alignmentgroup": "True",
         "hovertemplate": "neighbourhood=%{x}<br>single_detached_house=%{y}<extra></extra>",
         "legendgroup": "Bayview Woods-Steeles",
         "marker": {
          "color": "#FF97FF",
          "pattern": {
           "shape": ""
          }
         },
         "name": "Bayview Woods-Steeles",
         "offsetgroup": "Bayview Woods-Steeles",
         "orientation": "v",
         "showlegend": true,
         "textposition": "auto",
         "type": "bar",
         "x": [
          "Bayview Woods-Steeles"
         ],
         "xaxis": "x",
         "y": [
          1565
         ],
         "yaxis": "y"
        },
        {
         "alignmentgroup": "True",
         "hovertemplate": "neighbourhood=%{x}<br>single_detached_house=%{y}<extra></extra>",
         "legendgroup": "Bedford Park-Nortown",
         "marker": {
          "color": "#FECB52",
          "pattern": {
           "shape": ""
          }
         },
         "name": "Bedford Park-Nortown",
         "offsetgroup": "Bedford Park-Nortown",
         "orientation": "v",
         "showlegend": true,
         "textposition": "auto",
         "type": "bar",
         "x": [
          "Bedford Park-Nortown"
         ],
         "xaxis": "x",
         "y": [
          4820
         ],
         "yaxis": "y"
        },
        {
         "alignmentgroup": "True",
         "hovertemplate": "neighbourhood=%{x}<br>single_detached_house=%{y}<extra></extra>",
         "legendgroup": "Beechborough-Greenbrook",
         "marker": {
          "color": "#636efa",
          "pattern": {
           "shape": ""
          }
         },
         "name": "Beechborough-Greenbrook",
         "offsetgroup": "Beechborough-Greenbrook",
         "orientation": "v",
         "showlegend": true,
         "textposition": "auto",
         "type": "bar",
         "x": [
          "Beechborough-Greenbrook"
         ],
         "xaxis": "x",
         "y": [
          665
         ],
         "yaxis": "y"
        },
        {
         "alignmentgroup": "True",
         "hovertemplate": "neighbourhood=%{x}<br>single_detached_house=%{y}<extra></extra>",
         "legendgroup": "Bendale",
         "marker": {
          "color": "#EF553B",
          "pattern": {
           "shape": ""
          }
         },
         "name": "Bendale",
         "offsetgroup": "Bendale",
         "orientation": "v",
         "showlegend": true,
         "textposition": "auto",
         "type": "bar",
         "x": [
          "Bendale"
         ],
         "xaxis": "x",
         "y": [
          3870
         ],
         "yaxis": "y"
        },
        {
         "alignmentgroup": "True",
         "hovertemplate": "neighbourhood=%{x}<br>single_detached_house=%{y}<extra></extra>",
         "legendgroup": "Birchcliffe-Cliffside",
         "marker": {
          "color": "#00cc96",
          "pattern": {
           "shape": ""
          }
         },
         "name": "Birchcliffe-Cliffside",
         "offsetgroup": "Birchcliffe-Cliffside",
         "orientation": "v",
         "showlegend": true,
         "textposition": "auto",
         "type": "bar",
         "x": [
          "Birchcliffe-Cliffside"
         ],
         "xaxis": "x",
         "y": [
          4900
         ],
         "yaxis": "y"
        },
        {
         "alignmentgroup": "True",
         "hovertemplate": "neighbourhood=%{x}<br>single_detached_house=%{y}<extra></extra>",
         "legendgroup": "Black Creek",
         "marker": {
          "color": "#ab63fa",
          "pattern": {
           "shape": ""
          }
         },
         "name": "Black Creek",
         "offsetgroup": "Black Creek",
         "orientation": "v",
         "showlegend": true,
         "textposition": "auto",
         "type": "bar",
         "x": [
          "Black Creek"
         ],
         "xaxis": "x",
         "y": [
          680
         ],
         "yaxis": "y"
        },
        {
         "alignmentgroup": "True",
         "hovertemplate": "neighbourhood=%{x}<br>single_detached_house=%{y}<extra></extra>",
         "legendgroup": "Blake-Jones",
         "marker": {
          "color": "#FFA15A",
          "pattern": {
           "shape": ""
          }
         },
         "name": "Blake-Jones",
         "offsetgroup": "Blake-Jones",
         "orientation": "v",
         "showlegend": true,
         "textposition": "auto",
         "type": "bar",
         "x": [
          "Blake-Jones"
         ],
         "xaxis": "x",
         "y": [
          495
         ],
         "yaxis": "y"
        },
        {
         "alignmentgroup": "True",
         "hovertemplate": "neighbourhood=%{x}<br>single_detached_house=%{y}<extra></extra>",
         "legendgroup": "Briar Hill-Belgravia",
         "marker": {
          "color": "#19d3f3",
          "pattern": {
           "shape": ""
          }
         },
         "name": "Briar Hill-Belgravia",
         "offsetgroup": "Briar Hill-Belgravia",
         "orientation": "v",
         "showlegend": true,
         "textposition": "auto",
         "type": "bar",
         "x": [
          "Briar Hill-Belgravia"
         ],
         "xaxis": "x",
         "y": [
          1610
         ],
         "yaxis": "y"
        },
        {
         "alignmentgroup": "True",
         "hovertemplate": "neighbourhood=%{x}<br>single_detached_house=%{y}<extra></extra>",
         "legendgroup": "Bridle Path-Sunnybrook-York Mills",
         "marker": {
          "color": "#FF6692",
          "pattern": {
           "shape": ""
          }
         },
         "name": "Bridle Path-Sunnybrook-York Mills",
         "offsetgroup": "Bridle Path-Sunnybrook-York Mills",
         "orientation": "v",
         "showlegend": true,
         "textposition": "auto",
         "type": "bar",
         "x": [
          "Bridle Path-Sunnybrook-York Mills"
         ],
         "xaxis": "x",
         "y": [
          2275
         ],
         "yaxis": "y"
        },
        {
         "alignmentgroup": "True",
         "hovertemplate": "neighbourhood=%{x}<br>single_detached_house=%{y}<extra></extra>",
         "legendgroup": "Broadview North",
         "marker": {
          "color": "#B6E880",
          "pattern": {
           "shape": ""
          }
         },
         "name": "Broadview North",
         "offsetgroup": "Broadview North",
         "orientation": "v",
         "showlegend": true,
         "textposition": "auto",
         "type": "bar",
         "x": [
          "Broadview North"
         ],
         "xaxis": "x",
         "y": [
          850
         ],
         "yaxis": "y"
        },
        {
         "alignmentgroup": "True",
         "hovertemplate": "neighbourhood=%{x}<br>single_detached_house=%{y}<extra></extra>",
         "legendgroup": "Brookhaven-Amesbury",
         "marker": {
          "color": "#FF97FF",
          "pattern": {
           "shape": ""
          }
         },
         "name": "Brookhaven-Amesbury",
         "offsetgroup": "Brookhaven-Amesbury",
         "orientation": "v",
         "showlegend": true,
         "textposition": "auto",
         "type": "bar",
         "x": [
          "Brookhaven-Amesbury"
         ],
         "xaxis": "x",
         "y": [
          1790
         ],
         "yaxis": "y"
        },
        {
         "alignmentgroup": "True",
         "hovertemplate": "neighbourhood=%{x}<br>single_detached_house=%{y}<extra></extra>",
         "legendgroup": "Cabbagetown-South St.James Town",
         "marker": {
          "color": "#FECB52",
          "pattern": {
           "shape": ""
          }
         },
         "name": "Cabbagetown-South St.James Town",
         "offsetgroup": "Cabbagetown-South St.James Town",
         "orientation": "v",
         "showlegend": true,
         "textposition": "auto",
         "type": "bar",
         "x": [
          "Cabbagetown-South St.James Town"
         ],
         "xaxis": "x",
         "y": [
          160
         ],
         "yaxis": "y"
        },
        {
         "alignmentgroup": "True",
         "hovertemplate": "neighbourhood=%{x}<br>single_detached_house=%{y}<extra></extra>",
         "legendgroup": "Caledonia-Fairbank",
         "marker": {
          "color": "#636efa",
          "pattern": {
           "shape": ""
          }
         },
         "name": "Caledonia-Fairbank",
         "offsetgroup": "Caledonia-Fairbank",
         "orientation": "v",
         "showlegend": true,
         "textposition": "auto",
         "type": "bar",
         "x": [
          "Caledonia-Fairbank"
         ],
         "xaxis": "x",
         "y": [
          1680
         ],
         "yaxis": "y"
        },
        {
         "alignmentgroup": "True",
         "hovertemplate": "neighbourhood=%{x}<br>single_detached_house=%{y}<extra></extra>",
         "legendgroup": "Casa Loma",
         "marker": {
          "color": "#EF553B",
          "pattern": {
           "shape": ""
          }
         },
         "name": "Casa Loma",
         "offsetgroup": "Casa Loma",
         "orientation": "v",
         "showlegend": true,
         "textposition": "auto",
         "type": "bar",
         "x": [
          "Casa Loma"
         ],
         "xaxis": "x",
         "y": [
          875
         ],
         "yaxis": "y"
        },
        {
         "alignmentgroup": "True",
         "hovertemplate": "neighbourhood=%{x}<br>single_detached_house=%{y}<extra></extra>",
         "legendgroup": "Centennial Scarborough",
         "marker": {
          "color": "#00cc96",
          "pattern": {
           "shape": ""
          }
         },
         "name": "Centennial Scarborough",
         "offsetgroup": "Centennial Scarborough",
         "orientation": "v",
         "showlegend": true,
         "textposition": "auto",
         "type": "bar",
         "x": [
          "Centennial Scarborough"
         ],
         "xaxis": "x",
         "y": [
          3510
         ],
         "yaxis": "y"
        },
        {
         "alignmentgroup": "True",
         "hovertemplate": "neighbourhood=%{x}<br>single_detached_house=%{y}<extra></extra>",
         "legendgroup": "Church-Yonge Corridor",
         "marker": {
          "color": "#ab63fa",
          "pattern": {
           "shape": ""
          }
         },
         "name": "Church-Yonge Corridor",
         "offsetgroup": "Church-Yonge Corridor",
         "orientation": "v",
         "showlegend": true,
         "textposition": "auto",
         "type": "bar",
         "x": [
          "Church-Yonge Corridor"
         ],
         "xaxis": "x",
         "y": [
          10
         ],
         "yaxis": "y"
        },
        {
         "alignmentgroup": "True",
         "hovertemplate": "neighbourhood=%{x}<br>single_detached_house=%{y}<extra></extra>",
         "legendgroup": "Clairlea-Birchmount",
         "marker": {
          "color": "#FFA15A",
          "pattern": {
           "shape": ""
          }
         },
         "name": "Clairlea-Birchmount",
         "offsetgroup": "Clairlea-Birchmount",
         "orientation": "v",
         "showlegend": true,
         "textposition": "auto",
         "type": "bar",
         "x": [
          "Clairlea-Birchmount"
         ],
         "xaxis": "x",
         "y": [
          3135
         ],
         "yaxis": "y"
        },
        {
         "alignmentgroup": "True",
         "hovertemplate": "neighbourhood=%{x}<br>single_detached_house=%{y}<extra></extra>",
         "legendgroup": "Clanton Park",
         "marker": {
          "color": "#19d3f3",
          "pattern": {
           "shape": ""
          }
         },
         "name": "Clanton Park",
         "offsetgroup": "Clanton Park",
         "orientation": "v",
         "showlegend": true,
         "textposition": "auto",
         "type": "bar",
         "x": [
          "Clanton Park"
         ],
         "xaxis": "x",
         "y": [
          2405
         ],
         "yaxis": "y"
        },
        {
         "alignmentgroup": "True",
         "hovertemplate": "neighbourhood=%{x}<br>single_detached_house=%{y}<extra></extra>",
         "legendgroup": "Cliffcrest",
         "marker": {
          "color": "#FF6692",
          "pattern": {
           "shape": ""
          }
         },
         "name": "Cliffcrest",
         "offsetgroup": "Cliffcrest",
         "orientation": "v",
         "showlegend": true,
         "textposition": "auto",
         "type": "bar",
         "x": [
          "Cliffcrest"
         ],
         "xaxis": "x",
         "y": [
          3380
         ],
         "yaxis": "y"
        },
        {
         "alignmentgroup": "True",
         "hovertemplate": "neighbourhood=%{x}<br>single_detached_house=%{y}<extra></extra>",
         "legendgroup": "Corso Italia-Davenport",
         "marker": {
          "color": "#B6E880",
          "pattern": {
           "shape": ""
          }
         },
         "name": "Corso Italia-Davenport",
         "offsetgroup": "Corso Italia-Davenport",
         "orientation": "v",
         "showlegend": true,
         "textposition": "auto",
         "type": "bar",
         "x": [
          "Corso Italia-Davenport"
         ],
         "xaxis": "x",
         "y": [
          1240
         ],
         "yaxis": "y"
        },
        {
         "alignmentgroup": "True",
         "hovertemplate": "neighbourhood=%{x}<br>single_detached_house=%{y}<extra></extra>",
         "legendgroup": "Danforth",
         "marker": {
          "color": "#FF97FF",
          "pattern": {
           "shape": ""
          }
         },
         "name": "Danforth",
         "offsetgroup": "Danforth",
         "orientation": "v",
         "showlegend": true,
         "textposition": "auto",
         "type": "bar",
         "x": [
          "Danforth"
         ],
         "xaxis": "x",
         "y": [
          685
         ],
         "yaxis": "y"
        },
        {
         "alignmentgroup": "True",
         "hovertemplate": "neighbourhood=%{x}<br>single_detached_house=%{y}<extra></extra>",
         "legendgroup": "Danforth-East York",
         "marker": {
          "color": "#FECB52",
          "pattern": {
           "shape": ""
          }
         },
         "name": "Danforth-East York",
         "offsetgroup": "Danforth-East York",
         "orientation": "v",
         "showlegend": true,
         "textposition": "auto",
         "type": "bar",
         "x": [
          "Danforth-East York"
         ],
         "xaxis": "x",
         "y": [
          2900
         ],
         "yaxis": "y"
        },
        {
         "alignmentgroup": "True",
         "hovertemplate": "neighbourhood=%{x}<br>single_detached_house=%{y}<extra></extra>",
         "legendgroup": "Don Valley Village",
         "marker": {
          "color": "#636efa",
          "pattern": {
           "shape": ""
          }
         },
         "name": "Don Valley Village",
         "offsetgroup": "Don Valley Village",
         "orientation": "v",
         "showlegend": true,
         "textposition": "auto",
         "type": "bar",
         "x": [
          "Don Valley Village"
         ],
         "xaxis": "x",
         "y": [
          2120
         ],
         "yaxis": "y"
        },
        {
         "alignmentgroup": "True",
         "hovertemplate": "neighbourhood=%{x}<br>single_detached_house=%{y}<extra></extra>",
         "legendgroup": "Dorset Park",
         "marker": {
          "color": "#EF553B",
          "pattern": {
           "shape": ""
          }
         },
         "name": "Dorset Park",
         "offsetgroup": "Dorset Park",
         "orientation": "v",
         "showlegend": true,
         "textposition": "auto",
         "type": "bar",
         "x": [
          "Dorset Park"
         ],
         "xaxis": "x",
         "y": [
          2130
         ],
         "yaxis": "y"
        },
        {
         "alignmentgroup": "True",
         "hovertemplate": "neighbourhood=%{x}<br>single_detached_house=%{y}<extra></extra>",
         "legendgroup": "Dovercourt-Wallace Emerson-Juncti",
         "marker": {
          "color": "#00cc96",
          "pattern": {
           "shape": ""
          }
         },
         "name": "Dovercourt-Wallace Emerson-Juncti",
         "offsetgroup": "Dovercourt-Wallace Emerson-Juncti",
         "orientation": "v",
         "showlegend": true,
         "textposition": "auto",
         "type": "bar",
         "x": [
          "Dovercourt-Wallace Emerson-Juncti"
         ],
         "xaxis": "x",
         "y": [
          1635
         ],
         "yaxis": "y"
        },
        {
         "alignmentgroup": "True",
         "hovertemplate": "neighbourhood=%{x}<br>single_detached_house=%{y}<extra></extra>",
         "legendgroup": "Downsview-Roding-CFB",
         "marker": {
          "color": "#ab63fa",
          "pattern": {
           "shape": ""
          }
         },
         "name": "Downsview-Roding-CFB",
         "offsetgroup": "Downsview-Roding-CFB",
         "orientation": "v",
         "showlegend": true,
         "textposition": "auto",
         "type": "bar",
         "x": [
          "Downsview-Roding-CFB"
         ],
         "xaxis": "x",
         "y": [
          4330
         ],
         "yaxis": "y"
        },
        {
         "alignmentgroup": "True",
         "hovertemplate": "neighbourhood=%{x}<br>single_detached_house=%{y}<extra></extra>",
         "legendgroup": "Dufferin Grove",
         "marker": {
          "color": "#FFA15A",
          "pattern": {
           "shape": ""
          }
         },
         "name": "Dufferin Grove",
         "offsetgroup": "Dufferin Grove",
         "orientation": "v",
         "showlegend": true,
         "textposition": "auto",
         "type": "bar",
         "x": [
          "Dufferin Grove"
         ],
         "xaxis": "x",
         "y": [
          310
         ],
         "yaxis": "y"
        },
        {
         "alignmentgroup": "True",
         "hovertemplate": "neighbourhood=%{x}<br>single_detached_house=%{y}<extra></extra>",
         "legendgroup": "East End-Danforth",
         "marker": {
          "color": "#19d3f3",
          "pattern": {
           "shape": ""
          }
         },
         "name": "East End-Danforth",
         "offsetgroup": "East End-Danforth",
         "orientation": "v",
         "showlegend": true,
         "textposition": "auto",
         "type": "bar",
         "x": [
          "East End-Danforth"
         ],
         "xaxis": "x",
         "y": [
          1770
         ],
         "yaxis": "y"
        },
        {
         "alignmentgroup": "True",
         "hovertemplate": "neighbourhood=%{x}<br>single_detached_house=%{y}<extra></extra>",
         "legendgroup": "Edenbridge-Humber Valley",
         "marker": {
          "color": "#FF6692",
          "pattern": {
           "shape": ""
          }
         },
         "name": "Edenbridge-Humber Valley",
         "offsetgroup": "Edenbridge-Humber Valley",
         "orientation": "v",
         "showlegend": true,
         "textposition": "auto",
         "type": "bar",
         "x": [
          "Edenbridge-Humber Valley"
         ],
         "xaxis": "x",
         "y": [
          2555
         ],
         "yaxis": "y"
        },
        {
         "alignmentgroup": "True",
         "hovertemplate": "neighbourhood=%{x}<br>single_detached_house=%{y}<extra></extra>",
         "legendgroup": "Eglinton East",
         "marker": {
          "color": "#B6E880",
          "pattern": {
           "shape": ""
          }
         },
         "name": "Eglinton East",
         "offsetgroup": "Eglinton East",
         "orientation": "v",
         "showlegend": true,
         "textposition": "auto",
         "type": "bar",
         "x": [
          "Eglinton East"
         ],
         "xaxis": "x",
         "y": [
          1535
         ],
         "yaxis": "y"
        },
        {
         "alignmentgroup": "True",
         "hovertemplate": "neighbourhood=%{x}<br>single_detached_house=%{y}<extra></extra>",
         "legendgroup": "Elms-Old Rexdale",
         "marker": {
          "color": "#FF97FF",
          "pattern": {
           "shape": ""
          }
         },
         "name": "Elms-Old Rexdale",
         "offsetgroup": "Elms-Old Rexdale",
         "orientation": "v",
         "showlegend": true,
         "textposition": "auto",
         "type": "bar",
         "x": [
          "Elms-Old Rexdale"
         ],
         "xaxis": "x",
         "y": [
          990
         ],
         "yaxis": "y"
        },
        {
         "alignmentgroup": "True",
         "hovertemplate": "neighbourhood=%{x}<br>single_detached_house=%{y}<extra></extra>",
         "legendgroup": "Englemount-Lawrence",
         "marker": {
          "color": "#FECB52",
          "pattern": {
           "shape": ""
          }
         },
         "name": "Englemount-Lawrence",
         "offsetgroup": "Englemount-Lawrence",
         "orientation": "v",
         "showlegend": true,
         "textposition": "auto",
         "type": "bar",
         "x": [
          "Englemount-Lawrence"
         ],
         "xaxis": "x",
         "y": [
          1905
         ],
         "yaxis": "y"
        },
        {
         "alignmentgroup": "True",
         "hovertemplate": "neighbourhood=%{x}<br>single_detached_house=%{y}<extra></extra>",
         "legendgroup": "Eringate-Centennial-West Deane",
         "marker": {
          "color": "#636efa",
          "pattern": {
           "shape": ""
          }
         },
         "name": "Eringate-Centennial-West Deane",
         "offsetgroup": "Eringate-Centennial-West Deane",
         "orientation": "v",
         "showlegend": true,
         "textposition": "auto",
         "type": "bar",
         "x": [
          "Eringate-Centennial-West Deane"
         ],
         "xaxis": "x",
         "y": [
          3925
         ],
         "yaxis": "y"
        },
        {
         "alignmentgroup": "True",
         "hovertemplate": "neighbourhood=%{x}<br>single_detached_house=%{y}<extra></extra>",
         "legendgroup": "Etobicoke West Mall",
         "marker": {
          "color": "#EF553B",
          "pattern": {
           "shape": ""
          }
         },
         "name": "Etobicoke West Mall",
         "offsetgroup": "Etobicoke West Mall",
         "orientation": "v",
         "showlegend": true,
         "textposition": "auto",
         "type": "bar",
         "x": [
          "Etobicoke West Mall"
         ],
         "xaxis": "x",
         "y": [
          965
         ],
         "yaxis": "y"
        },
        {
         "alignmentgroup": "True",
         "hovertemplate": "neighbourhood=%{x}<br>single_detached_house=%{y}<extra></extra>",
         "legendgroup": "Flemingdon Park",
         "marker": {
          "color": "#00cc96",
          "pattern": {
           "shape": ""
          }
         },
         "name": "Flemingdon Park",
         "offsetgroup": "Flemingdon Park",
         "orientation": "v",
         "showlegend": true,
         "textposition": "auto",
         "type": "bar",
         "x": [
          "Flemingdon Park"
         ],
         "xaxis": "x",
         "y": [
          0
         ],
         "yaxis": "y"
        },
        {
         "alignmentgroup": "True",
         "hovertemplate": "neighbourhood=%{x}<br>single_detached_house=%{y}<extra></extra>",
         "legendgroup": "Forest Hill North",
         "marker": {
          "color": "#ab63fa",
          "pattern": {
           "shape": ""
          }
         },
         "name": "Forest Hill North",
         "offsetgroup": "Forest Hill North",
         "orientation": "v",
         "showlegend": true,
         "textposition": "auto",
         "type": "bar",
         "x": [
          "Forest Hill North"
         ],
         "xaxis": "x",
         "y": [
          1470
         ],
         "yaxis": "y"
        },
        {
         "alignmentgroup": "True",
         "hovertemplate": "neighbourhood=%{x}<br>single_detached_house=%{y}<extra></extra>",
         "legendgroup": "Forest Hill South",
         "marker": {
          "color": "#FFA15A",
          "pattern": {
           "shape": ""
          }
         },
         "name": "Forest Hill South",
         "offsetgroup": "Forest Hill South",
         "orientation": "v",
         "showlegend": true,
         "textposition": "auto",
         "type": "bar",
         "x": [
          "Forest Hill South"
         ],
         "xaxis": "x",
         "y": [
          1685
         ],
         "yaxis": "y"
        },
        {
         "alignmentgroup": "True",
         "hovertemplate": "neighbourhood=%{x}<br>single_detached_house=%{y}<extra></extra>",
         "legendgroup": "Glenfield-Jane Heights",
         "marker": {
          "color": "#19d3f3",
          "pattern": {
           "shape": ""
          }
         },
         "name": "Glenfield-Jane Heights",
         "offsetgroup": "Glenfield-Jane Heights",
         "orientation": "v",
         "showlegend": true,
         "textposition": "auto",
         "type": "bar",
         "x": [
          "Glenfield-Jane Heights"
         ],
         "xaxis": "x",
         "y": [
          415
         ],
         "yaxis": "y"
        },
        {
         "alignmentgroup": "True",
         "hovertemplate": "neighbourhood=%{x}<br>single_detached_house=%{y}<extra></extra>",
         "legendgroup": "Greenwood-Coxwell",
         "marker": {
          "color": "#FF6692",
          "pattern": {
           "shape": ""
          }
         },
         "name": "Greenwood-Coxwell",
         "offsetgroup": "Greenwood-Coxwell",
         "orientation": "v",
         "showlegend": true,
         "textposition": "auto",
         "type": "bar",
         "x": [
          "Greenwood-Coxwell"
         ],
         "xaxis": "x",
         "y": [
          965
         ],
         "yaxis": "y"
        },
        {
         "alignmentgroup": "True",
         "hovertemplate": "neighbourhood=%{x}<br>single_detached_house=%{y}<extra></extra>",
         "legendgroup": "Guildwood",
         "marker": {
          "color": "#B6E880",
          "pattern": {
           "shape": ""
          }
         },
         "name": "Guildwood",
         "offsetgroup": "Guildwood",
         "orientation": "v",
         "showlegend": true,
         "textposition": "auto",
         "type": "bar",
         "x": [
          "Guildwood"
         ],
         "xaxis": "x",
         "y": [
          2175
         ],
         "yaxis": "y"
        },
        {
         "alignmentgroup": "True",
         "hovertemplate": "neighbourhood=%{x}<br>single_detached_house=%{y}<extra></extra>",
         "legendgroup": "Henry Farm",
         "marker": {
          "color": "#FF97FF",
          "pattern": {
           "shape": ""
          }
         },
         "name": "Henry Farm",
         "offsetgroup": "Henry Farm",
         "orientation": "v",
         "showlegend": true,
         "textposition": "auto",
         "type": "bar",
         "x": [
          "Henry Farm"
         ],
         "xaxis": "x",
         "y": [
          495
         ],
         "yaxis": "y"
        },
        {
         "alignmentgroup": "True",
         "hovertemplate": "neighbourhood=%{x}<br>single_detached_house=%{y}<extra></extra>",
         "legendgroup": "High Park North",
         "marker": {
          "color": "#FECB52",
          "pattern": {
           "shape": ""
          }
         },
         "name": "High Park North",
         "offsetgroup": "High Park North",
         "orientation": "v",
         "showlegend": true,
         "textposition": "auto",
         "type": "bar",
         "x": [
          "High Park North"
         ],
         "xaxis": "x",
         "y": [
          1370
         ],
         "yaxis": "y"
        },
        {
         "alignmentgroup": "True",
         "hovertemplate": "neighbourhood=%{x}<br>single_detached_house=%{y}<extra></extra>",
         "legendgroup": "High Park-Swansea",
         "marker": {
          "color": "#636efa",
          "pattern": {
           "shape": ""
          }
         },
         "name": "High Park-Swansea",
         "offsetgroup": "High Park-Swansea",
         "orientation": "v",
         "showlegend": true,
         "textposition": "auto",
         "type": "bar",
         "x": [
          "High Park-Swansea"
         ],
         "xaxis": "x",
         "y": [
          2655
         ],
         "yaxis": "y"
        },
        {
         "alignmentgroup": "True",
         "hovertemplate": "neighbourhood=%{x}<br>single_detached_house=%{y}<extra></extra>",
         "legendgroup": "Highland Creek",
         "marker": {
          "color": "#EF553B",
          "pattern": {
           "shape": ""
          }
         },
         "name": "Highland Creek",
         "offsetgroup": "Highland Creek",
         "orientation": "v",
         "showlegend": true,
         "textposition": "auto",
         "type": "bar",
         "x": [
          "Highland Creek"
         ],
         "xaxis": "x",
         "y": [
          3100
         ],
         "yaxis": "y"
        },
        {
         "alignmentgroup": "True",
         "hovertemplate": "neighbourhood=%{x}<br>single_detached_house=%{y}<extra></extra>",
         "legendgroup": "Hillcrest Village",
         "marker": {
          "color": "#00cc96",
          "pattern": {
           "shape": ""
          }
         },
         "name": "Hillcrest Village",
         "offsetgroup": "Hillcrest Village",
         "orientation": "v",
         "showlegend": true,
         "textposition": "auto",
         "type": "bar",
         "x": [
          "Hillcrest Village"
         ],
         "xaxis": "x",
         "y": [
          1650
         ],
         "yaxis": "y"
        },
        {
         "alignmentgroup": "True",
         "hovertemplate": "neighbourhood=%{x}<br>single_detached_house=%{y}<extra></extra>",
         "legendgroup": "Humber Heights-Westmount",
         "marker": {
          "color": "#ab63fa",
          "pattern": {
           "shape": ""
          }
         },
         "name": "Humber Heights-Westmount",
         "offsetgroup": "Humber Heights-Westmount",
         "orientation": "v",
         "showlegend": true,
         "textposition": "auto",
         "type": "bar",
         "x": [
          "Humber Heights-Westmount"
         ],
         "xaxis": "x",
         "y": [
          1680
         ],
         "yaxis": "y"
        },
        {
         "alignmentgroup": "True",
         "hovertemplate": "neighbourhood=%{x}<br>single_detached_house=%{y}<extra></extra>",
         "legendgroup": "Humber Summit",
         "marker": {
          "color": "#FFA15A",
          "pattern": {
           "shape": ""
          }
         },
         "name": "Humber Summit",
         "offsetgroup": "Humber Summit",
         "orientation": "v",
         "showlegend": true,
         "textposition": "auto",
         "type": "bar",
         "x": [
          "Humber Summit"
         ],
         "xaxis": "x",
         "y": [
          525
         ],
         "yaxis": "y"
        },
        {
         "alignmentgroup": "True",
         "hovertemplate": "neighbourhood=%{x}<br>single_detached_house=%{y}<extra></extra>",
         "legendgroup": "Humbermede",
         "marker": {
          "color": "#19d3f3",
          "pattern": {
           "shape": ""
          }
         },
         "name": "Humbermede",
         "offsetgroup": "Humbermede",
         "orientation": "v",
         "showlegend": true,
         "textposition": "auto",
         "type": "bar",
         "x": [
          "Humbermede"
         ],
         "xaxis": "x",
         "y": [
          575
         ],
         "yaxis": "y"
        },
        {
         "alignmentgroup": "True",
         "hovertemplate": "neighbourhood=%{x}<br>single_detached_house=%{y}<extra></extra>",
         "legendgroup": "Humewood-Cedarvale",
         "marker": {
          "color": "#FF6692",
          "pattern": {
           "shape": ""
          }
         },
         "name": "Humewood-Cedarvale",
         "offsetgroup": "Humewood-Cedarvale",
         "orientation": "v",
         "showlegend": true,
         "textposition": "auto",
         "type": "bar",
         "x": [
          "Humewood-Cedarvale"
         ],
         "xaxis": "x",
         "y": [
          1850
         ],
         "yaxis": "y"
        },
        {
         "alignmentgroup": "True",
         "hovertemplate": "neighbourhood=%{x}<br>single_detached_house=%{y}<extra></extra>",
         "legendgroup": "Ionview",
         "marker": {
          "color": "#B6E880",
          "pattern": {
           "shape": ""
          }
         },
         "name": "Ionview",
         "offsetgroup": "Ionview",
         "orientation": "v",
         "showlegend": true,
         "textposition": "auto",
         "type": "bar",
         "x": [
          "Ionview"
         ],
         "xaxis": "x",
         "y": [
          1020
         ],
         "yaxis": "y"
        },
        {
         "alignmentgroup": "True",
         "hovertemplate": "neighbourhood=%{x}<br>single_detached_house=%{y}<extra></extra>",
         "legendgroup": "Islington-City Centre West",
         "marker": {
          "color": "#FF97FF",
          "pattern": {
           "shape": ""
          }
         },
         "name": "Islington-City Centre West",
         "offsetgroup": "Islington-City Centre West",
         "orientation": "v",
         "showlegend": true,
         "textposition": "auto",
         "type": "bar",
         "x": [
          "Islington-City Centre West"
         ],
         "xaxis": "x",
         "y": [
          5175
         ],
         "yaxis": "y"
        },
        {
         "alignmentgroup": "True",
         "hovertemplate": "neighbourhood=%{x}<br>single_detached_house=%{y}<extra></extra>",
         "legendgroup": "Junction Area",
         "marker": {
          "color": "#FECB52",
          "pattern": {
           "shape": ""
          }
         },
         "name": "Junction Area",
         "offsetgroup": "Junction Area",
         "orientation": "v",
         "showlegend": true,
         "textposition": "auto",
         "type": "bar",
         "x": [
          "Junction Area"
         ],
         "xaxis": "x",
         "y": [
          740
         ],
         "yaxis": "y"
        },
        {
         "alignmentgroup": "True",
         "hovertemplate": "neighbourhood=%{x}<br>single_detached_house=%{y}<extra></extra>",
         "legendgroup": "Keelesdale-Eglinton West",
         "marker": {
          "color": "#636efa",
          "pattern": {
           "shape": ""
          }
         },
         "name": "Keelesdale-Eglinton West",
         "offsetgroup": "Keelesdale-Eglinton West",
         "orientation": "v",
         "showlegend": true,
         "textposition": "auto",
         "type": "bar",
         "x": [
          "Keelesdale-Eglinton West"
         ],
         "xaxis": "x",
         "y": [
          1670
         ],
         "yaxis": "y"
        },
        {
         "alignmentgroup": "True",
         "hovertemplate": "neighbourhood=%{x}<br>single_detached_house=%{y}<extra></extra>",
         "legendgroup": "Kennedy Park",
         "marker": {
          "color": "#EF553B",
          "pattern": {
           "shape": ""
          }
         },
         "name": "Kennedy Park",
         "offsetgroup": "Kennedy Park",
         "orientation": "v",
         "showlegend": true,
         "textposition": "auto",
         "type": "bar",
         "x": [
          "Kennedy Park"
         ],
         "xaxis": "x",
         "y": [
          1805
         ],
         "yaxis": "y"
        },
        {
         "alignmentgroup": "True",
         "hovertemplate": "neighbourhood=%{x}<br>single_detached_house=%{y}<extra></extra>",
         "legendgroup": "Kensington-Chinatown",
         "marker": {
          "color": "#00cc96",
          "pattern": {
           "shape": ""
          }
         },
         "name": "Kensington-Chinatown",
         "offsetgroup": "Kensington-Chinatown",
         "orientation": "v",
         "showlegend": true,
         "textposition": "auto",
         "type": "bar",
         "x": [
          "Kensington-Chinatown"
         ],
         "xaxis": "x",
         "y": [
          70
         ],
         "yaxis": "y"
        },
        {
         "alignmentgroup": "True",
         "hovertemplate": "neighbourhood=%{x}<br>single_detached_house=%{y}<extra></extra>",
         "legendgroup": "Kingsview Village-The Westway",
         "marker": {
          "color": "#ab63fa",
          "pattern": {
           "shape": ""
          }
         },
         "name": "Kingsview Village-The Westway",
         "offsetgroup": "Kingsview Village-The Westway",
         "orientation": "v",
         "showlegend": true,
         "textposition": "auto",
         "type": "bar",
         "x": [
          "Kingsview Village-The Westway"
         ],
         "xaxis": "x",
         "y": [
          2175
         ],
         "yaxis": "y"
        },
        {
         "alignmentgroup": "True",
         "hovertemplate": "neighbourhood=%{x}<br>single_detached_house=%{y}<extra></extra>",
         "legendgroup": "Kingsway South",
         "marker": {
          "color": "#FFA15A",
          "pattern": {
           "shape": ""
          }
         },
         "name": "Kingsway South",
         "offsetgroup": "Kingsway South",
         "orientation": "v",
         "showlegend": true,
         "textposition": "auto",
         "type": "bar",
         "x": [
          "Kingsway South"
         ],
         "xaxis": "x",
         "y": [
          2310
         ],
         "yaxis": "y"
        },
        {
         "alignmentgroup": "True",
         "hovertemplate": "neighbourhood=%{x}<br>single_detached_house=%{y}<extra></extra>",
         "legendgroup": "L'Amoreaux",
         "marker": {
          "color": "#19d3f3",
          "pattern": {
           "shape": ""
          }
         },
         "name": "L'Amoreaux",
         "offsetgroup": "L'Amoreaux",
         "orientation": "v",
         "showlegend": true,
         "textposition": "auto",
         "type": "bar",
         "x": [
          "L'Amoreaux"
         ],
         "xaxis": "x",
         "y": [
          1270
         ],
         "yaxis": "y"
        },
        {
         "alignmentgroup": "True",
         "hovertemplate": "neighbourhood=%{x}<br>single_detached_house=%{y}<extra></extra>",
         "legendgroup": "Lambton Baby Point",
         "marker": {
          "color": "#FF6692",
          "pattern": {
           "shape": ""
          }
         },
         "name": "Lambton Baby Point",
         "offsetgroup": "Lambton Baby Point",
         "orientation": "v",
         "showlegend": true,
         "textposition": "auto",
         "type": "bar",
         "x": [
          "Lambton Baby Point"
         ],
         "xaxis": "x",
         "y": [
          3685
         ],
         "yaxis": "y"
        },
        {
         "alignmentgroup": "True",
         "hovertemplate": "neighbourhood=%{x}<br>single_detached_house=%{y}<extra></extra>",
         "legendgroup": "Lansing-Westgate",
         "marker": {
          "color": "#B6E880",
          "pattern": {
           "shape": ""
          }
         },
         "name": "Lansing-Westgate",
         "offsetgroup": "Lansing-Westgate",
         "orientation": "v",
         "showlegend": true,
         "textposition": "auto",
         "type": "bar",
         "x": [
          "Lansing-Westgate"
         ],
         "xaxis": "x",
         "y": [
          2355
         ],
         "yaxis": "y"
        },
        {
         "alignmentgroup": "True",
         "hovertemplate": "neighbourhood=%{x}<br>single_detached_house=%{y}<extra></extra>",
         "legendgroup": "Lawrence Park North",
         "marker": {
          "color": "#FF97FF",
          "pattern": {
           "shape": ""
          }
         },
         "name": "Lawrence Park North",
         "offsetgroup": "Lawrence Park North",
         "orientation": "v",
         "showlegend": true,
         "textposition": "auto",
         "type": "bar",
         "x": [
          "Lawrence Park North"
         ],
         "xaxis": "x",
         "y": [
          3110
         ],
         "yaxis": "y"
        },
        {
         "alignmentgroup": "True",
         "hovertemplate": "neighbourhood=%{x}<br>single_detached_house=%{y}<extra></extra>",
         "legendgroup": "Lawrence Park South",
         "marker": {
          "color": "#FECB52",
          "pattern": {
           "shape": ""
          }
         },
         "name": "Lawrence Park South",
         "offsetgroup": "Lawrence Park South",
         "orientation": "v",
         "showlegend": true,
         "textposition": "auto",
         "type": "bar",
         "x": [
          "Lawrence Park South"
         ],
         "xaxis": "x",
         "y": [
          3420
         ],
         "yaxis": "y"
        },
        {
         "alignmentgroup": "True",
         "hovertemplate": "neighbourhood=%{x}<br>single_detached_house=%{y}<extra></extra>",
         "legendgroup": "Leaside-Bennington",
         "marker": {
          "color": "#636efa",
          "pattern": {
           "shape": ""
          }
         },
         "name": "Leaside-Bennington",
         "offsetgroup": "Leaside-Bennington",
         "orientation": "v",
         "showlegend": true,
         "textposition": "auto",
         "type": "bar",
         "x": [
          "Leaside-Bennington"
         ],
         "xaxis": "x",
         "y": [
          3565
         ],
         "yaxis": "y"
        },
        {
         "alignmentgroup": "True",
         "hovertemplate": "neighbourhood=%{x}<br>single_detached_house=%{y}<extra></extra>",
         "legendgroup": "Little Portugal",
         "marker": {
          "color": "#EF553B",
          "pattern": {
           "shape": ""
          }
         },
         "name": "Little Portugal",
         "offsetgroup": "Little Portugal",
         "orientation": "v",
         "showlegend": true,
         "textposition": "auto",
         "type": "bar",
         "x": [
          "Little Portugal"
         ],
         "xaxis": "x",
         "y": [
          270
         ],
         "yaxis": "y"
        },
        {
         "alignmentgroup": "True",
         "hovertemplate": "neighbourhood=%{x}<br>single_detached_house=%{y}<extra></extra>",
         "legendgroup": "Long Branch",
         "marker": {
          "color": "#00cc96",
          "pattern": {
           "shape": ""
          }
         },
         "name": "Long Branch",
         "offsetgroup": "Long Branch",
         "orientation": "v",
         "showlegend": true,
         "textposition": "auto",
         "type": "bar",
         "x": [
          "Long Branch"
         ],
         "xaxis": "x",
         "y": [
          1480
         ],
         "yaxis": "y"
        },
        {
         "alignmentgroup": "True",
         "hovertemplate": "neighbourhood=%{x}<br>single_detached_house=%{y}<extra></extra>",
         "legendgroup": "Malvern",
         "marker": {
          "color": "#ab63fa",
          "pattern": {
           "shape": ""
          }
         },
         "name": "Malvern",
         "offsetgroup": "Malvern",
         "orientation": "v",
         "showlegend": true,
         "textposition": "auto",
         "type": "bar",
         "x": [
          "Malvern"
         ],
         "xaxis": "x",
         "y": [
          3475
         ],
         "yaxis": "y"
        },
        {
         "alignmentgroup": "True",
         "hovertemplate": "neighbourhood=%{x}<br>single_detached_house=%{y}<extra></extra>",
         "legendgroup": "Maple Leaf",
         "marker": {
          "color": "#FFA15A",
          "pattern": {
           "shape": ""
          }
         },
         "name": "Maple Leaf",
         "offsetgroup": "Maple Leaf",
         "orientation": "v",
         "showlegend": true,
         "textposition": "auto",
         "type": "bar",
         "x": [
          "Maple Leaf"
         ],
         "xaxis": "x",
         "y": [
          1635
         ],
         "yaxis": "y"
        },
        {
         "alignmentgroup": "True",
         "hovertemplate": "neighbourhood=%{x}<br>single_detached_house=%{y}<extra></extra>",
         "legendgroup": "Markland Wood",
         "marker": {
          "color": "#19d3f3",
          "pattern": {
           "shape": ""
          }
         },
         "name": "Markland Wood",
         "offsetgroup": "Markland Wood",
         "orientation": "v",
         "showlegend": true,
         "textposition": "auto",
         "type": "bar",
         "x": [
          "Markland Wood"
         ],
         "xaxis": "x",
         "y": [
          1780
         ],
         "yaxis": "y"
        },
        {
         "alignmentgroup": "True",
         "hovertemplate": "neighbourhood=%{x}<br>single_detached_house=%{y}<extra></extra>",
         "legendgroup": "Milliken",
         "marker": {
          "color": "#FF6692",
          "pattern": {
           "shape": ""
          }
         },
         "name": "Milliken",
         "offsetgroup": "Milliken",
         "orientation": "v",
         "showlegend": true,
         "textposition": "auto",
         "type": "bar",
         "x": [
          "Milliken"
         ],
         "xaxis": "x",
         "y": [
          3900
         ],
         "yaxis": "y"
        },
        {
         "alignmentgroup": "True",
         "hovertemplate": "neighbourhood=%{x}<br>single_detached_house=%{y}<extra></extra>",
         "legendgroup": "Mimico",
         "marker": {
          "color": "#B6E880",
          "pattern": {
           "shape": ""
          }
         },
         "name": "Mimico",
         "offsetgroup": "Mimico",
         "orientation": "v",
         "showlegend": true,
         "textposition": "auto",
         "type": "bar",
         "x": [
          "Mimico"
         ],
         "xaxis": "x",
         "y": [
          2255
         ],
         "yaxis": "y"
        },
        {
         "alignmentgroup": "True",
         "hovertemplate": "neighbourhood=%{x}<br>single_detached_house=%{y}<extra></extra>",
         "legendgroup": "Morningside",
         "marker": {
          "color": "#FF97FF",
          "pattern": {
           "shape": ""
          }
         },
         "name": "Morningside",
         "offsetgroup": "Morningside",
         "orientation": "v",
         "showlegend": true,
         "textposition": "auto",
         "type": "bar",
         "x": [
          "Morningside"
         ],
         "xaxis": "x",
         "y": [
          2280
         ],
         "yaxis": "y"
        },
        {
         "alignmentgroup": "True",
         "hovertemplate": "neighbourhood=%{x}<br>single_detached_house=%{y}<extra></extra>",
         "legendgroup": "Moss Park",
         "marker": {
          "color": "#FECB52",
          "pattern": {
           "shape": ""
          }
         },
         "name": "Moss Park",
         "offsetgroup": "Moss Park",
         "orientation": "v",
         "showlegend": true,
         "textposition": "auto",
         "type": "bar",
         "x": [
          "Moss Park"
         ],
         "xaxis": "x",
         "y": [
          65
         ],
         "yaxis": "y"
        },
        {
         "alignmentgroup": "True",
         "hovertemplate": "neighbourhood=%{x}<br>single_detached_house=%{y}<extra></extra>",
         "legendgroup": "Mount Dennis",
         "marker": {
          "color": "#636efa",
          "pattern": {
           "shape": ""
          }
         },
         "name": "Mount Dennis",
         "offsetgroup": "Mount Dennis",
         "orientation": "v",
         "showlegend": true,
         "textposition": "auto",
         "type": "bar",
         "x": [
          "Mount Dennis"
         ],
         "xaxis": "x",
         "y": [
          955
         ],
         "yaxis": "y"
        },
        {
         "alignmentgroup": "True",
         "hovertemplate": "neighbourhood=%{x}<br>single_detached_house=%{y}<extra></extra>",
         "legendgroup": "Mount Olive-Silverstone-Jamestown",
         "marker": {
          "color": "#EF553B",
          "pattern": {
           "shape": ""
          }
         },
         "name": "Mount Olive-Silverstone-Jamestown",
         "offsetgroup": "Mount Olive-Silverstone-Jamestown",
         "orientation": "v",
         "showlegend": true,
         "textposition": "auto",
         "type": "bar",
         "x": [
          "Mount Olive-Silverstone-Jamestown"
         ],
         "xaxis": "x",
         "y": [
          1655
         ],
         "yaxis": "y"
        },
        {
         "alignmentgroup": "True",
         "hovertemplate": "neighbourhood=%{x}<br>single_detached_house=%{y}<extra></extra>",
         "legendgroup": "Mount Pleasant East",
         "marker": {
          "color": "#00cc96",
          "pattern": {
           "shape": ""
          }
         },
         "name": "Mount Pleasant East",
         "offsetgroup": "Mount Pleasant East",
         "orientation": "v",
         "showlegend": true,
         "textposition": "auto",
         "type": "bar",
         "x": [
          "Mount Pleasant East"
         ],
         "xaxis": "x",
         "y": [
          2160
         ],
         "yaxis": "y"
        },
        {
         "alignmentgroup": "True",
         "hovertemplate": "neighbourhood=%{x}<br>single_detached_house=%{y}<extra></extra>",
         "legendgroup": "Mount Pleasant West",
         "marker": {
          "color": "#ab63fa",
          "pattern": {
           "shape": ""
          }
         },
         "name": "Mount Pleasant West",
         "offsetgroup": "Mount Pleasant West",
         "orientation": "v",
         "showlegend": true,
         "textposition": "auto",
         "type": "bar",
         "x": [
          "Mount Pleasant West"
         ],
         "xaxis": "x",
         "y": [
          475
         ],
         "yaxis": "y"
        },
        {
         "alignmentgroup": "True",
         "hovertemplate": "neighbourhood=%{x}<br>single_detached_house=%{y}<extra></extra>",
         "legendgroup": "New Toronto",
         "marker": {
          "color": "#FFA15A",
          "pattern": {
           "shape": ""
          }
         },
         "name": "New Toronto",
         "offsetgroup": "New Toronto",
         "orientation": "v",
         "showlegend": true,
         "textposition": "auto",
         "type": "bar",
         "x": [
          "New Toronto"
         ],
         "xaxis": "x",
         "y": [
          1555
         ],
         "yaxis": "y"
        },
        {
         "alignmentgroup": "True",
         "hovertemplate": "neighbourhood=%{x}<br>single_detached_house=%{y}<extra></extra>",
         "legendgroup": "Newtonbrook East",
         "marker": {
          "color": "#19d3f3",
          "pattern": {
           "shape": ""
          }
         },
         "name": "Newtonbrook East",
         "offsetgroup": "Newtonbrook East",
         "orientation": "v",
         "showlegend": true,
         "textposition": "auto",
         "type": "bar",
         "x": [
          "Newtonbrook East"
         ],
         "xaxis": "x",
         "y": [
          2760
         ],
         "yaxis": "y"
        },
        {
         "alignmentgroup": "True",
         "hovertemplate": "neighbourhood=%{x}<br>single_detached_house=%{y}<extra></extra>",
         "legendgroup": "Newtonbrook West",
         "marker": {
          "color": "#FF6692",
          "pattern": {
           "shape": ""
          }
         },
         "name": "Newtonbrook West",
         "offsetgroup": "Newtonbrook West",
         "orientation": "v",
         "showlegend": true,
         "textposition": "auto",
         "type": "bar",
         "x": [
          "Newtonbrook West"
         ],
         "xaxis": "x",
         "y": [
          2530
         ],
         "yaxis": "y"
        },
        {
         "alignmentgroup": "True",
         "hovertemplate": "neighbourhood=%{x}<br>single_detached_house=%{y}<extra></extra>",
         "legendgroup": "Niagara",
         "marker": {
          "color": "#B6E880",
          "pattern": {
           "shape": ""
          }
         },
         "name": "Niagara",
         "offsetgroup": "Niagara",
         "orientation": "v",
         "showlegend": true,
         "textposition": "auto",
         "type": "bar",
         "x": [
          "Niagara"
         ],
         "xaxis": "x",
         "y": [
          35
         ],
         "yaxis": "y"
        },
        {
         "alignmentgroup": "True",
         "hovertemplate": "neighbourhood=%{x}<br>single_detached_house=%{y}<extra></extra>",
         "legendgroup": "North Riverdale",
         "marker": {
          "color": "#FF97FF",
          "pattern": {
           "shape": ""
          }
         },
         "name": "North Riverdale",
         "offsetgroup": "North Riverdale",
         "orientation": "v",
         "showlegend": true,
         "textposition": "auto",
         "type": "bar",
         "x": [
          "North Riverdale"
         ],
         "xaxis": "x",
         "y": [
          815
         ],
         "yaxis": "y"
        },
        {
         "alignmentgroup": "True",
         "hovertemplate": "neighbourhood=%{x}<br>single_detached_house=%{y}<extra></extra>",
         "legendgroup": "North St.James Town",
         "marker": {
          "color": "#FECB52",
          "pattern": {
           "shape": ""
          }
         },
         "name": "North St.James Town",
         "offsetgroup": "North St.James Town",
         "orientation": "v",
         "showlegend": true,
         "textposition": "auto",
         "type": "bar",
         "x": [
          "North St.James Town"
         ],
         "xaxis": "x",
         "y": [
          5
         ],
         "yaxis": "y"
        },
        {
         "alignmentgroup": "True",
         "hovertemplate": "neighbourhood=%{x}<br>single_detached_house=%{y}<extra></extra>",
         "legendgroup": "O'Connor-Parkview",
         "marker": {
          "color": "#636efa",
          "pattern": {
           "shape": ""
          }
         },
         "name": "O'Connor-Parkview",
         "offsetgroup": "O'Connor-Parkview",
         "orientation": "v",
         "showlegend": true,
         "textposition": "auto",
         "type": "bar",
         "x": [
          "O'Connor-Parkview"
         ],
         "xaxis": "x",
         "y": [
          1050
         ],
         "yaxis": "y"
        },
        {
         "alignmentgroup": "True",
         "hovertemplate": "neighbourhood=%{x}<br>single_detached_house=%{y}<extra></extra>",
         "legendgroup": "Oakridge",
         "marker": {
          "color": "#EF553B",
          "pattern": {
           "shape": ""
          }
         },
         "name": "Oakridge",
         "offsetgroup": "Oakridge",
         "orientation": "v",
         "showlegend": true,
         "textposition": "auto",
         "type": "bar",
         "x": [
          "Oakridge"
         ],
         "xaxis": "x",
         "y": [
          2795
         ],
         "yaxis": "y"
        },
        {
         "alignmentgroup": "True",
         "hovertemplate": "neighbourhood=%{x}<br>single_detached_house=%{y}<extra></extra>",
         "legendgroup": "Oakwood Village",
         "marker": {
          "color": "#00cc96",
          "pattern": {
           "shape": ""
          }
         },
         "name": "Oakwood Village",
         "offsetgroup": "Oakwood Village",
         "orientation": "v",
         "showlegend": true,
         "textposition": "auto",
         "type": "bar",
         "x": [
          "Oakwood Village"
         ],
         "xaxis": "x",
         "y": [
          3030
         ],
         "yaxis": "y"
        },
        {
         "alignmentgroup": "True",
         "hovertemplate": "neighbourhood=%{x}<br>single_detached_house=%{y}<extra></extra>",
         "legendgroup": "Old East York",
         "marker": {
          "color": "#ab63fa",
          "pattern": {
           "shape": ""
          }
         },
         "name": "Old East York",
         "offsetgroup": "Old East York",
         "orientation": "v",
         "showlegend": true,
         "textposition": "auto",
         "type": "bar",
         "x": [
          "Old East York"
         ],
         "xaxis": "x",
         "y": [
          2220
         ],
         "yaxis": "y"
        },
        {
         "alignmentgroup": "True",
         "hovertemplate": "neighbourhood=%{x}<br>single_detached_house=%{y}<extra></extra>",
         "legendgroup": "Palmerston-Little Italy",
         "marker": {
          "color": "#FFA15A",
          "pattern": {
           "shape": ""
          }
         },
         "name": "Palmerston-Little Italy",
         "offsetgroup": "Palmerston-Little Italy",
         "orientation": "v",
         "showlegend": true,
         "textposition": "auto",
         "type": "bar",
         "x": [
          "Palmerston-Little Italy"
         ],
         "xaxis": "x",
         "y": [
          355
         ],
         "yaxis": "y"
        },
        {
         "alignmentgroup": "True",
         "hovertemplate": "neighbourhood=%{x}<br>single_detached_house=%{y}<extra></extra>",
         "legendgroup": "Parkwoods-Donalda",
         "marker": {
          "color": "#19d3f3",
          "pattern": {
           "shape": ""
          }
         },
         "name": "Parkwoods-Donalda",
         "offsetgroup": "Parkwoods-Donalda",
         "orientation": "v",
         "showlegend": true,
         "textposition": "auto",
         "type": "bar",
         "x": [
          "Parkwoods-Donalda"
         ],
         "xaxis": "x",
         "y": [
          2555
         ],
         "yaxis": "y"
        },
        {
         "alignmentgroup": "True",
         "hovertemplate": "neighbourhood=%{x}<br>single_detached_house=%{y}<extra></extra>",
         "legendgroup": "Pelmo Park-Humberlea",
         "marker": {
          "color": "#FF6692",
          "pattern": {
           "shape": ""
          }
         },
         "name": "Pelmo Park-Humberlea",
         "offsetgroup": "Pelmo Park-Humberlea",
         "orientation": "v",
         "showlegend": true,
         "textposition": "auto",
         "type": "bar",
         "x": [
          "Pelmo Park-Humberlea"
         ],
         "xaxis": "x",
         "y": [
          1795
         ],
         "yaxis": "y"
        },
        {
         "alignmentgroup": "True",
         "hovertemplate": "neighbourhood=%{x}<br>single_detached_house=%{y}<extra></extra>",
         "legendgroup": "Playter Estates-Danforth",
         "marker": {
          "color": "#B6E880",
          "pattern": {
           "shape": ""
          }
         },
         "name": "Playter Estates-Danforth",
         "offsetgroup": "Playter Estates-Danforth",
         "orientation": "v",
         "showlegend": true,
         "textposition": "auto",
         "type": "bar",
         "x": [
          "Playter Estates-Danforth"
         ],
         "xaxis": "x",
         "y": [
          630
         ],
         "yaxis": "y"
        },
        {
         "alignmentgroup": "True",
         "hovertemplate": "neighbourhood=%{x}<br>single_detached_house=%{y}<extra></extra>",
         "legendgroup": "Pleasant View",
         "marker": {
          "color": "#FF97FF",
          "pattern": {
           "shape": ""
          }
         },
         "name": "Pleasant View",
         "offsetgroup": "Pleasant View",
         "orientation": "v",
         "showlegend": true,
         "textposition": "auto",
         "type": "bar",
         "x": [
          "Pleasant View"
         ],
         "xaxis": "x",
         "y": [
          1010
         ],
         "yaxis": "y"
        },
        {
         "alignmentgroup": "True",
         "hovertemplate": "neighbourhood=%{x}<br>single_detached_house=%{y}<extra></extra>",
         "legendgroup": "Princess-Rosethorn",
         "marker": {
          "color": "#FECB52",
          "pattern": {
           "shape": ""
          }
         },
         "name": "Princess-Rosethorn",
         "offsetgroup": "Princess-Rosethorn",
         "orientation": "v",
         "showlegend": true,
         "textposition": "auto",
         "type": "bar",
         "x": [
          "Princess-Rosethorn"
         ],
         "xaxis": "x",
         "y": [
          3295
         ],
         "yaxis": "y"
        },
        {
         "alignmentgroup": "True",
         "hovertemplate": "neighbourhood=%{x}<br>single_detached_house=%{y}<extra></extra>",
         "legendgroup": "Regent Park",
         "marker": {
          "color": "#636efa",
          "pattern": {
           "shape": ""
          }
         },
         "name": "Regent Park",
         "offsetgroup": "Regent Park",
         "orientation": "v",
         "showlegend": true,
         "textposition": "auto",
         "type": "bar",
         "x": [
          "Regent Park"
         ],
         "xaxis": "x",
         "y": [
          5
         ],
         "yaxis": "y"
        },
        {
         "alignmentgroup": "True",
         "hovertemplate": "neighbourhood=%{x}<br>single_detached_house=%{y}<extra></extra>",
         "legendgroup": "Rexdale-Kipling",
         "marker": {
          "color": "#EF553B",
          "pattern": {
           "shape": ""
          }
         },
         "name": "Rexdale-Kipling",
         "offsetgroup": "Rexdale-Kipling",
         "orientation": "v",
         "showlegend": true,
         "textposition": "auto",
         "type": "bar",
         "x": [
          "Rexdale-Kipling"
         ],
         "xaxis": "x",
         "y": [
          1775
         ],
         "yaxis": "y"
        },
        {
         "alignmentgroup": "True",
         "hovertemplate": "neighbourhood=%{x}<br>single_detached_house=%{y}<extra></extra>",
         "legendgroup": "Rockcliffe-Smythe",
         "marker": {
          "color": "#00cc96",
          "pattern": {
           "shape": ""
          }
         },
         "name": "Rockcliffe-Smythe",
         "offsetgroup": "Rockcliffe-Smythe",
         "orientation": "v",
         "showlegend": true,
         "textposition": "auto",
         "type": "bar",
         "x": [
          "Rockcliffe-Smythe"
         ],
         "xaxis": "x",
         "y": [
          2765
         ],
         "yaxis": "y"
        },
        {
         "alignmentgroup": "True",
         "hovertemplate": "neighbourhood=%{x}<br>single_detached_house=%{y}<extra></extra>",
         "legendgroup": "Roncesvalles",
         "marker": {
          "color": "#ab63fa",
          "pattern": {
           "shape": ""
          }
         },
         "name": "Roncesvalles",
         "offsetgroup": "Roncesvalles",
         "orientation": "v",
         "showlegend": true,
         "textposition": "auto",
         "type": "bar",
         "x": [
          "Roncesvalles"
         ],
         "xaxis": "x",
         "y": [
          675
         ],
         "yaxis": "y"
        },
        {
         "alignmentgroup": "True",
         "hovertemplate": "neighbourhood=%{x}<br>single_detached_house=%{y}<extra></extra>",
         "legendgroup": "Rosedale-Moore Park",
         "marker": {
          "color": "#FFA15A",
          "pattern": {
           "shape": ""
          }
         },
         "name": "Rosedale-Moore Park",
         "offsetgroup": "Rosedale-Moore Park",
         "orientation": "v",
         "showlegend": true,
         "textposition": "auto",
         "type": "bar",
         "x": [
          "Rosedale-Moore Park"
         ],
         "xaxis": "x",
         "y": [
          2450
         ],
         "yaxis": "y"
        },
        {
         "alignmentgroup": "True",
         "hovertemplate": "neighbourhood=%{x}<br>single_detached_house=%{y}<extra></extra>",
         "legendgroup": "Rouge",
         "marker": {
          "color": "#19d3f3",
          "pattern": {
           "shape": ""
          }
         },
         "name": "Rouge",
         "offsetgroup": "Rouge",
         "orientation": "v",
         "showlegend": true,
         "textposition": "auto",
         "type": "bar",
         "x": [
          "Rouge"
         ],
         "xaxis": "x",
         "y": [
          7625
         ],
         "yaxis": "y"
        },
        {
         "alignmentgroup": "True",
         "hovertemplate": "neighbourhood=%{x}<br>single_detached_house=%{y}<extra></extra>",
         "legendgroup": "Runnymede-Bloor West Village",
         "marker": {
          "color": "#FF6692",
          "pattern": {
           "shape": ""
          }
         },
         "name": "Runnymede-Bloor West Village",
         "offsetgroup": "Runnymede-Bloor West Village",
         "orientation": "v",
         "showlegend": true,
         "textposition": "auto",
         "type": "bar",
         "x": [
          "Runnymede-Bloor West Village"
         ],
         "xaxis": "x",
         "y": [
          2025
         ],
         "yaxis": "y"
        },
        {
         "alignmentgroup": "True",
         "hovertemplate": "neighbourhood=%{x}<br>single_detached_house=%{y}<extra></extra>",
         "legendgroup": "Rustic",
         "marker": {
          "color": "#B6E880",
          "pattern": {
           "shape": ""
          }
         },
         "name": "Rustic",
         "offsetgroup": "Rustic",
         "orientation": "v",
         "showlegend": true,
         "textposition": "auto",
         "type": "bar",
         "x": [
          "Rustic"
         ],
         "xaxis": "x",
         "y": [
          1150
         ],
         "yaxis": "y"
        },
        {
         "alignmentgroup": "True",
         "hovertemplate": "neighbourhood=%{x}<br>single_detached_house=%{y}<extra></extra>",
         "legendgroup": "Scarborough Village",
         "marker": {
          "color": "#FF97FF",
          "pattern": {
           "shape": ""
          }
         },
         "name": "Scarborough Village",
         "offsetgroup": "Scarborough Village",
         "orientation": "v",
         "showlegend": true,
         "textposition": "auto",
         "type": "bar",
         "x": [
          "Scarborough Village"
         ],
         "xaxis": "x",
         "y": [
          1105
         ],
         "yaxis": "y"
        },
        {
         "alignmentgroup": "True",
         "hovertemplate": "neighbourhood=%{x}<br>single_detached_house=%{y}<extra></extra>",
         "legendgroup": "South Parkdale",
         "marker": {
          "color": "#FECB52",
          "pattern": {
           "shape": ""
          }
         },
         "name": "South Parkdale",
         "offsetgroup": "South Parkdale",
         "orientation": "v",
         "showlegend": true,
         "textposition": "auto",
         "type": "bar",
         "x": [
          "South Parkdale"
         ],
         "xaxis": "x",
         "y": [
          200
         ],
         "yaxis": "y"
        },
        {
         "alignmentgroup": "True",
         "hovertemplate": "neighbourhood=%{x}<br>single_detached_house=%{y}<extra></extra>",
         "legendgroup": "South Riverdale",
         "marker": {
          "color": "#636efa",
          "pattern": {
           "shape": ""
          }
         },
         "name": "South Riverdale",
         "offsetgroup": "South Riverdale",
         "orientation": "v",
         "showlegend": true,
         "textposition": "auto",
         "type": "bar",
         "x": [
          "South Riverdale"
         ],
         "xaxis": "x",
         "y": [
          865
         ],
         "yaxis": "y"
        },
        {
         "alignmentgroup": "True",
         "hovertemplate": "neighbourhood=%{x}<br>single_detached_house=%{y}<extra></extra>",
         "legendgroup": "St.Andrew-Windfields",
         "marker": {
          "color": "#EF553B",
          "pattern": {
           "shape": ""
          }
         },
         "name": "St.Andrew-Windfields",
         "offsetgroup": "St.Andrew-Windfields",
         "orientation": "v",
         "showlegend": true,
         "textposition": "auto",
         "type": "bar",
         "x": [
          "St.Andrew-Windfields"
         ],
         "xaxis": "x",
         "y": [
          3245
         ],
         "yaxis": "y"
        },
        {
         "alignmentgroup": "True",
         "hovertemplate": "neighbourhood=%{x}<br>single_detached_house=%{y}<extra></extra>",
         "legendgroup": "Steeles",
         "marker": {
          "color": "#00cc96",
          "pattern": {
           "shape": ""
          }
         },
         "name": "Steeles",
         "offsetgroup": "Steeles",
         "orientation": "v",
         "showlegend": true,
         "textposition": "auto",
         "type": "bar",
         "x": [
          "Steeles"
         ],
         "xaxis": "x",
         "y": [
          3725
         ],
         "yaxis": "y"
        },
        {
         "alignmentgroup": "True",
         "hovertemplate": "neighbourhood=%{x}<br>single_detached_house=%{y}<extra></extra>",
         "legendgroup": "Stonegate-Queensway",
         "marker": {
          "color": "#ab63fa",
          "pattern": {
           "shape": ""
          }
         },
         "name": "Stonegate-Queensway",
         "offsetgroup": "Stonegate-Queensway",
         "orientation": "v",
         "showlegend": true,
         "textposition": "auto",
         "type": "bar",
         "x": [
          "Stonegate-Queensway"
         ],
         "xaxis": "x",
         "y": [
          5790
         ],
         "yaxis": "y"
        },
        {
         "alignmentgroup": "True",
         "hovertemplate": "neighbourhood=%{x}<br>single_detached_house=%{y}<extra></extra>",
         "legendgroup": "Tam O'Shanter-Sullivan",
         "marker": {
          "color": "#FFA15A",
          "pattern": {
           "shape": ""
          }
         },
         "name": "Tam O'Shanter-Sullivan",
         "offsetgroup": "Tam O'Shanter-Sullivan",
         "orientation": "v",
         "showlegend": true,
         "textposition": "auto",
         "type": "bar",
         "x": [
          "Tam O'Shanter-Sullivan"
         ],
         "xaxis": "x",
         "y": [
          3080
         ],
         "yaxis": "y"
        },
        {
         "alignmentgroup": "True",
         "hovertemplate": "neighbourhood=%{x}<br>single_detached_house=%{y}<extra></extra>",
         "legendgroup": "Taylor-Massey",
         "marker": {
          "color": "#19d3f3",
          "pattern": {
           "shape": ""
          }
         },
         "name": "Taylor-Massey",
         "offsetgroup": "Taylor-Massey",
         "orientation": "v",
         "showlegend": true,
         "textposition": "auto",
         "type": "bar",
         "x": [
          "Taylor-Massey"
         ],
         "xaxis": "x",
         "y": [
          600
         ],
         "yaxis": "y"
        },
        {
         "alignmentgroup": "True",
         "hovertemplate": "neighbourhood=%{x}<br>single_detached_house=%{y}<extra></extra>",
         "legendgroup": "The Beaches",
         "marker": {
          "color": "#FF6692",
          "pattern": {
           "shape": ""
          }
         },
         "name": "The Beaches",
         "offsetgroup": "The Beaches",
         "orientation": "v",
         "showlegend": true,
         "textposition": "auto",
         "type": "bar",
         "x": [
          "The Beaches"
         ],
         "xaxis": "x",
         "y": [
          2590
         ],
         "yaxis": "y"
        },
        {
         "alignmentgroup": "True",
         "hovertemplate": "neighbourhood=%{x}<br>single_detached_house=%{y}<extra></extra>",
         "legendgroup": "Thistletown-Beaumond Heights",
         "marker": {
          "color": "#B6E880",
          "pattern": {
           "shape": ""
          }
         },
         "name": "Thistletown-Beaumond Heights",
         "offsetgroup": "Thistletown-Beaumond Heights",
         "orientation": "v",
         "showlegend": true,
         "textposition": "auto",
         "type": "bar",
         "x": [
          "Thistletown-Beaumond Heights"
         ],
         "xaxis": "x",
         "y": [
          1575
         ],
         "yaxis": "y"
        },
        {
         "alignmentgroup": "True",
         "hovertemplate": "neighbourhood=%{x}<br>single_detached_house=%{y}<extra></extra>",
         "legendgroup": "Thorncliffe Park",
         "marker": {
          "color": "#FF97FF",
          "pattern": {
           "shape": ""
          }
         },
         "name": "Thorncliffe Park",
         "offsetgroup": "Thorncliffe Park",
         "orientation": "v",
         "showlegend": true,
         "textposition": "auto",
         "type": "bar",
         "x": [
          "Thorncliffe Park"
         ],
         "xaxis": "x",
         "y": [
          0
         ],
         "yaxis": "y"
        },
        {
         "alignmentgroup": "True",
         "hovertemplate": "neighbourhood=%{x}<br>single_detached_house=%{y}<extra></extra>",
         "legendgroup": "Trinity-Bellwoods",
         "marker": {
          "color": "#FECB52",
          "pattern": {
           "shape": ""
          }
         },
         "name": "Trinity-Bellwoods",
         "offsetgroup": "Trinity-Bellwoods",
         "orientation": "v",
         "showlegend": true,
         "textposition": "auto",
         "type": "bar",
         "x": [
          "Trinity-Bellwoods"
         ],
         "xaxis": "x",
         "y": [
          385
         ],
         "yaxis": "y"
        },
        {
         "alignmentgroup": "True",
         "hovertemplate": "neighbourhood=%{x}<br>single_detached_house=%{y}<extra></extra>",
         "legendgroup": "University",
         "marker": {
          "color": "#636efa",
          "pattern": {
           "shape": ""
          }
         },
         "name": "University",
         "offsetgroup": "University",
         "orientation": "v",
         "showlegend": true,
         "textposition": "auto",
         "type": "bar",
         "x": [
          "University"
         ],
         "xaxis": "x",
         "y": [
          125
         ],
         "yaxis": "y"
        },
        {
         "alignmentgroup": "True",
         "hovertemplate": "neighbourhood=%{x}<br>single_detached_house=%{y}<extra></extra>",
         "legendgroup": "Victoria Village",
         "marker": {
          "color": "#EF553B",
          "pattern": {
           "shape": ""
          }
         },
         "name": "Victoria Village",
         "offsetgroup": "Victoria Village",
         "orientation": "v",
         "showlegend": true,
         "textposition": "auto",
         "type": "bar",
         "x": [
          "Victoria Village"
         ],
         "xaxis": "x",
         "y": [
          1250
         ],
         "yaxis": "y"
        },
        {
         "alignmentgroup": "True",
         "hovertemplate": "neighbourhood=%{x}<br>single_detached_house=%{y}<extra></extra>",
         "legendgroup": "Waterfront Communities-The Island",
         "marker": {
          "color": "#00cc96",
          "pattern": {
           "shape": ""
          }
         },
         "name": "Waterfront Communities-The Island",
         "offsetgroup": "Waterfront Communities-The Island",
         "orientation": "v",
         "showlegend": true,
         "textposition": "auto",
         "type": "bar",
         "x": [
          "Waterfront Communities-The Island"
         ],
         "xaxis": "x",
         "y": [
          255
         ],
         "yaxis": "y"
        },
        {
         "alignmentgroup": "True",
         "hovertemplate": "neighbourhood=%{x}<br>single_detached_house=%{y}<extra></extra>",
         "legendgroup": "West Hill",
         "marker": {
          "color": "#ab63fa",
          "pattern": {
           "shape": ""
          }
         },
         "name": "West Hill",
         "offsetgroup": "West Hill",
         "orientation": "v",
         "showlegend": true,
         "textposition": "auto",
         "type": "bar",
         "x": [
          "West Hill"
         ],
         "xaxis": "x",
         "y": [
          3220
         ],
         "yaxis": "y"
        },
        {
         "alignmentgroup": "True",
         "hovertemplate": "neighbourhood=%{x}<br>single_detached_house=%{y}<extra></extra>",
         "legendgroup": "West Humber-Clairville",
         "marker": {
          "color": "#FFA15A",
          "pattern": {
           "shape": ""
          }
         },
         "name": "West Humber-Clairville",
         "offsetgroup": "West Humber-Clairville",
         "orientation": "v",
         "showlegend": true,
         "textposition": "auto",
         "type": "bar",
         "x": [
          "West Humber-Clairville"
         ],
         "xaxis": "x",
         "y": [
          3870
         ],
         "yaxis": "y"
        },
        {
         "alignmentgroup": "True",
         "hovertemplate": "neighbourhood=%{x}<br>single_detached_house=%{y}<extra></extra>",
         "legendgroup": "Westminster-Branson",
         "marker": {
          "color": "#19d3f3",
          "pattern": {
           "shape": ""
          }
         },
         "name": "Westminster-Branson",
         "offsetgroup": "Westminster-Branson",
         "orientation": "v",
         "showlegend": true,
         "textposition": "auto",
         "type": "bar",
         "x": [
          "Westminster-Branson"
         ],
         "xaxis": "x",
         "y": [
          870
         ],
         "yaxis": "y"
        },
        {
         "alignmentgroup": "True",
         "hovertemplate": "neighbourhood=%{x}<br>single_detached_house=%{y}<extra></extra>",
         "legendgroup": "Weston",
         "marker": {
          "color": "#FF6692",
          "pattern": {
           "shape": ""
          }
         },
         "name": "Weston",
         "offsetgroup": "Weston",
         "orientation": "v",
         "showlegend": true,
         "textposition": "auto",
         "type": "bar",
         "x": [
          "Weston"
         ],
         "xaxis": "x",
         "y": [
          1620
         ],
         "yaxis": "y"
        },
        {
         "alignmentgroup": "True",
         "hovertemplate": "neighbourhood=%{x}<br>single_detached_house=%{y}<extra></extra>",
         "legendgroup": "Weston-Pellam Park",
         "marker": {
          "color": "#B6E880",
          "pattern": {
           "shape": ""
          }
         },
         "name": "Weston-Pellam Park",
         "offsetgroup": "Weston-Pellam Park",
         "orientation": "v",
         "showlegend": true,
         "textposition": "auto",
         "type": "bar",
         "x": [
          "Weston-Pellam Park"
         ],
         "xaxis": "x",
         "y": [
          505
         ],
         "yaxis": "y"
        },
        {
         "alignmentgroup": "True",
         "hovertemplate": "neighbourhood=%{x}<br>single_detached_house=%{y}<extra></extra>",
         "legendgroup": "Wexford/Maryvale",
         "marker": {
          "color": "#FF97FF",
          "pattern": {
           "shape": ""
          }
         },
         "name": "Wexford/Maryvale",
         "offsetgroup": "Wexford/Maryvale",
         "orientation": "v",
         "showlegend": true,
         "textposition": "auto",
         "type": "bar",
         "x": [
          "Wexford/Maryvale"
         ],
         "xaxis": "x",
         "y": [
          5290
         ],
         "yaxis": "y"
        },
        {
         "alignmentgroup": "True",
         "hovertemplate": "neighbourhood=%{x}<br>single_detached_house=%{y}<extra></extra>",
         "legendgroup": "Willowdale East",
         "marker": {
          "color": "#FECB52",
          "pattern": {
           "shape": ""
          }
         },
         "name": "Willowdale East",
         "offsetgroup": "Willowdale East",
         "orientation": "v",
         "showlegend": true,
         "textposition": "auto",
         "type": "bar",
         "x": [
          "Willowdale East"
         ],
         "xaxis": "x",
         "y": [
          3385
         ],
         "yaxis": "y"
        },
        {
         "alignmentgroup": "True",
         "hovertemplate": "neighbourhood=%{x}<br>single_detached_house=%{y}<extra></extra>",
         "legendgroup": "Willowdale West",
         "marker": {
          "color": "#636efa",
          "pattern": {
           "shape": ""
          }
         },
         "name": "Willowdale West",
         "offsetgroup": "Willowdale West",
         "orientation": "v",
         "showlegend": true,
         "textposition": "auto",
         "type": "bar",
         "x": [
          "Willowdale West"
         ],
         "xaxis": "x",
         "y": [
          2030
         ],
         "yaxis": "y"
        },
        {
         "alignmentgroup": "True",
         "hovertemplate": "neighbourhood=%{x}<br>single_detached_house=%{y}<extra></extra>",
         "legendgroup": "Willowridge-Martingrove-Richview",
         "marker": {
          "color": "#EF553B",
          "pattern": {
           "shape": ""
          }
         },
         "name": "Willowridge-Martingrove-Richview",
         "offsetgroup": "Willowridge-Martingrove-Richview",
         "orientation": "v",
         "showlegend": true,
         "textposition": "auto",
         "type": "bar",
         "x": [
          "Willowridge-Martingrove-Richview"
         ],
         "xaxis": "x",
         "y": [
          3600
         ],
         "yaxis": "y"
        },
        {
         "alignmentgroup": "True",
         "hovertemplate": "neighbourhood=%{x}<br>single_detached_house=%{y}<extra></extra>",
         "legendgroup": "Woburn",
         "marker": {
          "color": "#00cc96",
          "pattern": {
           "shape": ""
          }
         },
         "name": "Woburn",
         "offsetgroup": "Woburn",
         "orientation": "v",
         "showlegend": true,
         "textposition": "auto",
         "type": "bar",
         "x": [
          "Woburn"
         ],
         "xaxis": "x",
         "y": [
          6310
         ],
         "yaxis": "y"
        },
        {
         "alignmentgroup": "True",
         "hovertemplate": "neighbourhood=%{x}<br>single_detached_house=%{y}<extra></extra>",
         "legendgroup": "Woodbine Corridor",
         "marker": {
          "color": "#ab63fa",
          "pattern": {
           "shape": ""
          }
         },
         "name": "Woodbine Corridor",
         "offsetgroup": "Woodbine Corridor",
         "orientation": "v",
         "showlegend": true,
         "textposition": "auto",
         "type": "bar",
         "x": [
          "Woodbine Corridor"
         ],
         "xaxis": "x",
         "y": [
          885
         ],
         "yaxis": "y"
        },
        {
         "alignmentgroup": "True",
         "hovertemplate": "neighbourhood=%{x}<br>single_detached_house=%{y}<extra></extra>",
         "legendgroup": "Woodbine-Lumsden",
         "marker": {
          "color": "#FFA15A",
          "pattern": {
           "shape": ""
          }
         },
         "name": "Woodbine-Lumsden",
         "offsetgroup": "Woodbine-Lumsden",
         "orientation": "v",
         "showlegend": true,
         "textposition": "auto",
         "type": "bar",
         "x": [
          "Woodbine-Lumsden"
         ],
         "xaxis": "x",
         "y": [
          1885
         ],
         "yaxis": "y"
        },
        {
         "alignmentgroup": "True",
         "hovertemplate": "neighbourhood=%{x}<br>single_detached_house=%{y}<extra></extra>",
         "legendgroup": "Wychwood",
         "marker": {
          "color": "#19d3f3",
          "pattern": {
           "shape": ""
          }
         },
         "name": "Wychwood",
         "offsetgroup": "Wychwood",
         "orientation": "v",
         "showlegend": true,
         "textposition": "auto",
         "type": "bar",
         "x": [
          "Wychwood"
         ],
         "xaxis": "x",
         "y": [
          920
         ],
         "yaxis": "y"
        },
        {
         "alignmentgroup": "True",
         "hovertemplate": "neighbourhood=%{x}<br>single_detached_house=%{y}<extra></extra>",
         "legendgroup": "Yonge-Eglinton",
         "marker": {
          "color": "#FF6692",
          "pattern": {
           "shape": ""
          }
         },
         "name": "Yonge-Eglinton",
         "offsetgroup": "Yonge-Eglinton",
         "orientation": "v",
         "showlegend": true,
         "textposition": "auto",
         "type": "bar",
         "x": [
          "Yonge-Eglinton"
         ],
         "xaxis": "x",
         "y": [
          1400
         ],
         "yaxis": "y"
        },
        {
         "alignmentgroup": "True",
         "hovertemplate": "neighbourhood=%{x}<br>single_detached_house=%{y}<extra></extra>",
         "legendgroup": "Yonge-St.Clair",
         "marker": {
          "color": "#B6E880",
          "pattern": {
           "shape": ""
          }
         },
         "name": "Yonge-St.Clair",
         "offsetgroup": "Yonge-St.Clair",
         "orientation": "v",
         "showlegend": true,
         "textposition": "auto",
         "type": "bar",
         "x": [
          "Yonge-St.Clair"
         ],
         "xaxis": "x",
         "y": [
          520
         ],
         "yaxis": "y"
        },
        {
         "alignmentgroup": "True",
         "hovertemplate": "neighbourhood=%{x}<br>single_detached_house=%{y}<extra></extra>",
         "legendgroup": "York University Heights",
         "marker": {
          "color": "#FF97FF",
          "pattern": {
           "shape": ""
          }
         },
         "name": "York University Heights",
         "offsetgroup": "York University Heights",
         "orientation": "v",
         "showlegend": true,
         "textposition": "auto",
         "type": "bar",
         "x": [
          "York University Heights"
         ],
         "xaxis": "x",
         "y": [
          1235
         ],
         "yaxis": "y"
        },
        {
         "alignmentgroup": "True",
         "hovertemplate": "neighbourhood=%{x}<br>single_detached_house=%{y}<extra></extra>",
         "legendgroup": "Yorkdale-Glen Park",
         "marker": {
          "color": "#FECB52",
          "pattern": {
           "shape": ""
          }
         },
         "name": "Yorkdale-Glen Park",
         "offsetgroup": "Yorkdale-Glen Park",
         "orientation": "v",
         "showlegend": true,
         "textposition": "auto",
         "type": "bar",
         "x": [
          "Yorkdale-Glen Park"
         ],
         "xaxis": "x",
         "y": [
          2165
         ],
         "yaxis": "y"
        }
       ],
       "layout": {
        "barmode": "relative",
        "legend": {
         "title": {
          "text": "neighbourhood"
         },
         "tracegroupgap": 0
        },
        "margin": {
         "t": 60
        },
        "template": {
         "data": {
          "bar": [
           {
            "error_x": {
             "color": "#2a3f5f"
            },
            "error_y": {
             "color": "#2a3f5f"
            },
            "marker": {
             "line": {
              "color": "#E5ECF6",
              "width": 0.5
             },
             "pattern": {
              "fillmode": "overlay",
              "size": 10,
              "solidity": 0.2
             }
            },
            "type": "bar"
           }
          ],
          "barpolar": [
           {
            "marker": {
             "line": {
              "color": "#E5ECF6",
              "width": 0.5
             },
             "pattern": {
              "fillmode": "overlay",
              "size": 10,
              "solidity": 0.2
             }
            },
            "type": "barpolar"
           }
          ],
          "carpet": [
           {
            "aaxis": {
             "endlinecolor": "#2a3f5f",
             "gridcolor": "white",
             "linecolor": "white",
             "minorgridcolor": "white",
             "startlinecolor": "#2a3f5f"
            },
            "baxis": {
             "endlinecolor": "#2a3f5f",
             "gridcolor": "white",
             "linecolor": "white",
             "minorgridcolor": "white",
             "startlinecolor": "#2a3f5f"
            },
            "type": "carpet"
           }
          ],
          "choropleth": [
           {
            "colorbar": {
             "outlinewidth": 0,
             "ticks": ""
            },
            "type": "choropleth"
           }
          ],
          "contour": [
           {
            "colorbar": {
             "outlinewidth": 0,
             "ticks": ""
            },
            "colorscale": [
             [
              0,
              "#0d0887"
             ],
             [
              0.1111111111111111,
              "#46039f"
             ],
             [
              0.2222222222222222,
              "#7201a8"
             ],
             [
              0.3333333333333333,
              "#9c179e"
             ],
             [
              0.4444444444444444,
              "#bd3786"
             ],
             [
              0.5555555555555556,
              "#d8576b"
             ],
             [
              0.6666666666666666,
              "#ed7953"
             ],
             [
              0.7777777777777778,
              "#fb9f3a"
             ],
             [
              0.8888888888888888,
              "#fdca26"
             ],
             [
              1,
              "#f0f921"
             ]
            ],
            "type": "contour"
           }
          ],
          "contourcarpet": [
           {
            "colorbar": {
             "outlinewidth": 0,
             "ticks": ""
            },
            "type": "contourcarpet"
           }
          ],
          "heatmap": [
           {
            "colorbar": {
             "outlinewidth": 0,
             "ticks": ""
            },
            "colorscale": [
             [
              0,
              "#0d0887"
             ],
             [
              0.1111111111111111,
              "#46039f"
             ],
             [
              0.2222222222222222,
              "#7201a8"
             ],
             [
              0.3333333333333333,
              "#9c179e"
             ],
             [
              0.4444444444444444,
              "#bd3786"
             ],
             [
              0.5555555555555556,
              "#d8576b"
             ],
             [
              0.6666666666666666,
              "#ed7953"
             ],
             [
              0.7777777777777778,
              "#fb9f3a"
             ],
             [
              0.8888888888888888,
              "#fdca26"
             ],
             [
              1,
              "#f0f921"
             ]
            ],
            "type": "heatmap"
           }
          ],
          "heatmapgl": [
           {
            "colorbar": {
             "outlinewidth": 0,
             "ticks": ""
            },
            "colorscale": [
             [
              0,
              "#0d0887"
             ],
             [
              0.1111111111111111,
              "#46039f"
             ],
             [
              0.2222222222222222,
              "#7201a8"
             ],
             [
              0.3333333333333333,
              "#9c179e"
             ],
             [
              0.4444444444444444,
              "#bd3786"
             ],
             [
              0.5555555555555556,
              "#d8576b"
             ],
             [
              0.6666666666666666,
              "#ed7953"
             ],
             [
              0.7777777777777778,
              "#fb9f3a"
             ],
             [
              0.8888888888888888,
              "#fdca26"
             ],
             [
              1,
              "#f0f921"
             ]
            ],
            "type": "heatmapgl"
           }
          ],
          "histogram": [
           {
            "marker": {
             "pattern": {
              "fillmode": "overlay",
              "size": 10,
              "solidity": 0.2
             }
            },
            "type": "histogram"
           }
          ],
          "histogram2d": [
           {
            "colorbar": {
             "outlinewidth": 0,
             "ticks": ""
            },
            "colorscale": [
             [
              0,
              "#0d0887"
             ],
             [
              0.1111111111111111,
              "#46039f"
             ],
             [
              0.2222222222222222,
              "#7201a8"
             ],
             [
              0.3333333333333333,
              "#9c179e"
             ],
             [
              0.4444444444444444,
              "#bd3786"
             ],
             [
              0.5555555555555556,
              "#d8576b"
             ],
             [
              0.6666666666666666,
              "#ed7953"
             ],
             [
              0.7777777777777778,
              "#fb9f3a"
             ],
             [
              0.8888888888888888,
              "#fdca26"
             ],
             [
              1,
              "#f0f921"
             ]
            ],
            "type": "histogram2d"
           }
          ],
          "histogram2dcontour": [
           {
            "colorbar": {
             "outlinewidth": 0,
             "ticks": ""
            },
            "colorscale": [
             [
              0,
              "#0d0887"
             ],
             [
              0.1111111111111111,
              "#46039f"
             ],
             [
              0.2222222222222222,
              "#7201a8"
             ],
             [
              0.3333333333333333,
              "#9c179e"
             ],
             [
              0.4444444444444444,
              "#bd3786"
             ],
             [
              0.5555555555555556,
              "#d8576b"
             ],
             [
              0.6666666666666666,
              "#ed7953"
             ],
             [
              0.7777777777777778,
              "#fb9f3a"
             ],
             [
              0.8888888888888888,
              "#fdca26"
             ],
             [
              1,
              "#f0f921"
             ]
            ],
            "type": "histogram2dcontour"
           }
          ],
          "mesh3d": [
           {
            "colorbar": {
             "outlinewidth": 0,
             "ticks": ""
            },
            "type": "mesh3d"
           }
          ],
          "parcoords": [
           {
            "line": {
             "colorbar": {
              "outlinewidth": 0,
              "ticks": ""
             }
            },
            "type": "parcoords"
           }
          ],
          "pie": [
           {
            "automargin": true,
            "type": "pie"
           }
          ],
          "scatter": [
           {
            "marker": {
             "colorbar": {
              "outlinewidth": 0,
              "ticks": ""
             }
            },
            "type": "scatter"
           }
          ],
          "scatter3d": [
           {
            "line": {
             "colorbar": {
              "outlinewidth": 0,
              "ticks": ""
             }
            },
            "marker": {
             "colorbar": {
              "outlinewidth": 0,
              "ticks": ""
             }
            },
            "type": "scatter3d"
           }
          ],
          "scattercarpet": [
           {
            "marker": {
             "colorbar": {
              "outlinewidth": 0,
              "ticks": ""
             }
            },
            "type": "scattercarpet"
           }
          ],
          "scattergeo": [
           {
            "marker": {
             "colorbar": {
              "outlinewidth": 0,
              "ticks": ""
             }
            },
            "type": "scattergeo"
           }
          ],
          "scattergl": [
           {
            "marker": {
             "colorbar": {
              "outlinewidth": 0,
              "ticks": ""
             }
            },
            "type": "scattergl"
           }
          ],
          "scattermapbox": [
           {
            "marker": {
             "colorbar": {
              "outlinewidth": 0,
              "ticks": ""
             }
            },
            "type": "scattermapbox"
           }
          ],
          "scatterpolar": [
           {
            "marker": {
             "colorbar": {
              "outlinewidth": 0,
              "ticks": ""
             }
            },
            "type": "scatterpolar"
           }
          ],
          "scatterpolargl": [
           {
            "marker": {
             "colorbar": {
              "outlinewidth": 0,
              "ticks": ""
             }
            },
            "type": "scatterpolargl"
           }
          ],
          "scatterternary": [
           {
            "marker": {
             "colorbar": {
              "outlinewidth": 0,
              "ticks": ""
             }
            },
            "type": "scatterternary"
           }
          ],
          "surface": [
           {
            "colorbar": {
             "outlinewidth": 0,
             "ticks": ""
            },
            "colorscale": [
             [
              0,
              "#0d0887"
             ],
             [
              0.1111111111111111,
              "#46039f"
             ],
             [
              0.2222222222222222,
              "#7201a8"
             ],
             [
              0.3333333333333333,
              "#9c179e"
             ],
             [
              0.4444444444444444,
              "#bd3786"
             ],
             [
              0.5555555555555556,
              "#d8576b"
             ],
             [
              0.6666666666666666,
              "#ed7953"
             ],
             [
              0.7777777777777778,
              "#fb9f3a"
             ],
             [
              0.8888888888888888,
              "#fdca26"
             ],
             [
              1,
              "#f0f921"
             ]
            ],
            "type": "surface"
           }
          ],
          "table": [
           {
            "cells": {
             "fill": {
              "color": "#EBF0F8"
             },
             "line": {
              "color": "white"
             }
            },
            "header": {
             "fill": {
              "color": "#C8D4E3"
             },
             "line": {
              "color": "white"
             }
            },
            "type": "table"
           }
          ]
         },
         "layout": {
          "annotationdefaults": {
           "arrowcolor": "#2a3f5f",
           "arrowhead": 0,
           "arrowwidth": 1
          },
          "autotypenumbers": "strict",
          "coloraxis": {
           "colorbar": {
            "outlinewidth": 0,
            "ticks": ""
           }
          },
          "colorscale": {
           "diverging": [
            [
             0,
             "#8e0152"
            ],
            [
             0.1,
             "#c51b7d"
            ],
            [
             0.2,
             "#de77ae"
            ],
            [
             0.3,
             "#f1b6da"
            ],
            [
             0.4,
             "#fde0ef"
            ],
            [
             0.5,
             "#f7f7f7"
            ],
            [
             0.6,
             "#e6f5d0"
            ],
            [
             0.7,
             "#b8e186"
            ],
            [
             0.8,
             "#7fbc41"
            ],
            [
             0.9,
             "#4d9221"
            ],
            [
             1,
             "#276419"
            ]
           ],
           "sequential": [
            [
             0,
             "#0d0887"
            ],
            [
             0.1111111111111111,
             "#46039f"
            ],
            [
             0.2222222222222222,
             "#7201a8"
            ],
            [
             0.3333333333333333,
             "#9c179e"
            ],
            [
             0.4444444444444444,
             "#bd3786"
            ],
            [
             0.5555555555555556,
             "#d8576b"
            ],
            [
             0.6666666666666666,
             "#ed7953"
            ],
            [
             0.7777777777777778,
             "#fb9f3a"
            ],
            [
             0.8888888888888888,
             "#fdca26"
            ],
            [
             1,
             "#f0f921"
            ]
           ],
           "sequentialminus": [
            [
             0,
             "#0d0887"
            ],
            [
             0.1111111111111111,
             "#46039f"
            ],
            [
             0.2222222222222222,
             "#7201a8"
            ],
            [
             0.3333333333333333,
             "#9c179e"
            ],
            [
             0.4444444444444444,
             "#bd3786"
            ],
            [
             0.5555555555555556,
             "#d8576b"
            ],
            [
             0.6666666666666666,
             "#ed7953"
            ],
            [
             0.7777777777777778,
             "#fb9f3a"
            ],
            [
             0.8888888888888888,
             "#fdca26"
            ],
            [
             1,
             "#f0f921"
            ]
           ]
          },
          "colorway": [
           "#636efa",
           "#EF553B",
           "#00cc96",
           "#ab63fa",
           "#FFA15A",
           "#19d3f3",
           "#FF6692",
           "#B6E880",
           "#FF97FF",
           "#FECB52"
          ],
          "font": {
           "color": "#2a3f5f"
          },
          "geo": {
           "bgcolor": "white",
           "lakecolor": "white",
           "landcolor": "#E5ECF6",
           "showlakes": true,
           "showland": true,
           "subunitcolor": "white"
          },
          "hoverlabel": {
           "align": "left"
          },
          "hovermode": "closest",
          "mapbox": {
           "style": "light"
          },
          "paper_bgcolor": "white",
          "plot_bgcolor": "#E5ECF6",
          "polar": {
           "angularaxis": {
            "gridcolor": "white",
            "linecolor": "white",
            "ticks": ""
           },
           "bgcolor": "#E5ECF6",
           "radialaxis": {
            "gridcolor": "white",
            "linecolor": "white",
            "ticks": ""
           }
          },
          "scene": {
           "xaxis": {
            "backgroundcolor": "#E5ECF6",
            "gridcolor": "white",
            "gridwidth": 2,
            "linecolor": "white",
            "showbackground": true,
            "ticks": "",
            "zerolinecolor": "white"
           },
           "yaxis": {
            "backgroundcolor": "#E5ECF6",
            "gridcolor": "white",
            "gridwidth": 2,
            "linecolor": "white",
            "showbackground": true,
            "ticks": "",
            "zerolinecolor": "white"
           },
           "zaxis": {
            "backgroundcolor": "#E5ECF6",
            "gridcolor": "white",
            "gridwidth": 2,
            "linecolor": "white",
            "showbackground": true,
            "ticks": "",
            "zerolinecolor": "white"
           }
          },
          "shapedefaults": {
           "line": {
            "color": "#2a3f5f"
           }
          },
          "ternary": {
           "aaxis": {
            "gridcolor": "white",
            "linecolor": "white",
            "ticks": ""
           },
           "baxis": {
            "gridcolor": "white",
            "linecolor": "white",
            "ticks": ""
           },
           "bgcolor": "#E5ECF6",
           "caxis": {
            "gridcolor": "white",
            "linecolor": "white",
            "ticks": ""
           }
          },
          "title": {
           "x": 0.05
          },
          "xaxis": {
           "automargin": true,
           "gridcolor": "white",
           "linecolor": "white",
           "ticks": "",
           "title": {
            "standoff": 15
           },
           "zerolinecolor": "white",
           "zerolinewidth": 2
          },
          "yaxis": {
           "automargin": true,
           "gridcolor": "white",
           "linecolor": "white",
           "ticks": "",
           "title": {
            "standoff": 15
           },
           "zerolinecolor": "white",
           "zerolinewidth": 2
          }
         }
        },
        "title": {
         "text": "Number of Single Detached Houses in 2016"
        },
        "xaxis": {
         "anchor": "y",
         "categoryarray": [
          "Agincourt North",
          "Agincourt South-Malvern West",
          "Alderwood",
          "Annex",
          "Banbury-Don Mills",
          "Bathurst Manor",
          "Bay Street Corridor",
          "Bayview Village",
          "Bayview Woods-Steeles",
          "Bedford Park-Nortown",
          "Beechborough-Greenbrook",
          "Bendale",
          "Birchcliffe-Cliffside",
          "Black Creek",
          "Blake-Jones",
          "Briar Hill-Belgravia",
          "Bridle Path-Sunnybrook-York Mills",
          "Broadview North",
          "Brookhaven-Amesbury",
          "Cabbagetown-South St.James Town",
          "Caledonia-Fairbank",
          "Casa Loma",
          "Centennial Scarborough",
          "Church-Yonge Corridor",
          "Clairlea-Birchmount",
          "Clanton Park",
          "Cliffcrest",
          "Corso Italia-Davenport",
          "Danforth",
          "Danforth-East York",
          "Don Valley Village",
          "Dorset Park",
          "Dovercourt-Wallace Emerson-Juncti",
          "Downsview-Roding-CFB",
          "Dufferin Grove",
          "East End-Danforth",
          "Edenbridge-Humber Valley",
          "Eglinton East",
          "Elms-Old Rexdale",
          "Englemount-Lawrence",
          "Eringate-Centennial-West Deane",
          "Etobicoke West Mall",
          "Flemingdon Park",
          "Forest Hill North",
          "Forest Hill South",
          "Glenfield-Jane Heights",
          "Greenwood-Coxwell",
          "Guildwood",
          "Henry Farm",
          "High Park North",
          "High Park-Swansea",
          "Highland Creek",
          "Hillcrest Village",
          "Humber Heights-Westmount",
          "Humber Summit",
          "Humbermede",
          "Humewood-Cedarvale",
          "Ionview",
          "Islington-City Centre West",
          "Junction Area",
          "Keelesdale-Eglinton West",
          "Kennedy Park",
          "Kensington-Chinatown",
          "Kingsview Village-The Westway",
          "Kingsway South",
          "L'Amoreaux",
          "Lambton Baby Point",
          "Lansing-Westgate",
          "Lawrence Park North",
          "Lawrence Park South",
          "Leaside-Bennington",
          "Little Portugal",
          "Long Branch",
          "Malvern",
          "Maple Leaf",
          "Markland Wood",
          "Milliken",
          "Mimico",
          "Morningside",
          "Moss Park",
          "Mount Dennis",
          "Mount Olive-Silverstone-Jamestown",
          "Mount Pleasant East",
          "Mount Pleasant West",
          "New Toronto",
          "Newtonbrook East",
          "Newtonbrook West",
          "Niagara",
          "North Riverdale",
          "North St.James Town",
          "O'Connor-Parkview",
          "Oakridge",
          "Oakwood Village",
          "Old East York",
          "Palmerston-Little Italy",
          "Parkwoods-Donalda",
          "Pelmo Park-Humberlea",
          "Playter Estates-Danforth",
          "Pleasant View",
          "Princess-Rosethorn",
          "Regent Park",
          "Rexdale-Kipling",
          "Rockcliffe-Smythe",
          "Roncesvalles",
          "Rosedale-Moore Park",
          "Rouge",
          "Runnymede-Bloor West Village",
          "Rustic",
          "Scarborough Village",
          "South Parkdale",
          "South Riverdale",
          "St.Andrew-Windfields",
          "Steeles",
          "Stonegate-Queensway",
          "Tam O'Shanter-Sullivan",
          "Taylor-Massey",
          "The Beaches",
          "Thistletown-Beaumond Heights",
          "Thorncliffe Park",
          "Trinity-Bellwoods",
          "University",
          "Victoria Village",
          "Waterfront Communities-The Island",
          "West Hill",
          "West Humber-Clairville",
          "Westminster-Branson",
          "Weston",
          "Weston-Pellam Park",
          "Wexford/Maryvale",
          "Willowdale East",
          "Willowdale West",
          "Willowridge-Martingrove-Richview",
          "Woburn",
          "Woodbine Corridor",
          "Woodbine-Lumsden",
          "Wychwood",
          "Yonge-Eglinton",
          "Yonge-St.Clair",
          "York University Heights",
          "Yorkdale-Glen Park"
         ],
         "categoryorder": "array",
         "domain": [
          0,
          1
         ],
         "title": {
          "text": "neighbourhood"
         }
        },
        "yaxis": {
         "anchor": "x",
         "domain": [
          0,
          1
         ],
         "title": {
          "text": "single_detached_house"
         }
        }
       }
      }
     },
     "metadata": {},
     "output_type": "display_data"
    },
    {
     "data": {
      "text/plain": [
       "<Figure size 432x288 with 0 Axes>"
      ]
     },
     "metadata": {},
     "output_type": "display_data"
    },
    {
     "data": {
      "text/plain": [
       "<Figure size 432x288 with 0 Axes>"
      ]
     },
     "metadata": {},
     "output_type": "display_data"
    },
    {
     "data": {
      "text/plain": [
       "<Figure size 432x288 with 0 Axes>"
      ]
     },
     "metadata": {},
     "output_type": "display_data"
    },
    {
     "data": {
      "text/plain": [
       "<Figure size 432x288 with 0 Axes>"
      ]
     },
     "metadata": {},
     "output_type": "display_data"
    }
   ],
   "source": [
    "# Create a bar chart per year to show the number of dwelling types\n",
    "\n",
    "# Bar chart for 2001\n",
    "\n",
    "create_bar_chart(to_data.loc[2001],xlabel=\"neighbourhood\", ylabel=\"single_detached_house\",\n",
    " color='neighbourhood', title=\"Number of Single Detached Houses in 2001\")\n",
    "# YOUR CODE HERE!\n",
    "\n",
    "# Bar chart for 2006\n",
    "# YOUR CODE HERE!\n",
    "\n",
    "create_bar_chart(to_data.loc[2006],xlabel=\"neighbourhood\", ylabel=\"single_detached_house\",\n",
    "    color='neighbourhood', title=\"Number of Single Detached Houses in 2006\")\n",
    "\n",
    "# Bar chart for 2011\n",
    "# YOUR CODE HERE!\n",
    "\n",
    "create_bar_chart(to_data.loc[2011],xlabel=\"neighbourhood\", ylabel=\"single_detached_house\",\n",
    "    color='neighbourhood', title=\"Number of Single Detached Houses in 2011\")\n",
    "\n",
    "# Bar chart for 2016\n",
    "# YOUR CODE HERE!\n",
    "\n",
    "create_bar_chart(to_data.loc[2016],xlabel=\"neighbourhood\", ylabel=\"single_detached_house\",\n",
    "    color='neighbourhood', title=\"Number of Single Detached Houses in 2016\")"
   ]
  },
  {
   "cell_type": "markdown",
   "metadata": {},
   "source": [
    "- - - "
   ]
  },
  {
   "cell_type": "markdown",
   "metadata": {},
   "source": [
    "## Average Monthly Shelter Costs in Toronto Per Year\n",
    "\n",
    "In this section, you will calculate the average monthly shelter costs for owned and rented dwellings and the average house value for each year. Plot the results as a line chart.\n",
    "\n",
    "**Optional challenge:** Plot each line chart in a different color."
   ]
  },
  {
   "cell_type": "code",
   "execution_count": 22,
   "metadata": {},
   "outputs": [
    {
     "data": {
      "text/html": [
       "<div>\n",
       "<style scoped>\n",
       "    .dataframe tbody tr th:only-of-type {\n",
       "        vertical-align: middle;\n",
       "    }\n",
       "\n",
       "    .dataframe tbody tr th {\n",
       "        vertical-align: top;\n",
       "    }\n",
       "\n",
       "    .dataframe thead th {\n",
       "        text-align: right;\n",
       "    }\n",
       "</style>\n",
       "<table border=\"1\" class=\"dataframe\">\n",
       "  <thead>\n",
       "    <tr style=\"text-align: right;\">\n",
       "      <th></th>\n",
       "      <th>neighbourhood</th>\n",
       "      <th>single_detached_house</th>\n",
       "      <th>apartment_five_storeys_plus</th>\n",
       "      <th>movable_dwelling</th>\n",
       "      <th>semi_detached_house</th>\n",
       "      <th>row_house</th>\n",
       "      <th>duplex</th>\n",
       "      <th>apartment_five_storeys_less</th>\n",
       "      <th>other_house</th>\n",
       "      <th>average_house_value</th>\n",
       "      <th>shelter_costs_owned</th>\n",
       "      <th>shelter_costs_rented</th>\n",
       "    </tr>\n",
       "    <tr>\n",
       "      <th>year</th>\n",
       "      <th></th>\n",
       "      <th></th>\n",
       "      <th></th>\n",
       "      <th></th>\n",
       "      <th></th>\n",
       "      <th></th>\n",
       "      <th></th>\n",
       "      <th></th>\n",
       "      <th></th>\n",
       "      <th></th>\n",
       "      <th></th>\n",
       "      <th></th>\n",
       "    </tr>\n",
       "  </thead>\n",
       "  <tbody>\n",
       "    <tr>\n",
       "      <th>2001</th>\n",
       "      <td>Agincourt North</td>\n",
       "      <td>3715</td>\n",
       "      <td>1480</td>\n",
       "      <td>0</td>\n",
       "      <td>1055</td>\n",
       "      <td>1295</td>\n",
       "      <td>195</td>\n",
       "      <td>185</td>\n",
       "      <td>5</td>\n",
       "      <td>200388</td>\n",
       "      <td>810</td>\n",
       "      <td>870</td>\n",
       "    </tr>\n",
       "    <tr>\n",
       "      <th>2001</th>\n",
       "      <td>Agincourt South-Malvern West</td>\n",
       "      <td>3250</td>\n",
       "      <td>1835</td>\n",
       "      <td>0</td>\n",
       "      <td>545</td>\n",
       "      <td>455</td>\n",
       "      <td>105</td>\n",
       "      <td>425</td>\n",
       "      <td>0</td>\n",
       "      <td>203047</td>\n",
       "      <td>806</td>\n",
       "      <td>892</td>\n",
       "    </tr>\n",
       "  </tbody>\n",
       "</table>\n",
       "</div>"
      ],
      "text/plain": [
       "                     neighbourhood  single_detached_house  \\\n",
       "year                                                        \n",
       "2001               Agincourt North                   3715   \n",
       "2001  Agincourt South-Malvern West                   3250   \n",
       "\n",
       "      apartment_five_storeys_plus  movable_dwelling  semi_detached_house  \\\n",
       "year                                                                       \n",
       "2001                         1480                 0                 1055   \n",
       "2001                         1835                 0                  545   \n",
       "\n",
       "      row_house  duplex  apartment_five_storeys_less  other_house  \\\n",
       "year                                                                \n",
       "2001       1295     195                          185            5   \n",
       "2001        455     105                          425            0   \n",
       "\n",
       "      average_house_value  shelter_costs_owned  shelter_costs_rented  \n",
       "year                                                                  \n",
       "2001               200388                  810                   870  \n",
       "2001               203047                  806                   892  "
      ]
     },
     "execution_count": 22,
     "metadata": {},
     "output_type": "execute_result"
    }
   ],
   "source": [
    "to_data.head(2)"
   ]
  },
  {
   "cell_type": "code",
   "execution_count": 26,
   "metadata": {},
   "outputs": [
    {
     "data": {
      "text/html": [
       "<div>\n",
       "<style scoped>\n",
       "    .dataframe tbody tr th:only-of-type {\n",
       "        vertical-align: middle;\n",
       "    }\n",
       "\n",
       "    .dataframe tbody tr th {\n",
       "        vertical-align: top;\n",
       "    }\n",
       "\n",
       "    .dataframe thead th {\n",
       "        text-align: right;\n",
       "    }\n",
       "</style>\n",
       "<table border=\"1\" class=\"dataframe\">\n",
       "  <thead>\n",
       "    <tr style=\"text-align: right;\">\n",
       "      <th></th>\n",
       "      <th>shelter_costs_owned</th>\n",
       "      <th>shelter_costs_rented</th>\n",
       "    </tr>\n",
       "    <tr>\n",
       "      <th>year</th>\n",
       "      <th></th>\n",
       "      <th></th>\n",
       "    </tr>\n",
       "  </thead>\n",
       "  <tbody>\n",
       "    <tr>\n",
       "      <th>2001</th>\n",
       "      <td>846.878571</td>\n",
       "      <td>1085.935714</td>\n",
       "    </tr>\n",
       "    <tr>\n",
       "      <th>2006</th>\n",
       "      <td>1316.800000</td>\n",
       "      <td>925.414286</td>\n",
       "    </tr>\n",
       "    <tr>\n",
       "      <th>2011</th>\n",
       "      <td>1448.214286</td>\n",
       "      <td>1019.792857</td>\n",
       "    </tr>\n",
       "    <tr>\n",
       "      <th>2016</th>\n",
       "      <td>1761.314286</td>\n",
       "      <td>1256.321429</td>\n",
       "    </tr>\n",
       "  </tbody>\n",
       "</table>\n",
       "</div>"
      ],
      "text/plain": [
       "      shelter_costs_owned  shelter_costs_rented\n",
       "year                                           \n",
       "2001           846.878571           1085.935714\n",
       "2006          1316.800000            925.414286\n",
       "2011          1448.214286           1019.792857\n",
       "2016          1761.314286           1256.321429"
      ]
     },
     "execution_count": 26,
     "metadata": {},
     "output_type": "execute_result"
    }
   ],
   "source": [
    "# Calculate the average monthly shelter costs for owned and rented dwellings\n",
    "to_data.groupby(\"year\").agg({\"shelter_costs_owned\": \"mean\", \"shelter_costs_rented\": \"mean\"})\n",
    "\n",
    "# YOUR CODE HERE!"
   ]
  },
  {
   "cell_type": "code",
   "execution_count": 33,
   "metadata": {},
   "outputs": [],
   "source": [
    "# Helper create_line_chart function\n",
    "def create_line_chart(data, title, xlabel, ylabel, color):\n",
    "    \"\"\"\n",
    "    Create a line chart based in the data argument.\n",
    "    \"\"\"\n",
    "    fig = px.line(data, x=xlabel, y=ylabel)\n",
    "    fig.update_layout(title=title)\n",
    "    fig.update_traces(line_color=color)\n",
    "    return fig"
   ]
  },
  {
   "cell_type": "code",
   "execution_count": 40,
   "metadata": {},
   "outputs": [
    {
     "data": {
      "application/vnd.plotly.v1+json": {
       "config": {
        "plotlyServerURL": "https://plot.ly"
       },
       "data": [
        {
         "hovertemplate": "year=%{x}<br>shelter_costs_owned=%{y}<extra></extra>",
         "legendgroup": "",
         "line": {
          "color": "blue",
          "dash": "solid"
         },
         "marker": {
          "symbol": "circle"
         },
         "mode": "lines",
         "name": "",
         "orientation": "v",
         "showlegend": false,
         "type": "scatter",
         "x": [
          2001,
          2006,
          2011,
          2016
         ],
         "xaxis": "x",
         "y": [
          846.8785714285714,
          1316.8,
          1448.2142857142858,
          1761.3142857142857
         ],
         "yaxis": "y"
        }
       ],
       "layout": {
        "legend": {
         "tracegroupgap": 0
        },
        "margin": {
         "t": 60
        },
        "template": {
         "data": {
          "bar": [
           {
            "error_x": {
             "color": "#2a3f5f"
            },
            "error_y": {
             "color": "#2a3f5f"
            },
            "marker": {
             "line": {
              "color": "#E5ECF6",
              "width": 0.5
             },
             "pattern": {
              "fillmode": "overlay",
              "size": 10,
              "solidity": 0.2
             }
            },
            "type": "bar"
           }
          ],
          "barpolar": [
           {
            "marker": {
             "line": {
              "color": "#E5ECF6",
              "width": 0.5
             },
             "pattern": {
              "fillmode": "overlay",
              "size": 10,
              "solidity": 0.2
             }
            },
            "type": "barpolar"
           }
          ],
          "carpet": [
           {
            "aaxis": {
             "endlinecolor": "#2a3f5f",
             "gridcolor": "white",
             "linecolor": "white",
             "minorgridcolor": "white",
             "startlinecolor": "#2a3f5f"
            },
            "baxis": {
             "endlinecolor": "#2a3f5f",
             "gridcolor": "white",
             "linecolor": "white",
             "minorgridcolor": "white",
             "startlinecolor": "#2a3f5f"
            },
            "type": "carpet"
           }
          ],
          "choropleth": [
           {
            "colorbar": {
             "outlinewidth": 0,
             "ticks": ""
            },
            "type": "choropleth"
           }
          ],
          "contour": [
           {
            "colorbar": {
             "outlinewidth": 0,
             "ticks": ""
            },
            "colorscale": [
             [
              0,
              "#0d0887"
             ],
             [
              0.1111111111111111,
              "#46039f"
             ],
             [
              0.2222222222222222,
              "#7201a8"
             ],
             [
              0.3333333333333333,
              "#9c179e"
             ],
             [
              0.4444444444444444,
              "#bd3786"
             ],
             [
              0.5555555555555556,
              "#d8576b"
             ],
             [
              0.6666666666666666,
              "#ed7953"
             ],
             [
              0.7777777777777778,
              "#fb9f3a"
             ],
             [
              0.8888888888888888,
              "#fdca26"
             ],
             [
              1,
              "#f0f921"
             ]
            ],
            "type": "contour"
           }
          ],
          "contourcarpet": [
           {
            "colorbar": {
             "outlinewidth": 0,
             "ticks": ""
            },
            "type": "contourcarpet"
           }
          ],
          "heatmap": [
           {
            "colorbar": {
             "outlinewidth": 0,
             "ticks": ""
            },
            "colorscale": [
             [
              0,
              "#0d0887"
             ],
             [
              0.1111111111111111,
              "#46039f"
             ],
             [
              0.2222222222222222,
              "#7201a8"
             ],
             [
              0.3333333333333333,
              "#9c179e"
             ],
             [
              0.4444444444444444,
              "#bd3786"
             ],
             [
              0.5555555555555556,
              "#d8576b"
             ],
             [
              0.6666666666666666,
              "#ed7953"
             ],
             [
              0.7777777777777778,
              "#fb9f3a"
             ],
             [
              0.8888888888888888,
              "#fdca26"
             ],
             [
              1,
              "#f0f921"
             ]
            ],
            "type": "heatmap"
           }
          ],
          "heatmapgl": [
           {
            "colorbar": {
             "outlinewidth": 0,
             "ticks": ""
            },
            "colorscale": [
             [
              0,
              "#0d0887"
             ],
             [
              0.1111111111111111,
              "#46039f"
             ],
             [
              0.2222222222222222,
              "#7201a8"
             ],
             [
              0.3333333333333333,
              "#9c179e"
             ],
             [
              0.4444444444444444,
              "#bd3786"
             ],
             [
              0.5555555555555556,
              "#d8576b"
             ],
             [
              0.6666666666666666,
              "#ed7953"
             ],
             [
              0.7777777777777778,
              "#fb9f3a"
             ],
             [
              0.8888888888888888,
              "#fdca26"
             ],
             [
              1,
              "#f0f921"
             ]
            ],
            "type": "heatmapgl"
           }
          ],
          "histogram": [
           {
            "marker": {
             "pattern": {
              "fillmode": "overlay",
              "size": 10,
              "solidity": 0.2
             }
            },
            "type": "histogram"
           }
          ],
          "histogram2d": [
           {
            "colorbar": {
             "outlinewidth": 0,
             "ticks": ""
            },
            "colorscale": [
             [
              0,
              "#0d0887"
             ],
             [
              0.1111111111111111,
              "#46039f"
             ],
             [
              0.2222222222222222,
              "#7201a8"
             ],
             [
              0.3333333333333333,
              "#9c179e"
             ],
             [
              0.4444444444444444,
              "#bd3786"
             ],
             [
              0.5555555555555556,
              "#d8576b"
             ],
             [
              0.6666666666666666,
              "#ed7953"
             ],
             [
              0.7777777777777778,
              "#fb9f3a"
             ],
             [
              0.8888888888888888,
              "#fdca26"
             ],
             [
              1,
              "#f0f921"
             ]
            ],
            "type": "histogram2d"
           }
          ],
          "histogram2dcontour": [
           {
            "colorbar": {
             "outlinewidth": 0,
             "ticks": ""
            },
            "colorscale": [
             [
              0,
              "#0d0887"
             ],
             [
              0.1111111111111111,
              "#46039f"
             ],
             [
              0.2222222222222222,
              "#7201a8"
             ],
             [
              0.3333333333333333,
              "#9c179e"
             ],
             [
              0.4444444444444444,
              "#bd3786"
             ],
             [
              0.5555555555555556,
              "#d8576b"
             ],
             [
              0.6666666666666666,
              "#ed7953"
             ],
             [
              0.7777777777777778,
              "#fb9f3a"
             ],
             [
              0.8888888888888888,
              "#fdca26"
             ],
             [
              1,
              "#f0f921"
             ]
            ],
            "type": "histogram2dcontour"
           }
          ],
          "mesh3d": [
           {
            "colorbar": {
             "outlinewidth": 0,
             "ticks": ""
            },
            "type": "mesh3d"
           }
          ],
          "parcoords": [
           {
            "line": {
             "colorbar": {
              "outlinewidth": 0,
              "ticks": ""
             }
            },
            "type": "parcoords"
           }
          ],
          "pie": [
           {
            "automargin": true,
            "type": "pie"
           }
          ],
          "scatter": [
           {
            "marker": {
             "colorbar": {
              "outlinewidth": 0,
              "ticks": ""
             }
            },
            "type": "scatter"
           }
          ],
          "scatter3d": [
           {
            "line": {
             "colorbar": {
              "outlinewidth": 0,
              "ticks": ""
             }
            },
            "marker": {
             "colorbar": {
              "outlinewidth": 0,
              "ticks": ""
             }
            },
            "type": "scatter3d"
           }
          ],
          "scattercarpet": [
           {
            "marker": {
             "colorbar": {
              "outlinewidth": 0,
              "ticks": ""
             }
            },
            "type": "scattercarpet"
           }
          ],
          "scattergeo": [
           {
            "marker": {
             "colorbar": {
              "outlinewidth": 0,
              "ticks": ""
             }
            },
            "type": "scattergeo"
           }
          ],
          "scattergl": [
           {
            "marker": {
             "colorbar": {
              "outlinewidth": 0,
              "ticks": ""
             }
            },
            "type": "scattergl"
           }
          ],
          "scattermapbox": [
           {
            "marker": {
             "colorbar": {
              "outlinewidth": 0,
              "ticks": ""
             }
            },
            "type": "scattermapbox"
           }
          ],
          "scatterpolar": [
           {
            "marker": {
             "colorbar": {
              "outlinewidth": 0,
              "ticks": ""
             }
            },
            "type": "scatterpolar"
           }
          ],
          "scatterpolargl": [
           {
            "marker": {
             "colorbar": {
              "outlinewidth": 0,
              "ticks": ""
             }
            },
            "type": "scatterpolargl"
           }
          ],
          "scatterternary": [
           {
            "marker": {
             "colorbar": {
              "outlinewidth": 0,
              "ticks": ""
             }
            },
            "type": "scatterternary"
           }
          ],
          "surface": [
           {
            "colorbar": {
             "outlinewidth": 0,
             "ticks": ""
            },
            "colorscale": [
             [
              0,
              "#0d0887"
             ],
             [
              0.1111111111111111,
              "#46039f"
             ],
             [
              0.2222222222222222,
              "#7201a8"
             ],
             [
              0.3333333333333333,
              "#9c179e"
             ],
             [
              0.4444444444444444,
              "#bd3786"
             ],
             [
              0.5555555555555556,
              "#d8576b"
             ],
             [
              0.6666666666666666,
              "#ed7953"
             ],
             [
              0.7777777777777778,
              "#fb9f3a"
             ],
             [
              0.8888888888888888,
              "#fdca26"
             ],
             [
              1,
              "#f0f921"
             ]
            ],
            "type": "surface"
           }
          ],
          "table": [
           {
            "cells": {
             "fill": {
              "color": "#EBF0F8"
             },
             "line": {
              "color": "white"
             }
            },
            "header": {
             "fill": {
              "color": "#C8D4E3"
             },
             "line": {
              "color": "white"
             }
            },
            "type": "table"
           }
          ]
         },
         "layout": {
          "annotationdefaults": {
           "arrowcolor": "#2a3f5f",
           "arrowhead": 0,
           "arrowwidth": 1
          },
          "autotypenumbers": "strict",
          "coloraxis": {
           "colorbar": {
            "outlinewidth": 0,
            "ticks": ""
           }
          },
          "colorscale": {
           "diverging": [
            [
             0,
             "#8e0152"
            ],
            [
             0.1,
             "#c51b7d"
            ],
            [
             0.2,
             "#de77ae"
            ],
            [
             0.3,
             "#f1b6da"
            ],
            [
             0.4,
             "#fde0ef"
            ],
            [
             0.5,
             "#f7f7f7"
            ],
            [
             0.6,
             "#e6f5d0"
            ],
            [
             0.7,
             "#b8e186"
            ],
            [
             0.8,
             "#7fbc41"
            ],
            [
             0.9,
             "#4d9221"
            ],
            [
             1,
             "#276419"
            ]
           ],
           "sequential": [
            [
             0,
             "#0d0887"
            ],
            [
             0.1111111111111111,
             "#46039f"
            ],
            [
             0.2222222222222222,
             "#7201a8"
            ],
            [
             0.3333333333333333,
             "#9c179e"
            ],
            [
             0.4444444444444444,
             "#bd3786"
            ],
            [
             0.5555555555555556,
             "#d8576b"
            ],
            [
             0.6666666666666666,
             "#ed7953"
            ],
            [
             0.7777777777777778,
             "#fb9f3a"
            ],
            [
             0.8888888888888888,
             "#fdca26"
            ],
            [
             1,
             "#f0f921"
            ]
           ],
           "sequentialminus": [
            [
             0,
             "#0d0887"
            ],
            [
             0.1111111111111111,
             "#46039f"
            ],
            [
             0.2222222222222222,
             "#7201a8"
            ],
            [
             0.3333333333333333,
             "#9c179e"
            ],
            [
             0.4444444444444444,
             "#bd3786"
            ],
            [
             0.5555555555555556,
             "#d8576b"
            ],
            [
             0.6666666666666666,
             "#ed7953"
            ],
            [
             0.7777777777777778,
             "#fb9f3a"
            ],
            [
             0.8888888888888888,
             "#fdca26"
            ],
            [
             1,
             "#f0f921"
            ]
           ]
          },
          "colorway": [
           "#636efa",
           "#EF553B",
           "#00cc96",
           "#ab63fa",
           "#FFA15A",
           "#19d3f3",
           "#FF6692",
           "#B6E880",
           "#FF97FF",
           "#FECB52"
          ],
          "font": {
           "color": "#2a3f5f"
          },
          "geo": {
           "bgcolor": "white",
           "lakecolor": "white",
           "landcolor": "#E5ECF6",
           "showlakes": true,
           "showland": true,
           "subunitcolor": "white"
          },
          "hoverlabel": {
           "align": "left"
          },
          "hovermode": "closest",
          "mapbox": {
           "style": "light"
          },
          "paper_bgcolor": "white",
          "plot_bgcolor": "#E5ECF6",
          "polar": {
           "angularaxis": {
            "gridcolor": "white",
            "linecolor": "white",
            "ticks": ""
           },
           "bgcolor": "#E5ECF6",
           "radialaxis": {
            "gridcolor": "white",
            "linecolor": "white",
            "ticks": ""
           }
          },
          "scene": {
           "xaxis": {
            "backgroundcolor": "#E5ECF6",
            "gridcolor": "white",
            "gridwidth": 2,
            "linecolor": "white",
            "showbackground": true,
            "ticks": "",
            "zerolinecolor": "white"
           },
           "yaxis": {
            "backgroundcolor": "#E5ECF6",
            "gridcolor": "white",
            "gridwidth": 2,
            "linecolor": "white",
            "showbackground": true,
            "ticks": "",
            "zerolinecolor": "white"
           },
           "zaxis": {
            "backgroundcolor": "#E5ECF6",
            "gridcolor": "white",
            "gridwidth": 2,
            "linecolor": "white",
            "showbackground": true,
            "ticks": "",
            "zerolinecolor": "white"
           }
          },
          "shapedefaults": {
           "line": {
            "color": "#2a3f5f"
           }
          },
          "ternary": {
           "aaxis": {
            "gridcolor": "white",
            "linecolor": "white",
            "ticks": ""
           },
           "baxis": {
            "gridcolor": "white",
            "linecolor": "white",
            "ticks": ""
           },
           "bgcolor": "#E5ECF6",
           "caxis": {
            "gridcolor": "white",
            "linecolor": "white",
            "ticks": ""
           }
          },
          "title": {
           "x": 0.05
          },
          "xaxis": {
           "automargin": true,
           "gridcolor": "white",
           "linecolor": "white",
           "ticks": "",
           "title": {
            "standoff": 15
           },
           "zerolinecolor": "white",
           "zerolinewidth": 2
          },
          "yaxis": {
           "automargin": true,
           "gridcolor": "white",
           "linecolor": "white",
           "ticks": "",
           "title": {
            "standoff": 15
           },
           "zerolinecolor": "white",
           "zerolinewidth": 2
          }
         }
        },
        "title": {
         "text": "Average Monthly Shelter Costs for Owned Dwellings"
        },
        "xaxis": {
         "anchor": "y",
         "domain": [
          0,
          1
         ],
         "title": {
          "text": "year"
         }
        },
        "yaxis": {
         "anchor": "x",
         "domain": [
          0,
          1
         ],
         "title": {
          "text": "shelter_costs_owned"
         }
        }
       }
      }
     },
     "metadata": {},
     "output_type": "display_data"
    },
    {
     "data": {
      "application/vnd.plotly.v1+json": {
       "config": {
        "plotlyServerURL": "https://plot.ly"
       },
       "data": [
        {
         "hovertemplate": "year=%{x}<br>shelter_costs_rented=%{y}<extra></extra>",
         "legendgroup": "",
         "line": {
          "color": "orange",
          "dash": "solid"
         },
         "marker": {
          "symbol": "circle"
         },
         "mode": "lines",
         "name": "",
         "orientation": "v",
         "showlegend": false,
         "type": "scatter",
         "x": [
          2001,
          2006,
          2011,
          2016
         ],
         "xaxis": "x",
         "y": [
          1085.9357142857143,
          925.4142857142857,
          1019.7928571428571,
          1256.3214285714287
         ],
         "yaxis": "y"
        }
       ],
       "layout": {
        "legend": {
         "tracegroupgap": 0
        },
        "margin": {
         "t": 60
        },
        "template": {
         "data": {
          "bar": [
           {
            "error_x": {
             "color": "#2a3f5f"
            },
            "error_y": {
             "color": "#2a3f5f"
            },
            "marker": {
             "line": {
              "color": "#E5ECF6",
              "width": 0.5
             },
             "pattern": {
              "fillmode": "overlay",
              "size": 10,
              "solidity": 0.2
             }
            },
            "type": "bar"
           }
          ],
          "barpolar": [
           {
            "marker": {
             "line": {
              "color": "#E5ECF6",
              "width": 0.5
             },
             "pattern": {
              "fillmode": "overlay",
              "size": 10,
              "solidity": 0.2
             }
            },
            "type": "barpolar"
           }
          ],
          "carpet": [
           {
            "aaxis": {
             "endlinecolor": "#2a3f5f",
             "gridcolor": "white",
             "linecolor": "white",
             "minorgridcolor": "white",
             "startlinecolor": "#2a3f5f"
            },
            "baxis": {
             "endlinecolor": "#2a3f5f",
             "gridcolor": "white",
             "linecolor": "white",
             "minorgridcolor": "white",
             "startlinecolor": "#2a3f5f"
            },
            "type": "carpet"
           }
          ],
          "choropleth": [
           {
            "colorbar": {
             "outlinewidth": 0,
             "ticks": ""
            },
            "type": "choropleth"
           }
          ],
          "contour": [
           {
            "colorbar": {
             "outlinewidth": 0,
             "ticks": ""
            },
            "colorscale": [
             [
              0,
              "#0d0887"
             ],
             [
              0.1111111111111111,
              "#46039f"
             ],
             [
              0.2222222222222222,
              "#7201a8"
             ],
             [
              0.3333333333333333,
              "#9c179e"
             ],
             [
              0.4444444444444444,
              "#bd3786"
             ],
             [
              0.5555555555555556,
              "#d8576b"
             ],
             [
              0.6666666666666666,
              "#ed7953"
             ],
             [
              0.7777777777777778,
              "#fb9f3a"
             ],
             [
              0.8888888888888888,
              "#fdca26"
             ],
             [
              1,
              "#f0f921"
             ]
            ],
            "type": "contour"
           }
          ],
          "contourcarpet": [
           {
            "colorbar": {
             "outlinewidth": 0,
             "ticks": ""
            },
            "type": "contourcarpet"
           }
          ],
          "heatmap": [
           {
            "colorbar": {
             "outlinewidth": 0,
             "ticks": ""
            },
            "colorscale": [
             [
              0,
              "#0d0887"
             ],
             [
              0.1111111111111111,
              "#46039f"
             ],
             [
              0.2222222222222222,
              "#7201a8"
             ],
             [
              0.3333333333333333,
              "#9c179e"
             ],
             [
              0.4444444444444444,
              "#bd3786"
             ],
             [
              0.5555555555555556,
              "#d8576b"
             ],
             [
              0.6666666666666666,
              "#ed7953"
             ],
             [
              0.7777777777777778,
              "#fb9f3a"
             ],
             [
              0.8888888888888888,
              "#fdca26"
             ],
             [
              1,
              "#f0f921"
             ]
            ],
            "type": "heatmap"
           }
          ],
          "heatmapgl": [
           {
            "colorbar": {
             "outlinewidth": 0,
             "ticks": ""
            },
            "colorscale": [
             [
              0,
              "#0d0887"
             ],
             [
              0.1111111111111111,
              "#46039f"
             ],
             [
              0.2222222222222222,
              "#7201a8"
             ],
             [
              0.3333333333333333,
              "#9c179e"
             ],
             [
              0.4444444444444444,
              "#bd3786"
             ],
             [
              0.5555555555555556,
              "#d8576b"
             ],
             [
              0.6666666666666666,
              "#ed7953"
             ],
             [
              0.7777777777777778,
              "#fb9f3a"
             ],
             [
              0.8888888888888888,
              "#fdca26"
             ],
             [
              1,
              "#f0f921"
             ]
            ],
            "type": "heatmapgl"
           }
          ],
          "histogram": [
           {
            "marker": {
             "pattern": {
              "fillmode": "overlay",
              "size": 10,
              "solidity": 0.2
             }
            },
            "type": "histogram"
           }
          ],
          "histogram2d": [
           {
            "colorbar": {
             "outlinewidth": 0,
             "ticks": ""
            },
            "colorscale": [
             [
              0,
              "#0d0887"
             ],
             [
              0.1111111111111111,
              "#46039f"
             ],
             [
              0.2222222222222222,
              "#7201a8"
             ],
             [
              0.3333333333333333,
              "#9c179e"
             ],
             [
              0.4444444444444444,
              "#bd3786"
             ],
             [
              0.5555555555555556,
              "#d8576b"
             ],
             [
              0.6666666666666666,
              "#ed7953"
             ],
             [
              0.7777777777777778,
              "#fb9f3a"
             ],
             [
              0.8888888888888888,
              "#fdca26"
             ],
             [
              1,
              "#f0f921"
             ]
            ],
            "type": "histogram2d"
           }
          ],
          "histogram2dcontour": [
           {
            "colorbar": {
             "outlinewidth": 0,
             "ticks": ""
            },
            "colorscale": [
             [
              0,
              "#0d0887"
             ],
             [
              0.1111111111111111,
              "#46039f"
             ],
             [
              0.2222222222222222,
              "#7201a8"
             ],
             [
              0.3333333333333333,
              "#9c179e"
             ],
             [
              0.4444444444444444,
              "#bd3786"
             ],
             [
              0.5555555555555556,
              "#d8576b"
             ],
             [
              0.6666666666666666,
              "#ed7953"
             ],
             [
              0.7777777777777778,
              "#fb9f3a"
             ],
             [
              0.8888888888888888,
              "#fdca26"
             ],
             [
              1,
              "#f0f921"
             ]
            ],
            "type": "histogram2dcontour"
           }
          ],
          "mesh3d": [
           {
            "colorbar": {
             "outlinewidth": 0,
             "ticks": ""
            },
            "type": "mesh3d"
           }
          ],
          "parcoords": [
           {
            "line": {
             "colorbar": {
              "outlinewidth": 0,
              "ticks": ""
             }
            },
            "type": "parcoords"
           }
          ],
          "pie": [
           {
            "automargin": true,
            "type": "pie"
           }
          ],
          "scatter": [
           {
            "marker": {
             "colorbar": {
              "outlinewidth": 0,
              "ticks": ""
             }
            },
            "type": "scatter"
           }
          ],
          "scatter3d": [
           {
            "line": {
             "colorbar": {
              "outlinewidth": 0,
              "ticks": ""
             }
            },
            "marker": {
             "colorbar": {
              "outlinewidth": 0,
              "ticks": ""
             }
            },
            "type": "scatter3d"
           }
          ],
          "scattercarpet": [
           {
            "marker": {
             "colorbar": {
              "outlinewidth": 0,
              "ticks": ""
             }
            },
            "type": "scattercarpet"
           }
          ],
          "scattergeo": [
           {
            "marker": {
             "colorbar": {
              "outlinewidth": 0,
              "ticks": ""
             }
            },
            "type": "scattergeo"
           }
          ],
          "scattergl": [
           {
            "marker": {
             "colorbar": {
              "outlinewidth": 0,
              "ticks": ""
             }
            },
            "type": "scattergl"
           }
          ],
          "scattermapbox": [
           {
            "marker": {
             "colorbar": {
              "outlinewidth": 0,
              "ticks": ""
             }
            },
            "type": "scattermapbox"
           }
          ],
          "scatterpolar": [
           {
            "marker": {
             "colorbar": {
              "outlinewidth": 0,
              "ticks": ""
             }
            },
            "type": "scatterpolar"
           }
          ],
          "scatterpolargl": [
           {
            "marker": {
             "colorbar": {
              "outlinewidth": 0,
              "ticks": ""
             }
            },
            "type": "scatterpolargl"
           }
          ],
          "scatterternary": [
           {
            "marker": {
             "colorbar": {
              "outlinewidth": 0,
              "ticks": ""
             }
            },
            "type": "scatterternary"
           }
          ],
          "surface": [
           {
            "colorbar": {
             "outlinewidth": 0,
             "ticks": ""
            },
            "colorscale": [
             [
              0,
              "#0d0887"
             ],
             [
              0.1111111111111111,
              "#46039f"
             ],
             [
              0.2222222222222222,
              "#7201a8"
             ],
             [
              0.3333333333333333,
              "#9c179e"
             ],
             [
              0.4444444444444444,
              "#bd3786"
             ],
             [
              0.5555555555555556,
              "#d8576b"
             ],
             [
              0.6666666666666666,
              "#ed7953"
             ],
             [
              0.7777777777777778,
              "#fb9f3a"
             ],
             [
              0.8888888888888888,
              "#fdca26"
             ],
             [
              1,
              "#f0f921"
             ]
            ],
            "type": "surface"
           }
          ],
          "table": [
           {
            "cells": {
             "fill": {
              "color": "#EBF0F8"
             },
             "line": {
              "color": "white"
             }
            },
            "header": {
             "fill": {
              "color": "#C8D4E3"
             },
             "line": {
              "color": "white"
             }
            },
            "type": "table"
           }
          ]
         },
         "layout": {
          "annotationdefaults": {
           "arrowcolor": "#2a3f5f",
           "arrowhead": 0,
           "arrowwidth": 1
          },
          "autotypenumbers": "strict",
          "coloraxis": {
           "colorbar": {
            "outlinewidth": 0,
            "ticks": ""
           }
          },
          "colorscale": {
           "diverging": [
            [
             0,
             "#8e0152"
            ],
            [
             0.1,
             "#c51b7d"
            ],
            [
             0.2,
             "#de77ae"
            ],
            [
             0.3,
             "#f1b6da"
            ],
            [
             0.4,
             "#fde0ef"
            ],
            [
             0.5,
             "#f7f7f7"
            ],
            [
             0.6,
             "#e6f5d0"
            ],
            [
             0.7,
             "#b8e186"
            ],
            [
             0.8,
             "#7fbc41"
            ],
            [
             0.9,
             "#4d9221"
            ],
            [
             1,
             "#276419"
            ]
           ],
           "sequential": [
            [
             0,
             "#0d0887"
            ],
            [
             0.1111111111111111,
             "#46039f"
            ],
            [
             0.2222222222222222,
             "#7201a8"
            ],
            [
             0.3333333333333333,
             "#9c179e"
            ],
            [
             0.4444444444444444,
             "#bd3786"
            ],
            [
             0.5555555555555556,
             "#d8576b"
            ],
            [
             0.6666666666666666,
             "#ed7953"
            ],
            [
             0.7777777777777778,
             "#fb9f3a"
            ],
            [
             0.8888888888888888,
             "#fdca26"
            ],
            [
             1,
             "#f0f921"
            ]
           ],
           "sequentialminus": [
            [
             0,
             "#0d0887"
            ],
            [
             0.1111111111111111,
             "#46039f"
            ],
            [
             0.2222222222222222,
             "#7201a8"
            ],
            [
             0.3333333333333333,
             "#9c179e"
            ],
            [
             0.4444444444444444,
             "#bd3786"
            ],
            [
             0.5555555555555556,
             "#d8576b"
            ],
            [
             0.6666666666666666,
             "#ed7953"
            ],
            [
             0.7777777777777778,
             "#fb9f3a"
            ],
            [
             0.8888888888888888,
             "#fdca26"
            ],
            [
             1,
             "#f0f921"
            ]
           ]
          },
          "colorway": [
           "#636efa",
           "#EF553B",
           "#00cc96",
           "#ab63fa",
           "#FFA15A",
           "#19d3f3",
           "#FF6692",
           "#B6E880",
           "#FF97FF",
           "#FECB52"
          ],
          "font": {
           "color": "#2a3f5f"
          },
          "geo": {
           "bgcolor": "white",
           "lakecolor": "white",
           "landcolor": "#E5ECF6",
           "showlakes": true,
           "showland": true,
           "subunitcolor": "white"
          },
          "hoverlabel": {
           "align": "left"
          },
          "hovermode": "closest",
          "mapbox": {
           "style": "light"
          },
          "paper_bgcolor": "white",
          "plot_bgcolor": "#E5ECF6",
          "polar": {
           "angularaxis": {
            "gridcolor": "white",
            "linecolor": "white",
            "ticks": ""
           },
           "bgcolor": "#E5ECF6",
           "radialaxis": {
            "gridcolor": "white",
            "linecolor": "white",
            "ticks": ""
           }
          },
          "scene": {
           "xaxis": {
            "backgroundcolor": "#E5ECF6",
            "gridcolor": "white",
            "gridwidth": 2,
            "linecolor": "white",
            "showbackground": true,
            "ticks": "",
            "zerolinecolor": "white"
           },
           "yaxis": {
            "backgroundcolor": "#E5ECF6",
            "gridcolor": "white",
            "gridwidth": 2,
            "linecolor": "white",
            "showbackground": true,
            "ticks": "",
            "zerolinecolor": "white"
           },
           "zaxis": {
            "backgroundcolor": "#E5ECF6",
            "gridcolor": "white",
            "gridwidth": 2,
            "linecolor": "white",
            "showbackground": true,
            "ticks": "",
            "zerolinecolor": "white"
           }
          },
          "shapedefaults": {
           "line": {
            "color": "#2a3f5f"
           }
          },
          "ternary": {
           "aaxis": {
            "gridcolor": "white",
            "linecolor": "white",
            "ticks": ""
           },
           "baxis": {
            "gridcolor": "white",
            "linecolor": "white",
            "ticks": ""
           },
           "bgcolor": "#E5ECF6",
           "caxis": {
            "gridcolor": "white",
            "linecolor": "white",
            "ticks": ""
           }
          },
          "title": {
           "x": 0.05
          },
          "xaxis": {
           "automargin": true,
           "gridcolor": "white",
           "linecolor": "white",
           "ticks": "",
           "title": {
            "standoff": 15
           },
           "zerolinecolor": "white",
           "zerolinewidth": 2
          },
          "yaxis": {
           "automargin": true,
           "gridcolor": "white",
           "linecolor": "white",
           "ticks": "",
           "title": {
            "standoff": 15
           },
           "zerolinecolor": "white",
           "zerolinewidth": 2
          }
         }
        },
        "title": {
         "text": "Average Monthly Shelter Costs for Rented Dwellings"
        },
        "xaxis": {
         "anchor": "y",
         "domain": [
          0,
          1
         ],
         "title": {
          "text": "year"
         }
        },
        "yaxis": {
         "anchor": "x",
         "domain": [
          0,
          1
         ],
         "title": {
          "text": "shelter_costs_rented"
         }
        }
       }
      }
     },
     "metadata": {},
     "output_type": "display_data"
    }
   ],
   "source": [
    "# Create two line charts, one to plot the monthly shelter costs for owned dwelleing and other for rented dwellings per year\n",
    "\n",
    "monthly_shelter = to_data.groupby(\"year\").agg({\"shelter_costs_owned\": \"mean\", \"shelter_costs_rented\": \"mean\"}).reset_index()\n",
    "\n",
    "# Line chart for owned dwellings\n",
    "fig = create_line_chart(monthly_shelter, xlabel=\"year\", ylabel=\"shelter_costs_owned\",color='blue', title=\"Average Monthly Shelter Costs for Owned Dwellings\")\n",
    "# YOUR CODE HERE!\n",
    "fig.show()\n",
    "\n",
    "# Line chart for rented dwellings\n",
    "fig = create_line_chart(monthly_shelter, xlabel=\"year\", ylabel=\"shelter_costs_rented\", color='orange',title=\"Average Monthly Shelter Costs for Rented Dwellings\")\n",
    "fig.show()\n",
    "# YOUR CODE HERE!"
   ]
  },
  {
   "cell_type": "markdown",
   "metadata": {},
   "source": [
    "## Average House Value per Year\n",
    "\n",
    "In this section, you want to determine the average house value per year. An investor may want to understand better the sales price of the rental property over time. For example, a customer will want to know if they should expect an increase or decrease in the property value over time so they can determine how long to hold the rental property. You will visualize the `average_house_value` per year as a bar chart."
   ]
  },
  {
   "cell_type": "code",
   "execution_count": 42,
   "metadata": {},
   "outputs": [
    {
     "data": {
      "text/html": [
       "<div>\n",
       "<style scoped>\n",
       "    .dataframe tbody tr th:only-of-type {\n",
       "        vertical-align: middle;\n",
       "    }\n",
       "\n",
       "    .dataframe tbody tr th {\n",
       "        vertical-align: top;\n",
       "    }\n",
       "\n",
       "    .dataframe thead th {\n",
       "        text-align: right;\n",
       "    }\n",
       "</style>\n",
       "<table border=\"1\" class=\"dataframe\">\n",
       "  <thead>\n",
       "    <tr style=\"text-align: right;\">\n",
       "      <th></th>\n",
       "      <th>neighbourhood</th>\n",
       "      <th>single_detached_house</th>\n",
       "      <th>apartment_five_storeys_plus</th>\n",
       "      <th>movable_dwelling</th>\n",
       "      <th>semi_detached_house</th>\n",
       "      <th>row_house</th>\n",
       "      <th>duplex</th>\n",
       "      <th>apartment_five_storeys_less</th>\n",
       "      <th>other_house</th>\n",
       "      <th>average_house_value</th>\n",
       "      <th>shelter_costs_owned</th>\n",
       "      <th>shelter_costs_rented</th>\n",
       "    </tr>\n",
       "    <tr>\n",
       "      <th>year</th>\n",
       "      <th></th>\n",
       "      <th></th>\n",
       "      <th></th>\n",
       "      <th></th>\n",
       "      <th></th>\n",
       "      <th></th>\n",
       "      <th></th>\n",
       "      <th></th>\n",
       "      <th></th>\n",
       "      <th></th>\n",
       "      <th></th>\n",
       "      <th></th>\n",
       "    </tr>\n",
       "  </thead>\n",
       "  <tbody>\n",
       "    <tr>\n",
       "      <th>2001</th>\n",
       "      <td>Agincourt North</td>\n",
       "      <td>3715</td>\n",
       "      <td>1480</td>\n",
       "      <td>0</td>\n",
       "      <td>1055</td>\n",
       "      <td>1295</td>\n",
       "      <td>195</td>\n",
       "      <td>185</td>\n",
       "      <td>5</td>\n",
       "      <td>200388</td>\n",
       "      <td>810</td>\n",
       "      <td>870</td>\n",
       "    </tr>\n",
       "    <tr>\n",
       "      <th>2001</th>\n",
       "      <td>Agincourt South-Malvern West</td>\n",
       "      <td>3250</td>\n",
       "      <td>1835</td>\n",
       "      <td>0</td>\n",
       "      <td>545</td>\n",
       "      <td>455</td>\n",
       "      <td>105</td>\n",
       "      <td>425</td>\n",
       "      <td>0</td>\n",
       "      <td>203047</td>\n",
       "      <td>806</td>\n",
       "      <td>892</td>\n",
       "    </tr>\n",
       "  </tbody>\n",
       "</table>\n",
       "</div>"
      ],
      "text/plain": [
       "                     neighbourhood  single_detached_house  \\\n",
       "year                                                        \n",
       "2001               Agincourt North                   3715   \n",
       "2001  Agincourt South-Malvern West                   3250   \n",
       "\n",
       "      apartment_five_storeys_plus  movable_dwelling  semi_detached_house  \\\n",
       "year                                                                       \n",
       "2001                         1480                 0                 1055   \n",
       "2001                         1835                 0                  545   \n",
       "\n",
       "      row_house  duplex  apartment_five_storeys_less  other_house  \\\n",
       "year                                                                \n",
       "2001       1295     195                          185            5   \n",
       "2001        455     105                          425            0   \n",
       "\n",
       "      average_house_value  shelter_costs_owned  shelter_costs_rented  \n",
       "year                                                                  \n",
       "2001               200388                  810                   870  \n",
       "2001               203047                  806                   892  "
      ]
     },
     "execution_count": 42,
     "metadata": {},
     "output_type": "execute_result"
    }
   ],
   "source": [
    "to_data.head(2)"
   ]
  },
  {
   "cell_type": "code",
   "execution_count": 43,
   "metadata": {},
   "outputs": [
    {
     "data": {
      "text/html": [
       "<div>\n",
       "<style scoped>\n",
       "    .dataframe tbody tr th:only-of-type {\n",
       "        vertical-align: middle;\n",
       "    }\n",
       "\n",
       "    .dataframe tbody tr th {\n",
       "        vertical-align: top;\n",
       "    }\n",
       "\n",
       "    .dataframe thead th {\n",
       "        text-align: right;\n",
       "    }\n",
       "</style>\n",
       "<table border=\"1\" class=\"dataframe\">\n",
       "  <thead>\n",
       "    <tr style=\"text-align: right;\">\n",
       "      <th></th>\n",
       "      <th>average_house_value</th>\n",
       "    </tr>\n",
       "    <tr>\n",
       "      <th>year</th>\n",
       "      <th></th>\n",
       "    </tr>\n",
       "  </thead>\n",
       "  <tbody>\n",
       "    <tr>\n",
       "      <th>2001</th>\n",
       "      <td>289882.885714</td>\n",
       "    </tr>\n",
       "    <tr>\n",
       "      <th>2006</th>\n",
       "      <td>424059.664286</td>\n",
       "    </tr>\n",
       "    <tr>\n",
       "      <th>2011</th>\n",
       "      <td>530424.721429</td>\n",
       "    </tr>\n",
       "    <tr>\n",
       "      <th>2016</th>\n",
       "      <td>664068.328571</td>\n",
       "    </tr>\n",
       "  </tbody>\n",
       "</table>\n",
       "</div>"
      ],
      "text/plain": [
       "      average_house_value\n",
       "year                     \n",
       "2001        289882.885714\n",
       "2006        424059.664286\n",
       "2011        530424.721429\n",
       "2016        664068.328571"
      ]
     },
     "execution_count": 43,
     "metadata": {},
     "output_type": "execute_result"
    }
   ],
   "source": [
    "# Calculate the average house value per year\n",
    "to_data.groupby(\"year\").agg({\"average_house_value\": \"mean\"})\n",
    "\n",
    "# YOUR CODE HERE!"
   ]
  },
  {
   "cell_type": "code",
   "execution_count": 45,
   "metadata": {},
   "outputs": [
    {
     "data": {
      "application/vnd.plotly.v1+json": {
       "config": {
        "plotlyServerURL": "https://plot.ly"
       },
       "data": [
        {
         "hovertemplate": "year=%{x}<br>average_house_value=%{y}<extra></extra>",
         "legendgroup": "",
         "line": {
          "color": "green",
          "dash": "solid"
         },
         "marker": {
          "symbol": "circle"
         },
         "mode": "lines",
         "name": "",
         "orientation": "v",
         "showlegend": false,
         "type": "scatter",
         "x": [
          2001,
          2006,
          2011,
          2016
         ],
         "xaxis": "x",
         "y": [
          289882.8857142857,
          424059.6642857143,
          530424.7214285714,
          664068.3285714285
         ],
         "yaxis": "y"
        }
       ],
       "layout": {
        "legend": {
         "tracegroupgap": 0
        },
        "margin": {
         "t": 60
        },
        "template": {
         "data": {
          "bar": [
           {
            "error_x": {
             "color": "#2a3f5f"
            },
            "error_y": {
             "color": "#2a3f5f"
            },
            "marker": {
             "line": {
              "color": "#E5ECF6",
              "width": 0.5
             },
             "pattern": {
              "fillmode": "overlay",
              "size": 10,
              "solidity": 0.2
             }
            },
            "type": "bar"
           }
          ],
          "barpolar": [
           {
            "marker": {
             "line": {
              "color": "#E5ECF6",
              "width": 0.5
             },
             "pattern": {
              "fillmode": "overlay",
              "size": 10,
              "solidity": 0.2
             }
            },
            "type": "barpolar"
           }
          ],
          "carpet": [
           {
            "aaxis": {
             "endlinecolor": "#2a3f5f",
             "gridcolor": "white",
             "linecolor": "white",
             "minorgridcolor": "white",
             "startlinecolor": "#2a3f5f"
            },
            "baxis": {
             "endlinecolor": "#2a3f5f",
             "gridcolor": "white",
             "linecolor": "white",
             "minorgridcolor": "white",
             "startlinecolor": "#2a3f5f"
            },
            "type": "carpet"
           }
          ],
          "choropleth": [
           {
            "colorbar": {
             "outlinewidth": 0,
             "ticks": ""
            },
            "type": "choropleth"
           }
          ],
          "contour": [
           {
            "colorbar": {
             "outlinewidth": 0,
             "ticks": ""
            },
            "colorscale": [
             [
              0,
              "#0d0887"
             ],
             [
              0.1111111111111111,
              "#46039f"
             ],
             [
              0.2222222222222222,
              "#7201a8"
             ],
             [
              0.3333333333333333,
              "#9c179e"
             ],
             [
              0.4444444444444444,
              "#bd3786"
             ],
             [
              0.5555555555555556,
              "#d8576b"
             ],
             [
              0.6666666666666666,
              "#ed7953"
             ],
             [
              0.7777777777777778,
              "#fb9f3a"
             ],
             [
              0.8888888888888888,
              "#fdca26"
             ],
             [
              1,
              "#f0f921"
             ]
            ],
            "type": "contour"
           }
          ],
          "contourcarpet": [
           {
            "colorbar": {
             "outlinewidth": 0,
             "ticks": ""
            },
            "type": "contourcarpet"
           }
          ],
          "heatmap": [
           {
            "colorbar": {
             "outlinewidth": 0,
             "ticks": ""
            },
            "colorscale": [
             [
              0,
              "#0d0887"
             ],
             [
              0.1111111111111111,
              "#46039f"
             ],
             [
              0.2222222222222222,
              "#7201a8"
             ],
             [
              0.3333333333333333,
              "#9c179e"
             ],
             [
              0.4444444444444444,
              "#bd3786"
             ],
             [
              0.5555555555555556,
              "#d8576b"
             ],
             [
              0.6666666666666666,
              "#ed7953"
             ],
             [
              0.7777777777777778,
              "#fb9f3a"
             ],
             [
              0.8888888888888888,
              "#fdca26"
             ],
             [
              1,
              "#f0f921"
             ]
            ],
            "type": "heatmap"
           }
          ],
          "heatmapgl": [
           {
            "colorbar": {
             "outlinewidth": 0,
             "ticks": ""
            },
            "colorscale": [
             [
              0,
              "#0d0887"
             ],
             [
              0.1111111111111111,
              "#46039f"
             ],
             [
              0.2222222222222222,
              "#7201a8"
             ],
             [
              0.3333333333333333,
              "#9c179e"
             ],
             [
              0.4444444444444444,
              "#bd3786"
             ],
             [
              0.5555555555555556,
              "#d8576b"
             ],
             [
              0.6666666666666666,
              "#ed7953"
             ],
             [
              0.7777777777777778,
              "#fb9f3a"
             ],
             [
              0.8888888888888888,
              "#fdca26"
             ],
             [
              1,
              "#f0f921"
             ]
            ],
            "type": "heatmapgl"
           }
          ],
          "histogram": [
           {
            "marker": {
             "pattern": {
              "fillmode": "overlay",
              "size": 10,
              "solidity": 0.2
             }
            },
            "type": "histogram"
           }
          ],
          "histogram2d": [
           {
            "colorbar": {
             "outlinewidth": 0,
             "ticks": ""
            },
            "colorscale": [
             [
              0,
              "#0d0887"
             ],
             [
              0.1111111111111111,
              "#46039f"
             ],
             [
              0.2222222222222222,
              "#7201a8"
             ],
             [
              0.3333333333333333,
              "#9c179e"
             ],
             [
              0.4444444444444444,
              "#bd3786"
             ],
             [
              0.5555555555555556,
              "#d8576b"
             ],
             [
              0.6666666666666666,
              "#ed7953"
             ],
             [
              0.7777777777777778,
              "#fb9f3a"
             ],
             [
              0.8888888888888888,
              "#fdca26"
             ],
             [
              1,
              "#f0f921"
             ]
            ],
            "type": "histogram2d"
           }
          ],
          "histogram2dcontour": [
           {
            "colorbar": {
             "outlinewidth": 0,
             "ticks": ""
            },
            "colorscale": [
             [
              0,
              "#0d0887"
             ],
             [
              0.1111111111111111,
              "#46039f"
             ],
             [
              0.2222222222222222,
              "#7201a8"
             ],
             [
              0.3333333333333333,
              "#9c179e"
             ],
             [
              0.4444444444444444,
              "#bd3786"
             ],
             [
              0.5555555555555556,
              "#d8576b"
             ],
             [
              0.6666666666666666,
              "#ed7953"
             ],
             [
              0.7777777777777778,
              "#fb9f3a"
             ],
             [
              0.8888888888888888,
              "#fdca26"
             ],
             [
              1,
              "#f0f921"
             ]
            ],
            "type": "histogram2dcontour"
           }
          ],
          "mesh3d": [
           {
            "colorbar": {
             "outlinewidth": 0,
             "ticks": ""
            },
            "type": "mesh3d"
           }
          ],
          "parcoords": [
           {
            "line": {
             "colorbar": {
              "outlinewidth": 0,
              "ticks": ""
             }
            },
            "type": "parcoords"
           }
          ],
          "pie": [
           {
            "automargin": true,
            "type": "pie"
           }
          ],
          "scatter": [
           {
            "marker": {
             "colorbar": {
              "outlinewidth": 0,
              "ticks": ""
             }
            },
            "type": "scatter"
           }
          ],
          "scatter3d": [
           {
            "line": {
             "colorbar": {
              "outlinewidth": 0,
              "ticks": ""
             }
            },
            "marker": {
             "colorbar": {
              "outlinewidth": 0,
              "ticks": ""
             }
            },
            "type": "scatter3d"
           }
          ],
          "scattercarpet": [
           {
            "marker": {
             "colorbar": {
              "outlinewidth": 0,
              "ticks": ""
             }
            },
            "type": "scattercarpet"
           }
          ],
          "scattergeo": [
           {
            "marker": {
             "colorbar": {
              "outlinewidth": 0,
              "ticks": ""
             }
            },
            "type": "scattergeo"
           }
          ],
          "scattergl": [
           {
            "marker": {
             "colorbar": {
              "outlinewidth": 0,
              "ticks": ""
             }
            },
            "type": "scattergl"
           }
          ],
          "scattermapbox": [
           {
            "marker": {
             "colorbar": {
              "outlinewidth": 0,
              "ticks": ""
             }
            },
            "type": "scattermapbox"
           }
          ],
          "scatterpolar": [
           {
            "marker": {
             "colorbar": {
              "outlinewidth": 0,
              "ticks": ""
             }
            },
            "type": "scatterpolar"
           }
          ],
          "scatterpolargl": [
           {
            "marker": {
             "colorbar": {
              "outlinewidth": 0,
              "ticks": ""
             }
            },
            "type": "scatterpolargl"
           }
          ],
          "scatterternary": [
           {
            "marker": {
             "colorbar": {
              "outlinewidth": 0,
              "ticks": ""
             }
            },
            "type": "scatterternary"
           }
          ],
          "surface": [
           {
            "colorbar": {
             "outlinewidth": 0,
             "ticks": ""
            },
            "colorscale": [
             [
              0,
              "#0d0887"
             ],
             [
              0.1111111111111111,
              "#46039f"
             ],
             [
              0.2222222222222222,
              "#7201a8"
             ],
             [
              0.3333333333333333,
              "#9c179e"
             ],
             [
              0.4444444444444444,
              "#bd3786"
             ],
             [
              0.5555555555555556,
              "#d8576b"
             ],
             [
              0.6666666666666666,
              "#ed7953"
             ],
             [
              0.7777777777777778,
              "#fb9f3a"
             ],
             [
              0.8888888888888888,
              "#fdca26"
             ],
             [
              1,
              "#f0f921"
             ]
            ],
            "type": "surface"
           }
          ],
          "table": [
           {
            "cells": {
             "fill": {
              "color": "#EBF0F8"
             },
             "line": {
              "color": "white"
             }
            },
            "header": {
             "fill": {
              "color": "#C8D4E3"
             },
             "line": {
              "color": "white"
             }
            },
            "type": "table"
           }
          ]
         },
         "layout": {
          "annotationdefaults": {
           "arrowcolor": "#2a3f5f",
           "arrowhead": 0,
           "arrowwidth": 1
          },
          "autotypenumbers": "strict",
          "coloraxis": {
           "colorbar": {
            "outlinewidth": 0,
            "ticks": ""
           }
          },
          "colorscale": {
           "diverging": [
            [
             0,
             "#8e0152"
            ],
            [
             0.1,
             "#c51b7d"
            ],
            [
             0.2,
             "#de77ae"
            ],
            [
             0.3,
             "#f1b6da"
            ],
            [
             0.4,
             "#fde0ef"
            ],
            [
             0.5,
             "#f7f7f7"
            ],
            [
             0.6,
             "#e6f5d0"
            ],
            [
             0.7,
             "#b8e186"
            ],
            [
             0.8,
             "#7fbc41"
            ],
            [
             0.9,
             "#4d9221"
            ],
            [
             1,
             "#276419"
            ]
           ],
           "sequential": [
            [
             0,
             "#0d0887"
            ],
            [
             0.1111111111111111,
             "#46039f"
            ],
            [
             0.2222222222222222,
             "#7201a8"
            ],
            [
             0.3333333333333333,
             "#9c179e"
            ],
            [
             0.4444444444444444,
             "#bd3786"
            ],
            [
             0.5555555555555556,
             "#d8576b"
            ],
            [
             0.6666666666666666,
             "#ed7953"
            ],
            [
             0.7777777777777778,
             "#fb9f3a"
            ],
            [
             0.8888888888888888,
             "#fdca26"
            ],
            [
             1,
             "#f0f921"
            ]
           ],
           "sequentialminus": [
            [
             0,
             "#0d0887"
            ],
            [
             0.1111111111111111,
             "#46039f"
            ],
            [
             0.2222222222222222,
             "#7201a8"
            ],
            [
             0.3333333333333333,
             "#9c179e"
            ],
            [
             0.4444444444444444,
             "#bd3786"
            ],
            [
             0.5555555555555556,
             "#d8576b"
            ],
            [
             0.6666666666666666,
             "#ed7953"
            ],
            [
             0.7777777777777778,
             "#fb9f3a"
            ],
            [
             0.8888888888888888,
             "#fdca26"
            ],
            [
             1,
             "#f0f921"
            ]
           ]
          },
          "colorway": [
           "#636efa",
           "#EF553B",
           "#00cc96",
           "#ab63fa",
           "#FFA15A",
           "#19d3f3",
           "#FF6692",
           "#B6E880",
           "#FF97FF",
           "#FECB52"
          ],
          "font": {
           "color": "#2a3f5f"
          },
          "geo": {
           "bgcolor": "white",
           "lakecolor": "white",
           "landcolor": "#E5ECF6",
           "showlakes": true,
           "showland": true,
           "subunitcolor": "white"
          },
          "hoverlabel": {
           "align": "left"
          },
          "hovermode": "closest",
          "mapbox": {
           "style": "light"
          },
          "paper_bgcolor": "white",
          "plot_bgcolor": "#E5ECF6",
          "polar": {
           "angularaxis": {
            "gridcolor": "white",
            "linecolor": "white",
            "ticks": ""
           },
           "bgcolor": "#E5ECF6",
           "radialaxis": {
            "gridcolor": "white",
            "linecolor": "white",
            "ticks": ""
           }
          },
          "scene": {
           "xaxis": {
            "backgroundcolor": "#E5ECF6",
            "gridcolor": "white",
            "gridwidth": 2,
            "linecolor": "white",
            "showbackground": true,
            "ticks": "",
            "zerolinecolor": "white"
           },
           "yaxis": {
            "backgroundcolor": "#E5ECF6",
            "gridcolor": "white",
            "gridwidth": 2,
            "linecolor": "white",
            "showbackground": true,
            "ticks": "",
            "zerolinecolor": "white"
           },
           "zaxis": {
            "backgroundcolor": "#E5ECF6",
            "gridcolor": "white",
            "gridwidth": 2,
            "linecolor": "white",
            "showbackground": true,
            "ticks": "",
            "zerolinecolor": "white"
           }
          },
          "shapedefaults": {
           "line": {
            "color": "#2a3f5f"
           }
          },
          "ternary": {
           "aaxis": {
            "gridcolor": "white",
            "linecolor": "white",
            "ticks": ""
           },
           "baxis": {
            "gridcolor": "white",
            "linecolor": "white",
            "ticks": ""
           },
           "bgcolor": "#E5ECF6",
           "caxis": {
            "gridcolor": "white",
            "linecolor": "white",
            "ticks": ""
           }
          },
          "title": {
           "x": 0.05
          },
          "xaxis": {
           "automargin": true,
           "gridcolor": "white",
           "linecolor": "white",
           "ticks": "",
           "title": {
            "standoff": 15
           },
           "zerolinecolor": "white",
           "zerolinewidth": 2
          },
          "yaxis": {
           "automargin": true,
           "gridcolor": "white",
           "linecolor": "white",
           "ticks": "",
           "title": {
            "standoff": 15
           },
           "zerolinecolor": "white",
           "zerolinewidth": 2
          }
         }
        },
        "title": {
         "text": "Average House Value in Toronto "
        },
        "xaxis": {
         "anchor": "y",
         "domain": [
          0,
          1
         ],
         "title": {
          "text": "year"
         }
        },
        "yaxis": {
         "anchor": "x",
         "domain": [
          0,
          1
         ],
         "title": {
          "text": "average_house_value"
         }
        }
       }
      }
     },
     "metadata": {},
     "output_type": "display_data"
    }
   ],
   "source": [
    "# Plot the average house value per year as a line chart\n",
    "op = to_data.groupby(\"year\").agg({\"average_house_value\": \"mean\"}).reset_index()\n",
    "fig = create_line_chart(op, xlabel=\"year\", ylabel=\"average_house_value\", color='green', title=\"Average House Value in Toronto \")\n",
    "fig.show()\n",
    "\n",
    "# YOUR CODE HERE!"
   ]
  },
  {
   "cell_type": "markdown",
   "metadata": {},
   "source": [
    "- - - "
   ]
  },
  {
   "cell_type": "markdown",
   "metadata": {},
   "source": [
    "## Average House Value by Neighbourhood\n",
    "\n",
    "In this section, you will use `hvplot` to create an interactive visualization of the average house value with a dropdown selector for the neighbourhood.\n",
    "\n",
    "**Hint:** It will be easier to create a new DataFrame from grouping the data and calculating the mean house values for each year and neighbourhood."
   ]
  },
  {
   "cell_type": "code",
   "execution_count": 46,
   "metadata": {},
   "outputs": [
    {
     "data": {
      "text/html": [
       "<div>\n",
       "<style scoped>\n",
       "    .dataframe tbody tr th:only-of-type {\n",
       "        vertical-align: middle;\n",
       "    }\n",
       "\n",
       "    .dataframe tbody tr th {\n",
       "        vertical-align: top;\n",
       "    }\n",
       "\n",
       "    .dataframe thead th {\n",
       "        text-align: right;\n",
       "    }\n",
       "</style>\n",
       "<table border=\"1\" class=\"dataframe\">\n",
       "  <thead>\n",
       "    <tr style=\"text-align: right;\">\n",
       "      <th></th>\n",
       "      <th>year</th>\n",
       "      <th>neighbourhood</th>\n",
       "      <th>average_house_value</th>\n",
       "    </tr>\n",
       "  </thead>\n",
       "  <tbody>\n",
       "    <tr>\n",
       "      <th>0</th>\n",
       "      <td>2001</td>\n",
       "      <td>Agincourt North</td>\n",
       "      <td>200388.0</td>\n",
       "    </tr>\n",
       "    <tr>\n",
       "      <th>1</th>\n",
       "      <td>2001</td>\n",
       "      <td>Agincourt South-Malvern West</td>\n",
       "      <td>203047.0</td>\n",
       "    </tr>\n",
       "    <tr>\n",
       "      <th>2</th>\n",
       "      <td>2001</td>\n",
       "      <td>Alderwood</td>\n",
       "      <td>259998.0</td>\n",
       "    </tr>\n",
       "    <tr>\n",
       "      <th>3</th>\n",
       "      <td>2001</td>\n",
       "      <td>Annex</td>\n",
       "      <td>453850.0</td>\n",
       "    </tr>\n",
       "    <tr>\n",
       "      <th>4</th>\n",
       "      <td>2001</td>\n",
       "      <td>Banbury-Don Mills</td>\n",
       "      <td>371864.0</td>\n",
       "    </tr>\n",
       "    <tr>\n",
       "      <th>...</th>\n",
       "      <td>...</td>\n",
       "      <td>...</td>\n",
       "      <td>...</td>\n",
       "    </tr>\n",
       "    <tr>\n",
       "      <th>555</th>\n",
       "      <td>2016</td>\n",
       "      <td>Wychwood</td>\n",
       "      <td>787760.0</td>\n",
       "    </tr>\n",
       "    <tr>\n",
       "      <th>556</th>\n",
       "      <td>2016</td>\n",
       "      <td>Yonge-Eglinton</td>\n",
       "      <td>1127052.0</td>\n",
       "    </tr>\n",
       "    <tr>\n",
       "      <th>557</th>\n",
       "      <td>2016</td>\n",
       "      <td>Yonge-St.Clair</td>\n",
       "      <td>1131888.0</td>\n",
       "    </tr>\n",
       "    <tr>\n",
       "      <th>558</th>\n",
       "      <td>2016</td>\n",
       "      <td>York University Heights</td>\n",
       "      <td>425769.0</td>\n",
       "    </tr>\n",
       "    <tr>\n",
       "      <th>559</th>\n",
       "      <td>2016</td>\n",
       "      <td>Yorkdale-Glen Park</td>\n",
       "      <td>599698.0</td>\n",
       "    </tr>\n",
       "  </tbody>\n",
       "</table>\n",
       "<p>560 rows × 3 columns</p>\n",
       "</div>"
      ],
      "text/plain": [
       "     year                 neighbourhood  average_house_value\n",
       "0    2001               Agincourt North             200388.0\n",
       "1    2001  Agincourt South-Malvern West             203047.0\n",
       "2    2001                     Alderwood             259998.0\n",
       "3    2001                         Annex             453850.0\n",
       "4    2001             Banbury-Don Mills             371864.0\n",
       "..    ...                           ...                  ...\n",
       "555  2016                      Wychwood             787760.0\n",
       "556  2016                Yonge-Eglinton            1127052.0\n",
       "557  2016                Yonge-St.Clair            1131888.0\n",
       "558  2016       York University Heights             425769.0\n",
       "559  2016            Yorkdale-Glen Park             599698.0\n",
       "\n",
       "[560 rows x 3 columns]"
      ]
     },
     "execution_count": 46,
     "metadata": {},
     "output_type": "execute_result"
    }
   ],
   "source": [
    "# Create a new DataFrame with the mean house values by neighbourhood per year\n",
    "to_data.groupby([\"year\", \"neighbourhood\"]).agg({\"average_house_value\": \"mean\"}).reset_index()\n",
    "# YOUR CODE HERE!"
   ]
  },
  {
   "cell_type": "code",
   "execution_count": 50,
   "metadata": {},
   "outputs": [
    {
     "data": {
      "text/html": [
       "<div>\n",
       "<style scoped>\n",
       "    .dataframe tbody tr th:only-of-type {\n",
       "        vertical-align: middle;\n",
       "    }\n",
       "\n",
       "    .dataframe tbody tr th {\n",
       "        vertical-align: top;\n",
       "    }\n",
       "\n",
       "    .dataframe thead th {\n",
       "        text-align: right;\n",
       "    }\n",
       "</style>\n",
       "<table border=\"1\" class=\"dataframe\">\n",
       "  <thead>\n",
       "    <tr style=\"text-align: right;\">\n",
       "      <th></th>\n",
       "      <th>year</th>\n",
       "      <th>neighbourhood</th>\n",
       "      <th>average_house_value</th>\n",
       "    </tr>\n",
       "  </thead>\n",
       "  <tbody>\n",
       "    <tr>\n",
       "      <th>0</th>\n",
       "      <td>2001</td>\n",
       "      <td>Agincourt North</td>\n",
       "      <td>200388.0</td>\n",
       "    </tr>\n",
       "    <tr>\n",
       "      <th>1</th>\n",
       "      <td>2001</td>\n",
       "      <td>Agincourt South-Malvern West</td>\n",
       "      <td>203047.0</td>\n",
       "    </tr>\n",
       "    <tr>\n",
       "      <th>2</th>\n",
       "      <td>2001</td>\n",
       "      <td>Alderwood</td>\n",
       "      <td>259998.0</td>\n",
       "    </tr>\n",
       "    <tr>\n",
       "      <th>3</th>\n",
       "      <td>2001</td>\n",
       "      <td>Annex</td>\n",
       "      <td>453850.0</td>\n",
       "    </tr>\n",
       "    <tr>\n",
       "      <th>4</th>\n",
       "      <td>2001</td>\n",
       "      <td>Banbury-Don Mills</td>\n",
       "      <td>371864.0</td>\n",
       "    </tr>\n",
       "    <tr>\n",
       "      <th>...</th>\n",
       "      <td>...</td>\n",
       "      <td>...</td>\n",
       "      <td>...</td>\n",
       "    </tr>\n",
       "    <tr>\n",
       "      <th>555</th>\n",
       "      <td>2016</td>\n",
       "      <td>Wychwood</td>\n",
       "      <td>787760.0</td>\n",
       "    </tr>\n",
       "    <tr>\n",
       "      <th>556</th>\n",
       "      <td>2016</td>\n",
       "      <td>Yonge-Eglinton</td>\n",
       "      <td>1127052.0</td>\n",
       "    </tr>\n",
       "    <tr>\n",
       "      <th>557</th>\n",
       "      <td>2016</td>\n",
       "      <td>Yonge-St.Clair</td>\n",
       "      <td>1131888.0</td>\n",
       "    </tr>\n",
       "    <tr>\n",
       "      <th>558</th>\n",
       "      <td>2016</td>\n",
       "      <td>York University Heights</td>\n",
       "      <td>425769.0</td>\n",
       "    </tr>\n",
       "    <tr>\n",
       "      <th>559</th>\n",
       "      <td>2016</td>\n",
       "      <td>Yorkdale-Glen Park</td>\n",
       "      <td>599698.0</td>\n",
       "    </tr>\n",
       "  </tbody>\n",
       "</table>\n",
       "<p>560 rows × 3 columns</p>\n",
       "</div>"
      ],
      "text/plain": [
       "     year                 neighbourhood  average_house_value\n",
       "0    2001               Agincourt North             200388.0\n",
       "1    2001  Agincourt South-Malvern West             203047.0\n",
       "2    2001                     Alderwood             259998.0\n",
       "3    2001                         Annex             453850.0\n",
       "4    2001             Banbury-Don Mills             371864.0\n",
       "..    ...                           ...                  ...\n",
       "555  2016                      Wychwood             787760.0\n",
       "556  2016                Yonge-Eglinton            1127052.0\n",
       "557  2016                Yonge-St.Clair            1131888.0\n",
       "558  2016       York University Heights             425769.0\n",
       "559  2016            Yorkdale-Glen Park             599698.0\n",
       "\n",
       "[560 rows x 3 columns]"
      ]
     },
     "execution_count": 50,
     "metadata": {},
     "output_type": "execute_result"
    }
   ],
   "source": [
    "to_data.groupby([\"year\", \"neighbourhood\"]).agg({\"average_house_value\": \"mean\"}).reset_index()"
   ]
  },
  {
   "cell_type": "code",
   "execution_count": 53,
   "metadata": {},
   "outputs": [
    {
     "data": {},
     "metadata": {},
     "output_type": "display_data"
    },
    {
     "data": {
      "application/vnd.holoviews_exec.v0+json": "",
      "text/html": [
       "<div id='1002'>\n",
       "\n",
       "\n",
       "\n",
       "\n",
       "\n",
       "  <div class=\"bk-root\" id=\"9f253332-4466-4f92-b8c8-4f9035dd1bca\" data-root-id=\"1002\"></div>\n",
       "</div>\n",
       "<script type=\"application/javascript\">(function(root) {\n",
       "  function embed_document(root) {\n",
       "    var docs_json = {\"59d8d70b-0da4-434e-ae35-32f0141295b6\":{\"defs\":[{\"extends\":null,\"module\":null,\"name\":\"ReactiveHTML1\",\"overrides\":[],\"properties\":[]},{\"extends\":null,\"module\":null,\"name\":\"FlexBox1\",\"overrides\":[],\"properties\":[{\"default\":\"flex-start\",\"kind\":null,\"name\":\"align_content\"},{\"default\":\"flex-start\",\"kind\":null,\"name\":\"align_items\"},{\"default\":\"row\",\"kind\":null,\"name\":\"flex_direction\"},{\"default\":\"wrap\",\"kind\":null,\"name\":\"flex_wrap\"},{\"default\":\"flex-start\",\"kind\":null,\"name\":\"justify_content\"}]},{\"extends\":null,\"module\":null,\"name\":\"TemplateActions1\",\"overrides\":[],\"properties\":[{\"default\":0,\"kind\":null,\"name\":\"open_modal\"},{\"default\":0,\"kind\":null,\"name\":\"close_modal\"}]},{\"extends\":null,\"module\":null,\"name\":\"MaterialTemplateActions1\",\"overrides\":[],\"properties\":[{\"default\":0,\"kind\":null,\"name\":\"open_modal\"},{\"default\":0,\"kind\":null,\"name\":\"close_modal\"}]}],\"roots\":{\"references\":[{\"attributes\":{},\"id\":\"1028\",\"type\":\"ResetTool\"},{\"attributes\":{\"axis_label\":\"year\",\"coordinates\":null,\"formatter\":{\"id\":\"1053\"},\"group\":null,\"major_label_policy\":{\"id\":\"1054\"},\"ticker\":{\"id\":\"1017\"}},\"id\":\"1016\",\"type\":\"LinearAxis\"},{\"attributes\":{},\"id\":\"1050\",\"type\":\"BasicTickFormatter\"},{\"attributes\":{},\"id\":\"1026\",\"type\":\"WheelZoomTool\"},{\"attributes\":{},\"id\":\"1051\",\"type\":\"AllLabels\"},{\"attributes\":{\"overlay\":{\"id\":\"1029\"}},\"id\":\"1027\",\"type\":\"BoxZoomTool\"},{\"attributes\":{},\"id\":\"1039\",\"type\":\"Selection\"},{\"attributes\":{\"data\":{\"average_house_value\":{\"__ndarray__\":\"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\",\"dtype\":\"float64\",\"order\":\"little\",\"shape\":[560]},\"color\":[\"Agincourt North\",\"Agincourt South-Malvern West\",\"Alderwood\",\"Annex\",\"Banbury-Don Mills\",\"Bathurst Manor\",\"Bay Street Corridor\",\"Bayview Village\",\"Bayview Woods-Steeles\",\"Bedford Park-Nortown\",\"Beechborough-Greenbrook\",\"Bendale\",\"Birchcliffe-Cliffside\",\"Black Creek\",\"Blake-Jones\",\"Briar Hill-Belgravia\",\"Bridle Path-Sunnybrook-York Mills\",\"Broadview North\",\"Brookhaven-Amesbury\",\"Cabbagetown-South St.James Town\",\"Caledonia-Fairbank\",\"Casa Loma\",\"Centennial Scarborough\",\"Church-Yonge Corridor\",\"Clairlea-Birchmount\",\"Clanton Park\",\"Cliffcrest\",\"Corso Italia-Davenport\",\"Danforth\",\"Danforth-East York\",\"Don Valley Village\",\"Dorset Park\",\"Dovercourt-Wallace Emerson-Juncti\",\"Downsview-Roding-CFB\",\"Dufferin Grove\",\"East End-Danforth\",\"Edenbridge-Humber Valley\",\"Eglinton East\",\"Elms-Old Rexdale\",\"Englemount-Lawrence\",\"Eringate-Centennial-West Deane\",\"Etobicoke West Mall\",\"Flemingdon Park\",\"Forest Hill North\",\"Forest Hill South\",\"Glenfield-Jane Heights\",\"Greenwood-Coxwell\",\"Guildwood\",\"Henry Farm\",\"High Park North\",\"High Park-Swansea\",\"Highland Creek\",\"Hillcrest Village\",\"Humber Heights-Westmount\",\"Humber Summit\",\"Humbermede\",\"Humewood-Cedarvale\",\"Ionview\",\"Islington-City Centre West\",\"Junction Area\",\"Keelesdale-Eglinton West\",\"Kennedy Park\",\"Kensington-Chinatown\",\"Kingsview Village-The Westway\",\"Kingsway South\",\"L'Amoreaux\",\"Lambton Baby Point\",\"Lansing-Westgate\",\"Lawrence Park North\",\"Lawrence Park South\",\"Leaside-Bennington\",\"Little Portugal\",\"Long Branch\",\"Malvern\",\"Maple Leaf\",\"Markland Wood\",\"Milliken\",\"Mimico\",\"Morningside\",\"Moss Park\",\"Mount Dennis\",\"Mount Olive-Silverstone-Jamestown\",\"Mount Pleasant East\",\"Mount Pleasant West\",\"New Toronto\",\"Newtonbrook East\",\"Newtonbrook West\",\"Niagara\",\"North Riverdale\",\"North St.James Town\",\"O'Connor-Parkview\",\"Oakridge\",\"Oakwood Village\",\"Old East York\",\"Palmerston-Little Italy\",\"Parkwoods-Donalda\",\"Pelmo Park-Humberlea\",\"Playter Estates-Danforth\",\"Pleasant View\",\"Princess-Rosethorn\",\"Regent Park\",\"Rexdale-Kipling\",\"Rockcliffe-Smythe\",\"Roncesvalles\",\"Rosedale-Moore Park\",\"Rouge\",\"Runnymede-Bloor West Village\",\"Rustic\",\"Scarborough Village\",\"South Parkdale\",\"South Riverdale\",\"St.Andrew-Windfields\",\"Steeles\",\"Stonegate-Queensway\",\"Tam O'Shanter-Sullivan\",\"Taylor-Massey\",\"The Beaches\",\"Thistletown-Beaumond Heights\",\"Thorncliffe Park\",\"Trinity-Bellwoods\",\"University\",\"Victoria Village\",\"Waterfront Communities-The Island\",\"West Hill\",\"West Humber-Clairville\",\"Westminster-Branson\",\"Weston\",\"Weston-Pellam Park\",\"Wexford/Maryvale\",\"Willowdale East\",\"Willowdale West\",\"Willowridge-Martingrove-Richview\",\"Woburn\",\"Woodbine Corridor\",\"Woodbine-Lumsden\",\"Wychwood\",\"Yonge-Eglinton\",\"Yonge-St.Clair\",\"York University Heights\",\"Yorkdale-Glen Park\",\"Agincourt North\",\"Agincourt South-Malvern West\",\"Alderwood\",\"Annex\",\"Banbury-Don Mills\",\"Bathurst Manor\",\"Bay Street Corridor\",\"Bayview Village\",\"Bayview Woods-Steeles\",\"Bedford Park-Nortown\",\"Beechborough-Greenbrook\",\"Bendale\",\"Birchcliffe-Cliffside\",\"Black Creek\",\"Blake-Jones\",\"Briar Hill-Belgravia\",\"Bridle Path-Sunnybrook-York Mills\",\"Broadview North\",\"Brookhaven-Amesbury\",\"Cabbagetown-South St.James Town\",\"Caledonia-Fairbank\",\"Casa Loma\",\"Centennial Scarborough\",\"Church-Yonge Corridor\",\"Clairlea-Birchmount\",\"Clanton Park\",\"Cliffcrest\",\"Corso Italia-Davenport\",\"Danforth\",\"Danforth-East York\",\"Don Valley Village\",\"Dorset Park\",\"Dovercourt-Wallace Emerson-Juncti\",\"Downsview-Roding-CFB\",\"Dufferin Grove\",\"East End-Danforth\",\"Edenbridge-Humber Valley\",\"Eglinton East\",\"Elms-Old Rexdale\",\"Englemount-Lawrence\",\"Eringate-Centennial-West Deane\",\"Etobicoke West Mall\",\"Flemingdon Park\",\"Forest Hill North\",\"Forest Hill South\",\"Glenfield-Jane Heights\",\"Greenwood-Coxwell\",\"Guildwood\",\"Henry Farm\",\"High Park North\",\"High Park-Swansea\",\"Highland Creek\",\"Hillcrest Village\",\"Humber Heights-Westmount\",\"Humber Summit\",\"Humbermede\",\"Humewood-Cedarvale\",\"Ionview\",\"Islington-City Centre West\",\"Junction Area\",\"Keelesdale-Eglinton West\",\"Kennedy Park\",\"Kensington-Chinatown\",\"Kingsview Village-The Westway\",\"Kingsway South\",\"L'Amoreaux\",\"Lambton Baby Point\",\"Lansing-Westgate\",\"Lawrence Park North\",\"Lawrence Park South\",\"Leaside-Bennington\",\"Little Portugal\",\"Long Branch\",\"Malvern\",\"Maple Leaf\",\"Markland Wood\",\"Milliken\",\"Mimico\",\"Morningside\",\"Moss Park\",\"Mount Dennis\",\"Mount Olive-Silverstone-Jamestown\",\"Mount Pleasant East\",\"Mount Pleasant West\",\"New Toronto\",\"Newtonbrook East\",\"Newtonbrook West\",\"Niagara\",\"North Riverdale\",\"North St.James Town\",\"O'Connor-Parkview\",\"Oakridge\",\"Oakwood Village\",\"Old East York\",\"Palmerston-Little Italy\",\"Parkwoods-Donalda\",\"Pelmo Park-Humberlea\",\"Playter Estates-Danforth\",\"Pleasant View\",\"Princess-Rosethorn\",\"Regent Park\",\"Rexdale-Kipling\",\"Rockcliffe-Smythe\",\"Roncesvalles\",\"Rosedale-Moore Park\",\"Rouge\",\"Runnymede-Bloor West Village\",\"Rustic\",\"Scarborough Village\",\"South Parkdale\",\"South Riverdale\",\"St.Andrew-Windfields\",\"Steeles\",\"Stonegate-Queensway\",\"Tam O'Shanter-Sullivan\",\"Taylor-Massey\",\"The Beaches\",\"Thistletown-Beaumond Heights\",\"Thorncliffe Park\",\"Trinity-Bellwoods\",\"University\",\"Victoria Village\",\"Waterfront Communities-The Island\",\"West Hill\",\"West Humber-Clairville\",\"Westminster-Branson\",\"Weston\",\"Weston-Pellam Park\",\"Wexford/Maryvale\",\"Willowdale East\",\"Willowdale West\",\"Willowridge-Martingrove-Richview\",\"Woburn\",\"Woodbine Corridor\",\"Woodbine-Lumsden\",\"Wychwood\",\"Yonge-Eglinton\",\"Yonge-St.Clair\",\"York University Heights\",\"Yorkdale-Glen Park\",\"Agincourt North\",\"Agincourt South-Malvern West\",\"Alderwood\",\"Annex\",\"Banbury-Don Mills\",\"Bathurst Manor\",\"Bay Street Corridor\",\"Bayview Village\",\"Bayview Woods-Steeles\",\"Bedford Park-Nortown\",\"Beechborough-Greenbrook\",\"Bendale\",\"Birchcliffe-Cliffside\",\"Black Creek\",\"Blake-Jones\",\"Briar Hill-Belgravia\",\"Bridle Path-Sunnybrook-York Mills\",\"Broadview North\",\"Brookhaven-Amesbury\",\"Cabbagetown-South St.James Town\",\"Caledonia-Fairbank\",\"Casa Loma\",\"Centennial Scarborough\",\"Church-Yonge Corridor\",\"Clairlea-Birchmount\",\"Clanton Park\",\"Cliffcrest\",\"Corso Italia-Davenport\",\"Danforth\",\"Danforth-East York\",\"Don Valley Village\",\"Dorset Park\",\"Dovercourt-Wallace Emerson-Juncti\",\"Downsview-Roding-CFB\",\"Dufferin Grove\",\"East End-Danforth\",\"Edenbridge-Humber Valley\",\"Eglinton East\",\"Elms-Old Rexdale\",\"Englemount-Lawrence\",\"Eringate-Centennial-West Deane\",\"Etobicoke West Mall\",\"Flemingdon Park\",\"Forest Hill North\",\"Forest Hill South\",\"Glenfield-Jane Heights\",\"Greenwood-Coxwell\",\"Guildwood\",\"Henry Farm\",\"High Park North\",\"High Park-Swansea\",\"Highland Creek\",\"Hillcrest Village\",\"Humber Heights-Westmount\",\"Humber Summit\",\"Humbermede\",\"Humewood-Cedarvale\",\"Ionview\",\"Islington-City Centre West\",\"Junction Area\",\"Keelesdale-Eglinton West\",\"Kennedy Park\",\"Kensington-Chinatown\",\"Kingsview Village-The Westway\",\"Kingsway South\",\"L'Amoreaux\",\"Lambton Baby Point\",\"Lansing-Westgate\",\"Lawrence Park North\",\"Lawrence Park South\",\"Leaside-Bennington\",\"Little Portugal\",\"Long Branch\",\"Malvern\",\"Maple Leaf\",\"Markland Wood\",\"Milliken\",\"Mimico\",\"Morningside\",\"Moss Park\",\"Mount Dennis\",\"Mount Olive-Silverstone-Jamestown\",\"Mount Pleasant East\",\"Mount Pleasant West\",\"New Toronto\",\"Newtonbrook East\",\"Newtonbrook West\",\"Niagara\",\"North Riverdale\",\"North St.James Town\",\"O'Connor-Parkview\",\"Oakridge\",\"Oakwood Village\",\"Old East York\",\"Palmerston-Little Italy\",\"Parkwoods-Donalda\",\"Pelmo Park-Humberlea\",\"Playter Estates-Danforth\",\"Pleasant View\",\"Princess-Rosethorn\",\"Regent Park\",\"Rexdale-Kipling\",\"Rockcliffe-Smythe\",\"Roncesvalles\",\"Rosedale-Moore Park\",\"Rouge\",\"Runnymede-Bloor West Village\",\"Rustic\",\"Scarborough Village\",\"South Parkdale\",\"South Riverdale\",\"St.Andrew-Windfields\",\"Steeles\",\"Stonegate-Queensway\",\"Tam O'Shanter-Sullivan\",\"Taylor-Massey\",\"The Beaches\",\"Thistletown-Beaumond Heights\",\"Thorncliffe Park\",\"Trinity-Bellwoods\",\"University\",\"Victoria Village\",\"Waterfront Communities-The Island\",\"West Hill\",\"West Humber-Clairville\",\"Westminster-Branson\",\"Weston\",\"Weston-Pellam Park\",\"Wexford/Maryvale\",\"Willowdale East\",\"Willowdale West\",\"Willowridge-Martingrove-Richview\",\"Woburn\",\"Woodbine Corridor\",\"Woodbine-Lumsden\",\"Wychwood\",\"Yonge-Eglinton\",\"Yonge-St.Clair\",\"York University Heights\",\"Yorkdale-Glen Park\",\"Agincourt North\",\"Agincourt South-Malvern West\",\"Alderwood\",\"Annex\",\"Banbury-Don Mills\",\"Bathurst Manor\",\"Bay Street Corridor\",\"Bayview Village\",\"Bayview Woods-Steeles\",\"Bedford Park-Nortown\",\"Beechborough-Greenbrook\",\"Bendale\",\"Birchcliffe-Cliffside\",\"Black Creek\",\"Blake-Jones\",\"Briar Hill-Belgravia\",\"Bridle Path-Sunnybrook-York Mills\",\"Broadview North\",\"Brookhaven-Amesbury\",\"Cabbagetown-South St.James Town\",\"Caledonia-Fairbank\",\"Casa Loma\",\"Centennial Scarborough\",\"Church-Yonge Corridor\",\"Clairlea-Birchmount\",\"Clanton Park\",\"Cliffcrest\",\"Corso Italia-Davenport\",\"Danforth\",\"Danforth-East York\",\"Don Valley Village\",\"Dorset Park\",\"Dovercourt-Wallace Emerson-Juncti\",\"Downsview-Roding-CFB\",\"Dufferin Grove\",\"East End-Danforth\",\"Edenbridge-Humber Valley\",\"Eglinton East\",\"Elms-Old Rexdale\",\"Englemount-Lawrence\",\"Eringate-Centennial-West Deane\",\"Etobicoke West Mall\",\"Flemingdon Park\",\"Forest Hill North\",\"Forest Hill South\",\"Glenfield-Jane Heights\",\"Greenwood-Coxwell\",\"Guildwood\",\"Henry Farm\",\"High Park North\",\"High Park-Swansea\",\"Highland Creek\",\"Hillcrest Village\",\"Humber Heights-Westmount\",\"Humber Summit\",\"Humbermede\",\"Humewood-Cedarvale\",\"Ionview\",\"Islington-City Centre West\",\"Junction Area\",\"Keelesdale-Eglinton West\",\"Kennedy Park\",\"Kensington-Chinatown\",\"Kingsview Village-The Westway\",\"Kingsway South\",\"L'Amoreaux\",\"Lambton Baby Point\",\"Lansing-Westgate\",\"Lawrence Park North\",\"Lawrence Park South\",\"Leaside-Bennington\",\"Little Portugal\",\"Long Branch\",\"Malvern\",\"Maple Leaf\",\"Markland Wood\",\"Milliken\",\"Mimico\",\"Morningside\",\"Moss Park\",\"Mount Dennis\",\"Mount Olive-Silverstone-Jamestown\",\"Mount Pleasant East\",\"Mount Pleasant West\",\"New Toronto\",\"Newtonbrook East\",\"Newtonbrook West\",\"Niagara\",\"North Riverdale\",\"North St.James Town\",\"O'Connor-Parkview\",\"Oakridge\",\"Oakwood Village\",\"Old East York\",\"Palmerston-Little Italy\",\"Parkwoods-Donalda\",\"Pelmo Park-Humberlea\",\"Playter Estates-Danforth\",\"Pleasant View\",\"Princess-Rosethorn\",\"Regent Park\",\"Rexdale-Kipling\",\"Rockcliffe-Smythe\",\"Roncesvalles\",\"Rosedale-Moore Park\",\"Rouge\",\"Runnymede-Bloor West Village\",\"Rustic\",\"Scarborough Village\",\"South Parkdale\",\"South Riverdale\",\"St.Andrew-Windfields\",\"Steeles\",\"Stonegate-Queensway\",\"Tam O'Shanter-Sullivan\",\"Taylor-Massey\",\"The Beaches\",\"Thistletown-Beaumond Heights\",\"Thorncliffe Park\",\"Trinity-Bellwoods\",\"University\",\"Victoria Village\",\"Waterfront Communities-The Island\",\"West Hill\",\"West Humber-Clairville\",\"Westminster-Branson\",\"Weston\",\"Weston-Pellam Park\",\"Wexford/Maryvale\",\"Willowdale East\",\"Willowdale West\",\"Willowridge-Martingrove-Richview\",\"Woburn\",\"Woodbine Corridor\",\"Woodbine-Lumsden\",\"Wychwood\",\"Yonge-Eglinton\",\"Yonge-St.Clair\",\"York University Heights\",\"Yorkdale-Glen Park\"],\"neighbourhood\":[\"Agincourt North\",\"Agincourt South-Malvern West\",\"Alderwood\",\"Annex\",\"Banbury-Don Mills\",\"Bathurst Manor\",\"Bay Street Corridor\",\"Bayview Village\",\"Bayview Woods-Steeles\",\"Bedford Park-Nortown\",\"Beechborough-Greenbrook\",\"Bendale\",\"Birchcliffe-Cliffside\",\"Black Creek\",\"Blake-Jones\",\"Briar Hill-Belgravia\",\"Bridle Path-Sunnybrook-York Mills\",\"Broadview North\",\"Brookhaven-Amesbury\",\"Cabbagetown-South St.James Town\",\"Caledonia-Fairbank\",\"Casa Loma\",\"Centennial Scarborough\",\"Church-Yonge Corridor\",\"Clairlea-Birchmount\",\"Clanton Park\",\"Cliffcrest\",\"Corso Italia-Davenport\",\"Danforth\",\"Danforth-East York\",\"Don Valley Village\",\"Dorset Park\",\"Dovercourt-Wallace Emerson-Juncti\",\"Downsview-Roding-CFB\",\"Dufferin Grove\",\"East End-Danforth\",\"Edenbridge-Humber Valley\",\"Eglinton East\",\"Elms-Old Rexdale\",\"Englemount-Lawrence\",\"Eringate-Centennial-West Deane\",\"Etobicoke West Mall\",\"Flemingdon Park\",\"Forest Hill North\",\"Forest Hill South\",\"Glenfield-Jane Heights\",\"Greenwood-Coxwell\",\"Guildwood\",\"Henry Farm\",\"High Park North\",\"High Park-Swansea\",\"Highland Creek\",\"Hillcrest Village\",\"Humber Heights-Westmount\",\"Humber Summit\",\"Humbermede\",\"Humewood-Cedarvale\",\"Ionview\",\"Islington-City Centre West\",\"Junction Area\",\"Keelesdale-Eglinton West\",\"Kennedy Park\",\"Kensington-Chinatown\",\"Kingsview Village-The Westway\",\"Kingsway South\",\"L'Amoreaux\",\"Lambton Baby Point\",\"Lansing-Westgate\",\"Lawrence Park North\",\"Lawrence Park South\",\"Leaside-Bennington\",\"Little Portugal\",\"Long Branch\",\"Malvern\",\"Maple Leaf\",\"Markland Wood\",\"Milliken\",\"Mimico\",\"Morningside\",\"Moss Park\",\"Mount Dennis\",\"Mount Olive-Silverstone-Jamestown\",\"Mount Pleasant East\",\"Mount Pleasant West\",\"New Toronto\",\"Newtonbrook East\",\"Newtonbrook West\",\"Niagara\",\"North Riverdale\",\"North St.James Town\",\"O'Connor-Parkview\",\"Oakridge\",\"Oakwood Village\",\"Old East York\",\"Palmerston-Little Italy\",\"Parkwoods-Donalda\",\"Pelmo Park-Humberlea\",\"Playter Estates-Danforth\",\"Pleasant View\",\"Princess-Rosethorn\",\"Regent Park\",\"Rexdale-Kipling\",\"Rockcliffe-Smythe\",\"Roncesvalles\",\"Rosedale-Moore Park\",\"Rouge\",\"Runnymede-Bloor West Village\",\"Rustic\",\"Scarborough Village\",\"South Parkdale\",\"South Riverdale\",\"St.Andrew-Windfields\",\"Steeles\",\"Stonegate-Queensway\",\"Tam O'Shanter-Sullivan\",\"Taylor-Massey\",\"The Beaches\",\"Thistletown-Beaumond Heights\",\"Thorncliffe Park\",\"Trinity-Bellwoods\",\"University\",\"Victoria Village\",\"Waterfront Communities-The Island\",\"West Hill\",\"West Humber-Clairville\",\"Westminster-Branson\",\"Weston\",\"Weston-Pellam Park\",\"Wexford/Maryvale\",\"Willowdale East\",\"Willowdale West\",\"Willowridge-Martingrove-Richview\",\"Woburn\",\"Woodbine Corridor\",\"Woodbine-Lumsden\",\"Wychwood\",\"Yonge-Eglinton\",\"Yonge-St.Clair\",\"York University Heights\",\"Yorkdale-Glen Park\",\"Agincourt North\",\"Agincourt South-Malvern West\",\"Alderwood\",\"Annex\",\"Banbury-Don Mills\",\"Bathurst Manor\",\"Bay Street Corridor\",\"Bayview Village\",\"Bayview Woods-Steeles\",\"Bedford Park-Nortown\",\"Beechborough-Greenbrook\",\"Bendale\",\"Birchcliffe-Cliffside\",\"Black Creek\",\"Blake-Jones\",\"Briar Hill-Belgravia\",\"Bridle Path-Sunnybrook-York Mills\",\"Broadview North\",\"Brookhaven-Amesbury\",\"Cabbagetown-South St.James Town\",\"Caledonia-Fairbank\",\"Casa Loma\",\"Centennial Scarborough\",\"Church-Yonge Corridor\",\"Clairlea-Birchmount\",\"Clanton Park\",\"Cliffcrest\",\"Corso Italia-Davenport\",\"Danforth\",\"Danforth-East York\",\"Don Valley Village\",\"Dorset Park\",\"Dovercourt-Wallace Emerson-Juncti\",\"Downsview-Roding-CFB\",\"Dufferin Grove\",\"East End-Danforth\",\"Edenbridge-Humber Valley\",\"Eglinton East\",\"Elms-Old Rexdale\",\"Englemount-Lawrence\",\"Eringate-Centennial-West Deane\",\"Etobicoke West Mall\",\"Flemingdon Park\",\"Forest Hill North\",\"Forest Hill South\",\"Glenfield-Jane Heights\",\"Greenwood-Coxwell\",\"Guildwood\",\"Henry Farm\",\"High Park North\",\"High Park-Swansea\",\"Highland Creek\",\"Hillcrest Village\",\"Humber Heights-Westmount\",\"Humber Summit\",\"Humbermede\",\"Humewood-Cedarvale\",\"Ionview\",\"Islington-City Centre West\",\"Junction Area\",\"Keelesdale-Eglinton West\",\"Kennedy Park\",\"Kensington-Chinatown\",\"Kingsview Village-The Westway\",\"Kingsway South\",\"L'Amoreaux\",\"Lambton Baby Point\",\"Lansing-Westgate\",\"Lawrence Park North\",\"Lawrence Park South\",\"Leaside-Bennington\",\"Little Portugal\",\"Long Branch\",\"Malvern\",\"Maple Leaf\",\"Markland Wood\",\"Milliken\",\"Mimico\",\"Morningside\",\"Moss Park\",\"Mount Dennis\",\"Mount Olive-Silverstone-Jamestown\",\"Mount Pleasant East\",\"Mount Pleasant West\",\"New Toronto\",\"Newtonbrook East\",\"Newtonbrook West\",\"Niagara\",\"North Riverdale\",\"North St.James Town\",\"O'Connor-Parkview\",\"Oakridge\",\"Oakwood Village\",\"Old East York\",\"Palmerston-Little Italy\",\"Parkwoods-Donalda\",\"Pelmo Park-Humberlea\",\"Playter Estates-Danforth\",\"Pleasant View\",\"Princess-Rosethorn\",\"Regent Park\",\"Rexdale-Kipling\",\"Rockcliffe-Smythe\",\"Roncesvalles\",\"Rosedale-Moore Park\",\"Rouge\",\"Runnymede-Bloor West Village\",\"Rustic\",\"Scarborough Village\",\"South Parkdale\",\"South Riverdale\",\"St.Andrew-Windfields\",\"Steeles\",\"Stonegate-Queensway\",\"Tam O'Shanter-Sullivan\",\"Taylor-Massey\",\"The Beaches\",\"Thistletown-Beaumond Heights\",\"Thorncliffe Park\",\"Trinity-Bellwoods\",\"University\",\"Victoria Village\",\"Waterfront Communities-The Island\",\"West Hill\",\"West Humber-Clairville\",\"Westminster-Branson\",\"Weston\",\"Weston-Pellam Park\",\"Wexford/Maryvale\",\"Willowdale East\",\"Willowdale West\",\"Willowridge-Martingrove-Richview\",\"Woburn\",\"Woodbine Corridor\",\"Woodbine-Lumsden\",\"Wychwood\",\"Yonge-Eglinton\",\"Yonge-St.Clair\",\"York University Heights\",\"Yorkdale-Glen Park\",\"Agincourt North\",\"Agincourt South-Malvern West\",\"Alderwood\",\"Annex\",\"Banbury-Don Mills\",\"Bathurst Manor\",\"Bay Street Corridor\",\"Bayview Village\",\"Bayview Woods-Steeles\",\"Bedford Park-Nortown\",\"Beechborough-Greenbrook\",\"Bendale\",\"Birchcliffe-Cliffside\",\"Black Creek\",\"Blake-Jones\",\"Briar Hill-Belgravia\",\"Bridle Path-Sunnybrook-York Mills\",\"Broadview North\",\"Brookhaven-Amesbury\",\"Cabbagetown-South St.James Town\",\"Caledonia-Fairbank\",\"Casa Loma\",\"Centennial Scarborough\",\"Church-Yonge Corridor\",\"Clairlea-Birchmount\",\"Clanton Park\",\"Cliffcrest\",\"Corso Italia-Davenport\",\"Danforth\",\"Danforth-East York\",\"Don Valley Village\",\"Dorset Park\",\"Dovercourt-Wallace Emerson-Juncti\",\"Downsview-Roding-CFB\",\"Dufferin Grove\",\"East End-Danforth\",\"Edenbridge-Humber Valley\",\"Eglinton East\",\"Elms-Old Rexdale\",\"Englemount-Lawrence\",\"Eringate-Centennial-West Deane\",\"Etobicoke West Mall\",\"Flemingdon Park\",\"Forest Hill North\",\"Forest Hill South\",\"Glenfield-Jane Heights\",\"Greenwood-Coxwell\",\"Guildwood\",\"Henry Farm\",\"High Park North\",\"High Park-Swansea\",\"Highland Creek\",\"Hillcrest Village\",\"Humber Heights-Westmount\",\"Humber Summit\",\"Humbermede\",\"Humewood-Cedarvale\",\"Ionview\",\"Islington-City Centre West\",\"Junction Area\",\"Keelesdale-Eglinton West\",\"Kennedy Park\",\"Kensington-Chinatown\",\"Kingsview Village-The Westway\",\"Kingsway South\",\"L'Amoreaux\",\"Lambton Baby Point\",\"Lansing-Westgate\",\"Lawrence Park North\",\"Lawrence Park South\",\"Leaside-Bennington\",\"Little Portugal\",\"Long Branch\",\"Malvern\",\"Maple Leaf\",\"Markland Wood\",\"Milliken\",\"Mimico\",\"Morningside\",\"Moss Park\",\"Mount Dennis\",\"Mount Olive-Silverstone-Jamestown\",\"Mount Pleasant East\",\"Mount Pleasant West\",\"New Toronto\",\"Newtonbrook East\",\"Newtonbrook West\",\"Niagara\",\"North Riverdale\",\"North St.James Town\",\"O'Connor-Parkview\",\"Oakridge\",\"Oakwood Village\",\"Old East York\",\"Palmerston-Little Italy\",\"Parkwoods-Donalda\",\"Pelmo Park-Humberlea\",\"Playter Estates-Danforth\",\"Pleasant View\",\"Princess-Rosethorn\",\"Regent Park\",\"Rexdale-Kipling\",\"Rockcliffe-Smythe\",\"Roncesvalles\",\"Rosedale-Moore Park\",\"Rouge\",\"Runnymede-Bloor West Village\",\"Rustic\",\"Scarborough Village\",\"South Parkdale\",\"South Riverdale\",\"St.Andrew-Windfields\",\"Steeles\",\"Stonegate-Queensway\",\"Tam O'Shanter-Sullivan\",\"Taylor-Massey\",\"The Beaches\",\"Thistletown-Beaumond Heights\",\"Thorncliffe Park\",\"Trinity-Bellwoods\",\"University\",\"Victoria Village\",\"Waterfront Communities-The Island\",\"West Hill\",\"West Humber-Clairville\",\"Westminster-Branson\",\"Weston\",\"Weston-Pellam Park\",\"Wexford/Maryvale\",\"Willowdale East\",\"Willowdale West\",\"Willowridge-Martingrove-Richview\",\"Woburn\",\"Woodbine Corridor\",\"Woodbine-Lumsden\",\"Wychwood\",\"Yonge-Eglinton\",\"Yonge-St.Clair\",\"York University Heights\",\"Yorkdale-Glen Park\",\"Agincourt North\",\"Agincourt South-Malvern West\",\"Alderwood\",\"Annex\",\"Banbury-Don Mills\",\"Bathurst Manor\",\"Bay Street Corridor\",\"Bayview Village\",\"Bayview Woods-Steeles\",\"Bedford Park-Nortown\",\"Beechborough-Greenbrook\",\"Bendale\",\"Birchcliffe-Cliffside\",\"Black Creek\",\"Blake-Jones\",\"Briar Hill-Belgravia\",\"Bridle Path-Sunnybrook-York Mills\",\"Broadview North\",\"Brookhaven-Amesbury\",\"Cabbagetown-South St.James Town\",\"Caledonia-Fairbank\",\"Casa Loma\",\"Centennial Scarborough\",\"Church-Yonge Corridor\",\"Clairlea-Birchmount\",\"Clanton Park\",\"Cliffcrest\",\"Corso Italia-Davenport\",\"Danforth\",\"Danforth-East York\",\"Don Valley Village\",\"Dorset Park\",\"Dovercourt-Wallace Emerson-Juncti\",\"Downsview-Roding-CFB\",\"Dufferin Grove\",\"East End-Danforth\",\"Edenbridge-Humber Valley\",\"Eglinton East\",\"Elms-Old Rexdale\",\"Englemount-Lawrence\",\"Eringate-Centennial-West Deane\",\"Etobicoke West Mall\",\"Flemingdon Park\",\"Forest Hill North\",\"Forest Hill South\",\"Glenfield-Jane Heights\",\"Greenwood-Coxwell\",\"Guildwood\",\"Henry Farm\",\"High Park North\",\"High Park-Swansea\",\"Highland Creek\",\"Hillcrest Village\",\"Humber Heights-Westmount\",\"Humber Summit\",\"Humbermede\",\"Humewood-Cedarvale\",\"Ionview\",\"Islington-City Centre West\",\"Junction Area\",\"Keelesdale-Eglinton West\",\"Kennedy Park\",\"Kensington-Chinatown\",\"Kingsview Village-The Westway\",\"Kingsway South\",\"L'Amoreaux\",\"Lambton Baby Point\",\"Lansing-Westgate\",\"Lawrence Park North\",\"Lawrence Park South\",\"Leaside-Bennington\",\"Little Portugal\",\"Long Branch\",\"Malvern\",\"Maple Leaf\",\"Markland Wood\",\"Milliken\",\"Mimico\",\"Morningside\",\"Moss Park\",\"Mount Dennis\",\"Mount Olive-Silverstone-Jamestown\",\"Mount Pleasant East\",\"Mount Pleasant West\",\"New Toronto\",\"Newtonbrook East\",\"Newtonbrook West\",\"Niagara\",\"North Riverdale\",\"North St.James Town\",\"O'Connor-Parkview\",\"Oakridge\",\"Oakwood Village\",\"Old East York\",\"Palmerston-Little Italy\",\"Parkwoods-Donalda\",\"Pelmo Park-Humberlea\",\"Playter Estates-Danforth\",\"Pleasant View\",\"Princess-Rosethorn\",\"Regent Park\",\"Rexdale-Kipling\",\"Rockcliffe-Smythe\",\"Roncesvalles\",\"Rosedale-Moore Park\",\"Rouge\",\"Runnymede-Bloor West Village\",\"Rustic\",\"Scarborough Village\",\"South Parkdale\",\"South Riverdale\",\"St.Andrew-Windfields\",\"Steeles\",\"Stonegate-Queensway\",\"Tam O'Shanter-Sullivan\",\"Taylor-Massey\",\"The Beaches\",\"Thistletown-Beaumond Heights\",\"Thorncliffe Park\",\"Trinity-Bellwoods\",\"University\",\"Victoria Village\",\"Waterfront Communities-The Island\",\"West Hill\",\"West Humber-Clairville\",\"Westminster-Branson\",\"Weston\",\"Weston-Pellam Park\",\"Wexford/Maryvale\",\"Willowdale East\",\"Willowdale West\",\"Willowridge-Martingrove-Richview\",\"Woburn\",\"Woodbine Corridor\",\"Woodbine-Lumsden\",\"Wychwood\",\"Yonge-Eglinton\",\"Yonge-St.Clair\",\"York University Heights\",\"Yorkdale-Glen Park\"],\"year\":[2001,2001,2001,2001,2001,2001,2001,2001,2001,2001,2001,2001,2001,2001,2001,2001,2001,2001,2001,2001,2001,2001,2001,2001,2001,2001,2001,2001,2001,2001,2001,2001,2001,2001,2001,2001,2001,2001,2001,2001,2001,2001,2001,2001,2001,2001,2001,2001,2001,2001,2001,2001,2001,2001,2001,2001,2001,2001,2001,2001,2001,2001,2001,2001,2001,2001,2001,2001,2001,2001,2001,2001,2001,2001,2001,2001,2001,2001,2001,2001,2001,2001,2001,2001,2001,2001,2001,2001,2001,2001,2001,2001,2001,2001,2001,2001,2001,2001,2001,2001,2001,2001,2001,2001,2001,2001,2001,2001,2001,2001,2001,2001,2001,2001,2001,2001,2001,2001,2001,2001,2001,2001,2001,2001,2001,2001,2001,2001,2001,2001,2001,2001,2001,2001,2001,2001,2001,2001,2001,2001,2006,2006,2006,2006,2006,2006,2006,2006,2006,2006,2006,2006,2006,2006,2006,2006,2006,2006,2006,2006,2006,2006,2006,2006,2006,2006,2006,2006,2006,2006,2006,2006,2006,2006,2006,2006,2006,2006,2006,2006,2006,2006,2006,2006,2006,2006,2006,2006,2006,2006,2006,2006,2006,2006,2006,2006,2006,2006,2006,2006,2006,2006,2006,2006,2006,2006,2006,2006,2006,2006,2006,2006,2006,2006,2006,2006,2006,2006,2006,2006,2006,2006,2006,2006,2006,2006,2006,2006,2006,2006,2006,2006,2006,2006,2006,2006,2006,2006,2006,2006,2006,2006,2006,2006,2006,2006,2006,2006,2006,2006,2006,2006,2006,2006,2006,2006,2006,2006,2006,2006,2006,2006,2006,2006,2006,2006,2006,2006,2006,2006,2006,2006,2006,2006,2006,2006,2006,2006,2006,2006,2011,2011,2011,2011,2011,2011,2011,2011,2011,2011,2011,2011,2011,2011,2011,2011,2011,2011,2011,2011,2011,2011,2011,2011,2011,2011,2011,2011,2011,2011,2011,2011,2011,2011,2011,2011,2011,2011,2011,2011,2011,2011,2011,2011,2011,2011,2011,2011,2011,2011,2011,2011,2011,2011,2011,2011,2011,2011,2011,2011,2011,2011,2011,2011,2011,2011,2011,2011,2011,2011,2011,2011,2011,2011,2011,2011,2011,2011,2011,2011,2011,2011,2011,2011,2011,2011,2011,2011,2011,2011,2011,2011,2011,2011,2011,2011,2011,2011,2011,2011,2011,2011,2011,2011,2011,2011,2011,2011,2011,2011,2011,2011,2011,2011,2011,2011,2011,2011,2011,2011,2011,2011,2011,2011,2011,2011,2011,2011,2011,2011,2011,2011,2011,2011,2011,2011,2011,2011,2011,2011,2016,2016,2016,2016,2016,2016,2016,2016,2016,2016,2016,2016,2016,2016,2016,2016,2016,2016,2016,2016,2016,2016,2016,2016,2016,2016,2016,2016,2016,2016,2016,2016,2016,2016,2016,2016,2016,2016,2016,2016,2016,2016,2016,2016,2016,2016,2016,2016,2016,2016,2016,2016,2016,2016,2016,2016,2016,2016,2016,2016,2016,2016,2016,2016,2016,2016,2016,2016,2016,2016,2016,2016,2016,2016,2016,2016,2016,2016,2016,2016,2016,2016,2016,2016,2016,2016,2016,2016,2016,2016,2016,2016,2016,2016,2016,2016,2016,2016,2016,2016,2016,2016,2016,2016,2016,2016,2016,2016,2016,2016,2016,2016,2016,2016,2016,2016,2016,2016,2016,2016,2016,2016,2016,2016,2016,2016,2016,2016,2016,2016,2016,2016,2016,2016,2016,2016,2016,2016,2016,2016]},\"selected\":{\"id\":\"1039\"},\"selection_policy\":{\"id\":\"1055\"}},\"id\":\"1038\",\"type\":\"ColumnDataSource\"},{\"attributes\":{\"source\":{\"id\":\"1038\"}},\"id\":\"1047\",\"type\":\"CDSView\"},{\"attributes\":{},\"id\":\"1012\",\"type\":\"LinearScale\"},{\"attributes\":{},\"id\":\"1025\",\"type\":\"PanTool\"},{\"attributes\":{\"end\":2324492.8,\"reset_end\":2324492.8,\"reset_start\":-73584.80000000002,\"start\":-73584.80000000002,\"tags\":[[[\"average_house_value\",\"average_house_value\",null]]]},\"id\":\"1005\",\"type\":\"Range1d\"},{\"attributes\":{\"tools\":[{\"id\":\"1006\"},{\"id\":\"1024\"},{\"id\":\"1025\"},{\"id\":\"1026\"},{\"id\":\"1027\"},{\"id\":\"1028\"}]},\"id\":\"1030\",\"type\":\"Toolbar\"},{\"attributes\":{\"end\":2016.642857142857,\"reset_end\":2016.642857142857,\"reset_start\":2000.357142857143,\"start\":2000.357142857143,\"tags\":[[[\"year\",\"year\",null]]]},\"id\":\"1004\",\"type\":\"Range1d\"},{\"attributes\":{\"fill_alpha\":{\"value\":0.2},\"fill_color\":{\"field\":\"color\",\"transform\":{\"id\":\"1037\"}},\"hatch_alpha\":{\"value\":0.2},\"hatch_color\":{\"field\":\"color\",\"transform\":{\"id\":\"1037\"}},\"line_alpha\":{\"value\":0.2},\"line_color\":{\"field\":\"color\",\"transform\":{\"id\":\"1037\"}},\"size\":{\"value\":5.477225575051661},\"x\":{\"field\":\"year\"},\"y\":{\"field\":\"average_house_value\"}},\"id\":\"1045\",\"type\":\"Scatter\"},{\"attributes\":{},\"id\":\"1024\",\"type\":\"SaveTool\"},{\"attributes\":{},\"id\":\"1055\",\"type\":\"UnionRenderers\"},{\"attributes\":{\"children\":[{\"id\":\"1003\"},{\"id\":\"1007\"},{\"id\":\"1086\"}],\"margin\":[0,0,0,0],\"name\":\"Row01708\",\"tags\":[\"embedded\"]},\"id\":\"1002\",\"type\":\"Row\"},{\"attributes\":{\"below\":[{\"id\":\"1016\"}],\"center\":[{\"id\":\"1019\"},{\"id\":\"1023\"},{\"id\":\"1058\"}],\"height\":300,\"left\":[{\"id\":\"1020\"}],\"margin\":[5,5,5,5],\"min_border_bottom\":10,\"min_border_left\":10,\"min_border_right\":10,\"min_border_top\":10,\"renderers\":[{\"id\":\"1046\"}],\"right\":[{\"id\":\"1058\"}],\"sizing_mode\":\"fixed\",\"title\":{\"id\":\"1008\"},\"toolbar\":{\"id\":\"1030\"},\"width\":700,\"x_range\":{\"id\":\"1004\"},\"x_scale\":{\"id\":\"1012\"},\"y_range\":{\"id\":\"1005\"},\"y_scale\":{\"id\":\"1014\"}},\"id\":\"1007\",\"subtype\":\"Figure\",\"type\":\"Plot\"},{\"attributes\":{\"axis_label\":\"average_house_value\",\"coordinates\":null,\"formatter\":{\"id\":\"1050\"},\"group\":null,\"major_label_policy\":{\"id\":\"1051\"},\"ticker\":{\"id\":\"1021\"}},\"id\":\"1020\",\"type\":\"LinearAxis\"},{\"attributes\":{\"label\":{\"field\":\"color\"},\"renderers\":[{\"id\":\"1046\"}]},\"id\":\"1059\",\"type\":\"LegendItem\"},{\"attributes\":{\"fill_alpha\":{\"value\":0.1},\"fill_color\":{\"field\":\"color\",\"transform\":{\"id\":\"1037\"}},\"hatch_alpha\":{\"value\":0.1},\"hatch_color\":{\"field\":\"color\",\"transform\":{\"id\":\"1037\"}},\"line_alpha\":{\"value\":0.1},\"line_color\":{\"field\":\"color\",\"transform\":{\"id\":\"1037\"}},\"size\":{\"value\":5.477225575051661},\"x\":{\"field\":\"year\"},\"y\":{\"field\":\"average_house_value\"}},\"id\":\"1042\",\"type\":\"Scatter\"},{\"attributes\":{\"margin\":[5,5,5,5],\"name\":\"HSpacer01713\",\"sizing_mode\":\"stretch_width\"},\"id\":\"1086\",\"type\":\"Spacer\"},{\"attributes\":{\"bottom_units\":\"screen\",\"coordinates\":null,\"fill_alpha\":0.5,\"fill_color\":\"lightgrey\",\"group\":null,\"left_units\":\"screen\",\"level\":\"overlay\",\"line_alpha\":1.0,\"line_color\":\"black\",\"line_dash\":[4,4],\"line_width\":2,\"right_units\":\"screen\",\"syncable\":false,\"top_units\":\"screen\"},\"id\":\"1029\",\"type\":\"BoxAnnotation\"},{\"attributes\":{},\"id\":\"1053\",\"type\":\"BasicTickFormatter\"},{\"attributes\":{},\"id\":\"1054\",\"type\":\"AllLabels\"},{\"attributes\":{},\"id\":\"1021\",\"type\":\"BasicTicker\"},{\"attributes\":{\"factors\":[\"Agincourt North\",\"Agincourt South-Malvern West\",\"Alderwood\",\"Annex\",\"Banbury-Don Mills\",\"Bathurst Manor\",\"Bay Street Corridor\",\"Bayview Village\",\"Bayview Woods-Steeles\",\"Bedford Park-Nortown\",\"Beechborough-Greenbrook\",\"Bendale\",\"Birchcliffe-Cliffside\",\"Black Creek\",\"Blake-Jones\",\"Briar Hill-Belgravia\",\"Bridle Path-Sunnybrook-York Mills\",\"Broadview North\",\"Brookhaven-Amesbury\",\"Cabbagetown-South St.James Town\",\"Caledonia-Fairbank\",\"Casa Loma\",\"Centennial Scarborough\",\"Church-Yonge Corridor\",\"Clairlea-Birchmount\",\"Clanton Park\",\"Cliffcrest\",\"Corso Italia-Davenport\",\"Danforth\",\"Danforth-East York\",\"Don Valley Village\",\"Dorset Park\",\"Dovercourt-Wallace Emerson-Juncti\",\"Downsview-Roding-CFB\",\"Dufferin Grove\",\"East End-Danforth\",\"Edenbridge-Humber Valley\",\"Eglinton East\",\"Elms-Old Rexdale\",\"Englemount-Lawrence\",\"Eringate-Centennial-West Deane\",\"Etobicoke West Mall\",\"Flemingdon Park\",\"Forest Hill North\",\"Forest Hill South\",\"Glenfield-Jane Heights\",\"Greenwood-Coxwell\",\"Guildwood\",\"Henry Farm\",\"High Park North\",\"High Park-Swansea\",\"Highland Creek\",\"Hillcrest Village\",\"Humber Heights-Westmount\",\"Humber Summit\",\"Humbermede\",\"Humewood-Cedarvale\",\"Ionview\",\"Islington-City Centre West\",\"Junction Area\",\"Keelesdale-Eglinton West\",\"Kennedy Park\",\"Kensington-Chinatown\",\"Kingsview Village-The Westway\",\"Kingsway South\",\"L'Amoreaux\",\"Lambton Baby Point\",\"Lansing-Westgate\",\"Lawrence Park North\",\"Lawrence Park South\",\"Leaside-Bennington\",\"Little Portugal\",\"Long Branch\",\"Malvern\",\"Maple Leaf\",\"Markland Wood\",\"Milliken\",\"Mimico\",\"Morningside\",\"Moss Park\",\"Mount Dennis\",\"Mount Olive-Silverstone-Jamestown\",\"Mount Pleasant East\",\"Mount Pleasant West\",\"New Toronto\",\"Newtonbrook East\",\"Newtonbrook West\",\"Niagara\",\"North Riverdale\",\"North St.James Town\",\"O'Connor-Parkview\",\"Oakridge\",\"Oakwood Village\",\"Old East York\",\"Palmerston-Little Italy\",\"Parkwoods-Donalda\",\"Pelmo Park-Humberlea\",\"Playter Estates-Danforth\",\"Pleasant View\",\"Princess-Rosethorn\",\"Regent Park\",\"Rexdale-Kipling\",\"Rockcliffe-Smythe\",\"Roncesvalles\",\"Rosedale-Moore Park\",\"Rouge\",\"Runnymede-Bloor West Village\",\"Rustic\",\"Scarborough Village\",\"South Parkdale\",\"South Riverdale\",\"St.Andrew-Windfields\",\"Steeles\",\"Stonegate-Queensway\",\"Tam O'Shanter-Sullivan\",\"Taylor-Massey\",\"The Beaches\",\"Thistletown-Beaumond Heights\",\"Thorncliffe Park\",\"Trinity-Bellwoods\",\"University\",\"Victoria Village\",\"Waterfront Communities-The Island\",\"West Hill\",\"West Humber-Clairville\",\"Westminster-Branson\",\"Weston\",\"Weston-Pellam Park\",\"Wexford/Maryvale\",\"Willowdale East\",\"Willowdale West\",\"Willowridge-Martingrove-Richview\",\"Woburn\",\"Woodbine Corridor\",\"Woodbine-Lumsden\",\"Wychwood\",\"Yonge-Eglinton\",\"Yonge-St.Clair\",\"York University Heights\",\"Yorkdale-Glen Park\"],\"palette\":[\"#1f77b3\",\"#ff7e0e\",\"#2ba02b\",\"#d62628\",\"#9367bc\",\"#8c564b\",\"#e277c1\",\"#7e7e7e\",\"#bcbc21\",\"#16bdcf\",\"#3a0182\",\"#004201\",\"#0fffa8\",\"#5d003f\",\"#bcbcff\",\"#d8afa1\",\"#b80080\",\"#004d52\",\"#6b6400\",\"#7c0100\",\"#6026ff\",\"#ffff9a\",\"#564964\",\"#8cb893\",\"#93fbff\",\"#018267\",\"#90ff00\",\"#8200a0\",\"#ac8944\",\"#5b3400\",\"#ffbff2\",\"#ff6e75\",\"#798cff\",\"#dd00ff\",\"#505646\",\"#004489\",\"#ffbf60\",\"#ff018c\",\"#bdc8cf\",\"#af97b5\",\"#b65600\",\"#017000\",\"#cd87ff\",\"#1cd646\",\"#bfebc3\",\"#7997b5\",\"#a56089\",\"#6e8956\",\"#bc7c75\",\"#8a2844\",\"#00acff\",\"#8ed4ff\",\"#4b6d77\",\"#00d4b1\",\"#9300f2\",\"#8a9500\",\"#5d5b9e\",\"#fddfba\",\"#00939e\",\"#ffdb00\",\"#00aa79\",\"#520067\",\"#000091\",\"#0a5d3d\",\"#a5e275\",\"#623b41\",\"#c6c689\",\"#ff9eb5\",\"#cd4f6b\",\"#ff07d6\",\"#8a3a05\",\"#7e3d70\",\"#ff4901\",\"#602ba5\",\"#1c00ff\",\"#e6dfff\",\"#aa3baf\",\"#d89c00\",\"#a3a39e\",\"#3f69ff\",\"#46490c\",\"#7b6985\",\"#6b978c\",\"#ff9a75\",\"#835bff\",\"#7c6b46\",\"#80b654\",\"#bc0049\",\"#fd93ff\",\"#5d0018\",\"#89d1d1\",\"#9c8cd3\",\"#da6d42\",\"#8a5700\",\"#3b5069\",\"#4b6b3b\",\"#edcfd8\",\"#cfedff\",\"#aa1500\",\"#dfff4f\",\"#ff2a56\",\"#d1499e\",\"#707cb8\",\"#598000\",\"#00e4fd\",\"#774b95\",\"#67d48c\",\"#3d3a72\",\"#ac413f\",\"#d6a166\",\"#c169cd\",\"#69595d\",\"#87aced\",\"#a0a569\",\"#d1aae6\",\"#870062\",\"#00fddb\",\"#672818\",\"#b342ff\",\"#0e59c4\",\"#168742\",\"#90d300\",\"#cd7900\",\"#f959ff\",\"#5b7466\",\"#8eaeb3\",\"#9c7c8c\",\"#4600c6\",\"#6b4d2d\",\"#a56d46\",\"#9e8972\",\"#a8afca\",\"#cd8ca7\",\"#00fd64\",\"#917900\",\"#ff62a1\",\"#f4ffd8\",\"#018cf0\",\"#13aca0\",\"#5b2d59\"]},\"id\":\"1037\",\"type\":\"CategoricalColorMapper\"},{\"attributes\":{\"axis\":{\"id\":\"1016\"},\"coordinates\":null,\"grid_line_color\":null,\"group\":null,\"ticker\":null},\"id\":\"1019\",\"type\":\"Grid\"},{\"attributes\":{},\"id\":\"1014\",\"type\":\"LinearScale\"},{\"attributes\":{\"coordinates\":null,\"group\":null,\"text\":\"Average House Value by Neighbourhood\",\"text_color\":\"black\",\"text_font_size\":\"12pt\"},\"id\":\"1008\",\"type\":\"Title\"},{\"attributes\":{\"coordinates\":null,\"group\":null,\"items\":[{\"id\":\"1059\"}],\"location\":[0,0]},\"id\":\"1058\",\"type\":\"Legend\"},{\"attributes\":{},\"id\":\"1017\",\"type\":\"BasicTicker\"},{\"attributes\":{\"margin\":[5,5,5,5],\"name\":\"HSpacer01712\",\"sizing_mode\":\"stretch_width\"},\"id\":\"1003\",\"type\":\"Spacer\"},{\"attributes\":{\"axis\":{\"id\":\"1020\"},\"coordinates\":null,\"dimension\":1,\"grid_line_color\":null,\"group\":null,\"ticker\":null},\"id\":\"1023\",\"type\":\"Grid\"},{\"attributes\":{\"fill_color\":{\"field\":\"color\",\"transform\":{\"id\":\"1037\"}},\"hatch_color\":{\"field\":\"color\",\"transform\":{\"id\":\"1037\"}},\"line_color\":{\"field\":\"color\",\"transform\":{\"id\":\"1037\"}},\"size\":{\"value\":5.477225575051661},\"x\":{\"field\":\"year\"},\"y\":{\"field\":\"average_house_value\"}},\"id\":\"1041\",\"type\":\"Scatter\"},{\"attributes\":{\"callback\":null,\"renderers\":[{\"id\":\"1046\"}],\"tags\":[\"hv_created\"],\"tooltips\":[[\"year\",\"@{year}\"],[\"average_house_value\",\"@{average_house_value}\"],[\"neighbourhood\",\"@{neighbourhood}\"]]},\"id\":\"1006\",\"type\":\"HoverTool\"},{\"attributes\":{\"fill_color\":{\"field\":\"color\",\"transform\":{\"id\":\"1037\"}},\"hatch_color\":{\"field\":\"color\",\"transform\":{\"id\":\"1037\"}},\"line_color\":{\"field\":\"color\",\"transform\":{\"id\":\"1037\"}},\"size\":{\"value\":5.477225575051661},\"x\":{\"field\":\"year\"},\"y\":{\"field\":\"average_house_value\"}},\"id\":\"1044\",\"type\":\"Scatter\"},{\"attributes\":{\"fill_color\":{\"field\":\"color\",\"transform\":{\"id\":\"1037\"}},\"hatch_color\":{\"field\":\"color\",\"transform\":{\"id\":\"1037\"}},\"line_color\":{\"field\":\"color\",\"transform\":{\"id\":\"1037\"}},\"size\":{\"value\":5.477225575051661},\"x\":{\"field\":\"year\"},\"y\":{\"field\":\"average_house_value\"}},\"id\":\"1043\",\"type\":\"Scatter\"},{\"attributes\":{\"coordinates\":null,\"data_source\":{\"id\":\"1038\"},\"glyph\":{\"id\":\"1041\"},\"group\":null,\"hover_glyph\":{\"id\":\"1044\"},\"muted_glyph\":{\"id\":\"1045\"},\"nonselection_glyph\":{\"id\":\"1042\"},\"selection_glyph\":{\"id\":\"1043\"},\"view\":{\"id\":\"1047\"}},\"id\":\"1046\",\"type\":\"GlyphRenderer\"}],\"root_ids\":[\"1002\"]},\"title\":\"Bokeh Application\",\"version\":\"2.4.1\"}};\n",
       "    var render_items = [{\"docid\":\"59d8d70b-0da4-434e-ae35-32f0141295b6\",\"root_ids\":[\"1002\"],\"roots\":{\"1002\":\"9f253332-4466-4f92-b8c8-4f9035dd1bca\"}}];\n",
       "    root.Bokeh.embed.embed_items_notebook(docs_json, render_items);\n",
       "  }\n",
       "  if (root.Bokeh !== undefined && root.Bokeh.Panel !== undefined && ( root['Plotly'] !== undefined)) {\n",
       "    embed_document(root);\n",
       "  } else {\n",
       "    var attempts = 0;\n",
       "    var timer = setInterval(function(root) {\n",
       "      if (root.Bokeh !== undefined && root.Bokeh.Panel !== undefined && (root['Plotly'] !== undefined)) {\n",
       "        clearInterval(timer);\n",
       "        embed_document(root);\n",
       "      } else if (document.readyState == \"complete\") {\n",
       "        attempts++;\n",
       "        if (attempts > 200) {\n",
       "          clearInterval(timer);\n",
       "          console.log(\"Bokeh: ERROR: Unable to run BokehJS code because BokehJS library is missing\");\n",
       "        }\n",
       "      }\n",
       "    }, 25, root)\n",
       "  }\n",
       "})(window);</script>"
      ],
      "text/plain": [
       ":Scatter   [year]   (average_house_value,neighbourhood)"
      ]
     },
     "execution_count": 53,
     "metadata": {
      "application/vnd.holoviews_exec.v0+json": {
       "id": "1002"
      }
     },
     "output_type": "execute_result"
    }
   ],
   "source": [
    "# Use hvplot to create an interactive line chart of the average house value per neighbourhood\n",
    "\n",
    "# The plot should have a dropdown selector for the neighbourhood\n",
    "\n",
    "to_data.groupby([\"year\", \"neighbourhood\"]).agg({\"average_house_value\": \"mean\"}).reset_index().hvplot.scatter(x=\"year\", y=\"average_house_value\", color=\"neighbourhood\",\n",
    "                        title=\"Average House Value by Neighbourhood\")\n",
    "# YOUR CODE HERE!"
   ]
  },
  {
   "cell_type": "markdown",
   "metadata": {},
   "source": [
    "## Number of Dwelling Types per Year\n",
    "\n",
    "In this section, you will use `hvplot` to create an interactive visualization of the average number of dwelling types per year with a dropdown selector for the neighbourhood."
   ]
  },
  {
   "cell_type": "code",
   "execution_count": 57,
   "metadata": {},
   "outputs": [
    {
     "data": {
      "text/html": [
       "<div>\n",
       "<style scoped>\n",
       "    .dataframe tbody tr th:only-of-type {\n",
       "        vertical-align: middle;\n",
       "    }\n",
       "\n",
       "    .dataframe tbody tr th {\n",
       "        vertical-align: top;\n",
       "    }\n",
       "\n",
       "    .dataframe thead th {\n",
       "        text-align: right;\n",
       "    }\n",
       "</style>\n",
       "<table border=\"1\" class=\"dataframe\">\n",
       "  <thead>\n",
       "    <tr style=\"text-align: right;\">\n",
       "      <th></th>\n",
       "      <th>neighbourhood</th>\n",
       "      <th>single_detached_house</th>\n",
       "      <th>apartment_five_storeys_plus</th>\n",
       "      <th>movable_dwelling</th>\n",
       "      <th>semi_detached_house</th>\n",
       "      <th>row_house</th>\n",
       "      <th>duplex</th>\n",
       "      <th>apartment_five_storeys_less</th>\n",
       "      <th>other_house</th>\n",
       "      <th>average_house_value</th>\n",
       "      <th>shelter_costs_owned</th>\n",
       "      <th>shelter_costs_rented</th>\n",
       "    </tr>\n",
       "    <tr>\n",
       "      <th>year</th>\n",
       "      <th></th>\n",
       "      <th></th>\n",
       "      <th></th>\n",
       "      <th></th>\n",
       "      <th></th>\n",
       "      <th></th>\n",
       "      <th></th>\n",
       "      <th></th>\n",
       "      <th></th>\n",
       "      <th></th>\n",
       "      <th></th>\n",
       "      <th></th>\n",
       "    </tr>\n",
       "  </thead>\n",
       "  <tbody>\n",
       "    <tr>\n",
       "      <th>2001</th>\n",
       "      <td>Agincourt North</td>\n",
       "      <td>3715</td>\n",
       "      <td>1480</td>\n",
       "      <td>0</td>\n",
       "      <td>1055</td>\n",
       "      <td>1295</td>\n",
       "      <td>195</td>\n",
       "      <td>185</td>\n",
       "      <td>5</td>\n",
       "      <td>200388</td>\n",
       "      <td>810</td>\n",
       "      <td>870</td>\n",
       "    </tr>\n",
       "    <tr>\n",
       "      <th>2001</th>\n",
       "      <td>Agincourt South-Malvern West</td>\n",
       "      <td>3250</td>\n",
       "      <td>1835</td>\n",
       "      <td>0</td>\n",
       "      <td>545</td>\n",
       "      <td>455</td>\n",
       "      <td>105</td>\n",
       "      <td>425</td>\n",
       "      <td>0</td>\n",
       "      <td>203047</td>\n",
       "      <td>806</td>\n",
       "      <td>892</td>\n",
       "    </tr>\n",
       "    <tr>\n",
       "      <th>2001</th>\n",
       "      <td>Alderwood</td>\n",
       "      <td>3175</td>\n",
       "      <td>315</td>\n",
       "      <td>0</td>\n",
       "      <td>470</td>\n",
       "      <td>50</td>\n",
       "      <td>185</td>\n",
       "      <td>370</td>\n",
       "      <td>0</td>\n",
       "      <td>259998</td>\n",
       "      <td>817</td>\n",
       "      <td>924</td>\n",
       "    </tr>\n",
       "    <tr>\n",
       "      <th>2001</th>\n",
       "      <td>Annex</td>\n",
       "      <td>1060</td>\n",
       "      <td>6090</td>\n",
       "      <td>5</td>\n",
       "      <td>1980</td>\n",
       "      <td>605</td>\n",
       "      <td>275</td>\n",
       "      <td>3710</td>\n",
       "      <td>165</td>\n",
       "      <td>453850</td>\n",
       "      <td>1027</td>\n",
       "      <td>1378</td>\n",
       "    </tr>\n",
       "    <tr>\n",
       "      <th>2001</th>\n",
       "      <td>Banbury-Don Mills</td>\n",
       "      <td>3615</td>\n",
       "      <td>4465</td>\n",
       "      <td>0</td>\n",
       "      <td>240</td>\n",
       "      <td>380</td>\n",
       "      <td>15</td>\n",
       "      <td>1360</td>\n",
       "      <td>0</td>\n",
       "      <td>371864</td>\n",
       "      <td>1007</td>\n",
       "      <td>1163</td>\n",
       "    </tr>\n",
       "    <tr>\n",
       "      <th>2001</th>\n",
       "      <td>Bathurst Manor</td>\n",
       "      <td>2405</td>\n",
       "      <td>1550</td>\n",
       "      <td>0</td>\n",
       "      <td>130</td>\n",
       "      <td>130</td>\n",
       "      <td>375</td>\n",
       "      <td>745</td>\n",
       "      <td>0</td>\n",
       "      <td>304749</td>\n",
       "      <td>843</td>\n",
       "      <td>1052</td>\n",
       "    </tr>\n",
       "    <tr>\n",
       "      <th>2001</th>\n",
       "      <td>Bay Street Corridor</td>\n",
       "      <td>10</td>\n",
       "      <td>7575</td>\n",
       "      <td>0</td>\n",
       "      <td>0</td>\n",
       "      <td>15</td>\n",
       "      <td>0</td>\n",
       "      <td>240</td>\n",
       "      <td>0</td>\n",
       "      <td>257404</td>\n",
       "      <td>1218</td>\n",
       "      <td>1142</td>\n",
       "    </tr>\n",
       "    <tr>\n",
       "      <th>2001</th>\n",
       "      <td>Bayview Village</td>\n",
       "      <td>2170</td>\n",
       "      <td>630</td>\n",
       "      <td>0</td>\n",
       "      <td>170</td>\n",
       "      <td>765</td>\n",
       "      <td>15</td>\n",
       "      <td>640</td>\n",
       "      <td>0</td>\n",
       "      <td>327644</td>\n",
       "      <td>1197</td>\n",
       "      <td>1164</td>\n",
       "    </tr>\n",
       "    <tr>\n",
       "      <th>2001</th>\n",
       "      <td>Bayview Woods-Steeles</td>\n",
       "      <td>1650</td>\n",
       "      <td>1715</td>\n",
       "      <td>0</td>\n",
       "      <td>925</td>\n",
       "      <td>105</td>\n",
       "      <td>10</td>\n",
       "      <td>170</td>\n",
       "      <td>5</td>\n",
       "      <td>343535</td>\n",
       "      <td>1212</td>\n",
       "      <td>1018</td>\n",
       "    </tr>\n",
       "    <tr>\n",
       "      <th>2001</th>\n",
       "      <td>Bedford Park-Nortown</td>\n",
       "      <td>4985</td>\n",
       "      <td>2080</td>\n",
       "      <td>0</td>\n",
       "      <td>45</td>\n",
       "      <td>40</td>\n",
       "      <td>210</td>\n",
       "      <td>1235</td>\n",
       "      <td>15</td>\n",
       "      <td>565304</td>\n",
       "      <td>933</td>\n",
       "      <td>1491</td>\n",
       "    </tr>\n",
       "  </tbody>\n",
       "</table>\n",
       "</div>"
      ],
      "text/plain": [
       "                     neighbourhood  single_detached_house  \\\n",
       "year                                                        \n",
       "2001               Agincourt North                   3715   \n",
       "2001  Agincourt South-Malvern West                   3250   \n",
       "2001                     Alderwood                   3175   \n",
       "2001                         Annex                   1060   \n",
       "2001             Banbury-Don Mills                   3615   \n",
       "2001                Bathurst Manor                   2405   \n",
       "2001           Bay Street Corridor                     10   \n",
       "2001               Bayview Village                   2170   \n",
       "2001         Bayview Woods-Steeles                   1650   \n",
       "2001          Bedford Park-Nortown                   4985   \n",
       "\n",
       "      apartment_five_storeys_plus  movable_dwelling  semi_detached_house  \\\n",
       "year                                                                       \n",
       "2001                         1480                 0                 1055   \n",
       "2001                         1835                 0                  545   \n",
       "2001                          315                 0                  470   \n",
       "2001                         6090                 5                 1980   \n",
       "2001                         4465                 0                  240   \n",
       "2001                         1550                 0                  130   \n",
       "2001                         7575                 0                    0   \n",
       "2001                          630                 0                  170   \n",
       "2001                         1715                 0                  925   \n",
       "2001                         2080                 0                   45   \n",
       "\n",
       "      row_house  duplex  apartment_five_storeys_less  other_house  \\\n",
       "year                                                                \n",
       "2001       1295     195                          185            5   \n",
       "2001        455     105                          425            0   \n",
       "2001         50     185                          370            0   \n",
       "2001        605     275                         3710          165   \n",
       "2001        380      15                         1360            0   \n",
       "2001        130     375                          745            0   \n",
       "2001         15       0                          240            0   \n",
       "2001        765      15                          640            0   \n",
       "2001        105      10                          170            5   \n",
       "2001         40     210                         1235           15   \n",
       "\n",
       "      average_house_value  shelter_costs_owned  shelter_costs_rented  \n",
       "year                                                                  \n",
       "2001               200388                  810                   870  \n",
       "2001               203047                  806                   892  \n",
       "2001               259998                  817                   924  \n",
       "2001               453850                 1027                  1378  \n",
       "2001               371864                 1007                  1163  \n",
       "2001               304749                  843                  1052  \n",
       "2001               257404                 1218                  1142  \n",
       "2001               327644                 1197                  1164  \n",
       "2001               343535                 1212                  1018  \n",
       "2001               565304                  933                  1491  "
      ]
     },
     "execution_count": 57,
     "metadata": {},
     "output_type": "execute_result"
    }
   ],
   "source": [
    "# Fetch the data of all dwelling types per year\n",
    "to_data.head(10)\n",
    "# YOUR CODE HERE!"
   ]
  },
  {
   "cell_type": "code",
   "execution_count": 66,
   "metadata": {},
   "outputs": [
    {
     "data": {
      "text/html": [
       "<div>\n",
       "<style scoped>\n",
       "    .dataframe tbody tr th:only-of-type {\n",
       "        vertical-align: middle;\n",
       "    }\n",
       "\n",
       "    .dataframe tbody tr th {\n",
       "        vertical-align: top;\n",
       "    }\n",
       "\n",
       "    .dataframe thead th {\n",
       "        text-align: right;\n",
       "    }\n",
       "</style>\n",
       "<table border=\"1\" class=\"dataframe\">\n",
       "  <thead>\n",
       "    <tr style=\"text-align: right;\">\n",
       "      <th></th>\n",
       "      <th>index</th>\n",
       "      <th>neighbourhood</th>\n",
       "    </tr>\n",
       "  </thead>\n",
       "  <tbody>\n",
       "    <tr>\n",
       "      <th>0</th>\n",
       "      <td>Agincourt North</td>\n",
       "      <td>4</td>\n",
       "    </tr>\n",
       "    <tr>\n",
       "      <th>1</th>\n",
       "      <td>Pelmo Park-Humberlea</td>\n",
       "      <td>4</td>\n",
       "    </tr>\n",
       "    <tr>\n",
       "      <th>2</th>\n",
       "      <td>O'Connor-Parkview</td>\n",
       "      <td>4</td>\n",
       "    </tr>\n",
       "    <tr>\n",
       "      <th>3</th>\n",
       "      <td>Oakridge</td>\n",
       "      <td>4</td>\n",
       "    </tr>\n",
       "    <tr>\n",
       "      <th>4</th>\n",
       "      <td>Oakwood Village</td>\n",
       "      <td>4</td>\n",
       "    </tr>\n",
       "    <tr>\n",
       "      <th>...</th>\n",
       "      <td>...</td>\n",
       "      <td>...</td>\n",
       "    </tr>\n",
       "    <tr>\n",
       "      <th>135</th>\n",
       "      <td>Eringate-Centennial-West Deane</td>\n",
       "      <td>4</td>\n",
       "    </tr>\n",
       "    <tr>\n",
       "      <th>136</th>\n",
       "      <td>Englemount-Lawrence</td>\n",
       "      <td>4</td>\n",
       "    </tr>\n",
       "    <tr>\n",
       "      <th>137</th>\n",
       "      <td>Elms-Old Rexdale</td>\n",
       "      <td>4</td>\n",
       "    </tr>\n",
       "    <tr>\n",
       "      <th>138</th>\n",
       "      <td>Eglinton East</td>\n",
       "      <td>4</td>\n",
       "    </tr>\n",
       "    <tr>\n",
       "      <th>139</th>\n",
       "      <td>Yorkdale-Glen Park</td>\n",
       "      <td>4</td>\n",
       "    </tr>\n",
       "  </tbody>\n",
       "</table>\n",
       "<p>140 rows × 2 columns</p>\n",
       "</div>"
      ],
      "text/plain": [
       "                              index  neighbourhood\n",
       "0                   Agincourt North              4\n",
       "1              Pelmo Park-Humberlea              4\n",
       "2                 O'Connor-Parkview              4\n",
       "3                          Oakridge              4\n",
       "4                   Oakwood Village              4\n",
       "..                              ...            ...\n",
       "135  Eringate-Centennial-West Deane              4\n",
       "136             Englemount-Lawrence              4\n",
       "137                Elms-Old Rexdale              4\n",
       "138                   Eglinton East              4\n",
       "139              Yorkdale-Glen Park              4\n",
       "\n",
       "[140 rows x 2 columns]"
      ]
     },
     "execution_count": 66,
     "metadata": {},
     "output_type": "execute_result"
    }
   ],
   "source": [
    "pd.DataFrame(to_data[\"neighbourhood\"].value_counts()).reset_index()"
   ]
  },
  {
   "cell_type": "code",
   "execution_count": 68,
   "metadata": {},
   "outputs": [
    {
     "data": {
      "text/plain": [
       "Index(['neighbourhood', 'single_detached_house', 'apartment_five_storeys_plus',\n",
       "       'movable_dwelling', 'semi_detached_house', 'row_house', 'duplex',\n",
       "       'apartment_five_storeys_less', 'other_house', 'average_house_value',\n",
       "       'shelter_costs_owned', 'shelter_costs_rented'],\n",
       "      dtype='object')"
      ]
     },
     "execution_count": 68,
     "metadata": {},
     "output_type": "execute_result"
    }
   ],
   "source": [
    "to_data.columns"
   ]
  },
  {
   "cell_type": "code",
   "execution_count": 70,
   "metadata": {},
   "outputs": [],
   "source": [
    "to_data[\"total_house\"] = to_data[[\"single_detached_house\", \"apartment_five_storeys_plus\", \"movable_dwelling\", \"semi_detached_house\", \"duplex\", \"row_house\", \"apartment_five_storeys_less\", \"other_house\"]].sum(axis=1)"
   ]
  },
  {
   "cell_type": "code",
   "execution_count": 86,
   "metadata": {},
   "outputs": [
    {
     "data": {},
     "metadata": {},
     "output_type": "display_data"
    },
    {
     "data": {
      "application/vnd.holoviews_exec.v0+json": "",
      "text/html": [
       "<div id='3053'>\n",
       "\n",
       "\n",
       "\n",
       "\n",
       "\n",
       "  <div class=\"bk-root\" id=\"629eeb70-f615-482c-afc3-5c4f91a2b513\" data-root-id=\"3053\"></div>\n",
       "</div>\n",
       "<script type=\"application/javascript\">(function(root) {\n",
       "  function embed_document(root) {\n",
       "    var docs_json = {\"84612349-903a-48ec-bd9c-a6078d031713\":{\"defs\":[{\"extends\":null,\"module\":null,\"name\":\"ReactiveHTML1\",\"overrides\":[],\"properties\":[]},{\"extends\":null,\"module\":null,\"name\":\"FlexBox1\",\"overrides\":[],\"properties\":[{\"default\":\"flex-start\",\"kind\":null,\"name\":\"align_content\"},{\"default\":\"flex-start\",\"kind\":null,\"name\":\"align_items\"},{\"default\":\"row\",\"kind\":null,\"name\":\"flex_direction\"},{\"default\":\"wrap\",\"kind\":null,\"name\":\"flex_wrap\"},{\"default\":\"flex-start\",\"kind\":null,\"name\":\"justify_content\"}]},{\"extends\":null,\"module\":null,\"name\":\"TemplateActions1\",\"overrides\":[],\"properties\":[{\"default\":0,\"kind\":null,\"name\":\"open_modal\"},{\"default\":0,\"kind\":null,\"name\":\"close_modal\"}]},{\"extends\":null,\"module\":null,\"name\":\"MaterialTemplateActions1\",\"overrides\":[],\"properties\":[{\"default\":0,\"kind\":null,\"name\":\"open_modal\"},{\"default\":0,\"kind\":null,\"name\":\"close_modal\"}]}],\"roots\":{\"references\":[{\"attributes\":{\"margin\":[5,5,5,5],\"name\":\"HSpacer04466\",\"sizing_mode\":\"stretch_width\"},\"id\":\"3136\",\"type\":\"Spacer\"},{\"attributes\":{},\"id\":\"3075\",\"type\":\"PanTool\"},{\"attributes\":{\"fill_color\":{\"field\":\"color\",\"transform\":{\"id\":\"3087\"}},\"hatch_color\":{\"field\":\"color\",\"transform\":{\"id\":\"3087\"}},\"top\":{\"field\":\"total_house\"},\"width\":{\"value\":0.8},\"x\":{\"field\":\"neighbourhood\"}},\"id\":\"3091\",\"type\":\"VBar\"},{\"attributes\":{\"fill_color\":{\"field\":\"color\",\"transform\":{\"id\":\"3087\"}},\"hatch_color\":{\"field\":\"color\",\"transform\":{\"id\":\"3087\"}},\"top\":{\"field\":\"total_house\"},\"width\":{\"value\":0.8},\"x\":{\"field\":\"neighbourhood\"}},\"id\":\"3093\",\"type\":\"VBar\"},{\"attributes\":{\"below\":[{\"id\":\"3067\"}],\"center\":[{\"id\":\"3069\"},{\"id\":\"3073\"},{\"id\":\"3108\"}],\"height\":300,\"left\":[{\"id\":\"3070\"}],\"margin\":[5,5,5,5],\"min_border_bottom\":10,\"min_border_left\":10,\"min_border_right\":10,\"min_border_top\":10,\"renderers\":[{\"id\":\"3096\"}],\"right\":[{\"id\":\"3108\"}],\"sizing_mode\":\"fixed\",\"title\":{\"id\":\"3059\"},\"toolbar\":{\"id\":\"3080\"},\"width\":900,\"x_range\":{\"id\":\"3055\"},\"x_scale\":{\"id\":\"3063\"},\"y_range\":{\"id\":\"3056\"},\"y_scale\":{\"id\":\"3065\"}},\"id\":\"3058\",\"subtype\":\"Figure\",\"type\":\"Plot\"},{\"attributes\":{},\"id\":\"3076\",\"type\":\"WheelZoomTool\"},{\"attributes\":{\"tools\":[{\"id\":\"3057\"},{\"id\":\"3074\"},{\"id\":\"3075\"},{\"id\":\"3076\"},{\"id\":\"3077\"},{\"id\":\"3078\"}]},\"id\":\"3080\",\"type\":\"Toolbar\"},{\"attributes\":{\"factors\":[\"Agincourt North\",\"Agincourt South-Malvern West\",\"Alderwood\",\"Annex\",\"Banbury-Don Mills\",\"Bathurst Manor\",\"Bay Street Corridor\",\"Bayview Village\",\"Bayview Woods-Steeles\",\"Bedford Park-Nortown\",\"Beechborough-Greenbrook\",\"Bendale\",\"Birchcliffe-Cliffside\",\"Black Creek\",\"Blake-Jones\",\"Briar Hill-Belgravia\",\"Bridle Path-Sunnybrook-York Mills\",\"Broadview North\",\"Brookhaven-Amesbury\",\"Cabbagetown-South St.James Town\",\"Caledonia-Fairbank\",\"Casa Loma\",\"Centennial Scarborough\",\"Church-Yonge Corridor\",\"Clairlea-Birchmount\",\"Clanton Park\",\"Cliffcrest\",\"Corso Italia-Davenport\",\"Danforth\",\"Danforth-East York\",\"Don Valley Village\",\"Dorset Park\",\"Dovercourt-Wallace Emerson-Juncti\",\"Downsview-Roding-CFB\",\"Dufferin Grove\",\"East End-Danforth\",\"Edenbridge-Humber Valley\",\"Eglinton East\",\"Elms-Old Rexdale\",\"Englemount-Lawrence\",\"Eringate-Centennial-West Deane\",\"Etobicoke West Mall\",\"Flemingdon Park\",\"Forest Hill North\",\"Forest Hill South\",\"Glenfield-Jane Heights\",\"Greenwood-Coxwell\",\"Guildwood\",\"Henry Farm\",\"High Park North\",\"High Park-Swansea\",\"Highland Creek\",\"Hillcrest Village\",\"Humber Heights-Westmount\",\"Humber Summit\",\"Humbermede\",\"Humewood-Cedarvale\",\"Ionview\",\"Islington-City Centre West\",\"Junction Area\",\"Keelesdale-Eglinton West\",\"Kennedy Park\",\"Kensington-Chinatown\",\"Kingsview Village-The Westway\",\"Kingsway South\",\"L'Amoreaux\",\"Lambton Baby Point\",\"Lansing-Westgate\",\"Lawrence Park North\",\"Lawrence Park South\",\"Leaside-Bennington\",\"Little Portugal\",\"Long Branch\",\"Malvern\",\"Maple Leaf\",\"Markland Wood\",\"Milliken\",\"Mimico\",\"Morningside\",\"Moss Park\",\"Mount Dennis\",\"Mount Olive-Silverstone-Jamestown\",\"Mount Pleasant East\",\"Mount Pleasant West\",\"New Toronto\",\"Newtonbrook East\",\"Newtonbrook West\",\"Niagara\",\"North Riverdale\",\"North St.James Town\",\"O'Connor-Parkview\",\"Oakridge\",\"Oakwood Village\",\"Old East York\",\"Palmerston-Little Italy\",\"Parkwoods-Donalda\",\"Pelmo Park-Humberlea\",\"Playter Estates-Danforth\",\"Pleasant View\",\"Princess-Rosethorn\",\"Regent Park\",\"Rexdale-Kipling\",\"Rockcliffe-Smythe\",\"Roncesvalles\",\"Rosedale-Moore Park\",\"Rouge\",\"Runnymede-Bloor West Village\",\"Rustic\",\"Scarborough Village\",\"South Parkdale\",\"South Riverdale\",\"St.Andrew-Windfields\",\"Steeles\",\"Stonegate-Queensway\",\"Tam O'Shanter-Sullivan\",\"Taylor-Massey\",\"The Beaches\",\"Thistletown-Beaumond Heights\",\"Thorncliffe Park\",\"Trinity-Bellwoods\",\"University\",\"Victoria Village\",\"Waterfront Communities-The Island\",\"West Hill\",\"West Humber-Clairville\",\"Westminster-Branson\",\"Weston\",\"Weston-Pellam Park\",\"Wexford/Maryvale\",\"Willowdale East\",\"Willowdale West\",\"Willowridge-Martingrove-Richview\",\"Woburn\",\"Woodbine Corridor\",\"Woodbine-Lumsden\",\"Wychwood\",\"Yonge-Eglinton\",\"Yonge-St.Clair\",\"York University Heights\",\"Yorkdale-Glen Park\"],\"palette\":[\"#440154\",\"#440255\",\"#440357\",\"#450558\",\"#45065a\",\"#45085b\",\"#46095c\",\"#460b5e\",\"#460c5f\",\"#460e61\",\"#470f62\",\"#471163\",\"#471265\",\"#471466\",\"#471567\",\"#471669\",\"#47186a\",\"#48196b\",\"#481a6c\",\"#481c6e\",\"#481d6f\",\"#481e70\",\"#482071\",\"#482172\",\"#482273\",\"#482374\",\"#472575\",\"#472676\",\"#472777\",\"#472878\",\"#472a79\",\"#472b7a\",\"#472c7b\",\"#462d7c\",\"#462f7c\",\"#46307d\",\"#46317e\",\"#45327f\",\"#45347f\",\"#453580\",\"#453681\",\"#443781\",\"#443982\",\"#433a83\",\"#433b83\",\"#433c84\",\"#423d84\",\"#423e85\",\"#424085\",\"#414186\",\"#414286\",\"#404387\",\"#404487\",\"#3f4587\",\"#3f4788\",\"#3e4888\",\"#3e4989\",\"#3d4a89\",\"#3d4b89\",\"#3d4c89\",\"#3c4d8a\",\"#3c4e8a\",\"#3b508a\",\"#3b518a\",\"#3a528b\",\"#3a538b\",\"#39548b\",\"#39558b\",\"#38568b\",\"#38578c\",\"#37588c\",\"#37598c\",\"#365a8c\",\"#365b8c\",\"#355c8c\",\"#355d8c\",\"#345e8d\",\"#345f8d\",\"#33608d\",\"#33618d\",\"#32628d\",\"#32638d\",\"#31648d\",\"#31658d\",\"#31668d\",\"#30678d\",\"#30688d\",\"#2f698d\",\"#2f6a8d\",\"#2e6b8e\",\"#2e6c8e\",\"#2e6d8e\",\"#2d6e8e\",\"#2d6f8e\",\"#2c708e\",\"#2c718e\",\"#2c728e\",\"#2b738e\",\"#2b748e\",\"#2a758e\",\"#2a768e\",\"#2a778e\",\"#29788e\",\"#29798e\",\"#287a8e\",\"#287a8e\",\"#287b8e\",\"#277c8e\",\"#277d8e\",\"#277e8e\",\"#267f8e\",\"#26808e\",\"#26818e\",\"#25828e\",\"#25838d\",\"#24848d\",\"#24858d\",\"#24868d\",\"#23878d\",\"#23888d\",\"#23898d\",\"#22898d\",\"#228a8d\",\"#228b8d\",\"#218c8d\",\"#218d8c\",\"#218e8c\",\"#208f8c\",\"#20908c\",\"#20918c\",\"#1f928c\",\"#1f938b\",\"#1f948b\",\"#1f958b\",\"#1f968b\",\"#1e978a\",\"#1e988a\",\"#1e998a\",\"#1e998a\",\"#1e9a89\"]},\"id\":\"3087\",\"type\":\"CategoricalColorMapper\"},{\"attributes\":{\"overlay\":{\"id\":\"3079\"}},\"id\":\"3077\",\"type\":\"BoxZoomTool\"},{\"attributes\":{\"coordinates\":null,\"group\":null,\"text\":\"Number of Dwelling Types per Neighbourhood\",\"text_color\":\"black\",\"text_font_size\":\"12pt\"},\"id\":\"3059\",\"type\":\"Title\"},{\"attributes\":{\"fill_alpha\":{\"value\":0.1},\"fill_color\":{\"field\":\"color\",\"transform\":{\"id\":\"3087\"}},\"hatch_alpha\":{\"value\":0.1},\"hatch_color\":{\"field\":\"color\",\"transform\":{\"id\":\"3087\"}},\"line_alpha\":{\"value\":0.1},\"top\":{\"field\":\"total_house\"},\"width\":{\"value\":0.8},\"x\":{\"field\":\"neighbourhood\"}},\"id\":\"3092\",\"type\":\"VBar\"},{\"attributes\":{},\"id\":\"3065\",\"type\":\"LinearScale\"},{\"attributes\":{\"source\":{\"id\":\"3088\"}},\"id\":\"3097\",\"type\":\"CDSView\"},{\"attributes\":{\"label\":{\"field\":\"color\"},\"renderers\":[{\"id\":\"3096\"}]},\"id\":\"3109\",\"type\":\"LegendItem\"},{\"attributes\":{},\"id\":\"3078\",\"type\":\"ResetTool\"},{\"attributes\":{},\"id\":\"3068\",\"type\":\"CategoricalTicker\"},{\"attributes\":{\"axis\":{\"id\":\"3070\"},\"coordinates\":null,\"dimension\":1,\"grid_line_color\":null,\"group\":null,\"ticker\":null},\"id\":\"3073\",\"type\":\"Grid\"},{\"attributes\":{\"axis_label\":\"neighbourhood\",\"coordinates\":null,\"formatter\":{\"id\":\"3103\"},\"group\":null,\"major_label_policy\":{\"id\":\"3104\"},\"ticker\":{\"id\":\"3068\"}},\"id\":\"3067\",\"type\":\"CategoricalAxis\"},{\"attributes\":{\"factors\":[\"Agincourt North\",\"Agincourt South-Malvern West\",\"Alderwood\",\"Annex\",\"Banbury-Don Mills\",\"Bathurst Manor\",\"Bay Street Corridor\",\"Bayview Village\",\"Bayview Woods-Steeles\",\"Bedford Park-Nortown\",\"Beechborough-Greenbrook\",\"Bendale\",\"Birchcliffe-Cliffside\",\"Black Creek\",\"Blake-Jones\",\"Briar Hill-Belgravia\",\"Bridle Path-Sunnybrook-York Mills\",\"Broadview North\",\"Brookhaven-Amesbury\",\"Cabbagetown-South St.James Town\",\"Caledonia-Fairbank\",\"Casa Loma\",\"Centennial Scarborough\",\"Church-Yonge Corridor\",\"Clairlea-Birchmount\",\"Clanton Park\",\"Cliffcrest\",\"Corso Italia-Davenport\",\"Danforth\",\"Danforth-East York\",\"Don Valley Village\",\"Dorset Park\",\"Dovercourt-Wallace Emerson-Juncti\",\"Downsview-Roding-CFB\",\"Dufferin Grove\",\"East End-Danforth\",\"Edenbridge-Humber Valley\",\"Eglinton East\",\"Elms-Old Rexdale\",\"Englemount-Lawrence\",\"Eringate-Centennial-West Deane\",\"Etobicoke West Mall\",\"Flemingdon Park\",\"Forest Hill North\",\"Forest Hill South\",\"Glenfield-Jane Heights\",\"Greenwood-Coxwell\",\"Guildwood\",\"Henry Farm\",\"High Park North\",\"High Park-Swansea\",\"Highland Creek\",\"Hillcrest Village\",\"Humber Heights-Westmount\",\"Humber Summit\",\"Humbermede\",\"Humewood-Cedarvale\",\"Ionview\",\"Islington-City Centre West\",\"Junction Area\",\"Keelesdale-Eglinton West\",\"Kennedy Park\",\"Kensington-Chinatown\",\"Kingsview Village-The Westway\",\"Kingsway South\",\"L'Amoreaux\",\"Lambton Baby Point\",\"Lansing-Westgate\",\"Lawrence Park North\",\"Lawrence Park South\",\"Leaside-Bennington\",\"Little Portugal\",\"Long Branch\",\"Malvern\",\"Maple Leaf\",\"Markland Wood\",\"Milliken\",\"Mimico\",\"Morningside\",\"Moss Park\",\"Mount Dennis\",\"Mount Olive-Silverstone-Jamestown\",\"Mount Pleasant East\",\"Mount Pleasant West\",\"New Toronto\",\"Newtonbrook East\",\"Newtonbrook West\",\"Niagara\",\"North Riverdale\",\"North St.James Town\",\"O'Connor-Parkview\",\"Oakridge\",\"Oakwood Village\",\"Old East York\",\"Palmerston-Little Italy\",\"Parkwoods-Donalda\",\"Pelmo Park-Humberlea\",\"Playter Estates-Danforth\",\"Pleasant View\",\"Princess-Rosethorn\",\"Regent Park\",\"Rexdale-Kipling\",\"Rockcliffe-Smythe\",\"Roncesvalles\",\"Rosedale-Moore Park\",\"Rouge\",\"Runnymede-Bloor West Village\",\"Rustic\",\"Scarborough Village\",\"South Parkdale\",\"South Riverdale\",\"St.Andrew-Windfields\",\"Steeles\",\"Stonegate-Queensway\",\"Tam O'Shanter-Sullivan\",\"Taylor-Massey\",\"The Beaches\",\"Thistletown-Beaumond Heights\",\"Thorncliffe Park\",\"Trinity-Bellwoods\",\"University\",\"Victoria Village\",\"Waterfront Communities-The Island\",\"West Hill\",\"West Humber-Clairville\",\"Westminster-Branson\",\"Weston\",\"Weston-Pellam Park\",\"Wexford/Maryvale\",\"Willowdale East\",\"Willowdale West\",\"Willowridge-Martingrove-Richview\",\"Woburn\",\"Woodbine Corridor\",\"Woodbine-Lumsden\",\"Wychwood\",\"Yonge-Eglinton\",\"Yonge-St.Clair\",\"York University Heights\",\"Yorkdale-Glen Park\"],\"tags\":[[[\"neighbourhood\",\"neighbourhood\",null]]]},\"id\":\"3055\",\"type\":\"FactorRange\"},{\"attributes\":{\"bottom_units\":\"screen\",\"coordinates\":null,\"fill_alpha\":0.5,\"fill_color\":\"lightgrey\",\"group\":null,\"left_units\":\"screen\",\"level\":\"overlay\",\"line_alpha\":1.0,\"line_color\":\"black\",\"line_dash\":[4,4],\"line_width\":2,\"right_units\":\"screen\",\"syncable\":false,\"top_units\":\"screen\"},\"id\":\"3079\",\"type\":\"BoxAnnotation\"},{\"attributes\":{},\"id\":\"3063\",\"type\":\"CategoricalScale\"},{\"attributes\":{\"margin\":[5,5,5,5],\"name\":\"HSpacer04465\",\"sizing_mode\":\"stretch_width\"},\"id\":\"3054\",\"type\":\"Spacer\"},{\"attributes\":{},\"id\":\"3100\",\"type\":\"BasicTickFormatter\"},{\"attributes\":{},\"id\":\"3104\",\"type\":\"AllLabels\"},{\"attributes\":{\"axis\":{\"id\":\"3067\"},\"coordinates\":null,\"grid_line_color\":null,\"group\":null,\"ticker\":null},\"id\":\"3069\",\"type\":\"Grid\"},{\"attributes\":{\"data\":{\"color\":[\"Agincourt North\",\"Agincourt South-Malvern West\",\"Alderwood\",\"Annex\",\"Banbury-Don Mills\",\"Bathurst Manor\",\"Bay Street Corridor\",\"Bayview Village\",\"Bayview Woods-Steeles\",\"Bedford Park-Nortown\",\"Beechborough-Greenbrook\",\"Bendale\",\"Birchcliffe-Cliffside\",\"Black Creek\",\"Blake-Jones\",\"Briar Hill-Belgravia\",\"Bridle Path-Sunnybrook-York Mills\",\"Broadview North\",\"Brookhaven-Amesbury\",\"Cabbagetown-South St.James Town\",\"Caledonia-Fairbank\",\"Casa Loma\",\"Centennial Scarborough\",\"Church-Yonge Corridor\",\"Clairlea-Birchmount\",\"Clanton Park\",\"Cliffcrest\",\"Corso Italia-Davenport\",\"Danforth\",\"Danforth-East York\",\"Don Valley Village\",\"Dorset Park\",\"Dovercourt-Wallace Emerson-Juncti\",\"Downsview-Roding-CFB\",\"Dufferin Grove\",\"East End-Danforth\",\"Edenbridge-Humber Valley\",\"Eglinton East\",\"Elms-Old Rexdale\",\"Englemount-Lawrence\",\"Eringate-Centennial-West Deane\",\"Etobicoke West Mall\",\"Flemingdon Park\",\"Forest Hill North\",\"Forest Hill South\",\"Glenfield-Jane Heights\",\"Greenwood-Coxwell\",\"Guildwood\",\"Henry Farm\",\"High Park North\",\"High Park-Swansea\",\"Highland Creek\",\"Hillcrest Village\",\"Humber Heights-Westmount\",\"Humber Summit\",\"Humbermede\",\"Humewood-Cedarvale\",\"Ionview\",\"Islington-City Centre West\",\"Junction Area\",\"Keelesdale-Eglinton West\",\"Kennedy Park\",\"Kensington-Chinatown\",\"Kingsview Village-The Westway\",\"Kingsway South\",\"L'Amoreaux\",\"Lambton Baby Point\",\"Lansing-Westgate\",\"Lawrence Park North\",\"Lawrence Park South\",\"Leaside-Bennington\",\"Little Portugal\",\"Long Branch\",\"Malvern\",\"Maple Leaf\",\"Markland Wood\",\"Milliken\",\"Mimico\",\"Morningside\",\"Moss Park\",\"Mount Dennis\",\"Mount Olive-Silverstone-Jamestown\",\"Mount Pleasant East\",\"Mount Pleasant West\",\"New Toronto\",\"Newtonbrook East\",\"Newtonbrook West\",\"Niagara\",\"North Riverdale\",\"North St.James Town\",\"O'Connor-Parkview\",\"Oakridge\",\"Oakwood Village\",\"Old East York\",\"Palmerston-Little Italy\",\"Parkwoods-Donalda\",\"Pelmo Park-Humberlea\",\"Playter Estates-Danforth\",\"Pleasant View\",\"Princess-Rosethorn\",\"Regent Park\",\"Rexdale-Kipling\",\"Rockcliffe-Smythe\",\"Roncesvalles\",\"Rosedale-Moore Park\",\"Rouge\",\"Runnymede-Bloor West Village\",\"Rustic\",\"Scarborough Village\",\"South Parkdale\",\"South Riverdale\",\"St.Andrew-Windfields\",\"Steeles\",\"Stonegate-Queensway\",\"Tam O'Shanter-Sullivan\",\"Taylor-Massey\",\"The Beaches\",\"Thistletown-Beaumond Heights\",\"Thorncliffe Park\",\"Trinity-Bellwoods\",\"University\",\"Victoria Village\",\"Waterfront Communities-The Island\",\"West Hill\",\"West Humber-Clairville\",\"Westminster-Branson\",\"Weston\",\"Weston-Pellam Park\",\"Wexford/Maryvale\",\"Willowdale East\",\"Willowdale West\",\"Willowridge-Martingrove-Richview\",\"Woburn\",\"Woodbine Corridor\",\"Woodbine-Lumsden\",\"Wychwood\",\"Yonge-Eglinton\",\"Yonge-St.Clair\",\"York University Heights\",\"Yorkdale-Glen Park\",\"Agincourt North\",\"Agincourt South-Malvern West\",\"Alderwood\",\"Annex\",\"Banbury-Don Mills\",\"Bathurst Manor\",\"Bay Street Corridor\",\"Bayview Village\",\"Bayview Woods-Steeles\",\"Bedford Park-Nortown\",\"Beechborough-Greenbrook\",\"Bendale\",\"Birchcliffe-Cliffside\",\"Black Creek\",\"Blake-Jones\",\"Briar Hill-Belgravia\",\"Bridle Path-Sunnybrook-York Mills\",\"Broadview North\",\"Brookhaven-Amesbury\",\"Cabbagetown-South St.James Town\",\"Caledonia-Fairbank\",\"Casa Loma\",\"Centennial Scarborough\",\"Church-Yonge Corridor\",\"Clairlea-Birchmount\",\"Clanton Park\",\"Cliffcrest\",\"Corso Italia-Davenport\",\"Danforth\",\"Danforth-East York\",\"Don Valley Village\",\"Dorset Park\",\"Dovercourt-Wallace Emerson-Juncti\",\"Downsview-Roding-CFB\",\"Dufferin Grove\",\"East End-Danforth\",\"Edenbridge-Humber Valley\",\"Eglinton East\",\"Elms-Old Rexdale\",\"Englemount-Lawrence\",\"Eringate-Centennial-West Deane\",\"Etobicoke West Mall\",\"Flemingdon Park\",\"Forest Hill North\",\"Forest Hill South\",\"Glenfield-Jane Heights\",\"Greenwood-Coxwell\",\"Guildwood\",\"Henry Farm\",\"High Park North\",\"High Park-Swansea\",\"Highland Creek\",\"Hillcrest Village\",\"Humber Heights-Westmount\",\"Humber Summit\",\"Humbermede\",\"Humewood-Cedarvale\",\"Ionview\",\"Islington-City Centre West\",\"Junction Area\",\"Keelesdale-Eglinton West\",\"Kennedy Park\",\"Kensington-Chinatown\",\"Kingsview Village-The Westway\",\"Kingsway South\",\"L'Amoreaux\",\"Lambton Baby Point\",\"Lansing-Westgate\",\"Lawrence Park North\",\"Lawrence Park South\",\"Leaside-Bennington\",\"Little Portugal\",\"Long Branch\",\"Malvern\",\"Maple Leaf\",\"Markland Wood\",\"Milliken\",\"Mimico\",\"Morningside\",\"Moss Park\",\"Mount Dennis\",\"Mount Olive-Silverstone-Jamestown\",\"Mount Pleasant East\",\"Mount Pleasant West\",\"New Toronto\",\"Newtonbrook East\",\"Newtonbrook West\",\"Niagara\",\"North Riverdale\",\"North St.James Town\",\"O'Connor-Parkview\",\"Oakridge\",\"Oakwood Village\",\"Old East York\",\"Palmerston-Little Italy\",\"Parkwoods-Donalda\",\"Pelmo Park-Humberlea\",\"Playter Estates-Danforth\",\"Pleasant View\",\"Princess-Rosethorn\",\"Regent Park\",\"Rexdale-Kipling\",\"Rockcliffe-Smythe\",\"Roncesvalles\",\"Rosedale-Moore Park\",\"Rouge\",\"Runnymede-Bloor West Village\",\"Rustic\",\"Scarborough Village\",\"South Parkdale\",\"South Riverdale\",\"St.Andrew-Windfields\",\"Steeles\",\"Stonegate-Queensway\",\"Tam O'Shanter-Sullivan\",\"Taylor-Massey\",\"The Beaches\",\"Thistletown-Beaumond Heights\",\"Thorncliffe Park\",\"Trinity-Bellwoods\",\"University\",\"Victoria Village\",\"Waterfront Communities-The Island\",\"West Hill\",\"West Humber-Clairville\",\"Westminster-Branson\",\"Weston\",\"Weston-Pellam Park\",\"Wexford/Maryvale\",\"Willowdale East\",\"Willowdale West\",\"Willowridge-Martingrove-Richview\",\"Woburn\",\"Woodbine Corridor\",\"Woodbine-Lumsden\",\"Wychwood\",\"Yonge-Eglinton\",\"Yonge-St.Clair\",\"York University Heights\",\"Yorkdale-Glen Park\",\"Agincourt North\",\"Agincourt South-Malvern West\",\"Alderwood\",\"Annex\",\"Banbury-Don Mills\",\"Bathurst Manor\",\"Bay Street Corridor\",\"Bayview Village\",\"Bayview Woods-Steeles\",\"Bedford Park-Nortown\",\"Beechborough-Greenbrook\",\"Bendale\",\"Birchcliffe-Cliffside\",\"Black Creek\",\"Blake-Jones\",\"Briar Hill-Belgravia\",\"Bridle Path-Sunnybrook-York Mills\",\"Broadview North\",\"Brookhaven-Amesbury\",\"Cabbagetown-South St.James Town\",\"Caledonia-Fairbank\",\"Casa Loma\",\"Centennial Scarborough\",\"Church-Yonge Corridor\",\"Clairlea-Birchmount\",\"Clanton Park\",\"Cliffcrest\",\"Corso Italia-Davenport\",\"Danforth\",\"Danforth-East York\",\"Don Valley Village\",\"Dorset Park\",\"Dovercourt-Wallace Emerson-Juncti\",\"Downsview-Roding-CFB\",\"Dufferin Grove\",\"East End-Danforth\",\"Edenbridge-Humber Valley\",\"Eglinton East\",\"Elms-Old Rexdale\",\"Englemount-Lawrence\",\"Eringate-Centennial-West Deane\",\"Etobicoke West Mall\",\"Flemingdon Park\",\"Forest Hill North\",\"Forest Hill South\",\"Glenfield-Jane Heights\",\"Greenwood-Coxwell\",\"Guildwood\",\"Henry Farm\",\"High Park North\",\"High Park-Swansea\",\"Highland Creek\",\"Hillcrest Village\",\"Humber Heights-Westmount\",\"Humber Summit\",\"Humbermede\",\"Humewood-Cedarvale\",\"Ionview\",\"Islington-City Centre West\",\"Junction Area\",\"Keelesdale-Eglinton West\",\"Kennedy Park\",\"Kensington-Chinatown\",\"Kingsview Village-The Westway\",\"Kingsway South\",\"L'Amoreaux\",\"Lambton Baby Point\",\"Lansing-Westgate\",\"Lawrence Park North\",\"Lawrence Park South\",\"Leaside-Bennington\",\"Little Portugal\",\"Long Branch\",\"Malvern\",\"Maple Leaf\",\"Markland Wood\",\"Milliken\",\"Mimico\",\"Morningside\",\"Moss Park\",\"Mount Dennis\",\"Mount Olive-Silverstone-Jamestown\",\"Mount Pleasant East\",\"Mount Pleasant West\",\"New Toronto\",\"Newtonbrook East\",\"Newtonbrook West\",\"Niagara\",\"North Riverdale\",\"North St.James Town\",\"O'Connor-Parkview\",\"Oakridge\",\"Oakwood Village\",\"Old East York\",\"Palmerston-Little Italy\",\"Parkwoods-Donalda\",\"Pelmo Park-Humberlea\",\"Playter Estates-Danforth\",\"Pleasant View\",\"Princess-Rosethorn\",\"Regent Park\",\"Rexdale-Kipling\",\"Rockcliffe-Smythe\",\"Roncesvalles\",\"Rosedale-Moore Park\",\"Rouge\",\"Runnymede-Bloor West Village\",\"Rustic\",\"Scarborough Village\",\"South Parkdale\",\"South Riverdale\",\"St.Andrew-Windfields\",\"Steeles\",\"Stonegate-Queensway\",\"Tam O'Shanter-Sullivan\",\"Taylor-Massey\",\"The Beaches\",\"Thistletown-Beaumond Heights\",\"Thorncliffe Park\",\"Trinity-Bellwoods\",\"University\",\"Victoria Village\",\"Waterfront Communities-The Island\",\"West Hill\",\"West Humber-Clairville\",\"Westminster-Branson\",\"Weston\",\"Weston-Pellam Park\",\"Wexford/Maryvale\",\"Willowdale East\",\"Willowdale West\",\"Willowridge-Martingrove-Richview\",\"Woburn\",\"Woodbine Corridor\",\"Woodbine-Lumsden\",\"Wychwood\",\"Yonge-Eglinton\",\"Yonge-St.Clair\",\"York University Heights\",\"Yorkdale-Glen Park\",\"Agincourt North\",\"Agincourt South-Malvern West\",\"Alderwood\",\"Annex\",\"Banbury-Don Mills\",\"Bathurst Manor\",\"Bay Street Corridor\",\"Bayview Village\",\"Bayview Woods-Steeles\",\"Bedford Park-Nortown\",\"Beechborough-Greenbrook\",\"Bendale\",\"Birchcliffe-Cliffside\",\"Black Creek\",\"Blake-Jones\",\"Briar Hill-Belgravia\",\"Bridle Path-Sunnybrook-York Mills\",\"Broadview North\",\"Brookhaven-Amesbury\",\"Cabbagetown-South St.James Town\",\"Caledonia-Fairbank\",\"Casa Loma\",\"Centennial Scarborough\",\"Church-Yonge Corridor\",\"Clairlea-Birchmount\",\"Clanton Park\",\"Cliffcrest\",\"Corso Italia-Davenport\",\"Danforth\",\"Danforth-East York\",\"Don Valley Village\",\"Dorset Park\",\"Dovercourt-Wallace Emerson-Juncti\",\"Downsview-Roding-CFB\",\"Dufferin Grove\",\"East End-Danforth\",\"Edenbridge-Humber Valley\",\"Eglinton East\",\"Elms-Old Rexdale\",\"Englemount-Lawrence\",\"Eringate-Centennial-West Deane\",\"Etobicoke West Mall\",\"Flemingdon Park\",\"Forest Hill North\",\"Forest Hill South\",\"Glenfield-Jane Heights\",\"Greenwood-Coxwell\",\"Guildwood\",\"Henry Farm\",\"High Park North\",\"High Park-Swansea\",\"Highland Creek\",\"Hillcrest Village\",\"Humber Heights-Westmount\",\"Humber Summit\",\"Humbermede\",\"Humewood-Cedarvale\",\"Ionview\",\"Islington-City Centre West\",\"Junction Area\",\"Keelesdale-Eglinton West\",\"Kennedy Park\",\"Kensington-Chinatown\",\"Kingsview Village-The Westway\",\"Kingsway South\",\"L'Amoreaux\",\"Lambton Baby Point\",\"Lansing-Westgate\",\"Lawrence Park North\",\"Lawrence Park South\",\"Leaside-Bennington\",\"Little Portugal\",\"Long Branch\",\"Malvern\",\"Maple Leaf\",\"Markland Wood\",\"Milliken\",\"Mimico\",\"Morningside\",\"Moss Park\",\"Mount Dennis\",\"Mount Olive-Silverstone-Jamestown\",\"Mount Pleasant East\",\"Mount Pleasant West\",\"New Toronto\",\"Newtonbrook East\",\"Newtonbrook West\",\"Niagara\",\"North Riverdale\",\"North St.James Town\",\"O'Connor-Parkview\",\"Oakridge\",\"Oakwood Village\",\"Old East York\",\"Palmerston-Little Italy\",\"Parkwoods-Donalda\",\"Pelmo Park-Humberlea\",\"Playter Estates-Danforth\",\"Pleasant View\",\"Princess-Rosethorn\",\"Regent Park\",\"Rexdale-Kipling\",\"Rockcliffe-Smythe\",\"Roncesvalles\",\"Rosedale-Moore Park\",\"Rouge\",\"Runnymede-Bloor West Village\",\"Rustic\",\"Scarborough Village\",\"South Parkdale\",\"South Riverdale\",\"St.Andrew-Windfields\",\"Steeles\",\"Stonegate-Queensway\",\"Tam O'Shanter-Sullivan\",\"Taylor-Massey\",\"The Beaches\",\"Thistletown-Beaumond Heights\",\"Thorncliffe Park\",\"Trinity-Bellwoods\",\"University\",\"Victoria Village\",\"Waterfront Communities-The Island\",\"West Hill\",\"West Humber-Clairville\",\"Westminster-Branson\",\"Weston\",\"Weston-Pellam Park\",\"Wexford/Maryvale\",\"Willowdale East\",\"Willowdale West\",\"Willowridge-Martingrove-Richview\",\"Woburn\",\"Woodbine Corridor\",\"Woodbine-Lumsden\",\"Wychwood\",\"Yonge-Eglinton\",\"Yonge-St.Clair\",\"York University Heights\",\"Yorkdale-Glen Park\"],\"neighbourhood\":[\"Agincourt North\",\"Agincourt South-Malvern West\",\"Alderwood\",\"Annex\",\"Banbury-Don Mills\",\"Bathurst Manor\",\"Bay Street Corridor\",\"Bayview Village\",\"Bayview Woods-Steeles\",\"Bedford Park-Nortown\",\"Beechborough-Greenbrook\",\"Bendale\",\"Birchcliffe-Cliffside\",\"Black Creek\",\"Blake-Jones\",\"Briar Hill-Belgravia\",\"Bridle Path-Sunnybrook-York Mills\",\"Broadview North\",\"Brookhaven-Amesbury\",\"Cabbagetown-South St.James Town\",\"Caledonia-Fairbank\",\"Casa Loma\",\"Centennial Scarborough\",\"Church-Yonge Corridor\",\"Clairlea-Birchmount\",\"Clanton Park\",\"Cliffcrest\",\"Corso Italia-Davenport\",\"Danforth\",\"Danforth-East York\",\"Don Valley Village\",\"Dorset Park\",\"Dovercourt-Wallace Emerson-Juncti\",\"Downsview-Roding-CFB\",\"Dufferin Grove\",\"East End-Danforth\",\"Edenbridge-Humber Valley\",\"Eglinton East\",\"Elms-Old Rexdale\",\"Englemount-Lawrence\",\"Eringate-Centennial-West Deane\",\"Etobicoke West Mall\",\"Flemingdon Park\",\"Forest Hill North\",\"Forest Hill South\",\"Glenfield-Jane Heights\",\"Greenwood-Coxwell\",\"Guildwood\",\"Henry Farm\",\"High Park North\",\"High Park-Swansea\",\"Highland Creek\",\"Hillcrest Village\",\"Humber Heights-Westmount\",\"Humber Summit\",\"Humbermede\",\"Humewood-Cedarvale\",\"Ionview\",\"Islington-City Centre West\",\"Junction Area\",\"Keelesdale-Eglinton West\",\"Kennedy Park\",\"Kensington-Chinatown\",\"Kingsview Village-The Westway\",\"Kingsway South\",\"L'Amoreaux\",\"Lambton Baby Point\",\"Lansing-Westgate\",\"Lawrence Park North\",\"Lawrence Park South\",\"Leaside-Bennington\",\"Little Portugal\",\"Long Branch\",\"Malvern\",\"Maple Leaf\",\"Markland Wood\",\"Milliken\",\"Mimico\",\"Morningside\",\"Moss Park\",\"Mount Dennis\",\"Mount Olive-Silverstone-Jamestown\",\"Mount Pleasant East\",\"Mount Pleasant West\",\"New Toronto\",\"Newtonbrook East\",\"Newtonbrook West\",\"Niagara\",\"North Riverdale\",\"North St.James Town\",\"O'Connor-Parkview\",\"Oakridge\",\"Oakwood Village\",\"Old East York\",\"Palmerston-Little Italy\",\"Parkwoods-Donalda\",\"Pelmo Park-Humberlea\",\"Playter Estates-Danforth\",\"Pleasant View\",\"Princess-Rosethorn\",\"Regent Park\",\"Rexdale-Kipling\",\"Rockcliffe-Smythe\",\"Roncesvalles\",\"Rosedale-Moore Park\",\"Rouge\",\"Runnymede-Bloor West Village\",\"Rustic\",\"Scarborough Village\",\"South Parkdale\",\"South Riverdale\",\"St.Andrew-Windfields\",\"Steeles\",\"Stonegate-Queensway\",\"Tam O'Shanter-Sullivan\",\"Taylor-Massey\",\"The Beaches\",\"Thistletown-Beaumond Heights\",\"Thorncliffe Park\",\"Trinity-Bellwoods\",\"University\",\"Victoria Village\",\"Waterfront Communities-The Island\",\"West Hill\",\"West Humber-Clairville\",\"Westminster-Branson\",\"Weston\",\"Weston-Pellam Park\",\"Wexford/Maryvale\",\"Willowdale East\",\"Willowdale West\",\"Willowridge-Martingrove-Richview\",\"Woburn\",\"Woodbine Corridor\",\"Woodbine-Lumsden\",\"Wychwood\",\"Yonge-Eglinton\",\"Yonge-St.Clair\",\"York University Heights\",\"Yorkdale-Glen Park\",\"Agincourt North\",\"Agincourt South-Malvern West\",\"Alderwood\",\"Annex\",\"Banbury-Don Mills\",\"Bathurst Manor\",\"Bay Street Corridor\",\"Bayview Village\",\"Bayview Woods-Steeles\",\"Bedford Park-Nortown\",\"Beechborough-Greenbrook\",\"Bendale\",\"Birchcliffe-Cliffside\",\"Black Creek\",\"Blake-Jones\",\"Briar Hill-Belgravia\",\"Bridle Path-Sunnybrook-York Mills\",\"Broadview North\",\"Brookhaven-Amesbury\",\"Cabbagetown-South St.James Town\",\"Caledonia-Fairbank\",\"Casa Loma\",\"Centennial Scarborough\",\"Church-Yonge Corridor\",\"Clairlea-Birchmount\",\"Clanton Park\",\"Cliffcrest\",\"Corso Italia-Davenport\",\"Danforth\",\"Danforth-East York\",\"Don Valley Village\",\"Dorset Park\",\"Dovercourt-Wallace Emerson-Juncti\",\"Downsview-Roding-CFB\",\"Dufferin Grove\",\"East End-Danforth\",\"Edenbridge-Humber Valley\",\"Eglinton East\",\"Elms-Old Rexdale\",\"Englemount-Lawrence\",\"Eringate-Centennial-West Deane\",\"Etobicoke West Mall\",\"Flemingdon Park\",\"Forest Hill North\",\"Forest Hill South\",\"Glenfield-Jane Heights\",\"Greenwood-Coxwell\",\"Guildwood\",\"Henry Farm\",\"High Park North\",\"High Park-Swansea\",\"Highland Creek\",\"Hillcrest Village\",\"Humber Heights-Westmount\",\"Humber Summit\",\"Humbermede\",\"Humewood-Cedarvale\",\"Ionview\",\"Islington-City Centre West\",\"Junction Area\",\"Keelesdale-Eglinton West\",\"Kennedy Park\",\"Kensington-Chinatown\",\"Kingsview Village-The Westway\",\"Kingsway South\",\"L'Amoreaux\",\"Lambton Baby Point\",\"Lansing-Westgate\",\"Lawrence Park North\",\"Lawrence Park South\",\"Leaside-Bennington\",\"Little Portugal\",\"Long Branch\",\"Malvern\",\"Maple Leaf\",\"Markland Wood\",\"Milliken\",\"Mimico\",\"Morningside\",\"Moss Park\",\"Mount Dennis\",\"Mount Olive-Silverstone-Jamestown\",\"Mount Pleasant East\",\"Mount Pleasant West\",\"New Toronto\",\"Newtonbrook East\",\"Newtonbrook West\",\"Niagara\",\"North Riverdale\",\"North St.James Town\",\"O'Connor-Parkview\",\"Oakridge\",\"Oakwood Village\",\"Old East York\",\"Palmerston-Little Italy\",\"Parkwoods-Donalda\",\"Pelmo Park-Humberlea\",\"Playter Estates-Danforth\",\"Pleasant View\",\"Princess-Rosethorn\",\"Regent Park\",\"Rexdale-Kipling\",\"Rockcliffe-Smythe\",\"Roncesvalles\",\"Rosedale-Moore Park\",\"Rouge\",\"Runnymede-Bloor West Village\",\"Rustic\",\"Scarborough Village\",\"South Parkdale\",\"South Riverdale\",\"St.Andrew-Windfields\",\"Steeles\",\"Stonegate-Queensway\",\"Tam O'Shanter-Sullivan\",\"Taylor-Massey\",\"The Beaches\",\"Thistletown-Beaumond Heights\",\"Thorncliffe Park\",\"Trinity-Bellwoods\",\"University\",\"Victoria Village\",\"Waterfront Communities-The Island\",\"West Hill\",\"West Humber-Clairville\",\"Westminster-Branson\",\"Weston\",\"Weston-Pellam Park\",\"Wexford/Maryvale\",\"Willowdale East\",\"Willowdale West\",\"Willowridge-Martingrove-Richview\",\"Woburn\",\"Woodbine Corridor\",\"Woodbine-Lumsden\",\"Wychwood\",\"Yonge-Eglinton\",\"Yonge-St.Clair\",\"York University Heights\",\"Yorkdale-Glen Park\",\"Agincourt North\",\"Agincourt South-Malvern West\",\"Alderwood\",\"Annex\",\"Banbury-Don Mills\",\"Bathurst Manor\",\"Bay Street Corridor\",\"Bayview Village\",\"Bayview Woods-Steeles\",\"Bedford Park-Nortown\",\"Beechborough-Greenbrook\",\"Bendale\",\"Birchcliffe-Cliffside\",\"Black Creek\",\"Blake-Jones\",\"Briar Hill-Belgravia\",\"Bridle Path-Sunnybrook-York Mills\",\"Broadview North\",\"Brookhaven-Amesbury\",\"Cabbagetown-South St.James Town\",\"Caledonia-Fairbank\",\"Casa Loma\",\"Centennial Scarborough\",\"Church-Yonge Corridor\",\"Clairlea-Birchmount\",\"Clanton Park\",\"Cliffcrest\",\"Corso Italia-Davenport\",\"Danforth\",\"Danforth-East York\",\"Don Valley Village\",\"Dorset Park\",\"Dovercourt-Wallace Emerson-Juncti\",\"Downsview-Roding-CFB\",\"Dufferin Grove\",\"East End-Danforth\",\"Edenbridge-Humber Valley\",\"Eglinton East\",\"Elms-Old Rexdale\",\"Englemount-Lawrence\",\"Eringate-Centennial-West Deane\",\"Etobicoke West Mall\",\"Flemingdon Park\",\"Forest Hill North\",\"Forest Hill South\",\"Glenfield-Jane Heights\",\"Greenwood-Coxwell\",\"Guildwood\",\"Henry Farm\",\"High Park North\",\"High Park-Swansea\",\"Highland Creek\",\"Hillcrest Village\",\"Humber Heights-Westmount\",\"Humber Summit\",\"Humbermede\",\"Humewood-Cedarvale\",\"Ionview\",\"Islington-City Centre West\",\"Junction Area\",\"Keelesdale-Eglinton West\",\"Kennedy Park\",\"Kensington-Chinatown\",\"Kingsview Village-The Westway\",\"Kingsway South\",\"L'Amoreaux\",\"Lambton Baby Point\",\"Lansing-Westgate\",\"Lawrence Park North\",\"Lawrence Park South\",\"Leaside-Bennington\",\"Little Portugal\",\"Long Branch\",\"Malvern\",\"Maple Leaf\",\"Markland Wood\",\"Milliken\",\"Mimico\",\"Morningside\",\"Moss Park\",\"Mount Dennis\",\"Mount Olive-Silverstone-Jamestown\",\"Mount Pleasant East\",\"Mount Pleasant West\",\"New Toronto\",\"Newtonbrook East\",\"Newtonbrook West\",\"Niagara\",\"North Riverdale\",\"North St.James Town\",\"O'Connor-Parkview\",\"Oakridge\",\"Oakwood Village\",\"Old East York\",\"Palmerston-Little Italy\",\"Parkwoods-Donalda\",\"Pelmo Park-Humberlea\",\"Playter Estates-Danforth\",\"Pleasant View\",\"Princess-Rosethorn\",\"Regent Park\",\"Rexdale-Kipling\",\"Rockcliffe-Smythe\",\"Roncesvalles\",\"Rosedale-Moore Park\",\"Rouge\",\"Runnymede-Bloor West Village\",\"Rustic\",\"Scarborough Village\",\"South Parkdale\",\"South Riverdale\",\"St.Andrew-Windfields\",\"Steeles\",\"Stonegate-Queensway\",\"Tam O'Shanter-Sullivan\",\"Taylor-Massey\",\"The Beaches\",\"Thistletown-Beaumond Heights\",\"Thorncliffe Park\",\"Trinity-Bellwoods\",\"University\",\"Victoria Village\",\"Waterfront Communities-The Island\",\"West Hill\",\"West Humber-Clairville\",\"Westminster-Branson\",\"Weston\",\"Weston-Pellam Park\",\"Wexford/Maryvale\",\"Willowdale East\",\"Willowdale West\",\"Willowridge-Martingrove-Richview\",\"Woburn\",\"Woodbine Corridor\",\"Woodbine-Lumsden\",\"Wychwood\",\"Yonge-Eglinton\",\"Yonge-St.Clair\",\"York University Heights\",\"Yorkdale-Glen Park\",\"Agincourt North\",\"Agincourt South-Malvern West\",\"Alderwood\",\"Annex\",\"Banbury-Don Mills\",\"Bathurst Manor\",\"Bay Street Corridor\",\"Bayview Village\",\"Bayview Woods-Steeles\",\"Bedford Park-Nortown\",\"Beechborough-Greenbrook\",\"Bendale\",\"Birchcliffe-Cliffside\",\"Black Creek\",\"Blake-Jones\",\"Briar Hill-Belgravia\",\"Bridle Path-Sunnybrook-York Mills\",\"Broadview North\",\"Brookhaven-Amesbury\",\"Cabbagetown-South St.James Town\",\"Caledonia-Fairbank\",\"Casa Loma\",\"Centennial Scarborough\",\"Church-Yonge Corridor\",\"Clairlea-Birchmount\",\"Clanton Park\",\"Cliffcrest\",\"Corso Italia-Davenport\",\"Danforth\",\"Danforth-East York\",\"Don Valley Village\",\"Dorset Park\",\"Dovercourt-Wallace Emerson-Juncti\",\"Downsview-Roding-CFB\",\"Dufferin Grove\",\"East End-Danforth\",\"Edenbridge-Humber Valley\",\"Eglinton East\",\"Elms-Old Rexdale\",\"Englemount-Lawrence\",\"Eringate-Centennial-West Deane\",\"Etobicoke West Mall\",\"Flemingdon Park\",\"Forest Hill North\",\"Forest Hill South\",\"Glenfield-Jane Heights\",\"Greenwood-Coxwell\",\"Guildwood\",\"Henry Farm\",\"High Park North\",\"High Park-Swansea\",\"Highland Creek\",\"Hillcrest Village\",\"Humber Heights-Westmount\",\"Humber Summit\",\"Humbermede\",\"Humewood-Cedarvale\",\"Ionview\",\"Islington-City Centre West\",\"Junction Area\",\"Keelesdale-Eglinton West\",\"Kennedy Park\",\"Kensington-Chinatown\",\"Kingsview Village-The Westway\",\"Kingsway South\",\"L'Amoreaux\",\"Lambton Baby Point\",\"Lansing-Westgate\",\"Lawrence Park North\",\"Lawrence Park South\",\"Leaside-Bennington\",\"Little Portugal\",\"Long Branch\",\"Malvern\",\"Maple Leaf\",\"Markland Wood\",\"Milliken\",\"Mimico\",\"Morningside\",\"Moss Park\",\"Mount Dennis\",\"Mount Olive-Silverstone-Jamestown\",\"Mount Pleasant East\",\"Mount Pleasant West\",\"New Toronto\",\"Newtonbrook East\",\"Newtonbrook West\",\"Niagara\",\"North Riverdale\",\"North St.James Town\",\"O'Connor-Parkview\",\"Oakridge\",\"Oakwood Village\",\"Old East York\",\"Palmerston-Little Italy\",\"Parkwoods-Donalda\",\"Pelmo Park-Humberlea\",\"Playter Estates-Danforth\",\"Pleasant View\",\"Princess-Rosethorn\",\"Regent Park\",\"Rexdale-Kipling\",\"Rockcliffe-Smythe\",\"Roncesvalles\",\"Rosedale-Moore Park\",\"Rouge\",\"Runnymede-Bloor West Village\",\"Rustic\",\"Scarborough Village\",\"South Parkdale\",\"South Riverdale\",\"St.Andrew-Windfields\",\"Steeles\",\"Stonegate-Queensway\",\"Tam O'Shanter-Sullivan\",\"Taylor-Massey\",\"The Beaches\",\"Thistletown-Beaumond Heights\",\"Thorncliffe Park\",\"Trinity-Bellwoods\",\"University\",\"Victoria Village\",\"Waterfront Communities-The Island\",\"West Hill\",\"West Humber-Clairville\",\"Westminster-Branson\",\"Weston\",\"Weston-Pellam Park\",\"Wexford/Maryvale\",\"Willowdale East\",\"Willowdale West\",\"Willowridge-Martingrove-Richview\",\"Woburn\",\"Woodbine Corridor\",\"Woodbine-Lumsden\",\"Wychwood\",\"Yonge-Eglinton\",\"Yonge-St.Clair\",\"York University Heights\",\"Yorkdale-Glen Park\"],\"total_house\":[7930,6615,4565,13890,10075,5335,7840,4390,4580,8610,2590,7760,9365,7280,3090,5555,2455,5500,5890,5725,3645,4620,3825,13425,6875,5130,5585,5260,3965,6890,9345,7645,12685,12365,4920,8610,5785,7855,3150,7530,6535,4120,7745,5445,5480,10060,6145,3905,3980,10405,9380,3485,6365,4190,3715,4480,6560,5010,12420,4775,3830,6510,7460,7970,3090,3070,14690,4505,5555,5475,6535,4785,4550,11990,3540,4255,7320,11325,5635,6930,4545,9605,7315,14130,4870,5675,7540,5600,5065,8455,5240,8710,7545,3810,6120,13185,2705,3625,5495,3855,3940,3885,8745,6720,9260,8490,3880,3510,5695,10455,10020,6080,7280,9970,9335,6355,8950,3225,6385,6280,2990,6910,10520,9335,8900,9785,7290,3875,9940,10490,4975,7720,17005,5240,3565,5890,5215,6230,9200,5100,8720,6740,4550,14715,10950,5820,8765,6145,4605,8465,2520,9070,9040,7100,3130,5685,2440,5345,6090,6060,3545,4945,3935,15620,7130,5365,5475,5195,3910,6855,9415,8320,13325,12080,4980,8755,5750,7880,3125,8090,6675,3955,7520,5370,4760,9770,6030,3895,3995,10305,9035,3575,6465,4135,3850,4610,6320,4960,13220,5255,4105,6400,7660,7605,3305,3140,15080,5975,5445,5580,6485,4830,4370,12735,3620,4205,7355,12525,5595,8155,4605,9280,7180,14695,4820,5715,7575,8000,4940,8360,5165,8670,7140,3770,6055,12700,2940,3580,5445,3815,3630,3870,8765,6470,9950,12290,3765,3585,5410,9955,9750,6310,7570,10060,9490,5950,9110,3145,6410,6435,2540,7100,15705,9330,8965,9755,7015,4305,9880,17680,5455,7845,18070,5240,3450,5895,5235,6535,9550,5385,9140,6875,4645,15545,11780,6060,11400,7420,4710,8705,2665,10085,9190,7265,3180,5810,2990,5620,6440,6650,3505,5330,4270,18250,8745,5540,5830,5110,3920,6960,9740,8530,13925,13225,5120,9110,6020,8080,3185,8125,6885,4110,8040,5330,4775,10015,6000,3950,4115,10635,9880,3785,6540,3900,3810,5125,6575,5070,16240,5745,3985,6550,8650,7660,3525,3150,14905,5980,5500,5680,6530,5285,4510,13410,3565,4300,7755,13690,5845,9035,4865,9610,7375,17585,5165,6200,8620,12625,5155,9200,5225,8565,7400,3855,6245,13160,2995,3555,5540,3860,3840,3950,8905,6780,10030,13085,3815,3645,5895,10600,10775,6470,7670,10425,9785,6300,9380,3225,6710,6820,3285,7275,27000,9680,10150,10075,7905,4385,9960,19645,6685,8155,18295,5195,3480,5540,5200,6785,10330,5245,9110,8150,4615,15930,12135,6095,15070,9525,4705,8615,2645,10775,9190,7335,3130,5725,3245,5660,6475,6445,3680,5400,4370,19665,9250,6570,5895,5485,3935,7025,9975,8775,15325,13145,5450,9170,6250,7920,3215,8250,6880,4575,7820,5440,4935,9935,6050,3980,6360,11020,10875,3695,6395,4150,3895,5040,6570,5170,19300,6035,4170,6570,8745,7770,3585,3130,15050,6575,5420,5740,6425,7410,4820,13425,3550,4310,7675,17775,5880,11560,5185,9865,7435,17505,5380,6100,8955,18785,4995,9545,5270,8685,7470,3795,6350,13315,3700,3580,5515,3860,4960,3845,9060,6895,10040,13405,3820,3655,5910,11375,12055,6425,7825,10380,10065,6280,9425,3280,7120,6910,3395,7410,40755,10000,10280,10230,7615,4225,10115,22315,7545,8505,18415,5455,3450,5895,5675,7005,10150,5330]},\"selected\":{\"id\":\"3089\"},\"selection_policy\":{\"id\":\"3105\"}},\"id\":\"3088\",\"type\":\"ColumnDataSource\"},{\"attributes\":{},\"id\":\"3105\",\"type\":\"UnionRenderers\"},{\"attributes\":{},\"id\":\"3089\",\"type\":\"Selection\"},{\"attributes\":{\"coordinates\":null,\"group\":null,\"items\":[{\"id\":\"3109\"}],\"location\":[0,0]},\"id\":\"3108\",\"type\":\"Legend\"},{\"attributes\":{},\"id\":\"3071\",\"type\":\"BasicTicker\"},{\"attributes\":{\"fill_color\":{\"field\":\"color\",\"transform\":{\"id\":\"3087\"}},\"hatch_color\":{\"field\":\"color\",\"transform\":{\"id\":\"3087\"}},\"top\":{\"field\":\"total_house\"},\"width\":{\"value\":0.8},\"x\":{\"field\":\"neighbourhood\"}},\"id\":\"3094\",\"type\":\"VBar\"},{\"attributes\":{},\"id\":\"3074\",\"type\":\"SaveTool\"},{\"attributes\":{\"axis_label\":\"total_house\",\"coordinates\":null,\"formatter\":{\"id\":\"3100\"},\"group\":null,\"major_label_policy\":{\"id\":\"3101\"},\"ticker\":{\"id\":\"3071\"}},\"id\":\"3070\",\"type\":\"LinearAxis\"},{\"attributes\":{\"coordinates\":null,\"data_source\":{\"id\":\"3088\"},\"glyph\":{\"id\":\"3091\"},\"group\":null,\"hover_glyph\":{\"id\":\"3094\"},\"muted_glyph\":{\"id\":\"3095\"},\"nonselection_glyph\":{\"id\":\"3092\"},\"selection_glyph\":{\"id\":\"3093\"},\"view\":{\"id\":\"3097\"}},\"id\":\"3096\",\"type\":\"GlyphRenderer\"},{\"attributes\":{\"callback\":null,\"renderers\":[{\"id\":\"3096\"}],\"tags\":[\"hv_created\"],\"tooltips\":[[\"neighbourhood\",\"@{neighbourhood}\"],[\"total_house\",\"@{total_house}\"]]},\"id\":\"3057\",\"type\":\"HoverTool\"},{\"attributes\":{\"end\":44586.5,\"reset_end\":44586.5,\"reset_start\":0.0,\"tags\":[[[\"total_house\",\"total_house\",null]]]},\"id\":\"3056\",\"type\":\"Range1d\"},{\"attributes\":{\"fill_alpha\":{\"value\":0.2},\"fill_color\":{\"field\":\"color\",\"transform\":{\"id\":\"3087\"}},\"hatch_alpha\":{\"value\":0.2},\"hatch_color\":{\"field\":\"color\",\"transform\":{\"id\":\"3087\"}},\"line_alpha\":{\"value\":0.2},\"top\":{\"field\":\"total_house\"},\"width\":{\"value\":0.8},\"x\":{\"field\":\"neighbourhood\"}},\"id\":\"3095\",\"type\":\"VBar\"},{\"attributes\":{},\"id\":\"3103\",\"type\":\"CategoricalTickFormatter\"},{\"attributes\":{},\"id\":\"3101\",\"type\":\"AllLabels\"},{\"attributes\":{\"children\":[{\"id\":\"3054\"},{\"id\":\"3058\"},{\"id\":\"3136\"}],\"margin\":[0,0,0,0],\"name\":\"Row04461\",\"tags\":[\"embedded\"]},\"id\":\"3053\",\"type\":\"Row\"}],\"root_ids\":[\"3053\"]},\"title\":\"Bokeh Application\",\"version\":\"2.4.1\"}};\n",
       "    var render_items = [{\"docid\":\"84612349-903a-48ec-bd9c-a6078d031713\",\"root_ids\":[\"3053\"],\"roots\":{\"3053\":\"629eeb70-f615-482c-afc3-5c4f91a2b513\"}}];\n",
       "    root.Bokeh.embed.embed_items_notebook(docs_json, render_items);\n",
       "  }\n",
       "  if (root.Bokeh !== undefined && root.Bokeh.Panel !== undefined && ( root['Plotly'] !== undefined)) {\n",
       "    embed_document(root);\n",
       "  } else {\n",
       "    var attempts = 0;\n",
       "    var timer = setInterval(function(root) {\n",
       "      if (root.Bokeh !== undefined && root.Bokeh.Panel !== undefined && (root['Plotly'] !== undefined)) {\n",
       "        clearInterval(timer);\n",
       "        embed_document(root);\n",
       "      } else if (document.readyState == \"complete\") {\n",
       "        attempts++;\n",
       "        if (attempts > 200) {\n",
       "          clearInterval(timer);\n",
       "          console.log(\"Bokeh: ERROR: Unable to run BokehJS code because BokehJS library is missing\");\n",
       "        }\n",
       "      }\n",
       "    }, 25, root)\n",
       "  }\n",
       "})(window);</script>"
      ],
      "text/plain": [
       ":Bars   [neighbourhood]   (total_house)"
      ]
     },
     "execution_count": 86,
     "metadata": {
      "application/vnd.holoviews_exec.v0+json": {
       "id": "3053"
      }
     },
     "output_type": "execute_result"
    }
   ],
   "source": [
    "# Use hvplot to create an interactive bar chart of the number of dwelling types per neighbourhood\n",
    "# The plot should have a dropdown selector for the neighbourhood\n",
    "to_data.hvplot.bar(x=\"neighbourhood\",y=\"total_house\", title=\"Number of Dwelling Types per Neighbourhood\", color=\"neighbourhood\", width=900)\n",
    "\n",
    "\n",
    "# YOUR CODE HERE!"
   ]
  },
  {
   "cell_type": "markdown",
   "metadata": {},
   "source": [
    "- - - "
   ]
  },
  {
   "cell_type": "markdown",
   "metadata": {},
   "source": [
    "## The Top 10 Most Expensive Neighbourhoods\n",
    "\n",
    "In this section, you will need to calculate the house value for each neighbourhood and then sort the values to obtain the top 10 most expensive neighbourhoods on average. Plot the results as a bar chart."
   ]
  },
  {
   "cell_type": "code",
   "execution_count": 87,
   "metadata": {},
   "outputs": [
    {
     "data": {
      "text/html": [
       "<div>\n",
       "<style scoped>\n",
       "    .dataframe tbody tr th:only-of-type {\n",
       "        vertical-align: middle;\n",
       "    }\n",
       "\n",
       "    .dataframe tbody tr th {\n",
       "        vertical-align: top;\n",
       "    }\n",
       "\n",
       "    .dataframe thead th {\n",
       "        text-align: right;\n",
       "    }\n",
       "</style>\n",
       "<table border=\"1\" class=\"dataframe\">\n",
       "  <thead>\n",
       "    <tr style=\"text-align: right;\">\n",
       "      <th></th>\n",
       "      <th>neighbourhood</th>\n",
       "      <th>average_house_value</th>\n",
       "    </tr>\n",
       "  </thead>\n",
       "  <tbody>\n",
       "    <tr>\n",
       "      <th>16</th>\n",
       "      <td>Bridle Path-Sunnybrook-York Mills</td>\n",
       "      <td>1526485.75</td>\n",
       "    </tr>\n",
       "    <tr>\n",
       "      <th>44</th>\n",
       "      <td>Forest Hill South</td>\n",
       "      <td>1195992.50</td>\n",
       "    </tr>\n",
       "    <tr>\n",
       "      <th>69</th>\n",
       "      <td>Lawrence Park South</td>\n",
       "      <td>1094027.75</td>\n",
       "    </tr>\n",
       "    <tr>\n",
       "      <th>104</th>\n",
       "      <td>Rosedale-Moore Park</td>\n",
       "      <td>1093640.00</td>\n",
       "    </tr>\n",
       "    <tr>\n",
       "      <th>111</th>\n",
       "      <td>St.Andrew-Windfields</td>\n",
       "      <td>999107.00</td>\n",
       "    </tr>\n",
       "    <tr>\n",
       "      <th>21</th>\n",
       "      <td>Casa Loma</td>\n",
       "      <td>981064.25</td>\n",
       "    </tr>\n",
       "    <tr>\n",
       "      <th>9</th>\n",
       "      <td>Bedford Park-Nortown</td>\n",
       "      <td>930415.25</td>\n",
       "    </tr>\n",
       "    <tr>\n",
       "      <th>43</th>\n",
       "      <td>Forest Hill North</td>\n",
       "      <td>851680.50</td>\n",
       "    </tr>\n",
       "    <tr>\n",
       "      <th>64</th>\n",
       "      <td>Kingsway South</td>\n",
       "      <td>843234.25</td>\n",
       "    </tr>\n",
       "    <tr>\n",
       "      <th>137</th>\n",
       "      <td>Yonge-St.Clair</td>\n",
       "      <td>813220.25</td>\n",
       "    </tr>\n",
       "  </tbody>\n",
       "</table>\n",
       "</div>"
      ],
      "text/plain": [
       "                         neighbourhood  average_house_value\n",
       "16   Bridle Path-Sunnybrook-York Mills           1526485.75\n",
       "44                   Forest Hill South           1195992.50\n",
       "69                 Lawrence Park South           1094027.75\n",
       "104                Rosedale-Moore Park           1093640.00\n",
       "111               St.Andrew-Windfields            999107.00\n",
       "21                           Casa Loma            981064.25\n",
       "9                 Bedford Park-Nortown            930415.25\n",
       "43                   Forest Hill North            851680.50\n",
       "64                      Kingsway South            843234.25\n",
       "137                     Yonge-St.Clair            813220.25"
      ]
     },
     "execution_count": 87,
     "metadata": {},
     "output_type": "execute_result"
    }
   ],
   "source": [
    "# Getting the data from the top 10 expensive neighbourhoods\n",
    "to_data.groupby(\"neighbourhood\").agg({\"average_house_value\": \"mean\"}).reset_index().sort_values(by=\"average_house_value\", ascending=False).head(10)\n",
    "# YOUR CODE HERE!"
   ]
  },
  {
   "cell_type": "code",
   "execution_count": 95,
   "metadata": {},
   "outputs": [
    {
     "data": {},
     "metadata": {},
     "output_type": "display_data"
    },
    {
     "data": {
      "application/vnd.holoviews_exec.v0+json": "",
      "text/html": [
       "<div id='3998'>\n",
       "\n",
       "\n",
       "\n",
       "\n",
       "\n",
       "  <div class=\"bk-root\" id=\"ca0bf63b-4ad9-47b6-8f02-c6adebd21acf\" data-root-id=\"3998\"></div>\n",
       "</div>\n",
       "<script type=\"application/javascript\">(function(root) {\n",
       "  function embed_document(root) {\n",
       "    var docs_json = {\"e31b7763-eed8-4cb0-8666-ac36050116e7\":{\"defs\":[{\"extends\":null,\"module\":null,\"name\":\"ReactiveHTML1\",\"overrides\":[],\"properties\":[]},{\"extends\":null,\"module\":null,\"name\":\"FlexBox1\",\"overrides\":[],\"properties\":[{\"default\":\"flex-start\",\"kind\":null,\"name\":\"align_content\"},{\"default\":\"flex-start\",\"kind\":null,\"name\":\"align_items\"},{\"default\":\"row\",\"kind\":null,\"name\":\"flex_direction\"},{\"default\":\"wrap\",\"kind\":null,\"name\":\"flex_wrap\"},{\"default\":\"flex-start\",\"kind\":null,\"name\":\"justify_content\"}]},{\"extends\":null,\"module\":null,\"name\":\"TemplateActions1\",\"overrides\":[],\"properties\":[{\"default\":0,\"kind\":null,\"name\":\"open_modal\"},{\"default\":0,\"kind\":null,\"name\":\"close_modal\"}]},{\"extends\":null,\"module\":null,\"name\":\"MaterialTemplateActions1\",\"overrides\":[],\"properties\":[{\"default\":0,\"kind\":null,\"name\":\"open_modal\"},{\"default\":0,\"kind\":null,\"name\":\"close_modal\"}]}],\"roots\":{\"references\":[{\"attributes\":{\"tools\":[{\"id\":\"4002\"},{\"id\":\"4019\"},{\"id\":\"4020\"},{\"id\":\"4021\"},{\"id\":\"4022\"},{\"id\":\"4023\"}]},\"id\":\"4025\",\"type\":\"Toolbar\"},{\"attributes\":{},\"id\":\"4019\",\"type\":\"SaveTool\"},{\"attributes\":{},\"id\":\"4046\",\"type\":\"AllLabels\"},{\"attributes\":{\"fill_color\":{\"field\":\"color\",\"transform\":{\"id\":\"4032\"}},\"hatch_color\":{\"field\":\"color\",\"transform\":{\"id\":\"4032\"}},\"top\":{\"field\":\"average_house_value\"},\"width\":{\"value\":0.8},\"x\":{\"field\":\"neighbourhood\"}},\"id\":\"4036\",\"type\":\"VBar\"},{\"attributes\":{\"fill_alpha\":{\"value\":0.2},\"fill_color\":{\"field\":\"color\",\"transform\":{\"id\":\"4032\"}},\"hatch_alpha\":{\"value\":0.2},\"hatch_color\":{\"field\":\"color\",\"transform\":{\"id\":\"4032\"}},\"line_alpha\":{\"value\":0.2},\"top\":{\"field\":\"average_house_value\"},\"width\":{\"value\":0.8},\"x\":{\"field\":\"neighbourhood\"}},\"id\":\"4040\",\"type\":\"VBar\"},{\"attributes\":{},\"id\":\"4020\",\"type\":\"PanTool\"},{\"attributes\":{},\"id\":\"4048\",\"type\":\"CategoricalTickFormatter\"},{\"attributes\":{\"fill_color\":{\"field\":\"color\",\"transform\":{\"id\":\"4032\"}},\"hatch_color\":{\"field\":\"color\",\"transform\":{\"id\":\"4032\"}},\"top\":{\"field\":\"average_house_value\"},\"width\":{\"value\":0.8},\"x\":{\"field\":\"neighbourhood\"}},\"id\":\"4039\",\"type\":\"VBar\"},{\"attributes\":{\"margin\":[5,5,5,5],\"name\":\"HSpacer05522\",\"sizing_mode\":\"stretch_width\"},\"id\":\"3999\",\"type\":\"Spacer\"},{\"attributes\":{},\"id\":\"4021\",\"type\":\"WheelZoomTool\"},{\"attributes\":{\"below\":[{\"id\":\"4012\"}],\"center\":[{\"id\":\"4014\"},{\"id\":\"4018\"},{\"id\":\"4053\"}],\"height\":700,\"left\":[{\"id\":\"4015\"}],\"margin\":[5,5,5,5],\"min_border_bottom\":10,\"min_border_left\":10,\"min_border_right\":10,\"min_border_top\":10,\"renderers\":[{\"id\":\"4041\"}],\"right\":[{\"id\":\"4053\"}],\"sizing_mode\":\"fixed\",\"title\":{\"id\":\"4004\"},\"toolbar\":{\"id\":\"4025\"},\"width\":1000,\"x_range\":{\"id\":\"4000\"},\"x_scale\":{\"id\":\"4008\"},\"y_range\":{\"id\":\"4001\"},\"y_scale\":{\"id\":\"4010\"}},\"id\":\"4003\",\"subtype\":\"Figure\",\"type\":\"Plot\"},{\"attributes\":{\"children\":[{\"id\":\"3999\"},{\"id\":\"4003\"},{\"id\":\"4081\"}],\"margin\":[0,0,0,0],\"name\":\"Row05518\",\"tags\":[\"embedded\"]},\"id\":\"3998\",\"type\":\"Row\"},{\"attributes\":{\"end\":1597812.3,\"reset_end\":1597812.3,\"reset_start\":0.0,\"tags\":[[[\"average_house_value\",\"average_house_value\",null]]]},\"id\":\"4001\",\"type\":\"Range1d\"},{\"attributes\":{\"overlay\":{\"id\":\"4024\"}},\"id\":\"4022\",\"type\":\"BoxZoomTool\"},{\"attributes\":{},\"id\":\"4049\",\"type\":\"AllLabels\"},{\"attributes\":{\"coordinates\":null,\"group\":null,\"text\":\"Average House Value by Neighbourhood\",\"text_color\":\"black\",\"text_font_size\":\"12pt\"},\"id\":\"4004\",\"type\":\"Title\"},{\"attributes\":{\"data\":{\"average_house_value\":{\"__ndarray__\":\"AAAAwNVKN0EAAACA2D8yQQAAAMCLsTBBAAAAAAiwMEEAAAAAhn0uQQAAAICQ8C1BAAAAgN5kLEEAAAAAwf0pQQAAAIDEuylBAAAAgEjRKEE=\",\"dtype\":\"float64\",\"order\":\"little\",\"shape\":[10]},\"color\":[\"Bridle Path-Sunnybrook-York Mills\",\"Forest Hill South\",\"Lawrence Park South\",\"Rosedale-Moore Park\",\"St.Andrew-Windfields\",\"Casa Loma\",\"Bedford Park-Nortown\",\"Forest Hill North\",\"Kingsway South\",\"Yonge-St.Clair\"],\"neighbourhood\":[\"Bridle Path-Sunnybrook-York Mills\",\"Forest Hill South\",\"Lawrence Park South\",\"Rosedale-Moore Park\",\"St.Andrew-Windfields\",\"Casa Loma\",\"Bedford Park-Nortown\",\"Forest Hill North\",\"Kingsway South\",\"Yonge-St.Clair\"]},\"selected\":{\"id\":\"4034\"},\"selection_policy\":{\"id\":\"4050\"}},\"id\":\"4033\",\"type\":\"ColumnDataSource\"},{\"attributes\":{\"factors\":[\"Bridle Path-Sunnybrook-York Mills\",\"Forest Hill South\",\"Lawrence Park South\",\"Rosedale-Moore Park\",\"St.Andrew-Windfields\",\"Casa Loma\",\"Bedford Park-Nortown\",\"Forest Hill North\",\"Kingsway South\",\"Yonge-St.Clair\"],\"palette\":[\"#440154\",\"#440255\",\"#440357\",\"#450558\",\"#45065a\",\"#45085b\",\"#46095c\",\"#460b5e\",\"#460c5f\",\"#460e61\"]},\"id\":\"4032\",\"type\":\"CategoricalColorMapper\"},{\"attributes\":{},\"id\":\"4010\",\"type\":\"LinearScale\"},{\"attributes\":{},\"id\":\"4023\",\"type\":\"ResetTool\"},{\"attributes\":{\"axis_label\":\"neighbourhood\",\"coordinates\":null,\"formatter\":{\"id\":\"4048\"},\"group\":null,\"major_label_orientation\":1.5707963267948966,\"major_label_policy\":{\"id\":\"4049\"},\"ticker\":{\"id\":\"4013\"}},\"id\":\"4012\",\"type\":\"CategoricalAxis\"},{\"attributes\":{\"bottom_units\":\"screen\",\"coordinates\":null,\"fill_alpha\":0.5,\"fill_color\":\"lightgrey\",\"group\":null,\"left_units\":\"screen\",\"level\":\"overlay\",\"line_alpha\":1.0,\"line_color\":\"black\",\"line_dash\":[4,4],\"line_width\":2,\"right_units\":\"screen\",\"syncable\":false,\"top_units\":\"screen\"},\"id\":\"4024\",\"type\":\"BoxAnnotation\"},{\"attributes\":{\"axis\":{\"id\":\"4015\"},\"coordinates\":null,\"dimension\":1,\"grid_line_color\":null,\"group\":null,\"ticker\":null},\"id\":\"4018\",\"type\":\"Grid\"},{\"attributes\":{},\"id\":\"4008\",\"type\":\"CategoricalScale\"},{\"attributes\":{\"fill_color\":{\"field\":\"color\",\"transform\":{\"id\":\"4032\"}},\"hatch_color\":{\"field\":\"color\",\"transform\":{\"id\":\"4032\"}},\"top\":{\"field\":\"average_house_value\"},\"width\":{\"value\":0.8},\"x\":{\"field\":\"neighbourhood\"}},\"id\":\"4038\",\"type\":\"VBar\"},{\"attributes\":{\"label\":{\"field\":\"color\"},\"renderers\":[{\"id\":\"4041\"}]},\"id\":\"4054\",\"type\":\"LegendItem\"},{\"attributes\":{\"factors\":[\"Bridle Path-Sunnybrook-York Mills\",\"Forest Hill South\",\"Lawrence Park South\",\"Rosedale-Moore Park\",\"St.Andrew-Windfields\",\"Casa Loma\",\"Bedford Park-Nortown\",\"Forest Hill North\",\"Kingsway South\",\"Yonge-St.Clair\"],\"tags\":[[[\"neighbourhood\",\"neighbourhood\",null]]]},\"id\":\"4000\",\"type\":\"FactorRange\"},{\"attributes\":{},\"id\":\"4050\",\"type\":\"UnionRenderers\"},{\"attributes\":{\"coordinates\":null,\"data_source\":{\"id\":\"4033\"},\"glyph\":{\"id\":\"4036\"},\"group\":null,\"hover_glyph\":{\"id\":\"4039\"},\"muted_glyph\":{\"id\":\"4040\"},\"nonselection_glyph\":{\"id\":\"4037\"},\"selection_glyph\":{\"id\":\"4038\"},\"view\":{\"id\":\"4042\"}},\"id\":\"4041\",\"type\":\"GlyphRenderer\"},{\"attributes\":{},\"id\":\"4013\",\"type\":\"CategoricalTicker\"},{\"attributes\":{\"axis\":{\"id\":\"4012\"},\"coordinates\":null,\"grid_line_color\":null,\"group\":null,\"ticker\":null},\"id\":\"4014\",\"type\":\"Grid\"},{\"attributes\":{},\"id\":\"4034\",\"type\":\"Selection\"},{\"attributes\":{\"callback\":null,\"renderers\":[{\"id\":\"4041\"}],\"tags\":[\"hv_created\"],\"tooltips\":[[\"neighbourhood\",\"@{neighbourhood}\"],[\"average_house_value\",\"@{average_house_value}\"]]},\"id\":\"4002\",\"type\":\"HoverTool\"},{\"attributes\":{},\"id\":\"4016\",\"type\":\"BasicTicker\"},{\"attributes\":{},\"id\":\"4045\",\"type\":\"BasicTickFormatter\"},{\"attributes\":{\"margin\":[5,5,5,5],\"name\":\"HSpacer05523\",\"sizing_mode\":\"stretch_width\"},\"id\":\"4081\",\"type\":\"Spacer\"},{\"attributes\":{\"axis_label\":\"average_house_value\",\"coordinates\":null,\"formatter\":{\"id\":\"4045\"},\"group\":null,\"major_label_policy\":{\"id\":\"4046\"},\"ticker\":{\"id\":\"4016\"}},\"id\":\"4015\",\"type\":\"LinearAxis\"},{\"attributes\":{\"fill_alpha\":{\"value\":0.1},\"fill_color\":{\"field\":\"color\",\"transform\":{\"id\":\"4032\"}},\"hatch_alpha\":{\"value\":0.1},\"hatch_color\":{\"field\":\"color\",\"transform\":{\"id\":\"4032\"}},\"line_alpha\":{\"value\":0.1},\"top\":{\"field\":\"average_house_value\"},\"width\":{\"value\":0.8},\"x\":{\"field\":\"neighbourhood\"}},\"id\":\"4037\",\"type\":\"VBar\"},{\"attributes\":{\"coordinates\":null,\"group\":null,\"items\":[{\"id\":\"4054\"}],\"location\":[0,0]},\"id\":\"4053\",\"type\":\"Legend\"},{\"attributes\":{\"source\":{\"id\":\"4033\"}},\"id\":\"4042\",\"type\":\"CDSView\"}],\"root_ids\":[\"3998\"]},\"title\":\"Bokeh Application\",\"version\":\"2.4.1\"}};\n",
       "    var render_items = [{\"docid\":\"e31b7763-eed8-4cb0-8666-ac36050116e7\",\"root_ids\":[\"3998\"],\"roots\":{\"3998\":\"ca0bf63b-4ad9-47b6-8f02-c6adebd21acf\"}}];\n",
       "    root.Bokeh.embed.embed_items_notebook(docs_json, render_items);\n",
       "  }\n",
       "  if (root.Bokeh !== undefined && root.Bokeh.Panel !== undefined && ( root['Plotly'] !== undefined)) {\n",
       "    embed_document(root);\n",
       "  } else {\n",
       "    var attempts = 0;\n",
       "    var timer = setInterval(function(root) {\n",
       "      if (root.Bokeh !== undefined && root.Bokeh.Panel !== undefined && (root['Plotly'] !== undefined)) {\n",
       "        clearInterval(timer);\n",
       "        embed_document(root);\n",
       "      } else if (document.readyState == \"complete\") {\n",
       "        attempts++;\n",
       "        if (attempts > 200) {\n",
       "          clearInterval(timer);\n",
       "          console.log(\"Bokeh: ERROR: Unable to run BokehJS code because BokehJS library is missing\");\n",
       "        }\n",
       "      }\n",
       "    }, 25, root)\n",
       "  }\n",
       "})(window);</script>"
      ],
      "text/plain": [
       ":Bars   [neighbourhood]   (average_house_value)"
      ]
     },
     "execution_count": 95,
     "metadata": {
      "application/vnd.holoviews_exec.v0+json": {
       "id": "3998"
      }
     },
     "output_type": "execute_result"
    }
   ],
   "source": [
    "# Plotting the data from the top 10 expensive neighbourhoods\n",
    "to_data.groupby(\"neighbourhood\").agg({\"average_house_value\": \"mean\"}).reset_index().sort_values(by=\"average_house_value\", ascending=False).head(10).hvplot.bar(x=\"neighbourhood\", y=\"average_house_value\", title=\"Average House Value by Neighbourhood\", color=\"neighbourhood\",\n",
    " width=1000, height=700,rot=90)\n",
    "# YOUR CODE HERE!"
   ]
  },
  {
   "cell_type": "markdown",
   "metadata": {},
   "source": [
    "- - - "
   ]
  },
  {
   "cell_type": "markdown",
   "metadata": {},
   "source": [
    "## Neighbourhood Map\n",
    "\n",
    "In this section, you will read in neighbourhoods location data and build an interactive map with the average house value per neighbourhood. Use a `scatter_mapbox` from Plotly express to create the visualization. Remember, you will need your Mapbox API key for this."
   ]
  },
  {
   "cell_type": "markdown",
   "metadata": {},
   "source": [
    "### Load Location Data"
   ]
  },
  {
   "cell_type": "code",
   "execution_count": 96,
   "metadata": {},
   "outputs": [
    {
     "data": {
      "text/html": [
       "<div>\n",
       "<style scoped>\n",
       "    .dataframe tbody tr th:only-of-type {\n",
       "        vertical-align: middle;\n",
       "    }\n",
       "\n",
       "    .dataframe tbody tr th {\n",
       "        vertical-align: top;\n",
       "    }\n",
       "\n",
       "    .dataframe thead th {\n",
       "        text-align: right;\n",
       "    }\n",
       "</style>\n",
       "<table border=\"1\" class=\"dataframe\">\n",
       "  <thead>\n",
       "    <tr style=\"text-align: right;\">\n",
       "      <th></th>\n",
       "      <th>neighbourhood</th>\n",
       "      <th>lat</th>\n",
       "      <th>lon</th>\n",
       "    </tr>\n",
       "  </thead>\n",
       "  <tbody>\n",
       "    <tr>\n",
       "      <th>0</th>\n",
       "      <td>Agincourt North</td>\n",
       "      <td>43.805441</td>\n",
       "      <td>-79.266712</td>\n",
       "    </tr>\n",
       "    <tr>\n",
       "      <th>1</th>\n",
       "      <td>Agincourt South-Malvern West</td>\n",
       "      <td>43.788658</td>\n",
       "      <td>-79.265612</td>\n",
       "    </tr>\n",
       "    <tr>\n",
       "      <th>2</th>\n",
       "      <td>Alderwood</td>\n",
       "      <td>43.604937</td>\n",
       "      <td>-79.541611</td>\n",
       "    </tr>\n",
       "    <tr>\n",
       "      <th>3</th>\n",
       "      <td>Annex</td>\n",
       "      <td>43.671585</td>\n",
       "      <td>-79.404001</td>\n",
       "    </tr>\n",
       "    <tr>\n",
       "      <th>4</th>\n",
       "      <td>Banbury-Don Mills</td>\n",
       "      <td>43.737657</td>\n",
       "      <td>-79.349718</td>\n",
       "    </tr>\n",
       "  </tbody>\n",
       "</table>\n",
       "</div>"
      ],
      "text/plain": [
       "                  neighbourhood        lat        lon\n",
       "0               Agincourt North  43.805441 -79.266712\n",
       "1  Agincourt South-Malvern West  43.788658 -79.265612\n",
       "2                     Alderwood  43.604937 -79.541611\n",
       "3                         Annex  43.671585 -79.404001\n",
       "4             Banbury-Don Mills  43.737657 -79.349718"
      ]
     },
     "execution_count": 96,
     "metadata": {},
     "output_type": "execute_result"
    }
   ],
   "source": [
    "# Load neighbourhoods coordinates data\n",
    "file_path = Path(\"Data/toronto_neighbourhoods_coordinates.csv\")\n",
    "df_neighbourhood_locations = pd.read_csv(file_path)\n",
    "df_neighbourhood_locations.head()"
   ]
  },
  {
   "cell_type": "markdown",
   "metadata": {},
   "source": [
    "### Data Preparation\n",
    "\n",
    "You will need to join the location data with the mean values per neighbourhood.\n",
    "\n",
    "1. Calculate the mean values for each neighbourhood.\n",
    "\n",
    "2. Join the average values with the neighbourhood locations."
   ]
  },
  {
   "cell_type": "code",
   "execution_count": 97,
   "metadata": {},
   "outputs": [
    {
     "data": {
      "text/html": [
       "<div>\n",
       "<style scoped>\n",
       "    .dataframe tbody tr th:only-of-type {\n",
       "        vertical-align: middle;\n",
       "    }\n",
       "\n",
       "    .dataframe tbody tr th {\n",
       "        vertical-align: top;\n",
       "    }\n",
       "\n",
       "    .dataframe thead th {\n",
       "        text-align: right;\n",
       "    }\n",
       "</style>\n",
       "<table border=\"1\" class=\"dataframe\">\n",
       "  <thead>\n",
       "    <tr style=\"text-align: right;\">\n",
       "      <th></th>\n",
       "      <th>neighbourhood</th>\n",
       "      <th>single_detached_house</th>\n",
       "      <th>apartment_five_storeys_plus</th>\n",
       "      <th>movable_dwelling</th>\n",
       "      <th>semi_detached_house</th>\n",
       "      <th>row_house</th>\n",
       "      <th>duplex</th>\n",
       "      <th>apartment_five_storeys_less</th>\n",
       "      <th>other_house</th>\n",
       "      <th>average_house_value</th>\n",
       "      <th>shelter_costs_owned</th>\n",
       "      <th>shelter_costs_rented</th>\n",
       "      <th>total_house</th>\n",
       "    </tr>\n",
       "  </thead>\n",
       "  <tbody>\n",
       "    <tr>\n",
       "      <th>0</th>\n",
       "      <td>Agincourt North</td>\n",
       "      <td>3435.00</td>\n",
       "      <td>1947.50</td>\n",
       "      <td>2.50</td>\n",
       "      <td>863.75</td>\n",
       "      <td>1406.25</td>\n",
       "      <td>512.50</td>\n",
       "      <td>547.50</td>\n",
       "      <td>10.00</td>\n",
       "      <td>329811.50</td>\n",
       "      <td>1109.00</td>\n",
       "      <td>983.50</td>\n",
       "      <td>8725.00</td>\n",
       "    </tr>\n",
       "    <tr>\n",
       "      <th>1</th>\n",
       "      <td>Agincourt South-Malvern West</td>\n",
       "      <td>2897.50</td>\n",
       "      <td>2180.00</td>\n",
       "      <td>1.25</td>\n",
       "      <td>375.00</td>\n",
       "      <td>456.25</td>\n",
       "      <td>523.75</td>\n",
       "      <td>628.75</td>\n",
       "      <td>32.50</td>\n",
       "      <td>334189.00</td>\n",
       "      <td>1131.25</td>\n",
       "      <td>985.00</td>\n",
       "      <td>7095.00</td>\n",
       "    </tr>\n",
       "    <tr>\n",
       "      <th>2</th>\n",
       "      <td>Alderwood</td>\n",
       "      <td>2903.75</td>\n",
       "      <td>302.50</td>\n",
       "      <td>1.25</td>\n",
       "      <td>503.75</td>\n",
       "      <td>76.25</td>\n",
       "      <td>302.50</td>\n",
       "      <td>502.50</td>\n",
       "      <td>1.25</td>\n",
       "      <td>427922.50</td>\n",
       "      <td>1166.75</td>\n",
       "      <td>1003.25</td>\n",
       "      <td>4593.75</td>\n",
       "    </tr>\n",
       "    <tr>\n",
       "      <th>3</th>\n",
       "      <td>Annex</td>\n",
       "      <td>751.25</td>\n",
       "      <td>7235.00</td>\n",
       "      <td>1.25</td>\n",
       "      <td>1375.00</td>\n",
       "      <td>613.75</td>\n",
       "      <td>355.00</td>\n",
       "      <td>4605.00</td>\n",
       "      <td>83.75</td>\n",
       "      <td>746977.00</td>\n",
       "      <td>1692.75</td>\n",
       "      <td>1315.25</td>\n",
       "      <td>15020.00</td>\n",
       "    </tr>\n",
       "    <tr>\n",
       "      <th>4</th>\n",
       "      <td>Banbury-Don Mills</td>\n",
       "      <td>3572.50</td>\n",
       "      <td>5388.75</td>\n",
       "      <td>1.25</td>\n",
       "      <td>273.75</td>\n",
       "      <td>626.25</td>\n",
       "      <td>32.50</td>\n",
       "      <td>1340.00</td>\n",
       "      <td>0.00</td>\n",
       "      <td>612039.00</td>\n",
       "      <td>1463.50</td>\n",
       "      <td>1242.75</td>\n",
       "      <td>11235.00</td>\n",
       "    </tr>\n",
       "    <tr>\n",
       "      <th>...</th>\n",
       "      <td>...</td>\n",
       "      <td>...</td>\n",
       "      <td>...</td>\n",
       "      <td>...</td>\n",
       "      <td>...</td>\n",
       "      <td>...</td>\n",
       "      <td>...</td>\n",
       "      <td>...</td>\n",
       "      <td>...</td>\n",
       "      <td>...</td>\n",
       "      <td>...</td>\n",
       "      <td>...</td>\n",
       "      <td>...</td>\n",
       "    </tr>\n",
       "    <tr>\n",
       "      <th>135</th>\n",
       "      <td>Wychwood</td>\n",
       "      <td>1056.25</td>\n",
       "      <td>1236.25</td>\n",
       "      <td>0.00</td>\n",
       "      <td>992.50</td>\n",
       "      <td>298.75</td>\n",
       "      <td>325.00</td>\n",
       "      <td>1878.75</td>\n",
       "      <td>17.50</td>\n",
       "      <td>565976.50</td>\n",
       "      <td>1390.75</td>\n",
       "      <td>1017.25</td>\n",
       "      <td>5805.00</td>\n",
       "    </tr>\n",
       "    <tr>\n",
       "      <th>136</th>\n",
       "      <td>Yonge-Eglinton</td>\n",
       "      <td>1468.75</td>\n",
       "      <td>1638.75</td>\n",
       "      <td>0.00</td>\n",
       "      <td>470.00</td>\n",
       "      <td>33.75</td>\n",
       "      <td>328.75</td>\n",
       "      <td>1385.00</td>\n",
       "      <td>6.25</td>\n",
       "      <td>809745.75</td>\n",
       "      <td>1799.50</td>\n",
       "      <td>1347.75</td>\n",
       "      <td>5331.25</td>\n",
       "    </tr>\n",
       "    <tr>\n",
       "      <th>137</th>\n",
       "      <td>Yonge-St.Clair</td>\n",
       "      <td>565.00</td>\n",
       "      <td>3948.75</td>\n",
       "      <td>0.00</td>\n",
       "      <td>425.00</td>\n",
       "      <td>212.50</td>\n",
       "      <td>172.50</td>\n",
       "      <td>1308.75</td>\n",
       "      <td>6.25</td>\n",
       "      <td>813220.25</td>\n",
       "      <td>1680.75</td>\n",
       "      <td>1369.00</td>\n",
       "      <td>6638.75</td>\n",
       "    </tr>\n",
       "    <tr>\n",
       "      <th>138</th>\n",
       "      <td>York University Heights</td>\n",
       "      <td>1355.00</td>\n",
       "      <td>5165.00</td>\n",
       "      <td>1.25</td>\n",
       "      <td>1316.25</td>\n",
       "      <td>662.50</td>\n",
       "      <td>188.75</td>\n",
       "      <td>1085.00</td>\n",
       "      <td>33.75</td>\n",
       "      <td>305899.50</td>\n",
       "      <td>1116.75</td>\n",
       "      <td>937.50</td>\n",
       "      <td>9807.50</td>\n",
       "    </tr>\n",
       "    <tr>\n",
       "      <th>139</th>\n",
       "      <td>Yorkdale-Glen Park</td>\n",
       "      <td>2286.25</td>\n",
       "      <td>1347.50</td>\n",
       "      <td>0.00</td>\n",
       "      <td>73.75</td>\n",
       "      <td>450.00</td>\n",
       "      <td>377.50</td>\n",
       "      <td>722.50</td>\n",
       "      <td>7.50</td>\n",
       "      <td>430861.25</td>\n",
       "      <td>1122.50</td>\n",
       "      <td>942.50</td>\n",
       "      <td>5265.00</td>\n",
       "    </tr>\n",
       "  </tbody>\n",
       "</table>\n",
       "<p>140 rows × 13 columns</p>\n",
       "</div>"
      ],
      "text/plain": [
       "                    neighbourhood  single_detached_house  \\\n",
       "0                 Agincourt North                3435.00   \n",
       "1    Agincourt South-Malvern West                2897.50   \n",
       "2                       Alderwood                2903.75   \n",
       "3                           Annex                 751.25   \n",
       "4               Banbury-Don Mills                3572.50   \n",
       "..                            ...                    ...   \n",
       "135                      Wychwood                1056.25   \n",
       "136                Yonge-Eglinton                1468.75   \n",
       "137                Yonge-St.Clair                 565.00   \n",
       "138       York University Heights                1355.00   \n",
       "139            Yorkdale-Glen Park                2286.25   \n",
       "\n",
       "     apartment_five_storeys_plus  movable_dwelling  semi_detached_house  \\\n",
       "0                        1947.50              2.50               863.75   \n",
       "1                        2180.00              1.25               375.00   \n",
       "2                         302.50              1.25               503.75   \n",
       "3                        7235.00              1.25              1375.00   \n",
       "4                        5388.75              1.25               273.75   \n",
       "..                           ...               ...                  ...   \n",
       "135                      1236.25              0.00               992.50   \n",
       "136                      1638.75              0.00               470.00   \n",
       "137                      3948.75              0.00               425.00   \n",
       "138                      5165.00              1.25              1316.25   \n",
       "139                      1347.50              0.00                73.75   \n",
       "\n",
       "     row_house  duplex  apartment_five_storeys_less  other_house  \\\n",
       "0      1406.25  512.50                       547.50        10.00   \n",
       "1       456.25  523.75                       628.75        32.50   \n",
       "2        76.25  302.50                       502.50         1.25   \n",
       "3       613.75  355.00                      4605.00        83.75   \n",
       "4       626.25   32.50                      1340.00         0.00   \n",
       "..         ...     ...                          ...          ...   \n",
       "135     298.75  325.00                      1878.75        17.50   \n",
       "136      33.75  328.75                      1385.00         6.25   \n",
       "137     212.50  172.50                      1308.75         6.25   \n",
       "138     662.50  188.75                      1085.00        33.75   \n",
       "139     450.00  377.50                       722.50         7.50   \n",
       "\n",
       "     average_house_value  shelter_costs_owned  shelter_costs_rented  \\\n",
       "0              329811.50              1109.00                983.50   \n",
       "1              334189.00              1131.25                985.00   \n",
       "2              427922.50              1166.75               1003.25   \n",
       "3              746977.00              1692.75               1315.25   \n",
       "4              612039.00              1463.50               1242.75   \n",
       "..                   ...                  ...                   ...   \n",
       "135            565976.50              1390.75               1017.25   \n",
       "136            809745.75              1799.50               1347.75   \n",
       "137            813220.25              1680.75               1369.00   \n",
       "138            305899.50              1116.75                937.50   \n",
       "139            430861.25              1122.50                942.50   \n",
       "\n",
       "     total_house  \n",
       "0        8725.00  \n",
       "1        7095.00  \n",
       "2        4593.75  \n",
       "3       15020.00  \n",
       "4       11235.00  \n",
       "..           ...  \n",
       "135      5805.00  \n",
       "136      5331.25  \n",
       "137      6638.75  \n",
       "138      9807.50  \n",
       "139      5265.00  \n",
       "\n",
       "[140 rows x 13 columns]"
      ]
     },
     "execution_count": 97,
     "metadata": {},
     "output_type": "execute_result"
    }
   ],
   "source": [
    "# Calculate the mean values for each neighborhood\n",
    "to_data.groupby(\"neighbourhood\").mean().reset_index()\n",
    "# YOUR CODE HERE!"
   ]
  },
  {
   "cell_type": "code",
   "execution_count": 99,
   "metadata": {},
   "outputs": [
    {
     "data": {
      "text/html": [
       "<div>\n",
       "<style scoped>\n",
       "    .dataframe tbody tr th:only-of-type {\n",
       "        vertical-align: middle;\n",
       "    }\n",
       "\n",
       "    .dataframe tbody tr th {\n",
       "        vertical-align: top;\n",
       "    }\n",
       "\n",
       "    .dataframe thead th {\n",
       "        text-align: right;\n",
       "    }\n",
       "</style>\n",
       "<table border=\"1\" class=\"dataframe\">\n",
       "  <thead>\n",
       "    <tr style=\"text-align: right;\">\n",
       "      <th></th>\n",
       "      <th>neighbourhood</th>\n",
       "      <th>single_detached_house</th>\n",
       "      <th>apartment_five_storeys_plus</th>\n",
       "      <th>movable_dwelling</th>\n",
       "      <th>semi_detached_house</th>\n",
       "      <th>row_house</th>\n",
       "      <th>duplex</th>\n",
       "      <th>apartment_five_storeys_less</th>\n",
       "      <th>other_house</th>\n",
       "      <th>average_house_value</th>\n",
       "      <th>shelter_costs_owned</th>\n",
       "      <th>shelter_costs_rented</th>\n",
       "      <th>total_house</th>\n",
       "      <th>lat</th>\n",
       "      <th>lon</th>\n",
       "    </tr>\n",
       "  </thead>\n",
       "  <tbody>\n",
       "    <tr>\n",
       "      <th>0</th>\n",
       "      <td>Agincourt North</td>\n",
       "      <td>3435.00</td>\n",
       "      <td>1947.50</td>\n",
       "      <td>2.50</td>\n",
       "      <td>863.75</td>\n",
       "      <td>1406.25</td>\n",
       "      <td>512.50</td>\n",
       "      <td>547.50</td>\n",
       "      <td>10.00</td>\n",
       "      <td>329811.50</td>\n",
       "      <td>1109.00</td>\n",
       "      <td>983.50</td>\n",
       "      <td>8725.00</td>\n",
       "      <td>43.805441</td>\n",
       "      <td>-79.266712</td>\n",
       "    </tr>\n",
       "    <tr>\n",
       "      <th>1</th>\n",
       "      <td>Agincourt South-Malvern West</td>\n",
       "      <td>2897.50</td>\n",
       "      <td>2180.00</td>\n",
       "      <td>1.25</td>\n",
       "      <td>375.00</td>\n",
       "      <td>456.25</td>\n",
       "      <td>523.75</td>\n",
       "      <td>628.75</td>\n",
       "      <td>32.50</td>\n",
       "      <td>334189.00</td>\n",
       "      <td>1131.25</td>\n",
       "      <td>985.00</td>\n",
       "      <td>7095.00</td>\n",
       "      <td>43.788658</td>\n",
       "      <td>-79.265612</td>\n",
       "    </tr>\n",
       "    <tr>\n",
       "      <th>2</th>\n",
       "      <td>Alderwood</td>\n",
       "      <td>2903.75</td>\n",
       "      <td>302.50</td>\n",
       "      <td>1.25</td>\n",
       "      <td>503.75</td>\n",
       "      <td>76.25</td>\n",
       "      <td>302.50</td>\n",
       "      <td>502.50</td>\n",
       "      <td>1.25</td>\n",
       "      <td>427922.50</td>\n",
       "      <td>1166.75</td>\n",
       "      <td>1003.25</td>\n",
       "      <td>4593.75</td>\n",
       "      <td>43.604937</td>\n",
       "      <td>-79.541611</td>\n",
       "    </tr>\n",
       "    <tr>\n",
       "      <th>3</th>\n",
       "      <td>Annex</td>\n",
       "      <td>751.25</td>\n",
       "      <td>7235.00</td>\n",
       "      <td>1.25</td>\n",
       "      <td>1375.00</td>\n",
       "      <td>613.75</td>\n",
       "      <td>355.00</td>\n",
       "      <td>4605.00</td>\n",
       "      <td>83.75</td>\n",
       "      <td>746977.00</td>\n",
       "      <td>1692.75</td>\n",
       "      <td>1315.25</td>\n",
       "      <td>15020.00</td>\n",
       "      <td>43.671585</td>\n",
       "      <td>-79.404001</td>\n",
       "    </tr>\n",
       "    <tr>\n",
       "      <th>4</th>\n",
       "      <td>Banbury-Don Mills</td>\n",
       "      <td>3572.50</td>\n",
       "      <td>5388.75</td>\n",
       "      <td>1.25</td>\n",
       "      <td>273.75</td>\n",
       "      <td>626.25</td>\n",
       "      <td>32.50</td>\n",
       "      <td>1340.00</td>\n",
       "      <td>0.00</td>\n",
       "      <td>612039.00</td>\n",
       "      <td>1463.50</td>\n",
       "      <td>1242.75</td>\n",
       "      <td>11235.00</td>\n",
       "      <td>43.737657</td>\n",
       "      <td>-79.349718</td>\n",
       "    </tr>\n",
       "    <tr>\n",
       "      <th>...</th>\n",
       "      <td>...</td>\n",
       "      <td>...</td>\n",
       "      <td>...</td>\n",
       "      <td>...</td>\n",
       "      <td>...</td>\n",
       "      <td>...</td>\n",
       "      <td>...</td>\n",
       "      <td>...</td>\n",
       "      <td>...</td>\n",
       "      <td>...</td>\n",
       "      <td>...</td>\n",
       "      <td>...</td>\n",
       "      <td>...</td>\n",
       "      <td>...</td>\n",
       "      <td>...</td>\n",
       "    </tr>\n",
       "    <tr>\n",
       "      <th>135</th>\n",
       "      <td>Wychwood</td>\n",
       "      <td>1056.25</td>\n",
       "      <td>1236.25</td>\n",
       "      <td>0.00</td>\n",
       "      <td>992.50</td>\n",
       "      <td>298.75</td>\n",
       "      <td>325.00</td>\n",
       "      <td>1878.75</td>\n",
       "      <td>17.50</td>\n",
       "      <td>565976.50</td>\n",
       "      <td>1390.75</td>\n",
       "      <td>1017.25</td>\n",
       "      <td>5805.00</td>\n",
       "      <td>43.676919</td>\n",
       "      <td>-79.425515</td>\n",
       "    </tr>\n",
       "    <tr>\n",
       "      <th>136</th>\n",
       "      <td>Yonge-Eglinton</td>\n",
       "      <td>1468.75</td>\n",
       "      <td>1638.75</td>\n",
       "      <td>0.00</td>\n",
       "      <td>470.00</td>\n",
       "      <td>33.75</td>\n",
       "      <td>328.75</td>\n",
       "      <td>1385.00</td>\n",
       "      <td>6.25</td>\n",
       "      <td>809745.75</td>\n",
       "      <td>1799.50</td>\n",
       "      <td>1347.75</td>\n",
       "      <td>5331.25</td>\n",
       "      <td>43.704689</td>\n",
       "      <td>-79.403590</td>\n",
       "    </tr>\n",
       "    <tr>\n",
       "      <th>137</th>\n",
       "      <td>Yonge-St.Clair</td>\n",
       "      <td>565.00</td>\n",
       "      <td>3948.75</td>\n",
       "      <td>0.00</td>\n",
       "      <td>425.00</td>\n",
       "      <td>212.50</td>\n",
       "      <td>172.50</td>\n",
       "      <td>1308.75</td>\n",
       "      <td>6.25</td>\n",
       "      <td>813220.25</td>\n",
       "      <td>1680.75</td>\n",
       "      <td>1369.00</td>\n",
       "      <td>6638.75</td>\n",
       "      <td>43.687859</td>\n",
       "      <td>-79.397871</td>\n",
       "    </tr>\n",
       "    <tr>\n",
       "      <th>138</th>\n",
       "      <td>York University Heights</td>\n",
       "      <td>1355.00</td>\n",
       "      <td>5165.00</td>\n",
       "      <td>1.25</td>\n",
       "      <td>1316.25</td>\n",
       "      <td>662.50</td>\n",
       "      <td>188.75</td>\n",
       "      <td>1085.00</td>\n",
       "      <td>33.75</td>\n",
       "      <td>305899.50</td>\n",
       "      <td>1116.75</td>\n",
       "      <td>937.50</td>\n",
       "      <td>9807.50</td>\n",
       "      <td>43.765736</td>\n",
       "      <td>-79.488883</td>\n",
       "    </tr>\n",
       "    <tr>\n",
       "      <th>139</th>\n",
       "      <td>Yorkdale-Glen Park</td>\n",
       "      <td>2286.25</td>\n",
       "      <td>1347.50</td>\n",
       "      <td>0.00</td>\n",
       "      <td>73.75</td>\n",
       "      <td>450.00</td>\n",
       "      <td>377.50</td>\n",
       "      <td>722.50</td>\n",
       "      <td>7.50</td>\n",
       "      <td>430861.25</td>\n",
       "      <td>1122.50</td>\n",
       "      <td>942.50</td>\n",
       "      <td>5265.00</td>\n",
       "      <td>43.714672</td>\n",
       "      <td>-79.457108</td>\n",
       "    </tr>\n",
       "  </tbody>\n",
       "</table>\n",
       "<p>140 rows × 15 columns</p>\n",
       "</div>"
      ],
      "text/plain": [
       "                    neighbourhood  single_detached_house  \\\n",
       "0                 Agincourt North                3435.00   \n",
       "1    Agincourt South-Malvern West                2897.50   \n",
       "2                       Alderwood                2903.75   \n",
       "3                           Annex                 751.25   \n",
       "4               Banbury-Don Mills                3572.50   \n",
       "..                            ...                    ...   \n",
       "135                      Wychwood                1056.25   \n",
       "136                Yonge-Eglinton                1468.75   \n",
       "137                Yonge-St.Clair                 565.00   \n",
       "138       York University Heights                1355.00   \n",
       "139            Yorkdale-Glen Park                2286.25   \n",
       "\n",
       "     apartment_five_storeys_plus  movable_dwelling  semi_detached_house  \\\n",
       "0                        1947.50              2.50               863.75   \n",
       "1                        2180.00              1.25               375.00   \n",
       "2                         302.50              1.25               503.75   \n",
       "3                        7235.00              1.25              1375.00   \n",
       "4                        5388.75              1.25               273.75   \n",
       "..                           ...               ...                  ...   \n",
       "135                      1236.25              0.00               992.50   \n",
       "136                      1638.75              0.00               470.00   \n",
       "137                      3948.75              0.00               425.00   \n",
       "138                      5165.00              1.25              1316.25   \n",
       "139                      1347.50              0.00                73.75   \n",
       "\n",
       "     row_house  duplex  apartment_five_storeys_less  other_house  \\\n",
       "0      1406.25  512.50                       547.50        10.00   \n",
       "1       456.25  523.75                       628.75        32.50   \n",
       "2        76.25  302.50                       502.50         1.25   \n",
       "3       613.75  355.00                      4605.00        83.75   \n",
       "4       626.25   32.50                      1340.00         0.00   \n",
       "..         ...     ...                          ...          ...   \n",
       "135     298.75  325.00                      1878.75        17.50   \n",
       "136      33.75  328.75                      1385.00         6.25   \n",
       "137     212.50  172.50                      1308.75         6.25   \n",
       "138     662.50  188.75                      1085.00        33.75   \n",
       "139     450.00  377.50                       722.50         7.50   \n",
       "\n",
       "     average_house_value  shelter_costs_owned  shelter_costs_rented  \\\n",
       "0              329811.50              1109.00                983.50   \n",
       "1              334189.00              1131.25                985.00   \n",
       "2              427922.50              1166.75               1003.25   \n",
       "3              746977.00              1692.75               1315.25   \n",
       "4              612039.00              1463.50               1242.75   \n",
       "..                   ...                  ...                   ...   \n",
       "135            565976.50              1390.75               1017.25   \n",
       "136            809745.75              1799.50               1347.75   \n",
       "137            813220.25              1680.75               1369.00   \n",
       "138            305899.50              1116.75                937.50   \n",
       "139            430861.25              1122.50                942.50   \n",
       "\n",
       "     total_house        lat        lon  \n",
       "0        8725.00  43.805441 -79.266712  \n",
       "1        7095.00  43.788658 -79.265612  \n",
       "2        4593.75  43.604937 -79.541611  \n",
       "3       15020.00  43.671585 -79.404001  \n",
       "4       11235.00  43.737657 -79.349718  \n",
       "..           ...        ...        ...  \n",
       "135      5805.00  43.676919 -79.425515  \n",
       "136      5331.25  43.704689 -79.403590  \n",
       "137      6638.75  43.687859 -79.397871  \n",
       "138      9807.50  43.765736 -79.488883  \n",
       "139      5265.00  43.714672 -79.457108  \n",
       "\n",
       "[140 rows x 15 columns]"
      ]
     },
     "execution_count": 99,
     "metadata": {},
     "output_type": "execute_result"
    }
   ],
   "source": [
    "# Join the average values with the neighbourhood locations\n",
    "df_joined = to_data.groupby(\"neighbourhood\").mean().reset_index().merge(df_neighbourhood_locations, on=\"neighbourhood\")\n",
    "df_joined\n",
    "\n",
    "# YOUR CODE HERE!"
   ]
  },
  {
   "cell_type": "markdown",
   "metadata": {},
   "source": [
    "### Mapbox Visualization\n",
    "\n",
    "Plot the average values per neighbourhood using a Plotly express `scatter_mapbox` visualization."
   ]
  },
  {
   "cell_type": "code",
   "execution_count": 100,
   "metadata": {},
   "outputs": [
    {
     "data": {},
     "metadata": {},
     "output_type": "display_data"
    },
    {
     "data": {
      "application/vnd.holoviews_exec.v0+json": "",
      "text/html": [
       "<div id='4133'>\n",
       "\n",
       "\n",
       "\n",
       "\n",
       "\n",
       "  <div class=\"bk-root\" id=\"e68ea26a-2994-4e40-ac3f-822d9ac574ef\" data-root-id=\"4133\"></div>\n",
       "</div>\n",
       "<script type=\"application/javascript\">(function(root) {\n",
       "  function embed_document(root) {\n",
       "    var docs_json = {\"d3a9ab45-575c-491f-883f-0bc311e4b337\":{\"defs\":[{\"extends\":null,\"module\":null,\"name\":\"ReactiveHTML1\",\"overrides\":[],\"properties\":[]},{\"extends\":null,\"module\":null,\"name\":\"FlexBox1\",\"overrides\":[],\"properties\":[{\"default\":\"flex-start\",\"kind\":null,\"name\":\"align_content\"},{\"default\":\"flex-start\",\"kind\":null,\"name\":\"align_items\"},{\"default\":\"row\",\"kind\":null,\"name\":\"flex_direction\"},{\"default\":\"wrap\",\"kind\":null,\"name\":\"flex_wrap\"},{\"default\":\"flex-start\",\"kind\":null,\"name\":\"justify_content\"}]},{\"extends\":null,\"module\":null,\"name\":\"TemplateActions1\",\"overrides\":[],\"properties\":[{\"default\":0,\"kind\":null,\"name\":\"open_modal\"},{\"default\":0,\"kind\":null,\"name\":\"close_modal\"}]},{\"extends\":null,\"module\":null,\"name\":\"MaterialTemplateActions1\",\"overrides\":[],\"properties\":[{\"default\":0,\"kind\":null,\"name\":\"open_modal\"},{\"default\":0,\"kind\":null,\"name\":\"close_modal\"}]}],\"roots\":{\"references\":[{\"attributes\":{},\"id\":\"4186\",\"type\":\"AllLabels\"},{\"attributes\":{\"data\":{\"average_house_value\":{\"__ndarray__\":\"AAAAAE4hFEEAAAAAtGUUQQAAAABKHhpBAAAAAMLLJkEAAAAAjq0iQQAAAAAjnR5BAAAAAJbbGUEAAACA9XQgQQAAAABLQSFBAAAAgN5kLEEAAAAAv6MWQQAAAAANYRJBAAAAAAyxGkEAAAAATtcPQQAAAAA0Nx9BAAAAAFJPFkEAAADA1Uo3QQAAAAC1DxtBAAAAAHxrFUEAAAAAeigeQQAAAADJExZBAAAAgJDwLUEAAAAAGwQZQQAAAACWyRhBAAAAAO2jFUEAAACAEtUgQQAAAAA4ehlBAAAAAGqhGUEAAAAA/H8cQQAAAAC9vBlBAAAAAOlKGEEAAAAAgvsPQQAAAAAuiBpBAAAAAJ5HF0EAAAAA0+0bQQAAAACZLR1BAAAAAAVMKEEAAAAAmmoQQQAAAADVYBBBAAAAgNFcIUEAAAAAV0cYQQAAAACQ4hJBAAAAALhdCUEAAAAAwf0pQQAAAIDYPzJBAAAAALf+E0EAAAAAvp8XQQAAAAB2ixZBAAAAAJiUFkEAAAAAIkAgQQAAAICDyiFBAAAAAJosGkEAAAAAPBwYQQAAAAD6aRtBAAAAAEp9FUEAAAAAn4QTQQAAAAD7RSVBAAAAABePEUEAAAAAlZEbQQAAAADVcRpBAAAAAFuzE0EAAAAABogRQQAAAACX4hpBAAAAAKOmFEEAAACAxLspQQAAAICH2CNBAAAAAKeLFEEAAAAAwbYiQQAAAADBLCdBAAAAwIuxMEEAAACAj5woQQAAAABBfCBBAAAAAJmMF0EAAAAAglsPQQAAAAC0qRtBAAAAABsZG0EAAAAAcQ4VQQAAAABKBBhBAAAAAFZlEUEAAAAAwP0YQQAAAACTAhBBAAAAAPLnDkEAAACA9KskQQAAAABXkxxBAAAAABDkGEEAAACAqhMhQQAAAABiHBxBAAAAACSVFkEAAACArnQlQQAAAAD/HBlBAAAAAC81EkEAAAAAxsUZQQAAAADL7RpBAAAAAFYQG0EAAACA3/wiQQAAAADyvxtBAAAAAN2+GEEAAACANs0jQQAAAAD9yRZBAAAAAGVeJ0EAAAAACfYXQQAAAACdCBZBAAAAAPEYFUEAAAAAJRAfQQAAAAAIsDBBAAAAAHv3FkEAAAAAJNkgQQAAAADKTxpBAAAAAK8hFEEAAAAA2k8bQQAAAACyxRtBAAAAAIZ9LkEAAAAAOvMWQQAAAIBAzCBBAAAAABqaFUEAAAAAsDkNQQAAAACEVSRBAAAAAODwFkEAAAAABikPQQAAAICDTyBBAAAAgJneIkEAAAAAFH4VQQAAAAB8ABdBAAAAAJ5fEUEAAAAAWfMUQQAAAAAhUhVBAAAAAJ/MEkEAAAAA6HgVQQAAAAB9QhVBAAAAANagHEEAAAAAW3McQQAAAABYVhxBAAAAACc4EkEAAAAAGy8bQQAAAAD6kxZBAAAAALFFIUEAAACAI7YoQQAAAIBI0ShBAAAAAK6rEkEAAAAANUwaQQ==\",\"dtype\":\"float64\",\"order\":\"little\",\"shape\":[140]},\"color\":{\"__ndarray__\":\"AAAAAE4hFEEAAAAAtGUUQQAAAABKHhpBAAAAAMLLJkEAAAAAjq0iQQAAAAAjnR5BAAAAAJbbGUEAAACA9XQgQQAAAABLQSFBAAAAgN5kLEEAAAAAv6MWQQAAAAANYRJBAAAAAAyxGkEAAAAATtcPQQAAAAA0Nx9BAAAAAFJPFkEAAADA1Uo3QQAAAAC1DxtBAAAAAHxrFUEAAAAAeigeQQAAAADJExZBAAAAgJDwLUEAAAAAGwQZQQAAAACWyRhBAAAAAO2jFUEAAACAEtUgQQAAAAA4ehlBAAAAAGqhGUEAAAAA/H8cQQAAAAC9vBlBAAAAAOlKGEEAAAAAgvsPQQAAAAAuiBpBAAAAAJ5HF0EAAAAA0+0bQQAAAACZLR1BAAAAAAVMKEEAAAAAmmoQQQAAAADVYBBBAAAAgNFcIUEAAAAAV0cYQQAAAACQ4hJBAAAAALhdCUEAAAAAwf0pQQAAAIDYPzJBAAAAALf+E0EAAAAAvp8XQQAAAAB2ixZBAAAAAJiUFkEAAAAAIkAgQQAAAICDyiFBAAAAAJosGkEAAAAAPBwYQQAAAAD6aRtBAAAAAEp9FUEAAAAAn4QTQQAAAAD7RSVBAAAAABePEUEAAAAAlZEbQQAAAADVcRpBAAAAAFuzE0EAAAAABogRQQAAAACX4hpBAAAAAKOmFEEAAACAxLspQQAAAICH2CNBAAAAAKeLFEEAAAAAwbYiQQAAAADBLCdBAAAAwIuxMEEAAACAj5woQQAAAABBfCBBAAAAAJmMF0EAAAAAglsPQQAAAAC0qRtBAAAAABsZG0EAAAAAcQ4VQQAAAABKBBhBAAAAAFZlEUEAAAAAwP0YQQAAAACTAhBBAAAAAPLnDkEAAACA9KskQQAAAABXkxxBAAAAABDkGEEAAACAqhMhQQAAAABiHBxBAAAAACSVFkEAAACArnQlQQAAAAD/HBlBAAAAAC81EkEAAAAAxsUZQQAAAADL7RpBAAAAAFYQG0EAAACA3/wiQQAAAADyvxtBAAAAAN2+GEEAAACANs0jQQAAAAD9yRZBAAAAAGVeJ0EAAAAACfYXQQAAAACdCBZBAAAAAPEYFUEAAAAAJRAfQQAAAAAIsDBBAAAAAHv3FkEAAAAAJNkgQQAAAADKTxpBAAAAAK8hFEEAAAAA2k8bQQAAAACyxRtBAAAAAIZ9LkEAAAAAOvMWQQAAAIBAzCBBAAAAABqaFUEAAAAAsDkNQQAAAACEVSRBAAAAAODwFkEAAAAABikPQQAAAICDTyBBAAAAgJneIkEAAAAAFH4VQQAAAAB8ABdBAAAAAJ5fEUEAAAAAWfMUQQAAAAAhUhVBAAAAAJ/MEkEAAAAA6HgVQQAAAAB9QhVBAAAAANagHEEAAAAAW3McQQAAAABYVhxBAAAAACc4EkEAAAAAGy8bQQAAAAD6kxZBAAAAALFFIUEAAACAI7YoQQAAAIBI0ShBAAAAAK6rEkEAAAAANUwaQQ==\",\"dtype\":\"float64\",\"order\":\"little\",\"shape\":[140]},\"lat\":{\"__ndarray__\":\"U/xKrRjnRUArfwi78uRFQGLShJJuzUVAiKL+gvbVRUAuVWmLa95FQG3/DGfl4UVA2X/4VCnURUAcpxHIX+NFQFWFipr95UVAhKk9V6HdRUCIzGRRu9hFQBE36a5T4UVAOpzQVuvYRUC/Y3js5+FFQGUFO9WM1kVAdJqBoXnZRUCGn6zWkd1FQBmI6Wsr2EVAHqN+D8XZRUCgzBZ7ddVFQINmfAQj2EVAvhr77UbXRUBYVMTpJORFQJdFtF9v1EVALWO//lbbRUD+lzEm+d5FQDjN0LJN3EVAIh27l73WRUD5o4cljtdFQMEXiX1A2EVASdu290LkRUCm6w3nL+FFQJ0G0uY01UVAGNQShtzdRUBnHFUT5dNFQFCwewKT10VAC2bplt/VRUBFsLuK1t5FQGYM97pa3EVAvL8PQTTcRUC/NajkOdRFQNNidGmR0kVA4j0HlqPbRUAFvA7NI9pFQPu2WDjm2EVAPX0E/nDfRUAjKwEpGNZFQOrKyqPZ30VAqebm2bTiRUA9uUMWK9RFQDl05XmR0kVActOPGzjlRUDPdyJOyOZFQPibmhWb2EVA7URJSCThRUD3o9GyKN9FQCSyUc5+2EVA0svFayDeRUB4u7lTFdFFQNK9d2l91UVANs/w6sXXRUCyaYQC39xFQARCZ6mn00VABCaqlnjZRUAWD7WOptNFQGHg2gXa5UVAgQrDVybURUB9yAD1i+BFQJAhlZxy3UVAf+fNl83bRUBIcQoCFtpFQN8qFXXi0kVABfoCgtLLRUDEFJtF3uZFQL4VR+2X20VAR3Nk5RfRRUDWllNlDOlFQFfD0ZfWzkVAZDE9oyXkRUDqkvXECNRFQCu+BBsV2EVAvbczXZnfRUATVY2YONpFQK+mgO4q2kVA26xVFuDMRUDu1HULUeVFQEJCUhOW5EVAVMtSwn7RRUAKKeTvA9ZFQAJLSzi21UVAY6w+cHjaRUBCKGurRNlFQAytkOoi2EVAxI7vIDDZRUCOtoVCX9RFQIiEzu+k4EVAhrO2hNfbRUDo3MxsANdFQNDffNG75EVAlz1kJUHVRUBidVifetRFQOLwWQmj3EVAmjORiF/WRUAzn3sotNJFQAHy66hm10VAJ5F1Hx3pRUAVlrLrYtRFQLn39AEW20VAL+rmJIzeRUCz469ef9FFQFGgkQAc00VADsvRqczgRUAW7PEID+hFQLsueKhY0UVAEzGAS9vjRUAjamCz9dhFQPyDUPfk1UVAHZ9eY3beRUAkXK+Gl9pFQDCRHPo400VA2TLPAM3URUCSMtIgP91FQGvj2/0i0UVAalnvHj3iRUCiBKLMq9tFQNbLziaw40VA6Y96mfLZRUDRRVxjRNZFQJX/PTbR30VAO3ZIGKPiRUDqcHwGt+JFQDujlK2B10VA4alPiyTiRUD1G7t+oNZFQNkdWn3Y2EVAUldnSqXWRUCS/uJCM9pFQO50a8IL2EVAsfM+pwPiRUC7XVBbettFQA==\",\"dtype\":\"float64\",\"order\":\"little\",\"shape\":[140]},\"lon\":{\"__ndarray__\":\"GObrzxHRU8Chm6LI/9BTwGXg48Cp4lPArp1qJdvZU8AVu4XHYdZTwNBX+wEw3VPA04cuqK/YU8AYHsGuIthTwLud2J502FPAoEhBAeXaU8D8cXetr95TwDbIZj950FPAkB3pRvfQU8CnJfMbaOFTwLWAt92X1VPA39wEhPvcU8C8WlH3P9hTwFK8RqLC1lPASb/55BPfU8AP46BKbtdTwAYW2TEi3VPAPJPsxxzaU8Aw3odqp8lTwHBxO9FB2FPAlLK5KALSU8AbTrI4kNxTwAUZnuoSz1PACZRmVqPcU8BO4t7CG9VTwJG4hbY11VPAbzH9GqLWU8BDObCg2dFTwMIdAw0R3FPAlEH/TmTfU8Dq/0Vl/dtTwCRbRLEo01PAcy+s8m/hU8DAcNfgt89TwAYea4gi41PAaU9ugP7bU8DPusoDJuVTwOWkKH5p5FPA9ZJSEkrVU8AxjZGyZttTwFG2Di+E2lPA7kGlndzgU8DTWV6gwdRTwDtKb8l7zFPAxW0b49bVU8AMjQ7l191TwNjmUp7x3VPAyKV9tVvLU8BcH9YbtdZTwKN5W0Rv4VPAU8rvXZjjU8DYtJQktuJTwMxS/Clf21PANesQKHDRU8BCq7yyxeJTwI3rIRIs3lPAh2SOBizeU8BBGiUaqtBTwBZR0WBs2VPANshFMRDjU8AqhlBKreBTwEy/yPQZ1FPAS0KeNL/fU8DWnA8RL9tTwHgfDcja2VPAlLW4jPzZU8BLEa66bddTwEWLQ2iK21PAG070VCLiU8DabVm2Pc5TwCRMSb3E3lPAp28+GrPkU8CIYAO/mdFTwDQVHD0C4FPAZf6wKUDNU8Am8WbLgddTwLNDHdL/31PASP7cp5XlU8CeLBCYothTwG+0iM0s2VPAI3P6tKngU8Av/hHh+tlTwGwP92ic21PAAo2IGGXaU8AXVfEMe9ZTwEtCOwoE2FPAZUMvivvTU8D7Lc+95tFTwMN2/3El3FPA4JgrpHjVU8B/7Wg1x9pTwGANSKkh1VPAxgMlYM/hU8A6FC55ttZTwJQsistv1VPAHFI1D9riU8CsN4uTEtdTwAfBFRY95FPAUM6rlaTfU8D/RwH9WdxTwK8S4oBM2FPAueQTDe3LU8D7H8PXFd9TwEOEC7vg31PApRAKQuDNU8C472ocHtxTwJeQrE971VPAWGHIJELYU8CKzNinjtRTwGVDDnwS4FPA+jIoBWPTU8D8T0AL8NJTwLRV7qos01PAV5+jPBDkU8CBxachZtZTwGZ2SPeU2lPAUYTU7azZU8DXjZDkJtRTwD5bKBUk2FPAk7X6qE7LU8COYD60KuZTwLZ9l2v03FPA04MnmQHhU8CGaN+idN1TwIlij9wc01PAJfsQ6bHZU8CVCWQbXdtTwE4gkVt441PAyJ41JqHOU8AXgW+iL9RTwLVDcBrq01PAYY0OozvbU8DGSN1r1NlTwMxL9rZ22VPADfug20nfU8DQ2DRCQd1TwA==\",\"dtype\":\"float64\",\"order\":\"little\",\"shape\":[140]}},\"selected\":{\"id\":\"4170\"},\"selection_policy\":{\"id\":\"4195\"}},\"id\":\"4169\",\"type\":\"ColumnDataSource\"},{\"attributes\":{\"axis\":{\"id\":\"4151\"},\"coordinates\":null,\"dimension\":1,\"grid_line_color\":null,\"group\":null,\"ticker\":null},\"id\":\"4154\",\"type\":\"Grid\"},{\"attributes\":{\"axis_label\":\"lon\",\"coordinates\":null,\"formatter\":{\"id\":\"4182\"},\"group\":null,\"major_label_policy\":{\"id\":\"4183\"},\"ticker\":{\"id\":\"4148\"}},\"id\":\"4147\",\"type\":\"LinearAxis\"},{\"attributes\":{\"fill_color\":{\"field\":\"color\",\"transform\":{\"id\":\"4168\"}},\"hatch_color\":{\"field\":\"color\",\"transform\":{\"id\":\"4168\"}},\"line_color\":{\"field\":\"color\",\"transform\":{\"id\":\"4168\"}},\"size\":{\"value\":5.477225575051661},\"x\":{\"field\":\"lon\"},\"y\":{\"field\":\"lat\"}},\"id\":\"4172\",\"type\":\"Scatter\"},{\"attributes\":{},\"id\":\"4182\",\"type\":\"BasicTickFormatter\"},{\"attributes\":{},\"id\":\"4143\",\"type\":\"LinearScale\"},{\"attributes\":{\"high\":1526485.75,\"low\":207799.0,\"palette\":[\"#b3fef5\",\"#b0fef5\",\"#adfdf5\",\"#a9fcf5\",\"#a6fbf6\",\"#a3faf6\",\"#a0faf6\",\"#9df9f6\",\"#9af8f6\",\"#97f7f6\",\"#93f7f6\",\"#90f6f6\",\"#8df5f6\",\"#8af4f7\",\"#87f3f7\",\"#83f2f7\",\"#80f2f7\",\"#7df1f7\",\"#79f0f7\",\"#76eff7\",\"#73eef7\",\"#6fedf8\",\"#6cecf8\",\"#68ecf8\",\"#65ebf8\",\"#61eaf8\",\"#5ee9f8\",\"#5ae8f8\",\"#57e7f8\",\"#53e6f8\",\"#50e5f9\",\"#4ce4f9\",\"#49e3f9\",\"#45e2f9\",\"#42e1f9\",\"#3ee0f9\",\"#3bdff9\",\"#38def9\",\"#35ddf9\",\"#32dcf9\",\"#30dbfa\",\"#2ed9fa\",\"#2dd8fa\",\"#2cd7fa\",\"#2bd6fa\",\"#2bd5fa\",\"#2ad3fa\",\"#2ad2fa\",\"#29d1fa\",\"#29d0fb\",\"#29cffb\",\"#28cdfb\",\"#28ccfb\",\"#28cbfb\",\"#28cafb\",\"#28c8fb\",\"#28c7fb\",\"#29c6fb\",\"#29c5fb\",\"#29c4fb\",\"#29c2fb\",\"#2ac1fb\",\"#2ac0fb\",\"#2bbffb\",\"#2bbdfc\",\"#2cbcfc\",\"#2dbbfc\",\"#2db9fc\",\"#2eb8fc\",\"#2fb7fc\",\"#2fb6fc\",\"#30b4fc\",\"#31b3fc\",\"#32b2fc\",\"#32b0fc\",\"#33affc\",\"#33aefc\",\"#34adfc\",\"#34abfc\",\"#34aafc\",\"#35a9fc\",\"#35a8fc\",\"#35a6fc\",\"#35a5fc\",\"#35a4fc\",\"#35a3fc\",\"#35a1fc\",\"#35a0fc\",\"#359ffc\",\"#359dfc\",\"#359cfc\",\"#359bfc\",\"#349afd\",\"#3498fd\",\"#3497fd\",\"#3396fd\",\"#3395fd\",\"#3293fd\",\"#3292fd\",\"#3191fd\",\"#3090fd\",\"#308ffd\",\"#2f8dfd\",\"#2f8cfd\",\"#2e8bfd\",\"#2e8afd\",\"#2d88fd\",\"#2d87fd\",\"#2c86fd\",\"#2c84fd\",\"#2c83fd\",\"#2c82fd\",\"#2b81fd\",\"#2b7ffd\",\"#2b7efd\",\"#2b7dfd\",\"#2b7bfd\",\"#2b7afd\",\"#2b79fd\",\"#2b77fd\",\"#2b76fd\",\"#2b75fd\",\"#2b73fd\",\"#2c72fd\",\"#2c71fd\",\"#2c6ffd\",\"#2c6efd\",\"#2d6cfd\",\"#2d6bfd\",\"#2d6afc\",\"#2e68fc\",\"#2e67fc\",\"#2e65fc\",\"#2e64fc\",\"#2f62fc\",\"#2f61fc\",\"#2f5ffc\",\"#2f5efc\",\"#2f5dfc\",\"#2f5bfc\",\"#2f5afc\",\"#2f58fb\",\"#2f57fb\",\"#2f55fb\",\"#2f53fb\",\"#2f52fb\",\"#2f50fb\",\"#2f4ffb\",\"#2f4dfb\",\"#2e4cfb\",\"#2e4afb\",\"#2e48fb\",\"#2e47fa\",\"#2d45fa\",\"#2d43fa\",\"#2d42fa\",\"#2d40fa\",\"#2c3efa\",\"#2c3dfa\",\"#2b3bf9\",\"#2b39f9\",\"#2a37f9\",\"#2a36f8\",\"#2934f8\",\"#2832f7\",\"#2831f7\",\"#272ff6\",\"#262ef5\",\"#252cf5\",\"#252af4\",\"#2429f3\",\"#2327f2\",\"#2226f1\",\"#2124f0\",\"#2023ef\",\"#1f22ee\",\"#1e20ed\",\"#1d1feb\",\"#1c1eea\",\"#1b1ce9\",\"#1a1be7\",\"#181ae6\",\"#1719e5\",\"#1618e3\",\"#1417e1\",\"#1316e0\",\"#1215de\",\"#1014dc\",\"#0f13db\",\"#0e12d9\",\"#0d11d7\",\"#0c10d5\",\"#0b0fd3\",\"#0a0ed1\",\"#090dd0\",\"#080dce\",\"#080ccc\",\"#070bca\",\"#070ac8\",\"#0709c6\",\"#0708c4\",\"#0707c2\",\"#0707bf\",\"#0806bd\",\"#0806bb\",\"#0905b9\",\"#0904b7\",\"#0a04b5\",\"#0a04b2\",\"#0b03b0\",\"#0c03ae\",\"#0d02ab\",\"#0e02a9\",\"#0e02a7\",\"#0f02a4\",\"#0f01a2\",\"#1001a0\",\"#10019d\",\"#10019b\",\"#100199\",\"#100197\",\"#100194\",\"#0f0192\",\"#0f0190\",\"#0f018e\",\"#0e018b\",\"#0e0189\",\"#0d0187\",\"#0d0185\",\"#0c0183\",\"#0b0181\",\"#0b017e\",\"#0a017c\",\"#09017a\",\"#090178\",\"#080276\",\"#070274\",\"#060272\",\"#060270\",\"#05026e\",\"#04026c\",\"#030269\",\"#030267\",\"#020265\",\"#010263\",\"#010261\",\"#00025f\",\"#00025d\",\"#00025b\",\"#000259\",\"#000257\",\"#000255\",\"#000154\",\"#000152\",\"#000150\",\"#00004e\"]},\"id\":\"4168\",\"type\":\"LinearColorMapper\"},{\"attributes\":{\"bottom_units\":\"screen\",\"coordinates\":null,\"fill_alpha\":0.5,\"fill_color\":\"lightgrey\",\"group\":null,\"left_units\":\"screen\",\"level\":\"overlay\",\"line_alpha\":1.0,\"line_color\":\"black\",\"line_dash\":[4,4],\"line_width\":2,\"right_units\":\"screen\",\"syncable\":false,\"top_units\":\"screen\"},\"id\":\"4160\",\"type\":\"BoxAnnotation\"},{\"attributes\":{},\"id\":\"4191\",\"type\":\"NoOverlap\"},{\"attributes\":{},\"id\":\"4148\",\"type\":\"BasicTicker\"},{\"attributes\":{\"fill_alpha\":{\"value\":0.1},\"fill_color\":{\"field\":\"color\",\"transform\":{\"id\":\"4168\"}},\"hatch_alpha\":{\"value\":0.1},\"hatch_color\":{\"field\":\"color\",\"transform\":{\"id\":\"4168\"}},\"line_alpha\":{\"value\":0.1},\"line_color\":{\"field\":\"color\",\"transform\":{\"id\":\"4168\"}},\"size\":{\"value\":5.477225575051661},\"x\":{\"field\":\"lon\"},\"y\":{\"field\":\"lat\"}},\"id\":\"4173\",\"type\":\"Scatter\"},{\"attributes\":{\"axis\":{\"id\":\"4147\"},\"coordinates\":null,\"grid_line_color\":null,\"group\":null,\"ticker\":null},\"id\":\"4150\",\"type\":\"Grid\"},{\"attributes\":{\"end\":-79.1196573474,\"reset_end\":-79.1196573474,\"reset_start\":-79.6275423726,\"start\":-79.6275423726,\"tags\":[[[\"lon\",\"lon\",null]]]},\"id\":\"4135\",\"type\":\"Range1d\"},{\"attributes\":{},\"id\":\"4152\",\"type\":\"BasicTicker\"},{\"attributes\":{\"children\":[{\"id\":\"4134\"},{\"id\":\"4138\"},{\"id\":\"4209\"}],\"margin\":[0,0,0,0],\"name\":\"Row05683\",\"tags\":[\"embedded\"]},\"id\":\"4133\",\"type\":\"Row\"},{\"attributes\":{\"axis_label\":\"lat\",\"coordinates\":null,\"formatter\":{\"id\":\"4185\"},\"group\":null,\"major_label_policy\":{\"id\":\"4186\"},\"ticker\":{\"id\":\"4152\"}},\"id\":\"4151\",\"type\":\"LinearAxis\"},{\"attributes\":{\"bar_line_color\":\"black\",\"color_mapper\":{\"id\":\"4168\"},\"coordinates\":null,\"group\":null,\"label_standoff\":8,\"location\":[0,0],\"major_label_policy\":{\"id\":\"4191\"},\"major_tick_line_color\":\"black\",\"ticker\":{\"id\":\"4179\"}},\"id\":\"4180\",\"type\":\"ColorBar\"},{\"attributes\":{\"margin\":[5,5,5,5],\"name\":\"HSpacer05687\",\"sizing_mode\":\"stretch_width\"},\"id\":\"4134\",\"type\":\"Spacer\"},{\"attributes\":{},\"id\":\"4195\",\"type\":\"UnionRenderers\"},{\"attributes\":{\"fill_color\":{\"field\":\"color\",\"transform\":{\"id\":\"4168\"}},\"hatch_color\":{\"field\":\"color\",\"transform\":{\"id\":\"4168\"}},\"line_color\":{\"field\":\"color\",\"transform\":{\"id\":\"4168\"}},\"size\":{\"value\":5.477225575051661},\"x\":{\"field\":\"lon\"},\"y\":{\"field\":\"lat\"}},\"id\":\"4175\",\"type\":\"Scatter\"},{\"attributes\":{\"margin\":[5,5,5,5],\"name\":\"HSpacer05688\",\"sizing_mode\":\"stretch_width\"},\"id\":\"4209\",\"type\":\"Spacer\"},{\"attributes\":{\"fill_color\":{\"field\":\"color\",\"transform\":{\"id\":\"4168\"}},\"hatch_color\":{\"field\":\"color\",\"transform\":{\"id\":\"4168\"}},\"line_color\":{\"field\":\"color\",\"transform\":{\"id\":\"4168\"}},\"size\":{\"value\":5.477225575051661},\"x\":{\"field\":\"lon\"},\"y\":{\"field\":\"lat\"}},\"id\":\"4174\",\"type\":\"Scatter\"},{\"attributes\":{},\"id\":\"4145\",\"type\":\"LinearScale\"},{\"attributes\":{\"tools\":[{\"id\":\"4137\"},{\"id\":\"4155\"},{\"id\":\"4156\"},{\"id\":\"4157\"},{\"id\":\"4158\"},{\"id\":\"4159\"}]},\"id\":\"4161\",\"type\":\"Toolbar\"},{\"attributes\":{},\"id\":\"4185\",\"type\":\"BasicTickFormatter\"},{\"attributes\":{},\"id\":\"4183\",\"type\":\"AllLabels\"},{\"attributes\":{},\"id\":\"4155\",\"type\":\"SaveTool\"},{\"attributes\":{\"callback\":null,\"renderers\":[{\"id\":\"4177\"}],\"tags\":[\"hv_created\"],\"tooltips\":[[\"lon\",\"@{lon}\"],[\"lat\",\"@{lat}\"],[\"average_house_value\",\"@{average_house_value}\"]]},\"id\":\"4137\",\"type\":\"HoverTool\"},{\"attributes\":{},\"id\":\"4156\",\"type\":\"PanTool\"},{\"attributes\":{\"end\":43.844085217,\"reset_end\":43.844085217,\"reset_start\":43.569477733,\"start\":43.569477733,\"tags\":[[[\"lat\",\"lat\",null]]]},\"id\":\"4136\",\"type\":\"Range1d\"},{\"attributes\":{},\"id\":\"4179\",\"type\":\"BasicTicker\"},{\"attributes\":{\"coordinates\":null,\"data_source\":{\"id\":\"4169\"},\"glyph\":{\"id\":\"4172\"},\"group\":null,\"hover_glyph\":{\"id\":\"4175\"},\"muted_glyph\":{\"id\":\"4176\"},\"nonselection_glyph\":{\"id\":\"4173\"},\"selection_glyph\":{\"id\":\"4174\"},\"view\":{\"id\":\"4178\"}},\"id\":\"4177\",\"type\":\"GlyphRenderer\"},{\"attributes\":{},\"id\":\"4157\",\"type\":\"WheelZoomTool\"},{\"attributes\":{},\"id\":\"4170\",\"type\":\"Selection\"},{\"attributes\":{\"below\":[{\"id\":\"4147\"}],\"center\":[{\"id\":\"4150\"},{\"id\":\"4154\"}],\"height\":700,\"left\":[{\"id\":\"4151\"}],\"margin\":[5,5,5,5],\"min_border_bottom\":10,\"min_border_left\":10,\"min_border_right\":10,\"min_border_top\":10,\"renderers\":[{\"id\":\"4177\"}],\"right\":[{\"id\":\"4180\"}],\"sizing_mode\":\"fixed\",\"title\":{\"id\":\"4139\"},\"toolbar\":{\"id\":\"4161\"},\"width\":1000,\"x_range\":{\"id\":\"4135\"},\"x_scale\":{\"id\":\"4143\"},\"y_range\":{\"id\":\"4136\"},\"y_scale\":{\"id\":\"4145\"}},\"id\":\"4138\",\"subtype\":\"Figure\",\"type\":\"Plot\"},{\"attributes\":{\"overlay\":{\"id\":\"4160\"}},\"id\":\"4158\",\"type\":\"BoxZoomTool\"},{\"attributes\":{\"coordinates\":null,\"group\":null,\"text\":\"Average House Value by Neighbourhood\",\"text_color\":\"black\",\"text_font_size\":\"12pt\"},\"id\":\"4139\",\"type\":\"Title\"},{\"attributes\":{\"fill_alpha\":{\"value\":0.2},\"fill_color\":{\"field\":\"color\",\"transform\":{\"id\":\"4168\"}},\"hatch_alpha\":{\"value\":0.2},\"hatch_color\":{\"field\":\"color\",\"transform\":{\"id\":\"4168\"}},\"line_alpha\":{\"value\":0.2},\"line_color\":{\"field\":\"color\",\"transform\":{\"id\":\"4168\"}},\"size\":{\"value\":5.477225575051661},\"x\":{\"field\":\"lon\"},\"y\":{\"field\":\"lat\"}},\"id\":\"4176\",\"type\":\"Scatter\"},{\"attributes\":{\"source\":{\"id\":\"4169\"}},\"id\":\"4178\",\"type\":\"CDSView\"},{\"attributes\":{},\"id\":\"4159\",\"type\":\"ResetTool\"}],\"root_ids\":[\"4133\"]},\"title\":\"Bokeh Application\",\"version\":\"2.4.1\"}};\n",
       "    var render_items = [{\"docid\":\"d3a9ab45-575c-491f-883f-0bc311e4b337\",\"root_ids\":[\"4133\"],\"roots\":{\"4133\":\"e68ea26a-2994-4e40-ac3f-822d9ac574ef\"}}];\n",
       "    root.Bokeh.embed.embed_items_notebook(docs_json, render_items);\n",
       "  }\n",
       "  if (root.Bokeh !== undefined && root.Bokeh.Panel !== undefined && ( root['Plotly'] !== undefined)) {\n",
       "    embed_document(root);\n",
       "  } else {\n",
       "    var attempts = 0;\n",
       "    var timer = setInterval(function(root) {\n",
       "      if (root.Bokeh !== undefined && root.Bokeh.Panel !== undefined && (root['Plotly'] !== undefined)) {\n",
       "        clearInterval(timer);\n",
       "        embed_document(root);\n",
       "      } else if (document.readyState == \"complete\") {\n",
       "        attempts++;\n",
       "        if (attempts > 200) {\n",
       "          clearInterval(timer);\n",
       "          console.log(\"Bokeh: ERROR: Unable to run BokehJS code because BokehJS library is missing\");\n",
       "        }\n",
       "      }\n",
       "    }, 25, root)\n",
       "  }\n",
       "})(window);</script>"
      ],
      "text/plain": [
       ":Scatter   [lon]   (lat,average_house_value)"
      ]
     },
     "execution_count": 100,
     "metadata": {
      "application/vnd.holoviews_exec.v0+json": {
       "id": "4133"
      }
     },
     "output_type": "execute_result"
    }
   ],
   "source": [
    "# Create a scatter mapbox to analyze neighbourhood info\n",
    "df_joined.hvplot.scatter(x=\"lon\", y=\"lat\", color=\"average_house_value\", title=\"Average House Value by Neighbourhood\", width=1000, height=700)\n",
    "# YOUR CODE HERE!"
   ]
  },
  {
   "cell_type": "markdown",
   "metadata": {},
   "source": [
    "- - -"
   ]
  },
  {
   "cell_type": "markdown",
   "metadata": {},
   "source": [
    "## Cost Analysis - Optional Challenge\n",
    "\n",
    "In this section, you will use Plotly express to a couple of plots that investors can interactively filter and explore various factors related to the house value of the Toronto's neighbourhoods. \n",
    "\n",
    "### Create a bar chart row facet to plot the average house values for all Toronto's neighbourhoods per year"
   ]
  },
  {
   "cell_type": "code",
   "execution_count": 23,
   "metadata": {},
   "outputs": [
    {
     "data": {
      "application/vnd.plotly.v1+json": {
       "config": {
        "plotlyServerURL": "https://plotly.com"
       },
       "data": [
        {
         "alignmentgroup": "True",
         "hovertemplate": "year=2001<br>Neighbourhoods=%{x}<br>Avg. House Value=%{marker.color}<extra></extra>",
         "legendgroup": "",
         "marker": {
          "color": [
           200388,
           203047,
           259998,
           453850,
           371864,
           304749,
           257404,
           327644,
           343535,
           565304,
           225369,
           182957,
           265705,
           158483,
           310740,
           222086,
           927466,
           269386,
           213227,
           300213,
           219771,
           596077,
           249025,
           246750,
           215421,
           335119,
           253618,
           255142,
           283706,
           256205,
           241824,
           159187,
           264116,
           231741,
           278023,
           290457,
           483734,
           163419,
           163039,
           345676,
           241685,
           187993,
           126255,
           517466,
           726664,
           199043,
           235168,
           224425,
           224780,
           323536,
           354207,
           260555,
           240009,
           272896,
           213919,
           194295,
           423537,
           174793,
           274436,
           263247,
           196112,
           174518,
           267631,
           205572,
           512334,
           395115,
           204523,
           372579,
           461393,
           664712,
           489998,
           328211,
           234424,
           156076,
           275374,
           269751,
           209609,
           239078,
           173169,
           248778,
           159374,
           153829,
           411558,
           284459,
           247779,
           339987,
           279833,
           224801,
           427169,
           249993,
           181251,
           256556,
           268067,
           269410,
           378033,
           276239,
           246333,
           394235,
           226856,
           465254,
           238524,
           219337,
           210017,
           309221,
           664476,
           228625,
           335435,
           261923,
           200402,
           271880,
           276462,
           607040,
           228460,
           334433,
           215039,
           145464,
           404836,
           228368,
           155094,
           324732,
           375678,
           213950,
           228975,
           172947,
           208555,
           212241,
           187140,
           213749,
           211633,
           284984,
           283215,
           282087,
           181367,
           270607,
           224756,
           343877,
           491987,
           494098,
           185859,
           261784
          ],
          "coloraxis": "coloraxis"
         },
         "name": "",
         "offsetgroup": "",
         "orientation": "v",
         "showlegend": false,
         "textposition": "auto",
         "type": "bar",
         "x": [
          "Agincourt North",
          "Agincourt South-Malvern West",
          "Alderwood",
          "Annex",
          "Banbury-Don Mills",
          "Bathurst Manor",
          "Bay Street Corridor",
          "Bayview Village",
          "Bayview Woods-Steeles",
          "Bedford Park-Nortown",
          "Beechborough-Greenbrook",
          "Bendale",
          "Birchcliffe-Cliffside",
          "Black Creek",
          "Blake-Jones",
          "Briar Hill-Belgravia",
          "Bridle Path-Sunnybrook-York Mills",
          "Broadview North",
          "Brookhaven-Amesbury",
          "Cabbagetown-South St.James Town",
          "Caledonia-Fairbank",
          "Casa Loma",
          "Centennial Scarborough",
          "Church-Yonge Corridor",
          "Clairlea-Birchmount",
          "Clanton Park",
          "Cliffcrest",
          "Corso Italia-Davenport",
          "Danforth",
          "Danforth-East York",
          "Don Valley Village",
          "Dorset Park",
          "Dovercourt-Wallace Emerson-Juncti",
          "Downsview-Roding-CFB",
          "Dufferin Grove",
          "East End-Danforth",
          "Edenbridge-Humber Valley",
          "Eglinton East",
          "Elms-Old Rexdale",
          "Englemount-Lawrence",
          "Eringate-Centennial-West Deane",
          "Etobicoke West Mall",
          "Flemingdon Park",
          "Forest Hill North",
          "Forest Hill South",
          "Glenfield-Jane Heights",
          "Greenwood-Coxwell",
          "Guildwood",
          "Henry Farm",
          "High Park North",
          "High Park-Swansea",
          "Highland Creek",
          "Hillcrest Village",
          "Humber Heights-Westmount",
          "Humber Summit",
          "Humbermede",
          "Humewood-Cedarvale",
          "Ionview",
          "Islington-City Centre West",
          "Junction Area",
          "Keelesdale-Eglinton West",
          "Kennedy Park",
          "Kensington-Chinatown",
          "Kingsview Village-The Westway",
          "Kingsway South",
          "L'Amoreaux",
          "Lambton Baby Point",
          "Lansing-Westgate",
          "Lawrence Park North",
          "Lawrence Park South",
          "Leaside-Bennington",
          "Little Portugal",
          "Long Branch",
          "Malvern",
          "Maple Leaf",
          "Markland Wood",
          "Milliken",
          "Mimico",
          "Morningside",
          "Moss Park",
          "Mount Dennis",
          "Mount Olive-Silverstone-Jamestown",
          "Mount Pleasant East",
          "Mount Pleasant West",
          "New Toronto",
          "Newtonbrook East",
          "Newtonbrook West",
          "Niagara",
          "North Riverdale",
          "North St.James Town",
          "O'Connor-Parkview",
          "Oakridge",
          "Oakwood Village",
          "Old East York",
          "Palmerston-Little Italy",
          "Parkwoods-Donalda",
          "Pelmo Park-Humberlea",
          "Playter Estates-Danforth",
          "Pleasant View",
          "Princess-Rosethorn",
          "Regent Park",
          "Rexdale-Kipling",
          "Rockcliffe-Smythe",
          "Roncesvalles",
          "Rosedale-Moore Park",
          "Rouge",
          "Runnymede-Bloor West Village",
          "Rustic",
          "Scarborough Village",
          "South Parkdale",
          "South Riverdale",
          "St.Andrew-Windfields",
          "Steeles",
          "Stonegate-Queensway",
          "Tam O'Shanter-Sullivan",
          "Taylor-Massey",
          "The Beaches",
          "Thistletown-Beaumond Heights",
          "Thorncliffe Park",
          "Trinity-Bellwoods",
          "University",
          "Victoria Village",
          "Waterfront Communities-The Island",
          "West Hill",
          "West Humber-Clairville",
          "Westminster-Branson",
          "Weston",
          "Weston-Pellam Park",
          "Wexford/Maryvale",
          "Willowdale East",
          "Willowdale West",
          "Willowridge-Martingrove-Richview",
          "Woburn",
          "Woodbine Corridor",
          "Woodbine-Lumsden",
          "Wychwood",
          "Yonge-Eglinton",
          "Yonge-St.Clair",
          "York University Heights",
          "Yorkdale-Glen Park"
         ],
         "xaxis": "x4",
         "y": [
          200388,
          203047,
          259998,
          453850,
          371864,
          304749,
          257404,
          327644,
          343535,
          565304,
          225369,
          182957,
          265705,
          158483,
          310740,
          222086,
          927466,
          269386,
          213227,
          300213,
          219771,
          596077,
          249025,
          246750,
          215421,
          335119,
          253618,
          255142,
          283706,
          256205,
          241824,
          159187,
          264116,
          231741,
          278023,
          290457,
          483734,
          163419,
          163039,
          345676,
          241685,
          187993,
          126255,
          517466,
          726664,
          199043,
          235168,
          224425,
          224780,
          323536,
          354207,
          260555,
          240009,
          272896,
          213919,
          194295,
          423537,
          174793,
          274436,
          263247,
          196112,
          174518,
          267631,
          205572,
          512334,
          395115,
          204523,
          372579,
          461393,
          664712,
          489998,
          328211,
          234424,
          156076,
          275374,
          269751,
          209609,
          239078,
          173169,
          248778,
          159374,
          153829,
          411558,
          284459,
          247779,
          339987,
          279833,
          224801,
          427169,
          249993,
          181251,
          256556,
          268067,
          269410,
          378033,
          276239,
          246333,
          394235,
          226856,
          465254,
          238524,
          219337,
          210017,
          309221,
          664476,
          228625,
          335435,
          261923,
          200402,
          271880,
          276462,
          607040,
          228460,
          334433,
          215039,
          145464,
          404836,
          228368,
          155094,
          324732,
          375678,
          213950,
          228975,
          172947,
          208555,
          212241,
          187140,
          213749,
          211633,
          284984,
          283215,
          282087,
          181367,
          270607,
          224756,
          343877,
          491987,
          494098,
          185859,
          261784
         ],
         "yaxis": "y4"
        },
        {
         "alignmentgroup": "True",
         "hovertemplate": "year=2006<br>Neighbourhoods=%{x}<br>Avg. House Value=%{marker.color}<extra></extra>",
         "legendgroup": "",
         "marker": {
          "color": [
           293140,
           297031,
           380342,
           663921,
           543987,
           445807,
           376548,
           479299,
           502546,
           826963,
           329685,
           267642,
           388690,
           231839,
           454571,
           324882,
           1356757,
           394075,
           311922,
           439171,
           321496,
           871981,
           364291,
           360962,
           315133,
           490234,
           371009,
           373239,
           415024,
           374793,
           353756,
           232869,
           386366,
           339006,
           406710,
           424900,
           707638,
           239060,
           238505,
           505677,
           353553,
           275009,
           184694,
           756983,
           1063011,
           291172,
           344019,
           328303,
           328823,
           473289,
           518157,
           381156,
           351101,
           399210,
           312935,
           284227,
           619577,
           255698,
           401463,
           385094,
           286886,
           255296,
           391509,
           300725,
           749476,
           578001,
           299190,
           545034,
           674957,
           972384,
           716801,
           480129,
           342930,
           228318,
           402835,
           394610,
           306629,
           349739,
           253323,
           363929,
           233143,
           225031,
           602054,
           416125,
           362468,
           497355,
           409358,
           328854,
           624890,
           365706,
           265146,
           375307,
           392146,
           394111,
           553011,
           404100,
           360352,
           576713,
           331860,
           680604,
           348928,
           320860,
           307227,
           452349,
           972039,
           334448,
           490697,
           383158,
           293162,
           397724,
           404427,
           888017,
           334206,
           489230,
           314574,
           212794,
           592220,
           334072,
           226882,
           475039,
           549567,
           312980,
           334960,
           252998,
           305088,
           310480,
           273761,
           312685,
           309590,
           416893,
           414306,
           412655,
           265315,
           395861,
           328788,
           503046,
           719711,
           722799,
           271887,
           382954
          ],
          "coloraxis": "coloraxis"
         },
         "name": "",
         "offsetgroup": "",
         "orientation": "v",
         "showlegend": false,
         "textposition": "auto",
         "type": "bar",
         "x": [
          "Agincourt North",
          "Agincourt South-Malvern West",
          "Alderwood",
          "Annex",
          "Banbury-Don Mills",
          "Bathurst Manor",
          "Bay Street Corridor",
          "Bayview Village",
          "Bayview Woods-Steeles",
          "Bedford Park-Nortown",
          "Beechborough-Greenbrook",
          "Bendale",
          "Birchcliffe-Cliffside",
          "Black Creek",
          "Blake-Jones",
          "Briar Hill-Belgravia",
          "Bridle Path-Sunnybrook-York Mills",
          "Broadview North",
          "Brookhaven-Amesbury",
          "Cabbagetown-South St.James Town",
          "Caledonia-Fairbank",
          "Casa Loma",
          "Centennial Scarborough",
          "Church-Yonge Corridor",
          "Clairlea-Birchmount",
          "Clanton Park",
          "Cliffcrest",
          "Corso Italia-Davenport",
          "Danforth",
          "Danforth-East York",
          "Don Valley Village",
          "Dorset Park",
          "Dovercourt-Wallace Emerson-Juncti",
          "Downsview-Roding-CFB",
          "Dufferin Grove",
          "East End-Danforth",
          "Edenbridge-Humber Valley",
          "Eglinton East",
          "Elms-Old Rexdale",
          "Englemount-Lawrence",
          "Eringate-Centennial-West Deane",
          "Etobicoke West Mall",
          "Flemingdon Park",
          "Forest Hill North",
          "Forest Hill South",
          "Glenfield-Jane Heights",
          "Greenwood-Coxwell",
          "Guildwood",
          "Henry Farm",
          "High Park North",
          "High Park-Swansea",
          "Highland Creek",
          "Hillcrest Village",
          "Humber Heights-Westmount",
          "Humber Summit",
          "Humbermede",
          "Humewood-Cedarvale",
          "Ionview",
          "Islington-City Centre West",
          "Junction Area",
          "Keelesdale-Eglinton West",
          "Kennedy Park",
          "Kensington-Chinatown",
          "Kingsview Village-The Westway",
          "Kingsway South",
          "L'Amoreaux",
          "Lambton Baby Point",
          "Lansing-Westgate",
          "Lawrence Park North",
          "Lawrence Park South",
          "Leaside-Bennington",
          "Little Portugal",
          "Long Branch",
          "Malvern",
          "Maple Leaf",
          "Markland Wood",
          "Milliken",
          "Mimico",
          "Morningside",
          "Moss Park",
          "Mount Dennis",
          "Mount Olive-Silverstone-Jamestown",
          "Mount Pleasant East",
          "Mount Pleasant West",
          "New Toronto",
          "Newtonbrook East",
          "Newtonbrook West",
          "Niagara",
          "North Riverdale",
          "North St.James Town",
          "O'Connor-Parkview",
          "Oakridge",
          "Oakwood Village",
          "Old East York",
          "Palmerston-Little Italy",
          "Parkwoods-Donalda",
          "Pelmo Park-Humberlea",
          "Playter Estates-Danforth",
          "Pleasant View",
          "Princess-Rosethorn",
          "Regent Park",
          "Rexdale-Kipling",
          "Rockcliffe-Smythe",
          "Roncesvalles",
          "Rosedale-Moore Park",
          "Rouge",
          "Runnymede-Bloor West Village",
          "Rustic",
          "Scarborough Village",
          "South Parkdale",
          "South Riverdale",
          "St.Andrew-Windfields",
          "Steeles",
          "Stonegate-Queensway",
          "Tam O'Shanter-Sullivan",
          "Taylor-Massey",
          "The Beaches",
          "Thistletown-Beaumond Heights",
          "Thorncliffe Park",
          "Trinity-Bellwoods",
          "University",
          "Victoria Village",
          "Waterfront Communities-The Island",
          "West Hill",
          "West Humber-Clairville",
          "Westminster-Branson",
          "Weston",
          "Weston-Pellam Park",
          "Wexford/Maryvale",
          "Willowdale East",
          "Willowdale West",
          "Willowridge-Martingrove-Richview",
          "Woburn",
          "Woodbine Corridor",
          "Woodbine-Lumsden",
          "Wychwood",
          "Yonge-Eglinton",
          "Yonge-St.Clair",
          "York University Heights",
          "Yorkdale-Glen Park"
         ],
         "xaxis": "x3",
         "y": [
          293140,
          297031,
          380342,
          663921,
          543987,
          445807,
          376548,
          479299,
          502546,
          826963,
          329685,
          267642,
          388690,
          231839,
          454571,
          324882,
          1356757,
          394075,
          311922,
          439171,
          321496,
          871981,
          364291,
          360962,
          315133,
          490234,
          371009,
          373239,
          415024,
          374793,
          353756,
          232869,
          386366,
          339006,
          406710,
          424900,
          707638,
          239060,
          238505,
          505677,
          353553,
          275009,
          184694,
          756983,
          1063011,
          291172,
          344019,
          328303,
          328823,
          473289,
          518157,
          381156,
          351101,
          399210,
          312935,
          284227,
          619577,
          255698,
          401463,
          385094,
          286886,
          255296,
          391509,
          300725,
          749476,
          578001,
          299190,
          545034,
          674957,
          972384,
          716801,
          480129,
          342930,
          228318,
          402835,
          394610,
          306629,
          349739,
          253323,
          363929,
          233143,
          225031,
          602054,
          416125,
          362468,
          497355,
          409358,
          328854,
          624890,
          365706,
          265146,
          375307,
          392146,
          394111,
          553011,
          404100,
          360352,
          576713,
          331860,
          680604,
          348928,
          320860,
          307227,
          452349,
          972039,
          334448,
          490697,
          383158,
          293162,
          397724,
          404427,
          888017,
          334206,
          489230,
          314574,
          212794,
          592220,
          334072,
          226882,
          475039,
          549567,
          312980,
          334960,
          252998,
          305088,
          310480,
          273761,
          312685,
          309590,
          416893,
          414306,
          412655,
          265315,
          395861,
          328788,
          503046,
          719711,
          722799,
          271887,
          382954
         ],
         "yaxis": "y3"
        },
        {
         "alignmentgroup": "True",
         "hovertemplate": "year=2011<br>Neighbourhoods=%{x}<br>Avg. House Value=%{marker.color}<extra></extra>",
         "legendgroup": "",
         "marker": {
          "color": [
           366667,
           371534,
           475742,
           830450,
           680433,
           557627,
           470996,
           599520,
           628597,
           1034387,
           412378,
           334773,
           486184,
           289990,
           568589,
           406371,
           1697067,
           492919,
           390160,
           549326,
           402135,
           1090696,
           455664,
           451500,
           394176,
           613197,
           464068,
           466857,
           519123,
           468801,
           442487,
           291278,
           483276,
           424038,
           508723,
           531476,
           885132,
           299023,
           298328,
           632514,
           442233,
           343988,
           231020,
           946854,
           1329642,
           364206,
           430308,
           410650,
           411300,
           592002,
           648124,
           476760,
           439166,
           499342,
           391427,
           355519,
           774983,
           319834,
           502160,
           481686,
           358844,
           319331,
           489709,
           376154,
           937464,
           722978,
           374234,
           681742,
           844253,
           1216283,
           896593,
           600558,
           428946,
           285586,
           503876,
           493588,
           383540,
           437462,
           316863,
           455212,
           291621,
           281475,
           753065,
           520500,
           453384,
           622104,
           512036,
           411339,
           781629,
           457435,
           331652,
           469444,
           490506,
           492964,
           691720,
           505459,
           450737,
           721368,
           415099,
           851317,
           436448,
           401340,
           384287,
           565810,
           1215852,
           418336,
           613776,
           479264,
           366694,
           497483,
           505868,
           1110755,
           418033,
           611942,
           393477,
           266168,
           740764,
           417866,
           283790,
           594191,
           687412,
           391483,
           418977,
           316456,
           381612,
           388356,
           342427,
           391115,
           387243,
           521460,
           518224,
           516160,
           331863,
           495153,
           411256,
           629223,
           900233,
           904096,
           340083,
           479009
          ],
          "coloraxis": "coloraxis"
         },
         "name": "",
         "offsetgroup": "",
         "orientation": "v",
         "showlegend": false,
         "textposition": "auto",
         "type": "bar",
         "x": [
          "Agincourt North",
          "Agincourt South-Malvern West",
          "Alderwood",
          "Annex",
          "Banbury-Don Mills",
          "Bathurst Manor",
          "Bay Street Corridor",
          "Bayview Village",
          "Bayview Woods-Steeles",
          "Bedford Park-Nortown",
          "Beechborough-Greenbrook",
          "Bendale",
          "Birchcliffe-Cliffside",
          "Black Creek",
          "Blake-Jones",
          "Briar Hill-Belgravia",
          "Bridle Path-Sunnybrook-York Mills",
          "Broadview North",
          "Brookhaven-Amesbury",
          "Cabbagetown-South St.James Town",
          "Caledonia-Fairbank",
          "Casa Loma",
          "Centennial Scarborough",
          "Church-Yonge Corridor",
          "Clairlea-Birchmount",
          "Clanton Park",
          "Cliffcrest",
          "Corso Italia-Davenport",
          "Danforth",
          "Danforth-East York",
          "Don Valley Village",
          "Dorset Park",
          "Dovercourt-Wallace Emerson-Juncti",
          "Downsview-Roding-CFB",
          "Dufferin Grove",
          "East End-Danforth",
          "Edenbridge-Humber Valley",
          "Eglinton East",
          "Elms-Old Rexdale",
          "Englemount-Lawrence",
          "Eringate-Centennial-West Deane",
          "Etobicoke West Mall",
          "Flemingdon Park",
          "Forest Hill North",
          "Forest Hill South",
          "Glenfield-Jane Heights",
          "Greenwood-Coxwell",
          "Guildwood",
          "Henry Farm",
          "High Park North",
          "High Park-Swansea",
          "Highland Creek",
          "Hillcrest Village",
          "Humber Heights-Westmount",
          "Humber Summit",
          "Humbermede",
          "Humewood-Cedarvale",
          "Ionview",
          "Islington-City Centre West",
          "Junction Area",
          "Keelesdale-Eglinton West",
          "Kennedy Park",
          "Kensington-Chinatown",
          "Kingsview Village-The Westway",
          "Kingsway South",
          "L'Amoreaux",
          "Lambton Baby Point",
          "Lansing-Westgate",
          "Lawrence Park North",
          "Lawrence Park South",
          "Leaside-Bennington",
          "Little Portugal",
          "Long Branch",
          "Malvern",
          "Maple Leaf",
          "Markland Wood",
          "Milliken",
          "Mimico",
          "Morningside",
          "Moss Park",
          "Mount Dennis",
          "Mount Olive-Silverstone-Jamestown",
          "Mount Pleasant East",
          "Mount Pleasant West",
          "New Toronto",
          "Newtonbrook East",
          "Newtonbrook West",
          "Niagara",
          "North Riverdale",
          "North St.James Town",
          "O'Connor-Parkview",
          "Oakridge",
          "Oakwood Village",
          "Old East York",
          "Palmerston-Little Italy",
          "Parkwoods-Donalda",
          "Pelmo Park-Humberlea",
          "Playter Estates-Danforth",
          "Pleasant View",
          "Princess-Rosethorn",
          "Regent Park",
          "Rexdale-Kipling",
          "Rockcliffe-Smythe",
          "Roncesvalles",
          "Rosedale-Moore Park",
          "Rouge",
          "Runnymede-Bloor West Village",
          "Rustic",
          "Scarborough Village",
          "South Parkdale",
          "South Riverdale",
          "St.Andrew-Windfields",
          "Steeles",
          "Stonegate-Queensway",
          "Tam O'Shanter-Sullivan",
          "Taylor-Massey",
          "The Beaches",
          "Thistletown-Beaumond Heights",
          "Thorncliffe Park",
          "Trinity-Bellwoods",
          "University",
          "Victoria Village",
          "Waterfront Communities-The Island",
          "West Hill",
          "West Humber-Clairville",
          "Westminster-Branson",
          "Weston",
          "Weston-Pellam Park",
          "Wexford/Maryvale",
          "Willowdale East",
          "Willowdale West",
          "Willowridge-Martingrove-Richview",
          "Woburn",
          "Woodbine Corridor",
          "Woodbine-Lumsden",
          "Wychwood",
          "Yonge-Eglinton",
          "Yonge-St.Clair",
          "York University Heights",
          "Yorkdale-Glen Park"
         ],
         "xaxis": "x2",
         "y": [
          366667,
          371534,
          475742,
          830450,
          680433,
          557627,
          470996,
          599520,
          628597,
          1034387,
          412378,
          334773,
          486184,
          289990,
          568589,
          406371,
          1697067,
          492919,
          390160,
          549326,
          402135,
          1090696,
          455664,
          451500,
          394176,
          613197,
          464068,
          466857,
          519123,
          468801,
          442487,
          291278,
          483276,
          424038,
          508723,
          531476,
          885132,
          299023,
          298328,
          632514,
          442233,
          343988,
          231020,
          946854,
          1329642,
          364206,
          430308,
          410650,
          411300,
          592002,
          648124,
          476760,
          439166,
          499342,
          391427,
          355519,
          774983,
          319834,
          502160,
          481686,
          358844,
          319331,
          489709,
          376154,
          937464,
          722978,
          374234,
          681742,
          844253,
          1216283,
          896593,
          600558,
          428946,
          285586,
          503876,
          493588,
          383540,
          437462,
          316863,
          455212,
          291621,
          281475,
          753065,
          520500,
          453384,
          622104,
          512036,
          411339,
          781629,
          457435,
          331652,
          469444,
          490506,
          492964,
          691720,
          505459,
          450737,
          721368,
          415099,
          851317,
          436448,
          401340,
          384287,
          565810,
          1215852,
          418336,
          613776,
          479264,
          366694,
          497483,
          505868,
          1110755,
          418033,
          611942,
          393477,
          266168,
          740764,
          417866,
          283790,
          594191,
          687412,
          391483,
          418977,
          316456,
          381612,
          388356,
          342427,
          391115,
          387243,
          521460,
          518224,
          516160,
          331863,
          495153,
          411256,
          629223,
          900233,
          904096,
          340083,
          479009
         ],
         "yaxis": "y2"
        },
        {
         "alignmentgroup": "True",
         "hovertemplate": "year=2016<br>Neighbourhoods=%{x}<br>Avg. House Value=%{marker.color}<extra></extra>",
         "legendgroup": "",
         "marker": {
          "color": [
           459051,
           465144,
           595608,
           1039687,
           851872,
           698124,
           589666,
           750572,
           786976,
           1295007,
           516279,
           419121,
           608681,
           363055,
           711848,
           508759,
           2124653,
           617113,
           488463,
           687732,
           503455,
           1365503,
           570471,
           565258,
           493491,
           767695,
           580993,
           584484,
           649919,
           586918,
           553974,
           364667,
           605040,
           530877,
           636899,
           665384,
           1108146,
           374364,
           373493,
           791880,
           553656,
           430658,
           289227,
           1185419,
           1664653,
           455970,
           538727,
           514116,
           514929,
           741161,
           811423,
           596883,
           549816,
           625154,
           490049,
           445094,
           970245,
           400418,
           628682,
           603050,
           449257,
           399789,
           613094,
           470928,
           1173663,
           905137,
           468524,
           853511,
           1056967,
           1522732,
           1122495,
           751872,
           537021,
           357541,
           630831,
           617950,
           480175,
           547683,
           396699,
           569905,
           365097,
           352394,
           942804,
           651643,
           567617,
           778847,
           641047,
           514978,
           978565,
           572689,
           415214,
           587723,
           614092,
           617169,
           866003,
           632812,
           564303,
           903121,
           519686,
           1065811,
           546413,
           502460,
           481110,
           708369,
           1522193,
           523738,
           768420,
           600017,
           459085,
           622827,
           633325,
           1390616,
           523359,
           766124,
           492616,
           333230,
           927404,
           523150,
           355293,
           743901,
           860610,
           490119,
           524540,
           396189,
           477762,
           486204,
           428703,
           489659,
           484811,
           652845,
           648794,
           646210,
           415478,
           619910,
           514874,
           787760,
           1127052,
           1131888,
           425769,
           599698
          ],
          "coloraxis": "coloraxis"
         },
         "name": "",
         "offsetgroup": "",
         "orientation": "v",
         "showlegend": false,
         "textposition": "auto",
         "type": "bar",
         "x": [
          "Agincourt North",
          "Agincourt South-Malvern West",
          "Alderwood",
          "Annex",
          "Banbury-Don Mills",
          "Bathurst Manor",
          "Bay Street Corridor",
          "Bayview Village",
          "Bayview Woods-Steeles",
          "Bedford Park-Nortown",
          "Beechborough-Greenbrook",
          "Bendale",
          "Birchcliffe-Cliffside",
          "Black Creek",
          "Blake-Jones",
          "Briar Hill-Belgravia",
          "Bridle Path-Sunnybrook-York Mills",
          "Broadview North",
          "Brookhaven-Amesbury",
          "Cabbagetown-South St.James Town",
          "Caledonia-Fairbank",
          "Casa Loma",
          "Centennial Scarborough",
          "Church-Yonge Corridor",
          "Clairlea-Birchmount",
          "Clanton Park",
          "Cliffcrest",
          "Corso Italia-Davenport",
          "Danforth",
          "Danforth-East York",
          "Don Valley Village",
          "Dorset Park",
          "Dovercourt-Wallace Emerson-Juncti",
          "Downsview-Roding-CFB",
          "Dufferin Grove",
          "East End-Danforth",
          "Edenbridge-Humber Valley",
          "Eglinton East",
          "Elms-Old Rexdale",
          "Englemount-Lawrence",
          "Eringate-Centennial-West Deane",
          "Etobicoke West Mall",
          "Flemingdon Park",
          "Forest Hill North",
          "Forest Hill South",
          "Glenfield-Jane Heights",
          "Greenwood-Coxwell",
          "Guildwood",
          "Henry Farm",
          "High Park North",
          "High Park-Swansea",
          "Highland Creek",
          "Hillcrest Village",
          "Humber Heights-Westmount",
          "Humber Summit",
          "Humbermede",
          "Humewood-Cedarvale",
          "Ionview",
          "Islington-City Centre West",
          "Junction Area",
          "Keelesdale-Eglinton West",
          "Kennedy Park",
          "Kensington-Chinatown",
          "Kingsview Village-The Westway",
          "Kingsway South",
          "L'Amoreaux",
          "Lambton Baby Point",
          "Lansing-Westgate",
          "Lawrence Park North",
          "Lawrence Park South",
          "Leaside-Bennington",
          "Little Portugal",
          "Long Branch",
          "Malvern",
          "Maple Leaf",
          "Markland Wood",
          "Milliken",
          "Mimico",
          "Morningside",
          "Moss Park",
          "Mount Dennis",
          "Mount Olive-Silverstone-Jamestown",
          "Mount Pleasant East",
          "Mount Pleasant West",
          "New Toronto",
          "Newtonbrook East",
          "Newtonbrook West",
          "Niagara",
          "North Riverdale",
          "North St.James Town",
          "O'Connor-Parkview",
          "Oakridge",
          "Oakwood Village",
          "Old East York",
          "Palmerston-Little Italy",
          "Parkwoods-Donalda",
          "Pelmo Park-Humberlea",
          "Playter Estates-Danforth",
          "Pleasant View",
          "Princess-Rosethorn",
          "Regent Park",
          "Rexdale-Kipling",
          "Rockcliffe-Smythe",
          "Roncesvalles",
          "Rosedale-Moore Park",
          "Rouge",
          "Runnymede-Bloor West Village",
          "Rustic",
          "Scarborough Village",
          "South Parkdale",
          "South Riverdale",
          "St.Andrew-Windfields",
          "Steeles",
          "Stonegate-Queensway",
          "Tam O'Shanter-Sullivan",
          "Taylor-Massey",
          "The Beaches",
          "Thistletown-Beaumond Heights",
          "Thorncliffe Park",
          "Trinity-Bellwoods",
          "University",
          "Victoria Village",
          "Waterfront Communities-The Island",
          "West Hill",
          "West Humber-Clairville",
          "Westminster-Branson",
          "Weston",
          "Weston-Pellam Park",
          "Wexford/Maryvale",
          "Willowdale East",
          "Willowdale West",
          "Willowridge-Martingrove-Richview",
          "Woburn",
          "Woodbine Corridor",
          "Woodbine-Lumsden",
          "Wychwood",
          "Yonge-Eglinton",
          "Yonge-St.Clair",
          "York University Heights",
          "Yorkdale-Glen Park"
         ],
         "xaxis": "x",
         "y": [
          459051,
          465144,
          595608,
          1039687,
          851872,
          698124,
          589666,
          750572,
          786976,
          1295007,
          516279,
          419121,
          608681,
          363055,
          711848,
          508759,
          2124653,
          617113,
          488463,
          687732,
          503455,
          1365503,
          570471,
          565258,
          493491,
          767695,
          580993,
          584484,
          649919,
          586918,
          553974,
          364667,
          605040,
          530877,
          636899,
          665384,
          1108146,
          374364,
          373493,
          791880,
          553656,
          430658,
          289227,
          1185419,
          1664653,
          455970,
          538727,
          514116,
          514929,
          741161,
          811423,
          596883,
          549816,
          625154,
          490049,
          445094,
          970245,
          400418,
          628682,
          603050,
          449257,
          399789,
          613094,
          470928,
          1173663,
          905137,
          468524,
          853511,
          1056967,
          1522732,
          1122495,
          751872,
          537021,
          357541,
          630831,
          617950,
          480175,
          547683,
          396699,
          569905,
          365097,
          352394,
          942804,
          651643,
          567617,
          778847,
          641047,
          514978,
          978565,
          572689,
          415214,
          587723,
          614092,
          617169,
          866003,
          632812,
          564303,
          903121,
          519686,
          1065811,
          546413,
          502460,
          481110,
          708369,
          1522193,
          523738,
          768420,
          600017,
          459085,
          622827,
          633325,
          1390616,
          523359,
          766124,
          492616,
          333230,
          927404,
          523150,
          355293,
          743901,
          860610,
          490119,
          524540,
          396189,
          477762,
          486204,
          428703,
          489659,
          484811,
          652845,
          648794,
          646210,
          415478,
          619910,
          514874,
          787760,
          1127052,
          1131888,
          425769,
          599698
         ],
         "yaxis": "y"
        }
       ],
       "layout": {
        "annotations": [
         {
          "font": {},
          "showarrow": false,
          "text": "year=2016",
          "textangle": 90,
          "x": 0.98,
          "xanchor": "left",
          "xref": "paper",
          "y": 0.11375,
          "yanchor": "middle",
          "yref": "paper"
         },
         {
          "font": {},
          "showarrow": false,
          "text": "year=2011",
          "textangle": 90,
          "x": 0.98,
          "xanchor": "left",
          "xref": "paper",
          "y": 0.37124999999999997,
          "yanchor": "middle",
          "yref": "paper"
         },
         {
          "font": {},
          "showarrow": false,
          "text": "year=2006",
          "textangle": 90,
          "x": 0.98,
          "xanchor": "left",
          "xref": "paper",
          "y": 0.62875,
          "yanchor": "middle",
          "yref": "paper"
         },
         {
          "font": {},
          "showarrow": false,
          "text": "year=2001",
          "textangle": 90,
          "x": 0.98,
          "xanchor": "left",
          "xref": "paper",
          "y": 0.88625,
          "yanchor": "middle",
          "yref": "paper"
         }
        ],
        "autosize": true,
        "barmode": "relative",
        "coloraxis": {
         "colorbar": {
          "title": {
           "text": "Avg. House Value"
          }
         },
         "colorscale": [
          [
           0,
           "#0d0887"
          ],
          [
           0.1111111111111111,
           "#46039f"
          ],
          [
           0.2222222222222222,
           "#7201a8"
          ],
          [
           0.3333333333333333,
           "#9c179e"
          ],
          [
           0.4444444444444444,
           "#bd3786"
          ],
          [
           0.5555555555555556,
           "#d8576b"
          ],
          [
           0.6666666666666666,
           "#ed7953"
          ],
          [
           0.7777777777777778,
           "#fb9f3a"
          ],
          [
           0.8888888888888888,
           "#fdca26"
          ],
          [
           1,
           "#f0f921"
          ]
         ]
        },
        "legend": {
         "tracegroupgap": 0
        },
        "template": {
         "data": {
          "bar": [
           {
            "error_x": {
             "color": "#2a3f5f"
            },
            "error_y": {
             "color": "#2a3f5f"
            },
            "marker": {
             "line": {
              "color": "#E5ECF6",
              "width": 0.5
             }
            },
            "type": "bar"
           }
          ],
          "barpolar": [
           {
            "marker": {
             "line": {
              "color": "#E5ECF6",
              "width": 0.5
             }
            },
            "type": "barpolar"
           }
          ],
          "carpet": [
           {
            "aaxis": {
             "endlinecolor": "#2a3f5f",
             "gridcolor": "white",
             "linecolor": "white",
             "minorgridcolor": "white",
             "startlinecolor": "#2a3f5f"
            },
            "baxis": {
             "endlinecolor": "#2a3f5f",
             "gridcolor": "white",
             "linecolor": "white",
             "minorgridcolor": "white",
             "startlinecolor": "#2a3f5f"
            },
            "type": "carpet"
           }
          ],
          "choropleth": [
           {
            "colorbar": {
             "outlinewidth": 0,
             "ticks": ""
            },
            "type": "choropleth"
           }
          ],
          "contour": [
           {
            "colorbar": {
             "outlinewidth": 0,
             "ticks": ""
            },
            "colorscale": [
             [
              0,
              "#0d0887"
             ],
             [
              0.1111111111111111,
              "#46039f"
             ],
             [
              0.2222222222222222,
              "#7201a8"
             ],
             [
              0.3333333333333333,
              "#9c179e"
             ],
             [
              0.4444444444444444,
              "#bd3786"
             ],
             [
              0.5555555555555556,
              "#d8576b"
             ],
             [
              0.6666666666666666,
              "#ed7953"
             ],
             [
              0.7777777777777778,
              "#fb9f3a"
             ],
             [
              0.8888888888888888,
              "#fdca26"
             ],
             [
              1,
              "#f0f921"
             ]
            ],
            "type": "contour"
           }
          ],
          "contourcarpet": [
           {
            "colorbar": {
             "outlinewidth": 0,
             "ticks": ""
            },
            "type": "contourcarpet"
           }
          ],
          "heatmap": [
           {
            "colorbar": {
             "outlinewidth": 0,
             "ticks": ""
            },
            "colorscale": [
             [
              0,
              "#0d0887"
             ],
             [
              0.1111111111111111,
              "#46039f"
             ],
             [
              0.2222222222222222,
              "#7201a8"
             ],
             [
              0.3333333333333333,
              "#9c179e"
             ],
             [
              0.4444444444444444,
              "#bd3786"
             ],
             [
              0.5555555555555556,
              "#d8576b"
             ],
             [
              0.6666666666666666,
              "#ed7953"
             ],
             [
              0.7777777777777778,
              "#fb9f3a"
             ],
             [
              0.8888888888888888,
              "#fdca26"
             ],
             [
              1,
              "#f0f921"
             ]
            ],
            "type": "heatmap"
           }
          ],
          "heatmapgl": [
           {
            "colorbar": {
             "outlinewidth": 0,
             "ticks": ""
            },
            "colorscale": [
             [
              0,
              "#0d0887"
             ],
             [
              0.1111111111111111,
              "#46039f"
             ],
             [
              0.2222222222222222,
              "#7201a8"
             ],
             [
              0.3333333333333333,
              "#9c179e"
             ],
             [
              0.4444444444444444,
              "#bd3786"
             ],
             [
              0.5555555555555556,
              "#d8576b"
             ],
             [
              0.6666666666666666,
              "#ed7953"
             ],
             [
              0.7777777777777778,
              "#fb9f3a"
             ],
             [
              0.8888888888888888,
              "#fdca26"
             ],
             [
              1,
              "#f0f921"
             ]
            ],
            "type": "heatmapgl"
           }
          ],
          "histogram": [
           {
            "marker": {
             "colorbar": {
              "outlinewidth": 0,
              "ticks": ""
             }
            },
            "type": "histogram"
           }
          ],
          "histogram2d": [
           {
            "colorbar": {
             "outlinewidth": 0,
             "ticks": ""
            },
            "colorscale": [
             [
              0,
              "#0d0887"
             ],
             [
              0.1111111111111111,
              "#46039f"
             ],
             [
              0.2222222222222222,
              "#7201a8"
             ],
             [
              0.3333333333333333,
              "#9c179e"
             ],
             [
              0.4444444444444444,
              "#bd3786"
             ],
             [
              0.5555555555555556,
              "#d8576b"
             ],
             [
              0.6666666666666666,
              "#ed7953"
             ],
             [
              0.7777777777777778,
              "#fb9f3a"
             ],
             [
              0.8888888888888888,
              "#fdca26"
             ],
             [
              1,
              "#f0f921"
             ]
            ],
            "type": "histogram2d"
           }
          ],
          "histogram2dcontour": [
           {
            "colorbar": {
             "outlinewidth": 0,
             "ticks": ""
            },
            "colorscale": [
             [
              0,
              "#0d0887"
             ],
             [
              0.1111111111111111,
              "#46039f"
             ],
             [
              0.2222222222222222,
              "#7201a8"
             ],
             [
              0.3333333333333333,
              "#9c179e"
             ],
             [
              0.4444444444444444,
              "#bd3786"
             ],
             [
              0.5555555555555556,
              "#d8576b"
             ],
             [
              0.6666666666666666,
              "#ed7953"
             ],
             [
              0.7777777777777778,
              "#fb9f3a"
             ],
             [
              0.8888888888888888,
              "#fdca26"
             ],
             [
              1,
              "#f0f921"
             ]
            ],
            "type": "histogram2dcontour"
           }
          ],
          "mesh3d": [
           {
            "colorbar": {
             "outlinewidth": 0,
             "ticks": ""
            },
            "type": "mesh3d"
           }
          ],
          "parcoords": [
           {
            "line": {
             "colorbar": {
              "outlinewidth": 0,
              "ticks": ""
             }
            },
            "type": "parcoords"
           }
          ],
          "pie": [
           {
            "automargin": true,
            "type": "pie"
           }
          ],
          "scatter": [
           {
            "marker": {
             "colorbar": {
              "outlinewidth": 0,
              "ticks": ""
             }
            },
            "type": "scatter"
           }
          ],
          "scatter3d": [
           {
            "line": {
             "colorbar": {
              "outlinewidth": 0,
              "ticks": ""
             }
            },
            "marker": {
             "colorbar": {
              "outlinewidth": 0,
              "ticks": ""
             }
            },
            "type": "scatter3d"
           }
          ],
          "scattercarpet": [
           {
            "marker": {
             "colorbar": {
              "outlinewidth": 0,
              "ticks": ""
             }
            },
            "type": "scattercarpet"
           }
          ],
          "scattergeo": [
           {
            "marker": {
             "colorbar": {
              "outlinewidth": 0,
              "ticks": ""
             }
            },
            "type": "scattergeo"
           }
          ],
          "scattergl": [
           {
            "marker": {
             "colorbar": {
              "outlinewidth": 0,
              "ticks": ""
             }
            },
            "type": "scattergl"
           }
          ],
          "scattermapbox": [
           {
            "marker": {
             "colorbar": {
              "outlinewidth": 0,
              "ticks": ""
             }
            },
            "type": "scattermapbox"
           }
          ],
          "scatterpolar": [
           {
            "marker": {
             "colorbar": {
              "outlinewidth": 0,
              "ticks": ""
             }
            },
            "type": "scatterpolar"
           }
          ],
          "scatterpolargl": [
           {
            "marker": {
             "colorbar": {
              "outlinewidth": 0,
              "ticks": ""
             }
            },
            "type": "scatterpolargl"
           }
          ],
          "scatterternary": [
           {
            "marker": {
             "colorbar": {
              "outlinewidth": 0,
              "ticks": ""
             }
            },
            "type": "scatterternary"
           }
          ],
          "surface": [
           {
            "colorbar": {
             "outlinewidth": 0,
             "ticks": ""
            },
            "colorscale": [
             [
              0,
              "#0d0887"
             ],
             [
              0.1111111111111111,
              "#46039f"
             ],
             [
              0.2222222222222222,
              "#7201a8"
             ],
             [
              0.3333333333333333,
              "#9c179e"
             ],
             [
              0.4444444444444444,
              "#bd3786"
             ],
             [
              0.5555555555555556,
              "#d8576b"
             ],
             [
              0.6666666666666666,
              "#ed7953"
             ],
             [
              0.7777777777777778,
              "#fb9f3a"
             ],
             [
              0.8888888888888888,
              "#fdca26"
             ],
             [
              1,
              "#f0f921"
             ]
            ],
            "type": "surface"
           }
          ],
          "table": [
           {
            "cells": {
             "fill": {
              "color": "#EBF0F8"
             },
             "line": {
              "color": "white"
             }
            },
            "header": {
             "fill": {
              "color": "#C8D4E3"
             },
             "line": {
              "color": "white"
             }
            },
            "type": "table"
           }
          ]
         },
         "layout": {
          "annotationdefaults": {
           "arrowcolor": "#2a3f5f",
           "arrowhead": 0,
           "arrowwidth": 1
          },
          "coloraxis": {
           "colorbar": {
            "outlinewidth": 0,
            "ticks": ""
           }
          },
          "colorscale": {
           "diverging": [
            [
             0,
             "#8e0152"
            ],
            [
             0.1,
             "#c51b7d"
            ],
            [
             0.2,
             "#de77ae"
            ],
            [
             0.3,
             "#f1b6da"
            ],
            [
             0.4,
             "#fde0ef"
            ],
            [
             0.5,
             "#f7f7f7"
            ],
            [
             0.6,
             "#e6f5d0"
            ],
            [
             0.7,
             "#b8e186"
            ],
            [
             0.8,
             "#7fbc41"
            ],
            [
             0.9,
             "#4d9221"
            ],
            [
             1,
             "#276419"
            ]
           ],
           "sequential": [
            [
             0,
             "#0d0887"
            ],
            [
             0.1111111111111111,
             "#46039f"
            ],
            [
             0.2222222222222222,
             "#7201a8"
            ],
            [
             0.3333333333333333,
             "#9c179e"
            ],
            [
             0.4444444444444444,
             "#bd3786"
            ],
            [
             0.5555555555555556,
             "#d8576b"
            ],
            [
             0.6666666666666666,
             "#ed7953"
            ],
            [
             0.7777777777777778,
             "#fb9f3a"
            ],
            [
             0.8888888888888888,
             "#fdca26"
            ],
            [
             1,
             "#f0f921"
            ]
           ],
           "sequentialminus": [
            [
             0,
             "#0d0887"
            ],
            [
             0.1111111111111111,
             "#46039f"
            ],
            [
             0.2222222222222222,
             "#7201a8"
            ],
            [
             0.3333333333333333,
             "#9c179e"
            ],
            [
             0.4444444444444444,
             "#bd3786"
            ],
            [
             0.5555555555555556,
             "#d8576b"
            ],
            [
             0.6666666666666666,
             "#ed7953"
            ],
            [
             0.7777777777777778,
             "#fb9f3a"
            ],
            [
             0.8888888888888888,
             "#fdca26"
            ],
            [
             1,
             "#f0f921"
            ]
           ]
          },
          "colorway": [
           "#636efa",
           "#EF553B",
           "#00cc96",
           "#ab63fa",
           "#FFA15A",
           "#19d3f3",
           "#FF6692",
           "#B6E880",
           "#FF97FF",
           "#FECB52"
          ],
          "font": {
           "color": "#2a3f5f"
          },
          "geo": {
           "bgcolor": "white",
           "lakecolor": "white",
           "landcolor": "#E5ECF6",
           "showlakes": true,
           "showland": true,
           "subunitcolor": "white"
          },
          "hoverlabel": {
           "align": "left"
          },
          "hovermode": "closest",
          "mapbox": {
           "style": "light"
          },
          "paper_bgcolor": "white",
          "plot_bgcolor": "#E5ECF6",
          "polar": {
           "angularaxis": {
            "gridcolor": "white",
            "linecolor": "white",
            "ticks": ""
           },
           "bgcolor": "#E5ECF6",
           "radialaxis": {
            "gridcolor": "white",
            "linecolor": "white",
            "ticks": ""
           }
          },
          "scene": {
           "xaxis": {
            "backgroundcolor": "#E5ECF6",
            "gridcolor": "white",
            "gridwidth": 2,
            "linecolor": "white",
            "showbackground": true,
            "ticks": "",
            "zerolinecolor": "white"
           },
           "yaxis": {
            "backgroundcolor": "#E5ECF6",
            "gridcolor": "white",
            "gridwidth": 2,
            "linecolor": "white",
            "showbackground": true,
            "ticks": "",
            "zerolinecolor": "white"
           },
           "zaxis": {
            "backgroundcolor": "#E5ECF6",
            "gridcolor": "white",
            "gridwidth": 2,
            "linecolor": "white",
            "showbackground": true,
            "ticks": "",
            "zerolinecolor": "white"
           }
          },
          "shapedefaults": {
           "line": {
            "color": "#2a3f5f"
           }
          },
          "ternary": {
           "aaxis": {
            "gridcolor": "white",
            "linecolor": "white",
            "ticks": ""
           },
           "baxis": {
            "gridcolor": "white",
            "linecolor": "white",
            "ticks": ""
           },
           "bgcolor": "#E5ECF6",
           "caxis": {
            "gridcolor": "white",
            "linecolor": "white",
            "ticks": ""
           }
          },
          "title": {
           "x": 0.05
          },
          "xaxis": {
           "automargin": true,
           "gridcolor": "white",
           "linecolor": "white",
           "ticks": "",
           "title": {
            "standoff": 15
           },
           "zerolinecolor": "white",
           "zerolinewidth": 2
          },
          "yaxis": {
           "automargin": true,
           "gridcolor": "white",
           "linecolor": "white",
           "ticks": "",
           "title": {
            "standoff": 15
           },
           "zerolinecolor": "white",
           "zerolinewidth": 2
          }
         }
        },
        "title": {
         "text": "Average House Values in Toronto per Neighbourhood"
        },
        "xaxis": {
         "anchor": "y",
         "autorange": true,
         "domain": [
          0,
          0.98
         ],
         "range": [
          -0.5,
          139.5
         ],
         "title": {
          "text": "Neighbourhoods"
         },
         "type": "category"
        },
        "xaxis2": {
         "anchor": "y2",
         "autorange": true,
         "domain": [
          0,
          0.98
         ],
         "matches": "x",
         "range": [
          -0.5,
          139.5
         ],
         "showticklabels": false,
         "type": "category"
        },
        "xaxis3": {
         "anchor": "y3",
         "autorange": true,
         "domain": [
          0,
          0.98
         ],
         "matches": "x",
         "range": [
          -0.5,
          139.5
         ],
         "showticklabels": false,
         "type": "category"
        },
        "xaxis4": {
         "anchor": "y4",
         "autorange": true,
         "domain": [
          0,
          0.98
         ],
         "matches": "x",
         "range": [
          -0.5,
          139.5
         ],
         "showticklabels": false,
         "type": "category"
        },
        "yaxis": {
         "anchor": "x",
         "autorange": true,
         "domain": [
          0,
          0.2275
         ],
         "range": [
          0,
          2236476.842105263
         ],
         "title": {
          "text": "Avg. House Value"
         },
         "type": "linear"
        },
        "yaxis2": {
         "anchor": "x2",
         "autorange": true,
         "domain": [
          0.2575,
          0.485
         ],
         "matches": "y",
         "range": [
          0,
          2236476.842105263
         ],
         "title": {
          "text": "Avg. House Value"
         },
         "type": "linear"
        },
        "yaxis3": {
         "anchor": "x3",
         "autorange": true,
         "domain": [
          0.515,
          0.7425
         ],
         "matches": "y",
         "range": [
          0,
          2236476.842105263
         ],
         "title": {
          "text": "Avg. House Value"
         },
         "type": "linear"
        },
        "yaxis4": {
         "anchor": "x4",
         "autorange": true,
         "domain": [
          0.7725,
          1
         ],
         "matches": "y",
         "range": [
          0,
          2236476.842105263
         ],
         "title": {
          "text": "Avg. House Value"
         },
         "type": "linear"
        }
       }
      },
      "text/html": [
       "<div>\n",
       "        \n",
       "        \n",
       "            <div id=\"24b6f220-d63c-4d5e-866b-af04270df0c1\" class=\"plotly-graph-div\" style=\"height:1024px; width:100%;\"></div>\n",
       "            <script type=\"text/javascript\">\n",
       "                require([\"plotly\"], function(Plotly) {\n",
       "                    window.PLOTLYENV=window.PLOTLYENV || {};\n",
       "                    \n",
       "                if (document.getElementById(\"24b6f220-d63c-4d5e-866b-af04270df0c1\")) {\n",
       "                    Plotly.newPlot(\n",
       "                        '24b6f220-d63c-4d5e-866b-af04270df0c1',\n",
       "                        [{\"alignmentgroup\": \"True\", \"hovertemplate\": \"year=2001<br>Neighbourhoods=%{x}<br>Avg. House Value=%{marker.color}<extra></extra>\", \"legendgroup\": \"\", \"marker\": {\"color\": [200388, 203047, 259998, 453850, 371864, 304749, 257404, 327644, 343535, 565304, 225369, 182957, 265705, 158483, 310740, 222086, 927466, 269386, 213227, 300213, 219771, 596077, 249025, 246750, 215421, 335119, 253618, 255142, 283706, 256205, 241824, 159187, 264116, 231741, 278023, 290457, 483734, 163419, 163039, 345676, 241685, 187993, 126255, 517466, 726664, 199043, 235168, 224425, 224780, 323536, 354207, 260555, 240009, 272896, 213919, 194295, 423537, 174793, 274436, 263247, 196112, 174518, 267631, 205572, 512334, 395115, 204523, 372579, 461393, 664712, 489998, 328211, 234424, 156076, 275374, 269751, 209609, 239078, 173169, 248778, 159374, 153829, 411558, 284459, 247779, 339987, 279833, 224801, 427169, 249993, 181251, 256556, 268067, 269410, 378033, 276239, 246333, 394235, 226856, 465254, 238524, 219337, 210017, 309221, 664476, 228625, 335435, 261923, 200402, 271880, 276462, 607040, 228460, 334433, 215039, 145464, 404836, 228368, 155094, 324732, 375678, 213950, 228975, 172947, 208555, 212241, 187140, 213749, 211633, 284984, 283215, 282087, 181367, 270607, 224756, 343877, 491987, 494098, 185859, 261784], \"coloraxis\": \"coloraxis\"}, \"name\": \"\", \"offsetgroup\": \"\", \"orientation\": \"v\", \"showlegend\": false, \"textposition\": \"auto\", \"type\": \"bar\", \"x\": [\"Agincourt North\", \"Agincourt South-Malvern West\", \"Alderwood\", \"Annex\", \"Banbury-Don Mills\", \"Bathurst Manor\", \"Bay Street Corridor\", \"Bayview Village\", \"Bayview Woods-Steeles\", \"Bedford Park-Nortown\", \"Beechborough-Greenbrook\", \"Bendale\", \"Birchcliffe-Cliffside\", \"Black Creek\", \"Blake-Jones\", \"Briar Hill-Belgravia\", \"Bridle Path-Sunnybrook-York Mills\", \"Broadview North\", \"Brookhaven-Amesbury\", \"Cabbagetown-South St.James Town\", \"Caledonia-Fairbank\", \"Casa Loma\", \"Centennial Scarborough\", \"Church-Yonge Corridor\", \"Clairlea-Birchmount\", \"Clanton Park\", \"Cliffcrest\", \"Corso Italia-Davenport\", \"Danforth\", \"Danforth-East York\", \"Don Valley Village\", \"Dorset Park\", \"Dovercourt-Wallace Emerson-Juncti\", \"Downsview-Roding-CFB\", \"Dufferin Grove\", \"East End-Danforth\", \"Edenbridge-Humber Valley\", \"Eglinton East\", \"Elms-Old Rexdale\", \"Englemount-Lawrence\", \"Eringate-Centennial-West Deane\", \"Etobicoke West Mall\", \"Flemingdon Park\", \"Forest Hill North\", \"Forest Hill South\", \"Glenfield-Jane Heights\", \"Greenwood-Coxwell\", \"Guildwood\", \"Henry Farm\", \"High Park North\", \"High Park-Swansea\", \"Highland Creek\", \"Hillcrest Village\", \"Humber Heights-Westmount\", \"Humber Summit\", \"Humbermede\", \"Humewood-Cedarvale\", \"Ionview\", \"Islington-City Centre West\", \"Junction Area\", \"Keelesdale-Eglinton West\", \"Kennedy Park\", \"Kensington-Chinatown\", \"Kingsview Village-The Westway\", \"Kingsway South\", \"L'Amoreaux\", \"Lambton Baby Point\", \"Lansing-Westgate\", \"Lawrence Park North\", \"Lawrence Park South\", \"Leaside-Bennington\", \"Little Portugal\", \"Long Branch\", \"Malvern\", \"Maple Leaf\", \"Markland Wood\", \"Milliken\", \"Mimico\", \"Morningside\", \"Moss Park\", \"Mount Dennis\", \"Mount Olive-Silverstone-Jamestown\", \"Mount Pleasant East\", \"Mount Pleasant West\", \"New Toronto\", \"Newtonbrook East\", \"Newtonbrook West\", \"Niagara\", \"North Riverdale\", \"North St.James Town\", \"O'Connor-Parkview\", \"Oakridge\", \"Oakwood Village\", \"Old East York\", \"Palmerston-Little Italy\", \"Parkwoods-Donalda\", \"Pelmo Park-Humberlea\", \"Playter Estates-Danforth\", \"Pleasant View\", \"Princess-Rosethorn\", \"Regent Park\", \"Rexdale-Kipling\", \"Rockcliffe-Smythe\", \"Roncesvalles\", \"Rosedale-Moore Park\", \"Rouge\", \"Runnymede-Bloor West Village\", \"Rustic\", \"Scarborough Village\", \"South Parkdale\", \"South Riverdale\", \"St.Andrew-Windfields\", \"Steeles\", \"Stonegate-Queensway\", \"Tam O'Shanter-Sullivan\", \"Taylor-Massey\", \"The Beaches\", \"Thistletown-Beaumond Heights\", \"Thorncliffe Park\", \"Trinity-Bellwoods\", \"University\", \"Victoria Village\", \"Waterfront Communities-The Island\", \"West Hill\", \"West Humber-Clairville\", \"Westminster-Branson\", \"Weston\", \"Weston-Pellam Park\", \"Wexford/Maryvale\", \"Willowdale East\", \"Willowdale West\", \"Willowridge-Martingrove-Richview\", \"Woburn\", \"Woodbine Corridor\", \"Woodbine-Lumsden\", \"Wychwood\", \"Yonge-Eglinton\", \"Yonge-St.Clair\", \"York University Heights\", \"Yorkdale-Glen Park\"], \"xaxis\": \"x4\", \"y\": [200388, 203047, 259998, 453850, 371864, 304749, 257404, 327644, 343535, 565304, 225369, 182957, 265705, 158483, 310740, 222086, 927466, 269386, 213227, 300213, 219771, 596077, 249025, 246750, 215421, 335119, 253618, 255142, 283706, 256205, 241824, 159187, 264116, 231741, 278023, 290457, 483734, 163419, 163039, 345676, 241685, 187993, 126255, 517466, 726664, 199043, 235168, 224425, 224780, 323536, 354207, 260555, 240009, 272896, 213919, 194295, 423537, 174793, 274436, 263247, 196112, 174518, 267631, 205572, 512334, 395115, 204523, 372579, 461393, 664712, 489998, 328211, 234424, 156076, 275374, 269751, 209609, 239078, 173169, 248778, 159374, 153829, 411558, 284459, 247779, 339987, 279833, 224801, 427169, 249993, 181251, 256556, 268067, 269410, 378033, 276239, 246333, 394235, 226856, 465254, 238524, 219337, 210017, 309221, 664476, 228625, 335435, 261923, 200402, 271880, 276462, 607040, 228460, 334433, 215039, 145464, 404836, 228368, 155094, 324732, 375678, 213950, 228975, 172947, 208555, 212241, 187140, 213749, 211633, 284984, 283215, 282087, 181367, 270607, 224756, 343877, 491987, 494098, 185859, 261784], \"yaxis\": \"y4\"}, {\"alignmentgroup\": \"True\", \"hovertemplate\": \"year=2006<br>Neighbourhoods=%{x}<br>Avg. House Value=%{marker.color}<extra></extra>\", \"legendgroup\": \"\", \"marker\": {\"color\": [293140, 297031, 380342, 663921, 543987, 445807, 376548, 479299, 502546, 826963, 329685, 267642, 388690, 231839, 454571, 324882, 1356757, 394075, 311922, 439171, 321496, 871981, 364291, 360962, 315133, 490234, 371009, 373239, 415024, 374793, 353756, 232869, 386366, 339006, 406710, 424900, 707638, 239060, 238505, 505677, 353553, 275009, 184694, 756983, 1063011, 291172, 344019, 328303, 328823, 473289, 518157, 381156, 351101, 399210, 312935, 284227, 619577, 255698, 401463, 385094, 286886, 255296, 391509, 300725, 749476, 578001, 299190, 545034, 674957, 972384, 716801, 480129, 342930, 228318, 402835, 394610, 306629, 349739, 253323, 363929, 233143, 225031, 602054, 416125, 362468, 497355, 409358, 328854, 624890, 365706, 265146, 375307, 392146, 394111, 553011, 404100, 360352, 576713, 331860, 680604, 348928, 320860, 307227, 452349, 972039, 334448, 490697, 383158, 293162, 397724, 404427, 888017, 334206, 489230, 314574, 212794, 592220, 334072, 226882, 475039, 549567, 312980, 334960, 252998, 305088, 310480, 273761, 312685, 309590, 416893, 414306, 412655, 265315, 395861, 328788, 503046, 719711, 722799, 271887, 382954], \"coloraxis\": \"coloraxis\"}, \"name\": \"\", \"offsetgroup\": \"\", \"orientation\": \"v\", \"showlegend\": false, \"textposition\": \"auto\", \"type\": \"bar\", \"x\": [\"Agincourt North\", \"Agincourt South-Malvern West\", \"Alderwood\", \"Annex\", \"Banbury-Don Mills\", \"Bathurst Manor\", \"Bay Street Corridor\", \"Bayview Village\", \"Bayview Woods-Steeles\", \"Bedford Park-Nortown\", \"Beechborough-Greenbrook\", \"Bendale\", \"Birchcliffe-Cliffside\", \"Black Creek\", \"Blake-Jones\", \"Briar Hill-Belgravia\", \"Bridle Path-Sunnybrook-York Mills\", \"Broadview North\", \"Brookhaven-Amesbury\", \"Cabbagetown-South St.James Town\", \"Caledonia-Fairbank\", \"Casa Loma\", \"Centennial Scarborough\", \"Church-Yonge Corridor\", \"Clairlea-Birchmount\", \"Clanton Park\", \"Cliffcrest\", \"Corso Italia-Davenport\", \"Danforth\", \"Danforth-East York\", \"Don Valley Village\", \"Dorset Park\", \"Dovercourt-Wallace Emerson-Juncti\", \"Downsview-Roding-CFB\", \"Dufferin Grove\", \"East End-Danforth\", \"Edenbridge-Humber Valley\", \"Eglinton East\", \"Elms-Old Rexdale\", \"Englemount-Lawrence\", \"Eringate-Centennial-West Deane\", \"Etobicoke West Mall\", \"Flemingdon Park\", \"Forest Hill North\", \"Forest Hill South\", \"Glenfield-Jane Heights\", \"Greenwood-Coxwell\", \"Guildwood\", \"Henry Farm\", \"High Park North\", \"High Park-Swansea\", \"Highland Creek\", \"Hillcrest Village\", \"Humber Heights-Westmount\", \"Humber Summit\", \"Humbermede\", \"Humewood-Cedarvale\", \"Ionview\", \"Islington-City Centre West\", \"Junction Area\", \"Keelesdale-Eglinton West\", \"Kennedy Park\", \"Kensington-Chinatown\", \"Kingsview Village-The Westway\", \"Kingsway South\", \"L'Amoreaux\", \"Lambton Baby Point\", \"Lansing-Westgate\", \"Lawrence Park North\", \"Lawrence Park South\", \"Leaside-Bennington\", \"Little Portugal\", \"Long Branch\", \"Malvern\", \"Maple Leaf\", \"Markland Wood\", \"Milliken\", \"Mimico\", \"Morningside\", \"Moss Park\", \"Mount Dennis\", \"Mount Olive-Silverstone-Jamestown\", \"Mount Pleasant East\", \"Mount Pleasant West\", \"New Toronto\", \"Newtonbrook East\", \"Newtonbrook West\", \"Niagara\", \"North Riverdale\", \"North St.James Town\", \"O'Connor-Parkview\", \"Oakridge\", \"Oakwood Village\", \"Old East York\", \"Palmerston-Little Italy\", \"Parkwoods-Donalda\", \"Pelmo Park-Humberlea\", \"Playter Estates-Danforth\", \"Pleasant View\", \"Princess-Rosethorn\", \"Regent Park\", \"Rexdale-Kipling\", \"Rockcliffe-Smythe\", \"Roncesvalles\", \"Rosedale-Moore Park\", \"Rouge\", \"Runnymede-Bloor West Village\", \"Rustic\", \"Scarborough Village\", \"South Parkdale\", \"South Riverdale\", \"St.Andrew-Windfields\", \"Steeles\", \"Stonegate-Queensway\", \"Tam O'Shanter-Sullivan\", \"Taylor-Massey\", \"The Beaches\", \"Thistletown-Beaumond Heights\", \"Thorncliffe Park\", \"Trinity-Bellwoods\", \"University\", \"Victoria Village\", \"Waterfront Communities-The Island\", \"West Hill\", \"West Humber-Clairville\", \"Westminster-Branson\", \"Weston\", \"Weston-Pellam Park\", \"Wexford/Maryvale\", \"Willowdale East\", \"Willowdale West\", \"Willowridge-Martingrove-Richview\", \"Woburn\", \"Woodbine Corridor\", \"Woodbine-Lumsden\", \"Wychwood\", \"Yonge-Eglinton\", \"Yonge-St.Clair\", \"York University Heights\", \"Yorkdale-Glen Park\"], \"xaxis\": \"x3\", \"y\": [293140, 297031, 380342, 663921, 543987, 445807, 376548, 479299, 502546, 826963, 329685, 267642, 388690, 231839, 454571, 324882, 1356757, 394075, 311922, 439171, 321496, 871981, 364291, 360962, 315133, 490234, 371009, 373239, 415024, 374793, 353756, 232869, 386366, 339006, 406710, 424900, 707638, 239060, 238505, 505677, 353553, 275009, 184694, 756983, 1063011, 291172, 344019, 328303, 328823, 473289, 518157, 381156, 351101, 399210, 312935, 284227, 619577, 255698, 401463, 385094, 286886, 255296, 391509, 300725, 749476, 578001, 299190, 545034, 674957, 972384, 716801, 480129, 342930, 228318, 402835, 394610, 306629, 349739, 253323, 363929, 233143, 225031, 602054, 416125, 362468, 497355, 409358, 328854, 624890, 365706, 265146, 375307, 392146, 394111, 553011, 404100, 360352, 576713, 331860, 680604, 348928, 320860, 307227, 452349, 972039, 334448, 490697, 383158, 293162, 397724, 404427, 888017, 334206, 489230, 314574, 212794, 592220, 334072, 226882, 475039, 549567, 312980, 334960, 252998, 305088, 310480, 273761, 312685, 309590, 416893, 414306, 412655, 265315, 395861, 328788, 503046, 719711, 722799, 271887, 382954], \"yaxis\": \"y3\"}, {\"alignmentgroup\": \"True\", \"hovertemplate\": \"year=2011<br>Neighbourhoods=%{x}<br>Avg. House Value=%{marker.color}<extra></extra>\", \"legendgroup\": \"\", \"marker\": {\"color\": [366667, 371534, 475742, 830450, 680433, 557627, 470996, 599520, 628597, 1034387, 412378, 334773, 486184, 289990, 568589, 406371, 1697067, 492919, 390160, 549326, 402135, 1090696, 455664, 451500, 394176, 613197, 464068, 466857, 519123, 468801, 442487, 291278, 483276, 424038, 508723, 531476, 885132, 299023, 298328, 632514, 442233, 343988, 231020, 946854, 1329642, 364206, 430308, 410650, 411300, 592002, 648124, 476760, 439166, 499342, 391427, 355519, 774983, 319834, 502160, 481686, 358844, 319331, 489709, 376154, 937464, 722978, 374234, 681742, 844253, 1216283, 896593, 600558, 428946, 285586, 503876, 493588, 383540, 437462, 316863, 455212, 291621, 281475, 753065, 520500, 453384, 622104, 512036, 411339, 781629, 457435, 331652, 469444, 490506, 492964, 691720, 505459, 450737, 721368, 415099, 851317, 436448, 401340, 384287, 565810, 1215852, 418336, 613776, 479264, 366694, 497483, 505868, 1110755, 418033, 611942, 393477, 266168, 740764, 417866, 283790, 594191, 687412, 391483, 418977, 316456, 381612, 388356, 342427, 391115, 387243, 521460, 518224, 516160, 331863, 495153, 411256, 629223, 900233, 904096, 340083, 479009], \"coloraxis\": \"coloraxis\"}, \"name\": \"\", \"offsetgroup\": \"\", \"orientation\": \"v\", \"showlegend\": false, \"textposition\": \"auto\", \"type\": \"bar\", \"x\": [\"Agincourt North\", \"Agincourt South-Malvern West\", \"Alderwood\", \"Annex\", \"Banbury-Don Mills\", \"Bathurst Manor\", \"Bay Street Corridor\", \"Bayview Village\", \"Bayview Woods-Steeles\", \"Bedford Park-Nortown\", \"Beechborough-Greenbrook\", \"Bendale\", \"Birchcliffe-Cliffside\", \"Black Creek\", \"Blake-Jones\", \"Briar Hill-Belgravia\", \"Bridle Path-Sunnybrook-York Mills\", \"Broadview North\", \"Brookhaven-Amesbury\", \"Cabbagetown-South St.James Town\", \"Caledonia-Fairbank\", \"Casa Loma\", \"Centennial Scarborough\", \"Church-Yonge Corridor\", \"Clairlea-Birchmount\", \"Clanton Park\", \"Cliffcrest\", \"Corso Italia-Davenport\", \"Danforth\", \"Danforth-East York\", \"Don Valley Village\", \"Dorset Park\", \"Dovercourt-Wallace Emerson-Juncti\", \"Downsview-Roding-CFB\", \"Dufferin Grove\", \"East End-Danforth\", \"Edenbridge-Humber Valley\", \"Eglinton East\", \"Elms-Old Rexdale\", \"Englemount-Lawrence\", \"Eringate-Centennial-West Deane\", \"Etobicoke West Mall\", \"Flemingdon Park\", \"Forest Hill North\", \"Forest Hill South\", \"Glenfield-Jane Heights\", \"Greenwood-Coxwell\", \"Guildwood\", \"Henry Farm\", \"High Park North\", \"High Park-Swansea\", \"Highland Creek\", \"Hillcrest Village\", \"Humber Heights-Westmount\", \"Humber Summit\", \"Humbermede\", \"Humewood-Cedarvale\", \"Ionview\", \"Islington-City Centre West\", \"Junction Area\", \"Keelesdale-Eglinton West\", \"Kennedy Park\", \"Kensington-Chinatown\", \"Kingsview Village-The Westway\", \"Kingsway South\", \"L'Amoreaux\", \"Lambton Baby Point\", \"Lansing-Westgate\", \"Lawrence Park North\", \"Lawrence Park South\", \"Leaside-Bennington\", \"Little Portugal\", \"Long Branch\", \"Malvern\", \"Maple Leaf\", \"Markland Wood\", \"Milliken\", \"Mimico\", \"Morningside\", \"Moss Park\", \"Mount Dennis\", \"Mount Olive-Silverstone-Jamestown\", \"Mount Pleasant East\", \"Mount Pleasant West\", \"New Toronto\", \"Newtonbrook East\", \"Newtonbrook West\", \"Niagara\", \"North Riverdale\", \"North St.James Town\", \"O'Connor-Parkview\", \"Oakridge\", \"Oakwood Village\", \"Old East York\", \"Palmerston-Little Italy\", \"Parkwoods-Donalda\", \"Pelmo Park-Humberlea\", \"Playter Estates-Danforth\", \"Pleasant View\", \"Princess-Rosethorn\", \"Regent Park\", \"Rexdale-Kipling\", \"Rockcliffe-Smythe\", \"Roncesvalles\", \"Rosedale-Moore Park\", \"Rouge\", \"Runnymede-Bloor West Village\", \"Rustic\", \"Scarborough Village\", \"South Parkdale\", \"South Riverdale\", \"St.Andrew-Windfields\", \"Steeles\", \"Stonegate-Queensway\", \"Tam O'Shanter-Sullivan\", \"Taylor-Massey\", \"The Beaches\", \"Thistletown-Beaumond Heights\", \"Thorncliffe Park\", \"Trinity-Bellwoods\", \"University\", \"Victoria Village\", \"Waterfront Communities-The Island\", \"West Hill\", \"West Humber-Clairville\", \"Westminster-Branson\", \"Weston\", \"Weston-Pellam Park\", \"Wexford/Maryvale\", \"Willowdale East\", \"Willowdale West\", \"Willowridge-Martingrove-Richview\", \"Woburn\", \"Woodbine Corridor\", \"Woodbine-Lumsden\", \"Wychwood\", \"Yonge-Eglinton\", \"Yonge-St.Clair\", \"York University Heights\", \"Yorkdale-Glen Park\"], \"xaxis\": \"x2\", \"y\": [366667, 371534, 475742, 830450, 680433, 557627, 470996, 599520, 628597, 1034387, 412378, 334773, 486184, 289990, 568589, 406371, 1697067, 492919, 390160, 549326, 402135, 1090696, 455664, 451500, 394176, 613197, 464068, 466857, 519123, 468801, 442487, 291278, 483276, 424038, 508723, 531476, 885132, 299023, 298328, 632514, 442233, 343988, 231020, 946854, 1329642, 364206, 430308, 410650, 411300, 592002, 648124, 476760, 439166, 499342, 391427, 355519, 774983, 319834, 502160, 481686, 358844, 319331, 489709, 376154, 937464, 722978, 374234, 681742, 844253, 1216283, 896593, 600558, 428946, 285586, 503876, 493588, 383540, 437462, 316863, 455212, 291621, 281475, 753065, 520500, 453384, 622104, 512036, 411339, 781629, 457435, 331652, 469444, 490506, 492964, 691720, 505459, 450737, 721368, 415099, 851317, 436448, 401340, 384287, 565810, 1215852, 418336, 613776, 479264, 366694, 497483, 505868, 1110755, 418033, 611942, 393477, 266168, 740764, 417866, 283790, 594191, 687412, 391483, 418977, 316456, 381612, 388356, 342427, 391115, 387243, 521460, 518224, 516160, 331863, 495153, 411256, 629223, 900233, 904096, 340083, 479009], \"yaxis\": \"y2\"}, {\"alignmentgroup\": \"True\", \"hovertemplate\": \"year=2016<br>Neighbourhoods=%{x}<br>Avg. House Value=%{marker.color}<extra></extra>\", \"legendgroup\": \"\", \"marker\": {\"color\": [459051, 465144, 595608, 1039687, 851872, 698124, 589666, 750572, 786976, 1295007, 516279, 419121, 608681, 363055, 711848, 508759, 2124653, 617113, 488463, 687732, 503455, 1365503, 570471, 565258, 493491, 767695, 580993, 584484, 649919, 586918, 553974, 364667, 605040, 530877, 636899, 665384, 1108146, 374364, 373493, 791880, 553656, 430658, 289227, 1185419, 1664653, 455970, 538727, 514116, 514929, 741161, 811423, 596883, 549816, 625154, 490049, 445094, 970245, 400418, 628682, 603050, 449257, 399789, 613094, 470928, 1173663, 905137, 468524, 853511, 1056967, 1522732, 1122495, 751872, 537021, 357541, 630831, 617950, 480175, 547683, 396699, 569905, 365097, 352394, 942804, 651643, 567617, 778847, 641047, 514978, 978565, 572689, 415214, 587723, 614092, 617169, 866003, 632812, 564303, 903121, 519686, 1065811, 546413, 502460, 481110, 708369, 1522193, 523738, 768420, 600017, 459085, 622827, 633325, 1390616, 523359, 766124, 492616, 333230, 927404, 523150, 355293, 743901, 860610, 490119, 524540, 396189, 477762, 486204, 428703, 489659, 484811, 652845, 648794, 646210, 415478, 619910, 514874, 787760, 1127052, 1131888, 425769, 599698], \"coloraxis\": \"coloraxis\"}, \"name\": \"\", \"offsetgroup\": \"\", \"orientation\": \"v\", \"showlegend\": false, \"textposition\": \"auto\", \"type\": \"bar\", \"x\": [\"Agincourt North\", \"Agincourt South-Malvern West\", \"Alderwood\", \"Annex\", \"Banbury-Don Mills\", \"Bathurst Manor\", \"Bay Street Corridor\", \"Bayview Village\", \"Bayview Woods-Steeles\", \"Bedford Park-Nortown\", \"Beechborough-Greenbrook\", \"Bendale\", \"Birchcliffe-Cliffside\", \"Black Creek\", \"Blake-Jones\", \"Briar Hill-Belgravia\", \"Bridle Path-Sunnybrook-York Mills\", \"Broadview North\", \"Brookhaven-Amesbury\", \"Cabbagetown-South St.James Town\", \"Caledonia-Fairbank\", \"Casa Loma\", \"Centennial Scarborough\", \"Church-Yonge Corridor\", \"Clairlea-Birchmount\", \"Clanton Park\", \"Cliffcrest\", \"Corso Italia-Davenport\", \"Danforth\", \"Danforth-East York\", \"Don Valley Village\", \"Dorset Park\", \"Dovercourt-Wallace Emerson-Juncti\", \"Downsview-Roding-CFB\", \"Dufferin Grove\", \"East End-Danforth\", \"Edenbridge-Humber Valley\", \"Eglinton East\", \"Elms-Old Rexdale\", \"Englemount-Lawrence\", \"Eringate-Centennial-West Deane\", \"Etobicoke West Mall\", \"Flemingdon Park\", \"Forest Hill North\", \"Forest Hill South\", \"Glenfield-Jane Heights\", \"Greenwood-Coxwell\", \"Guildwood\", \"Henry Farm\", \"High Park North\", \"High Park-Swansea\", \"Highland Creek\", \"Hillcrest Village\", \"Humber Heights-Westmount\", \"Humber Summit\", \"Humbermede\", \"Humewood-Cedarvale\", \"Ionview\", \"Islington-City Centre West\", \"Junction Area\", \"Keelesdale-Eglinton West\", \"Kennedy Park\", \"Kensington-Chinatown\", \"Kingsview Village-The Westway\", \"Kingsway South\", \"L'Amoreaux\", \"Lambton Baby Point\", \"Lansing-Westgate\", \"Lawrence Park North\", \"Lawrence Park South\", \"Leaside-Bennington\", \"Little Portugal\", \"Long Branch\", \"Malvern\", \"Maple Leaf\", \"Markland Wood\", \"Milliken\", \"Mimico\", \"Morningside\", \"Moss Park\", \"Mount Dennis\", \"Mount Olive-Silverstone-Jamestown\", \"Mount Pleasant East\", \"Mount Pleasant West\", \"New Toronto\", \"Newtonbrook East\", \"Newtonbrook West\", \"Niagara\", \"North Riverdale\", \"North St.James Town\", \"O'Connor-Parkview\", \"Oakridge\", \"Oakwood Village\", \"Old East York\", \"Palmerston-Little Italy\", \"Parkwoods-Donalda\", \"Pelmo Park-Humberlea\", \"Playter Estates-Danforth\", \"Pleasant View\", \"Princess-Rosethorn\", \"Regent Park\", \"Rexdale-Kipling\", \"Rockcliffe-Smythe\", \"Roncesvalles\", \"Rosedale-Moore Park\", \"Rouge\", \"Runnymede-Bloor West Village\", \"Rustic\", \"Scarborough Village\", \"South Parkdale\", \"South Riverdale\", \"St.Andrew-Windfields\", \"Steeles\", \"Stonegate-Queensway\", \"Tam O'Shanter-Sullivan\", \"Taylor-Massey\", \"The Beaches\", \"Thistletown-Beaumond Heights\", \"Thorncliffe Park\", \"Trinity-Bellwoods\", \"University\", \"Victoria Village\", \"Waterfront Communities-The Island\", \"West Hill\", \"West Humber-Clairville\", \"Westminster-Branson\", \"Weston\", \"Weston-Pellam Park\", \"Wexford/Maryvale\", \"Willowdale East\", \"Willowdale West\", \"Willowridge-Martingrove-Richview\", \"Woburn\", \"Woodbine Corridor\", \"Woodbine-Lumsden\", \"Wychwood\", \"Yonge-Eglinton\", \"Yonge-St.Clair\", \"York University Heights\", \"Yorkdale-Glen Park\"], \"xaxis\": \"x\", \"y\": [459051, 465144, 595608, 1039687, 851872, 698124, 589666, 750572, 786976, 1295007, 516279, 419121, 608681, 363055, 711848, 508759, 2124653, 617113, 488463, 687732, 503455, 1365503, 570471, 565258, 493491, 767695, 580993, 584484, 649919, 586918, 553974, 364667, 605040, 530877, 636899, 665384, 1108146, 374364, 373493, 791880, 553656, 430658, 289227, 1185419, 1664653, 455970, 538727, 514116, 514929, 741161, 811423, 596883, 549816, 625154, 490049, 445094, 970245, 400418, 628682, 603050, 449257, 399789, 613094, 470928, 1173663, 905137, 468524, 853511, 1056967, 1522732, 1122495, 751872, 537021, 357541, 630831, 617950, 480175, 547683, 396699, 569905, 365097, 352394, 942804, 651643, 567617, 778847, 641047, 514978, 978565, 572689, 415214, 587723, 614092, 617169, 866003, 632812, 564303, 903121, 519686, 1065811, 546413, 502460, 481110, 708369, 1522193, 523738, 768420, 600017, 459085, 622827, 633325, 1390616, 523359, 766124, 492616, 333230, 927404, 523150, 355293, 743901, 860610, 490119, 524540, 396189, 477762, 486204, 428703, 489659, 484811, 652845, 648794, 646210, 415478, 619910, 514874, 787760, 1127052, 1131888, 425769, 599698], \"yaxis\": \"y\"}],\n",
       "                        {\"annotations\": [{\"font\": {}, \"showarrow\": false, \"text\": \"year=2016\", \"textangle\": 90, \"x\": 0.98, \"xanchor\": \"left\", \"xref\": \"paper\", \"y\": 0.11375, \"yanchor\": \"middle\", \"yref\": \"paper\"}, {\"font\": {}, \"showarrow\": false, \"text\": \"year=2011\", \"textangle\": 90, \"x\": 0.98, \"xanchor\": \"left\", \"xref\": \"paper\", \"y\": 0.37124999999999997, \"yanchor\": \"middle\", \"yref\": \"paper\"}, {\"font\": {}, \"showarrow\": false, \"text\": \"year=2006\", \"textangle\": 90, \"x\": 0.98, \"xanchor\": \"left\", \"xref\": \"paper\", \"y\": 0.62875, \"yanchor\": \"middle\", \"yref\": \"paper\"}, {\"font\": {}, \"showarrow\": false, \"text\": \"year=2001\", \"textangle\": 90, \"x\": 0.98, \"xanchor\": \"left\", \"xref\": \"paper\", \"y\": 0.88625, \"yanchor\": \"middle\", \"yref\": \"paper\"}], \"barmode\": \"relative\", \"coloraxis\": {\"colorbar\": {\"title\": {\"text\": \"Avg. House Value\"}}, \"colorscale\": [[0.0, \"#0d0887\"], [0.1111111111111111, \"#46039f\"], [0.2222222222222222, \"#7201a8\"], [0.3333333333333333, \"#9c179e\"], [0.4444444444444444, \"#bd3786\"], [0.5555555555555556, \"#d8576b\"], [0.6666666666666666, \"#ed7953\"], [0.7777777777777778, \"#fb9f3a\"], [0.8888888888888888, \"#fdca26\"], [1.0, \"#f0f921\"]]}, \"height\": 1024, \"legend\": {\"tracegroupgap\": 0}, \"template\": {\"data\": {\"bar\": [{\"error_x\": {\"color\": \"#2a3f5f\"}, \"error_y\": {\"color\": \"#2a3f5f\"}, \"marker\": {\"line\": {\"color\": \"#E5ECF6\", \"width\": 0.5}}, \"type\": \"bar\"}], \"barpolar\": [{\"marker\": {\"line\": {\"color\": \"#E5ECF6\", \"width\": 0.5}}, \"type\": \"barpolar\"}], \"carpet\": [{\"aaxis\": {\"endlinecolor\": \"#2a3f5f\", \"gridcolor\": \"white\", \"linecolor\": \"white\", \"minorgridcolor\": \"white\", \"startlinecolor\": \"#2a3f5f\"}, \"baxis\": {\"endlinecolor\": \"#2a3f5f\", \"gridcolor\": \"white\", \"linecolor\": \"white\", \"minorgridcolor\": \"white\", \"startlinecolor\": \"#2a3f5f\"}, \"type\": \"carpet\"}], \"choropleth\": [{\"colorbar\": {\"outlinewidth\": 0, \"ticks\": \"\"}, \"type\": \"choropleth\"}], \"contour\": [{\"colorbar\": {\"outlinewidth\": 0, \"ticks\": \"\"}, \"colorscale\": [[0.0, \"#0d0887\"], [0.1111111111111111, \"#46039f\"], [0.2222222222222222, \"#7201a8\"], [0.3333333333333333, \"#9c179e\"], [0.4444444444444444, \"#bd3786\"], [0.5555555555555556, \"#d8576b\"], [0.6666666666666666, \"#ed7953\"], [0.7777777777777778, \"#fb9f3a\"], [0.8888888888888888, \"#fdca26\"], [1.0, \"#f0f921\"]], \"type\": \"contour\"}], \"contourcarpet\": [{\"colorbar\": {\"outlinewidth\": 0, \"ticks\": \"\"}, \"type\": \"contourcarpet\"}], \"heatmap\": [{\"colorbar\": {\"outlinewidth\": 0, \"ticks\": \"\"}, \"colorscale\": [[0.0, \"#0d0887\"], [0.1111111111111111, \"#46039f\"], [0.2222222222222222, \"#7201a8\"], [0.3333333333333333, \"#9c179e\"], [0.4444444444444444, \"#bd3786\"], [0.5555555555555556, \"#d8576b\"], [0.6666666666666666, \"#ed7953\"], [0.7777777777777778, \"#fb9f3a\"], [0.8888888888888888, \"#fdca26\"], [1.0, \"#f0f921\"]], \"type\": \"heatmap\"}], \"heatmapgl\": [{\"colorbar\": {\"outlinewidth\": 0, \"ticks\": \"\"}, \"colorscale\": [[0.0, \"#0d0887\"], [0.1111111111111111, \"#46039f\"], [0.2222222222222222, \"#7201a8\"], [0.3333333333333333, \"#9c179e\"], [0.4444444444444444, \"#bd3786\"], [0.5555555555555556, \"#d8576b\"], [0.6666666666666666, \"#ed7953\"], [0.7777777777777778, \"#fb9f3a\"], [0.8888888888888888, \"#fdca26\"], [1.0, \"#f0f921\"]], \"type\": \"heatmapgl\"}], \"histogram\": [{\"marker\": {\"colorbar\": {\"outlinewidth\": 0, \"ticks\": \"\"}}, \"type\": \"histogram\"}], \"histogram2d\": [{\"colorbar\": {\"outlinewidth\": 0, \"ticks\": \"\"}, \"colorscale\": [[0.0, \"#0d0887\"], [0.1111111111111111, \"#46039f\"], [0.2222222222222222, \"#7201a8\"], [0.3333333333333333, \"#9c179e\"], [0.4444444444444444, \"#bd3786\"], [0.5555555555555556, \"#d8576b\"], [0.6666666666666666, \"#ed7953\"], [0.7777777777777778, \"#fb9f3a\"], [0.8888888888888888, \"#fdca26\"], [1.0, \"#f0f921\"]], \"type\": \"histogram2d\"}], \"histogram2dcontour\": [{\"colorbar\": {\"outlinewidth\": 0, \"ticks\": \"\"}, \"colorscale\": [[0.0, \"#0d0887\"], [0.1111111111111111, \"#46039f\"], [0.2222222222222222, \"#7201a8\"], [0.3333333333333333, \"#9c179e\"], [0.4444444444444444, \"#bd3786\"], [0.5555555555555556, \"#d8576b\"], [0.6666666666666666, \"#ed7953\"], [0.7777777777777778, \"#fb9f3a\"], [0.8888888888888888, \"#fdca26\"], [1.0, \"#f0f921\"]], \"type\": \"histogram2dcontour\"}], \"mesh3d\": [{\"colorbar\": {\"outlinewidth\": 0, \"ticks\": \"\"}, \"type\": \"mesh3d\"}], \"parcoords\": [{\"line\": {\"colorbar\": {\"outlinewidth\": 0, \"ticks\": \"\"}}, \"type\": \"parcoords\"}], \"pie\": [{\"automargin\": true, \"type\": \"pie\"}], \"scatter\": [{\"marker\": {\"colorbar\": {\"outlinewidth\": 0, \"ticks\": \"\"}}, \"type\": \"scatter\"}], \"scatter3d\": [{\"line\": {\"colorbar\": {\"outlinewidth\": 0, \"ticks\": \"\"}}, \"marker\": {\"colorbar\": {\"outlinewidth\": 0, \"ticks\": \"\"}}, \"type\": \"scatter3d\"}], \"scattercarpet\": [{\"marker\": {\"colorbar\": {\"outlinewidth\": 0, \"ticks\": \"\"}}, \"type\": \"scattercarpet\"}], \"scattergeo\": [{\"marker\": {\"colorbar\": {\"outlinewidth\": 0, \"ticks\": \"\"}}, \"type\": \"scattergeo\"}], \"scattergl\": [{\"marker\": {\"colorbar\": {\"outlinewidth\": 0, \"ticks\": \"\"}}, \"type\": \"scattergl\"}], \"scattermapbox\": [{\"marker\": {\"colorbar\": {\"outlinewidth\": 0, \"ticks\": \"\"}}, \"type\": \"scattermapbox\"}], \"scatterpolar\": [{\"marker\": {\"colorbar\": {\"outlinewidth\": 0, \"ticks\": \"\"}}, \"type\": \"scatterpolar\"}], \"scatterpolargl\": [{\"marker\": {\"colorbar\": {\"outlinewidth\": 0, \"ticks\": \"\"}}, \"type\": \"scatterpolargl\"}], \"scatterternary\": [{\"marker\": {\"colorbar\": {\"outlinewidth\": 0, \"ticks\": \"\"}}, \"type\": \"scatterternary\"}], \"surface\": [{\"colorbar\": {\"outlinewidth\": 0, \"ticks\": \"\"}, \"colorscale\": [[0.0, \"#0d0887\"], [0.1111111111111111, \"#46039f\"], [0.2222222222222222, \"#7201a8\"], [0.3333333333333333, \"#9c179e\"], [0.4444444444444444, \"#bd3786\"], [0.5555555555555556, \"#d8576b\"], [0.6666666666666666, \"#ed7953\"], [0.7777777777777778, \"#fb9f3a\"], [0.8888888888888888, \"#fdca26\"], [1.0, \"#f0f921\"]], \"type\": \"surface\"}], \"table\": [{\"cells\": {\"fill\": {\"color\": \"#EBF0F8\"}, \"line\": {\"color\": \"white\"}}, \"header\": {\"fill\": {\"color\": \"#C8D4E3\"}, \"line\": {\"color\": \"white\"}}, \"type\": \"table\"}]}, \"layout\": {\"annotationdefaults\": {\"arrowcolor\": \"#2a3f5f\", \"arrowhead\": 0, \"arrowwidth\": 1}, \"coloraxis\": {\"colorbar\": {\"outlinewidth\": 0, \"ticks\": \"\"}}, \"colorscale\": {\"diverging\": [[0, \"#8e0152\"], [0.1, \"#c51b7d\"], [0.2, \"#de77ae\"], [0.3, \"#f1b6da\"], [0.4, \"#fde0ef\"], [0.5, \"#f7f7f7\"], [0.6, \"#e6f5d0\"], [0.7, \"#b8e186\"], [0.8, \"#7fbc41\"], [0.9, \"#4d9221\"], [1, \"#276419\"]], \"sequential\": [[0.0, \"#0d0887\"], [0.1111111111111111, \"#46039f\"], [0.2222222222222222, \"#7201a8\"], [0.3333333333333333, \"#9c179e\"], [0.4444444444444444, \"#bd3786\"], [0.5555555555555556, \"#d8576b\"], [0.6666666666666666, \"#ed7953\"], [0.7777777777777778, \"#fb9f3a\"], [0.8888888888888888, \"#fdca26\"], [1.0, \"#f0f921\"]], \"sequentialminus\": [[0.0, \"#0d0887\"], [0.1111111111111111, \"#46039f\"], [0.2222222222222222, \"#7201a8\"], [0.3333333333333333, \"#9c179e\"], [0.4444444444444444, \"#bd3786\"], [0.5555555555555556, \"#d8576b\"], [0.6666666666666666, \"#ed7953\"], [0.7777777777777778, \"#fb9f3a\"], [0.8888888888888888, \"#fdca26\"], [1.0, \"#f0f921\"]]}, \"colorway\": [\"#636efa\", \"#EF553B\", \"#00cc96\", \"#ab63fa\", \"#FFA15A\", \"#19d3f3\", \"#FF6692\", \"#B6E880\", \"#FF97FF\", \"#FECB52\"], \"font\": {\"color\": \"#2a3f5f\"}, \"geo\": {\"bgcolor\": \"white\", \"lakecolor\": \"white\", \"landcolor\": \"#E5ECF6\", \"showlakes\": true, \"showland\": true, \"subunitcolor\": \"white\"}, \"hoverlabel\": {\"align\": \"left\"}, \"hovermode\": \"closest\", \"mapbox\": {\"style\": \"light\"}, \"paper_bgcolor\": \"white\", \"plot_bgcolor\": \"#E5ECF6\", \"polar\": {\"angularaxis\": {\"gridcolor\": \"white\", \"linecolor\": \"white\", \"ticks\": \"\"}, \"bgcolor\": \"#E5ECF6\", \"radialaxis\": {\"gridcolor\": \"white\", \"linecolor\": \"white\", \"ticks\": \"\"}}, \"scene\": {\"xaxis\": {\"backgroundcolor\": \"#E5ECF6\", \"gridcolor\": \"white\", \"gridwidth\": 2, \"linecolor\": \"white\", \"showbackground\": true, \"ticks\": \"\", \"zerolinecolor\": \"white\"}, \"yaxis\": {\"backgroundcolor\": \"#E5ECF6\", \"gridcolor\": \"white\", \"gridwidth\": 2, \"linecolor\": \"white\", \"showbackground\": true, \"ticks\": \"\", \"zerolinecolor\": \"white\"}, \"zaxis\": {\"backgroundcolor\": \"#E5ECF6\", \"gridcolor\": \"white\", \"gridwidth\": 2, \"linecolor\": \"white\", \"showbackground\": true, \"ticks\": \"\", \"zerolinecolor\": \"white\"}}, \"shapedefaults\": {\"line\": {\"color\": \"#2a3f5f\"}}, \"ternary\": {\"aaxis\": {\"gridcolor\": \"white\", \"linecolor\": \"white\", \"ticks\": \"\"}, \"baxis\": {\"gridcolor\": \"white\", \"linecolor\": \"white\", \"ticks\": \"\"}, \"bgcolor\": \"#E5ECF6\", \"caxis\": {\"gridcolor\": \"white\", \"linecolor\": \"white\", \"ticks\": \"\"}}, \"title\": {\"x\": 0.05}, \"xaxis\": {\"automargin\": true, \"gridcolor\": \"white\", \"linecolor\": \"white\", \"ticks\": \"\", \"title\": {\"standoff\": 15}, \"zerolinecolor\": \"white\", \"zerolinewidth\": 2}, \"yaxis\": {\"automargin\": true, \"gridcolor\": \"white\", \"linecolor\": \"white\", \"ticks\": \"\", \"title\": {\"standoff\": 15}, \"zerolinecolor\": \"white\", \"zerolinewidth\": 2}}}, \"title\": {\"text\": \"Average House Values in Toronto per Neighbourhood\"}, \"xaxis\": {\"anchor\": \"y\", \"domain\": [0.0, 0.98], \"title\": {\"text\": \"Neighbourhoods\"}}, \"xaxis2\": {\"anchor\": \"y2\", \"domain\": [0.0, 0.98], \"matches\": \"x\", \"showticklabels\": false}, \"xaxis3\": {\"anchor\": \"y3\", \"domain\": [0.0, 0.98], \"matches\": \"x\", \"showticklabels\": false}, \"xaxis4\": {\"anchor\": \"y4\", \"domain\": [0.0, 0.98], \"matches\": \"x\", \"showticklabels\": false}, \"yaxis\": {\"anchor\": \"x\", \"domain\": [0.0, 0.2275], \"title\": {\"text\": \"Avg. House Value\"}}, \"yaxis2\": {\"anchor\": \"x2\", \"domain\": [0.2575, 0.485], \"matches\": \"y\", \"title\": {\"text\": \"Avg. House Value\"}}, \"yaxis3\": {\"anchor\": \"x3\", \"domain\": [0.515, 0.7425], \"matches\": \"y\", \"title\": {\"text\": \"Avg. House Value\"}}, \"yaxis4\": {\"anchor\": \"x4\", \"domain\": [0.7725, 1.0], \"matches\": \"y\", \"title\": {\"text\": \"Avg. House Value\"}}},\n",
       "                        {\"responsive\": true}\n",
       "                    ).then(function(){\n",
       "                            \n",
       "var gd = document.getElementById('24b6f220-d63c-4d5e-866b-af04270df0c1');\n",
       "var x = new MutationObserver(function (mutations, observer) {{\n",
       "        var display = window.getComputedStyle(gd).display;\n",
       "        if (!display || display === 'none') {{\n",
       "            console.log([gd, 'removed!']);\n",
       "            Plotly.purge(gd);\n",
       "            observer.disconnect();\n",
       "        }}\n",
       "}});\n",
       "\n",
       "// Listen for the removal of the full notebook cells\n",
       "var notebookContainer = gd.closest('#notebook-container');\n",
       "if (notebookContainer) {{\n",
       "    x.observe(notebookContainer, {childList: true});\n",
       "}}\n",
       "\n",
       "// Listen for the clearing of the current output cell\n",
       "var outputEl = gd.closest('.output');\n",
       "if (outputEl) {{\n",
       "    x.observe(outputEl, {childList: true});\n",
       "}}\n",
       "\n",
       "                        })\n",
       "                };\n",
       "                });\n",
       "            </script>\n",
       "        </div>"
      ]
     },
     "metadata": {},
     "output_type": "display_data"
    }
   ],
   "source": [
    "# YOUR CODE HERE!"
   ]
  },
  {
   "cell_type": "markdown",
   "metadata": {},
   "source": [
    "### Create a sunburst chart to conduct a costs analysis of most expensive neighbourhoods in Toronto per year"
   ]
  },
  {
   "cell_type": "code",
   "execution_count": 24,
   "metadata": {},
   "outputs": [
    {
     "data": {
      "text/html": [
       "<div>\n",
       "<style scoped>\n",
       "    .dataframe tbody tr th:only-of-type {\n",
       "        vertical-align: middle;\n",
       "    }\n",
       "\n",
       "    .dataframe tbody tr th {\n",
       "        vertical-align: top;\n",
       "    }\n",
       "\n",
       "    .dataframe thead th {\n",
       "        text-align: right;\n",
       "    }\n",
       "</style>\n",
       "<table border=\"1\" class=\"dataframe\">\n",
       "  <thead>\n",
       "    <tr style=\"text-align: right;\">\n",
       "      <th></th>\n",
       "      <th>year</th>\n",
       "      <th>neighbourhood</th>\n",
       "      <th>single_detached_house</th>\n",
       "      <th>apartment_five_storeys_plus</th>\n",
       "      <th>movable_dwelling</th>\n",
       "      <th>semi_detached_house</th>\n",
       "      <th>row_house</th>\n",
       "      <th>duplex</th>\n",
       "      <th>apartment_five_storeys_less</th>\n",
       "      <th>other_house</th>\n",
       "      <th>average_house_value</th>\n",
       "      <th>shelter_costs_owned</th>\n",
       "      <th>shelter_costs_rented</th>\n",
       "    </tr>\n",
       "  </thead>\n",
       "  <tbody>\n",
       "    <tr>\n",
       "      <th>0</th>\n",
       "      <td>2001</td>\n",
       "      <td>Bedford Park-Nortown</td>\n",
       "      <td>4985</td>\n",
       "      <td>2080</td>\n",
       "      <td>0</td>\n",
       "      <td>45</td>\n",
       "      <td>40</td>\n",
       "      <td>210</td>\n",
       "      <td>1235</td>\n",
       "      <td>15</td>\n",
       "      <td>565304</td>\n",
       "      <td>933</td>\n",
       "      <td>1491</td>\n",
       "    </tr>\n",
       "    <tr>\n",
       "      <th>1</th>\n",
       "      <td>2001</td>\n",
       "      <td>Bridle Path-Sunnybrook-York Mills</td>\n",
       "      <td>2275</td>\n",
       "      <td>110</td>\n",
       "      <td>0</td>\n",
       "      <td>25</td>\n",
       "      <td>15</td>\n",
       "      <td>10</td>\n",
       "      <td>20</td>\n",
       "      <td>0</td>\n",
       "      <td>927466</td>\n",
       "      <td>1983</td>\n",
       "      <td>1790</td>\n",
       "    </tr>\n",
       "    <tr>\n",
       "      <th>2</th>\n",
       "      <td>2001</td>\n",
       "      <td>Casa Loma</td>\n",
       "      <td>1035</td>\n",
       "      <td>1700</td>\n",
       "      <td>0</td>\n",
       "      <td>415</td>\n",
       "      <td>190</td>\n",
       "      <td>185</td>\n",
       "      <td>1090</td>\n",
       "      <td>5</td>\n",
       "      <td>596077</td>\n",
       "      <td>1241</td>\n",
       "      <td>1500</td>\n",
       "    </tr>\n",
       "    <tr>\n",
       "      <th>3</th>\n",
       "      <td>2001</td>\n",
       "      <td>Forest Hill North</td>\n",
       "      <td>1565</td>\n",
       "      <td>3380</td>\n",
       "      <td>0</td>\n",
       "      <td>10</td>\n",
       "      <td>0</td>\n",
       "      <td>0</td>\n",
       "      <td>485</td>\n",
       "      <td>5</td>\n",
       "      <td>517466</td>\n",
       "      <td>940</td>\n",
       "      <td>1428</td>\n",
       "    </tr>\n",
       "    <tr>\n",
       "      <th>4</th>\n",
       "      <td>2001</td>\n",
       "      <td>Forest Hill South</td>\n",
       "      <td>1815</td>\n",
       "      <td>2440</td>\n",
       "      <td>5</td>\n",
       "      <td>65</td>\n",
       "      <td>45</td>\n",
       "      <td>85</td>\n",
       "      <td>1010</td>\n",
       "      <td>15</td>\n",
       "      <td>726664</td>\n",
       "      <td>1001</td>\n",
       "      <td>1469</td>\n",
       "    </tr>\n",
       "  </tbody>\n",
       "</table>\n",
       "</div>"
      ],
      "text/plain": [
       "   year                      neighbourhood  single_detached_house  \\\n",
       "0  2001               Bedford Park-Nortown                   4985   \n",
       "1  2001  Bridle Path-Sunnybrook-York Mills                   2275   \n",
       "2  2001                          Casa Loma                   1035   \n",
       "3  2001                  Forest Hill North                   1565   \n",
       "4  2001                  Forest Hill South                   1815   \n",
       "\n",
       "   apartment_five_storeys_plus  movable_dwelling  semi_detached_house  \\\n",
       "0                         2080                 0                   45   \n",
       "1                          110                 0                   25   \n",
       "2                         1700                 0                  415   \n",
       "3                         3380                 0                   10   \n",
       "4                         2440                 5                   65   \n",
       "\n",
       "   row_house  duplex  apartment_five_storeys_less  other_house  \\\n",
       "0         40     210                         1235           15   \n",
       "1         15      10                           20            0   \n",
       "2        190     185                         1090            5   \n",
       "3          0       0                          485            5   \n",
       "4         45      85                         1010           15   \n",
       "\n",
       "   average_house_value  shelter_costs_owned  shelter_costs_rented  \n",
       "0               565304                  933                  1491  \n",
       "1               927466                 1983                  1790  \n",
       "2               596077                 1241                  1500  \n",
       "3               517466                  940                  1428  \n",
       "4               726664                 1001                  1469  "
      ]
     },
     "execution_count": 24,
     "metadata": {},
     "output_type": "execute_result"
    }
   ],
   "source": [
    "# Fetch the data from all expensive neighbourhoods per year.\n",
    "# YOUR CODE HERE!"
   ]
  },
  {
   "cell_type": "code",
   "execution_count": 25,
   "metadata": {},
   "outputs": [
    {
     "data": {
      "application/vnd.plotly.v1+json": {
       "config": {
        "plotlyServerURL": "https://plotly.com"
       },
       "data": [
        {
         "branchvalues": "total",
         "customdata": [
          [
           933,
           1491,
           933
          ],
          [
           1808,
           1020,
           1808
          ],
          [
           1988,
           1124,
           1988
          ],
          [
           2418,
           1385,
           2418
          ],
          [
           1983,
           1790,
           1983
          ],
          [
           2170,
           2167,
           2170
          ],
          [
           2387,
           2388,
           2387
          ],
          [
           2903,
           2942,
           2903
          ],
          [
           1241,
           1500,
           1241
          ],
          [
           1819,
           1356,
           1819
          ],
          [
           2001,
           1494,
           2001
          ],
          [
           2434,
           1841,
           2434
          ],
          [
           940,
           1428,
           940
          ],
          [
           1731,
           1027,
           1731
          ],
          [
           1904,
           1132,
           1904
          ],
          [
           2316,
           1395,
           2316
          ],
          [
           1001,
           1469,
           1001
          ],
          [
           1781,
           1094,
           1781
          ],
          [
           1959,
           1206,
           1959
          ],
          [
           2383,
           1486,
           2383
          ],
          [
           1362,
           1340,
           1362
          ],
          [
           1625,
           1488,
           1625
          ],
          [
           1787,
           1640,
           1787
          ],
          [
           2173,
           2020,
           2173
          ],
          [
           1021,
           1630,
           1021
          ],
          [
           1977,
           1116,
           1977
          ],
          [
           2174,
           1230,
           2174
          ],
          [
           2644,
           1515,
           2644
          ],
          [
           1219,
           1540,
           1219
          ],
          [
           1868,
           1332,
           1868
          ],
          [
           2054,
           1468,
           2054
          ],
          [
           2498,
           1809,
           2498
          ],
          [
           1055,
           1551,
           1055
          ],
          [
           1881,
           1152,
           1881
          ],
          [
           2069,
           1270,
           2069
          ],
          [
           2516,
           1565,
           2516
          ],
          [
           1091,
           1351,
           1091
          ],
          [
           1638,
           1192,
           1638
          ],
          [
           1802,
           1314,
           1802
          ],
          [
           2192,
           1619,
           2192
          ],
          [
           "(?)",
           "(?)",
           1224.7502831983431
          ],
          [
           "(?)",
           "(?)",
           1856.058787788345
          ],
          [
           "(?)",
           "(?)",
           2041.3886794989783
          ],
          [
           "(?)",
           "(?)",
           2482.826591451349
          ]
         ],
         "domain": {
          "x": [
           0,
           1
          ],
          "y": [
           0,
           1
          ]
         },
         "hovertemplate": "labels=%{label}<br>average_house_value=%{value}<br>parent=%{parent}<br>id=%{id}<br>shelter_costs_owned=%{customdata[0]}<br>shelter_costs_rented=%{customdata[1]}<br>shelter_costs_ownedadditional_col_for_hover=%{color}<extra></extra>",
         "ids": [
          "2001/Bedford Park-Nortown",
          "2006/Bedford Park-Nortown",
          "2011/Bedford Park-Nortown",
          "2016/Bedford Park-Nortown",
          "2001/Bridle Path-Sunnybrook-York Mills",
          "2006/Bridle Path-Sunnybrook-York Mills",
          "2011/Bridle Path-Sunnybrook-York Mills",
          "2016/Bridle Path-Sunnybrook-York Mills",
          "2001/Casa Loma",
          "2006/Casa Loma",
          "2011/Casa Loma",
          "2016/Casa Loma",
          "2001/Forest Hill North",
          "2006/Forest Hill North",
          "2011/Forest Hill North",
          "2016/Forest Hill North",
          "2001/Forest Hill South",
          "2006/Forest Hill South",
          "2011/Forest Hill South",
          "2016/Forest Hill South",
          "2001/Kingsway South",
          "2006/Kingsway South",
          "2011/Kingsway South",
          "2016/Kingsway South",
          "2001/Lawrence Park South",
          "2006/Lawrence Park South",
          "2011/Lawrence Park South",
          "2016/Lawrence Park South",
          "2001/Rosedale-Moore Park",
          "2006/Rosedale-Moore Park",
          "2011/Rosedale-Moore Park",
          "2016/Rosedale-Moore Park",
          "2001/St.Andrew-Windfields",
          "2006/St.Andrew-Windfields",
          "2011/St.Andrew-Windfields",
          "2016/St.Andrew-Windfields",
          "2001/Yonge-St.Clair",
          "2006/Yonge-St.Clair",
          "2011/Yonge-St.Clair",
          "2016/Yonge-St.Clair",
          "2001",
          "2006",
          "2011",
          "2016"
         ],
         "labels": [
          "Bedford Park-Nortown",
          "Bedford Park-Nortown",
          "Bedford Park-Nortown",
          "Bedford Park-Nortown",
          "Bridle Path-Sunnybrook-York Mills",
          "Bridle Path-Sunnybrook-York Mills",
          "Bridle Path-Sunnybrook-York Mills",
          "Bridle Path-Sunnybrook-York Mills",
          "Casa Loma",
          "Casa Loma",
          "Casa Loma",
          "Casa Loma",
          "Forest Hill North",
          "Forest Hill North",
          "Forest Hill North",
          "Forest Hill North",
          "Forest Hill South",
          "Forest Hill South",
          "Forest Hill South",
          "Forest Hill South",
          "Kingsway South",
          "Kingsway South",
          "Kingsway South",
          "Kingsway South",
          "Lawrence Park South",
          "Lawrence Park South",
          "Lawrence Park South",
          "Lawrence Park South",
          "Rosedale-Moore Park",
          "Rosedale-Moore Park",
          "Rosedale-Moore Park",
          "Rosedale-Moore Park",
          "St.Andrew-Windfields",
          "St.Andrew-Windfields",
          "St.Andrew-Windfields",
          "St.Andrew-Windfields",
          "Yonge-St.Clair",
          "Yonge-St.Clair",
          "Yonge-St.Clair",
          "Yonge-St.Clair",
          "2001",
          "2006",
          "2011",
          "2016"
         ],
         "marker": {
          "coloraxis": "coloraxis",
          "colors": [
           933,
           1808,
           1988,
           2418,
           1983,
           2170,
           2387,
           2903,
           1241,
           1819,
           2001,
           2434,
           940,
           1731,
           1904,
           2316,
           1001,
           1781,
           1959,
           2383,
           1362,
           1625,
           1787,
           2173,
           1021,
           1977,
           2174,
           2644,
           1219,
           1868,
           2054,
           2498,
           1055,
           1881,
           2069,
           2516,
           1091,
           1638,
           1802,
           2192,
           1224.7502831983431,
           1856.058787788345,
           2041.3886794989783,
           2482.826591451349
          ]
         },
         "name": "",
         "parents": [
          "2001",
          "2006",
          "2011",
          "2016",
          "2001",
          "2006",
          "2011",
          "2016",
          "2001",
          "2006",
          "2011",
          "2016",
          "2001",
          "2006",
          "2011",
          "2016",
          "2001",
          "2006",
          "2011",
          "2016",
          "2001",
          "2006",
          "2011",
          "2016",
          "2001",
          "2006",
          "2011",
          "2016",
          "2001",
          "2006",
          "2011",
          "2016",
          "2001",
          "2006",
          "2011",
          "2016",
          "2001",
          "2006",
          "2011",
          "2016",
          "",
          "",
          "",
          ""
         ],
         "type": "sunburst",
         "values": [
          565304,
          826963,
          1034387,
          1295007,
          927466,
          1356757,
          1697067,
          2124653,
          596077,
          871981,
          1090696,
          1365503,
          517466,
          756983,
          946854,
          1185419,
          726664,
          1063011,
          1329642,
          1664653,
          512334,
          749476,
          937464,
          1173663,
          664712,
          972384,
          1216283,
          1522732,
          664476,
          972039,
          1215852,
          1522193,
          607040,
          888017,
          1110755,
          1390616,
          494098,
          722799,
          904096,
          1131888,
          6275637,
          9180410,
          11483096,
          14376327
         ]
        }
       ],
       "layout": {
        "autosize": true,
        "coloraxis": {
         "colorbar": {
          "title": {
           "text": "shelter_costs_ownedadditional_col_for_hover"
          }
         },
         "colorscale": [
          [
           0,
           "rgb(247,251,255)"
          ],
          [
           0.125,
           "rgb(222,235,247)"
          ],
          [
           0.25,
           "rgb(198,219,239)"
          ],
          [
           0.375,
           "rgb(158,202,225)"
          ],
          [
           0.5,
           "rgb(107,174,214)"
          ],
          [
           0.625,
           "rgb(66,146,198)"
          ],
          [
           0.75,
           "rgb(33,113,181)"
          ],
          [
           0.875,
           "rgb(8,81,156)"
          ],
          [
           1,
           "rgb(8,48,107)"
          ]
         ]
        },
        "legend": {
         "tracegroupgap": 0
        },
        "template": {
         "data": {
          "bar": [
           {
            "error_x": {
             "color": "#2a3f5f"
            },
            "error_y": {
             "color": "#2a3f5f"
            },
            "marker": {
             "line": {
              "color": "#E5ECF6",
              "width": 0.5
             }
            },
            "type": "bar"
           }
          ],
          "barpolar": [
           {
            "marker": {
             "line": {
              "color": "#E5ECF6",
              "width": 0.5
             }
            },
            "type": "barpolar"
           }
          ],
          "carpet": [
           {
            "aaxis": {
             "endlinecolor": "#2a3f5f",
             "gridcolor": "white",
             "linecolor": "white",
             "minorgridcolor": "white",
             "startlinecolor": "#2a3f5f"
            },
            "baxis": {
             "endlinecolor": "#2a3f5f",
             "gridcolor": "white",
             "linecolor": "white",
             "minorgridcolor": "white",
             "startlinecolor": "#2a3f5f"
            },
            "type": "carpet"
           }
          ],
          "choropleth": [
           {
            "colorbar": {
             "outlinewidth": 0,
             "ticks": ""
            },
            "type": "choropleth"
           }
          ],
          "contour": [
           {
            "colorbar": {
             "outlinewidth": 0,
             "ticks": ""
            },
            "colorscale": [
             [
              0,
              "#0d0887"
             ],
             [
              0.1111111111111111,
              "#46039f"
             ],
             [
              0.2222222222222222,
              "#7201a8"
             ],
             [
              0.3333333333333333,
              "#9c179e"
             ],
             [
              0.4444444444444444,
              "#bd3786"
             ],
             [
              0.5555555555555556,
              "#d8576b"
             ],
             [
              0.6666666666666666,
              "#ed7953"
             ],
             [
              0.7777777777777778,
              "#fb9f3a"
             ],
             [
              0.8888888888888888,
              "#fdca26"
             ],
             [
              1,
              "#f0f921"
             ]
            ],
            "type": "contour"
           }
          ],
          "contourcarpet": [
           {
            "colorbar": {
             "outlinewidth": 0,
             "ticks": ""
            },
            "type": "contourcarpet"
           }
          ],
          "heatmap": [
           {
            "colorbar": {
             "outlinewidth": 0,
             "ticks": ""
            },
            "colorscale": [
             [
              0,
              "#0d0887"
             ],
             [
              0.1111111111111111,
              "#46039f"
             ],
             [
              0.2222222222222222,
              "#7201a8"
             ],
             [
              0.3333333333333333,
              "#9c179e"
             ],
             [
              0.4444444444444444,
              "#bd3786"
             ],
             [
              0.5555555555555556,
              "#d8576b"
             ],
             [
              0.6666666666666666,
              "#ed7953"
             ],
             [
              0.7777777777777778,
              "#fb9f3a"
             ],
             [
              0.8888888888888888,
              "#fdca26"
             ],
             [
              1,
              "#f0f921"
             ]
            ],
            "type": "heatmap"
           }
          ],
          "heatmapgl": [
           {
            "colorbar": {
             "outlinewidth": 0,
             "ticks": ""
            },
            "colorscale": [
             [
              0,
              "#0d0887"
             ],
             [
              0.1111111111111111,
              "#46039f"
             ],
             [
              0.2222222222222222,
              "#7201a8"
             ],
             [
              0.3333333333333333,
              "#9c179e"
             ],
             [
              0.4444444444444444,
              "#bd3786"
             ],
             [
              0.5555555555555556,
              "#d8576b"
             ],
             [
              0.6666666666666666,
              "#ed7953"
             ],
             [
              0.7777777777777778,
              "#fb9f3a"
             ],
             [
              0.8888888888888888,
              "#fdca26"
             ],
             [
              1,
              "#f0f921"
             ]
            ],
            "type": "heatmapgl"
           }
          ],
          "histogram": [
           {
            "marker": {
             "colorbar": {
              "outlinewidth": 0,
              "ticks": ""
             }
            },
            "type": "histogram"
           }
          ],
          "histogram2d": [
           {
            "colorbar": {
             "outlinewidth": 0,
             "ticks": ""
            },
            "colorscale": [
             [
              0,
              "#0d0887"
             ],
             [
              0.1111111111111111,
              "#46039f"
             ],
             [
              0.2222222222222222,
              "#7201a8"
             ],
             [
              0.3333333333333333,
              "#9c179e"
             ],
             [
              0.4444444444444444,
              "#bd3786"
             ],
             [
              0.5555555555555556,
              "#d8576b"
             ],
             [
              0.6666666666666666,
              "#ed7953"
             ],
             [
              0.7777777777777778,
              "#fb9f3a"
             ],
             [
              0.8888888888888888,
              "#fdca26"
             ],
             [
              1,
              "#f0f921"
             ]
            ],
            "type": "histogram2d"
           }
          ],
          "histogram2dcontour": [
           {
            "colorbar": {
             "outlinewidth": 0,
             "ticks": ""
            },
            "colorscale": [
             [
              0,
              "#0d0887"
             ],
             [
              0.1111111111111111,
              "#46039f"
             ],
             [
              0.2222222222222222,
              "#7201a8"
             ],
             [
              0.3333333333333333,
              "#9c179e"
             ],
             [
              0.4444444444444444,
              "#bd3786"
             ],
             [
              0.5555555555555556,
              "#d8576b"
             ],
             [
              0.6666666666666666,
              "#ed7953"
             ],
             [
              0.7777777777777778,
              "#fb9f3a"
             ],
             [
              0.8888888888888888,
              "#fdca26"
             ],
             [
              1,
              "#f0f921"
             ]
            ],
            "type": "histogram2dcontour"
           }
          ],
          "mesh3d": [
           {
            "colorbar": {
             "outlinewidth": 0,
             "ticks": ""
            },
            "type": "mesh3d"
           }
          ],
          "parcoords": [
           {
            "line": {
             "colorbar": {
              "outlinewidth": 0,
              "ticks": ""
             }
            },
            "type": "parcoords"
           }
          ],
          "pie": [
           {
            "automargin": true,
            "type": "pie"
           }
          ],
          "scatter": [
           {
            "marker": {
             "colorbar": {
              "outlinewidth": 0,
              "ticks": ""
             }
            },
            "type": "scatter"
           }
          ],
          "scatter3d": [
           {
            "line": {
             "colorbar": {
              "outlinewidth": 0,
              "ticks": ""
             }
            },
            "marker": {
             "colorbar": {
              "outlinewidth": 0,
              "ticks": ""
             }
            },
            "type": "scatter3d"
           }
          ],
          "scattercarpet": [
           {
            "marker": {
             "colorbar": {
              "outlinewidth": 0,
              "ticks": ""
             }
            },
            "type": "scattercarpet"
           }
          ],
          "scattergeo": [
           {
            "marker": {
             "colorbar": {
              "outlinewidth": 0,
              "ticks": ""
             }
            },
            "type": "scattergeo"
           }
          ],
          "scattergl": [
           {
            "marker": {
             "colorbar": {
              "outlinewidth": 0,
              "ticks": ""
             }
            },
            "type": "scattergl"
           }
          ],
          "scattermapbox": [
           {
            "marker": {
             "colorbar": {
              "outlinewidth": 0,
              "ticks": ""
             }
            },
            "type": "scattermapbox"
           }
          ],
          "scatterpolar": [
           {
            "marker": {
             "colorbar": {
              "outlinewidth": 0,
              "ticks": ""
             }
            },
            "type": "scatterpolar"
           }
          ],
          "scatterpolargl": [
           {
            "marker": {
             "colorbar": {
              "outlinewidth": 0,
              "ticks": ""
             }
            },
            "type": "scatterpolargl"
           }
          ],
          "scatterternary": [
           {
            "marker": {
             "colorbar": {
              "outlinewidth": 0,
              "ticks": ""
             }
            },
            "type": "scatterternary"
           }
          ],
          "surface": [
           {
            "colorbar": {
             "outlinewidth": 0,
             "ticks": ""
            },
            "colorscale": [
             [
              0,
              "#0d0887"
             ],
             [
              0.1111111111111111,
              "#46039f"
             ],
             [
              0.2222222222222222,
              "#7201a8"
             ],
             [
              0.3333333333333333,
              "#9c179e"
             ],
             [
              0.4444444444444444,
              "#bd3786"
             ],
             [
              0.5555555555555556,
              "#d8576b"
             ],
             [
              0.6666666666666666,
              "#ed7953"
             ],
             [
              0.7777777777777778,
              "#fb9f3a"
             ],
             [
              0.8888888888888888,
              "#fdca26"
             ],
             [
              1,
              "#f0f921"
             ]
            ],
            "type": "surface"
           }
          ],
          "table": [
           {
            "cells": {
             "fill": {
              "color": "#EBF0F8"
             },
             "line": {
              "color": "white"
             }
            },
            "header": {
             "fill": {
              "color": "#C8D4E3"
             },
             "line": {
              "color": "white"
             }
            },
            "type": "table"
           }
          ]
         },
         "layout": {
          "annotationdefaults": {
           "arrowcolor": "#2a3f5f",
           "arrowhead": 0,
           "arrowwidth": 1
          },
          "coloraxis": {
           "colorbar": {
            "outlinewidth": 0,
            "ticks": ""
           }
          },
          "colorscale": {
           "diverging": [
            [
             0,
             "#8e0152"
            ],
            [
             0.1,
             "#c51b7d"
            ],
            [
             0.2,
             "#de77ae"
            ],
            [
             0.3,
             "#f1b6da"
            ],
            [
             0.4,
             "#fde0ef"
            ],
            [
             0.5,
             "#f7f7f7"
            ],
            [
             0.6,
             "#e6f5d0"
            ],
            [
             0.7,
             "#b8e186"
            ],
            [
             0.8,
             "#7fbc41"
            ],
            [
             0.9,
             "#4d9221"
            ],
            [
             1,
             "#276419"
            ]
           ],
           "sequential": [
            [
             0,
             "#0d0887"
            ],
            [
             0.1111111111111111,
             "#46039f"
            ],
            [
             0.2222222222222222,
             "#7201a8"
            ],
            [
             0.3333333333333333,
             "#9c179e"
            ],
            [
             0.4444444444444444,
             "#bd3786"
            ],
            [
             0.5555555555555556,
             "#d8576b"
            ],
            [
             0.6666666666666666,
             "#ed7953"
            ],
            [
             0.7777777777777778,
             "#fb9f3a"
            ],
            [
             0.8888888888888888,
             "#fdca26"
            ],
            [
             1,
             "#f0f921"
            ]
           ],
           "sequentialminus": [
            [
             0,
             "#0d0887"
            ],
            [
             0.1111111111111111,
             "#46039f"
            ],
            [
             0.2222222222222222,
             "#7201a8"
            ],
            [
             0.3333333333333333,
             "#9c179e"
            ],
            [
             0.4444444444444444,
             "#bd3786"
            ],
            [
             0.5555555555555556,
             "#d8576b"
            ],
            [
             0.6666666666666666,
             "#ed7953"
            ],
            [
             0.7777777777777778,
             "#fb9f3a"
            ],
            [
             0.8888888888888888,
             "#fdca26"
            ],
            [
             1,
             "#f0f921"
            ]
           ]
          },
          "colorway": [
           "#636efa",
           "#EF553B",
           "#00cc96",
           "#ab63fa",
           "#FFA15A",
           "#19d3f3",
           "#FF6692",
           "#B6E880",
           "#FF97FF",
           "#FECB52"
          ],
          "font": {
           "color": "#2a3f5f"
          },
          "geo": {
           "bgcolor": "white",
           "lakecolor": "white",
           "landcolor": "#E5ECF6",
           "showlakes": true,
           "showland": true,
           "subunitcolor": "white"
          },
          "hoverlabel": {
           "align": "left"
          },
          "hovermode": "closest",
          "mapbox": {
           "style": "light"
          },
          "paper_bgcolor": "white",
          "plot_bgcolor": "#E5ECF6",
          "polar": {
           "angularaxis": {
            "gridcolor": "white",
            "linecolor": "white",
            "ticks": ""
           },
           "bgcolor": "#E5ECF6",
           "radialaxis": {
            "gridcolor": "white",
            "linecolor": "white",
            "ticks": ""
           }
          },
          "scene": {
           "xaxis": {
            "backgroundcolor": "#E5ECF6",
            "gridcolor": "white",
            "gridwidth": 2,
            "linecolor": "white",
            "showbackground": true,
            "ticks": "",
            "zerolinecolor": "white"
           },
           "yaxis": {
            "backgroundcolor": "#E5ECF6",
            "gridcolor": "white",
            "gridwidth": 2,
            "linecolor": "white",
            "showbackground": true,
            "ticks": "",
            "zerolinecolor": "white"
           },
           "zaxis": {
            "backgroundcolor": "#E5ECF6",
            "gridcolor": "white",
            "gridwidth": 2,
            "linecolor": "white",
            "showbackground": true,
            "ticks": "",
            "zerolinecolor": "white"
           }
          },
          "shapedefaults": {
           "line": {
            "color": "#2a3f5f"
           }
          },
          "ternary": {
           "aaxis": {
            "gridcolor": "white",
            "linecolor": "white",
            "ticks": ""
           },
           "baxis": {
            "gridcolor": "white",
            "linecolor": "white",
            "ticks": ""
           },
           "bgcolor": "#E5ECF6",
           "caxis": {
            "gridcolor": "white",
            "linecolor": "white",
            "ticks": ""
           }
          },
          "title": {
           "x": 0.05
          },
          "xaxis": {
           "automargin": true,
           "gridcolor": "white",
           "linecolor": "white",
           "ticks": "",
           "title": {
            "standoff": 15
           },
           "zerolinecolor": "white",
           "zerolinewidth": 2
          },
          "yaxis": {
           "automargin": true,
           "gridcolor": "white",
           "linecolor": "white",
           "ticks": "",
           "title": {
            "standoff": 15
           },
           "zerolinecolor": "white",
           "zerolinewidth": 2
          }
         }
        },
        "title": {
         "text": "Costs Analysis of Most Expensive Neighbourhoods in Toronto per Year"
        }
       }
      },
      "text/html": [
       "<div>\n",
       "        \n",
       "        \n",
       "            <div id=\"c48d3a98-b006-44bf-84cc-dc0791db0b27\" class=\"plotly-graph-div\" style=\"height:525px; width:100%;\"></div>\n",
       "            <script type=\"text/javascript\">\n",
       "                require([\"plotly\"], function(Plotly) {\n",
       "                    window.PLOTLYENV=window.PLOTLYENV || {};\n",
       "                    \n",
       "                if (document.getElementById(\"c48d3a98-b006-44bf-84cc-dc0791db0b27\")) {\n",
       "                    Plotly.newPlot(\n",
       "                        'c48d3a98-b006-44bf-84cc-dc0791db0b27',\n",
       "                        [{\"branchvalues\": \"total\", \"customdata\": [[933, 1491, 933.0], [1808, 1020, 1808.0], [1988, 1124, 1988.0], [2418, 1385, 2418.0], [1983, 1790, 1983.0], [2170, 2167, 2170.0], [2387, 2388, 2387.0], [2903, 2942, 2903.0], [1241, 1500, 1241.0], [1819, 1356, 1819.0], [2001, 1494, 2001.0], [2434, 1841, 2434.0], [940, 1428, 940.0], [1731, 1027, 1731.0], [1904, 1132, 1904.0], [2316, 1395, 2316.0], [1001, 1469, 1001.0], [1781, 1094, 1781.0], [1959, 1206, 1959.0], [2383, 1486, 2383.0], [1362, 1340, 1362.0], [1625, 1488, 1625.0], [1787, 1640, 1787.0], [2173, 2020, 2173.0], [1021, 1630, 1021.0], [1977, 1116, 1977.0], [2174, 1230, 2174.0], [2644, 1515, 2644.0], [1219, 1540, 1219.0], [1868, 1332, 1868.0], [2054, 1468, 2054.0], [2498, 1809, 2498.0], [1055, 1551, 1055.0], [1881, 1152, 1881.0], [2069, 1270, 2069.0], [2516, 1565, 2516.0], [1091, 1351, 1091.0], [1638, 1192, 1638.0], [1802, 1314, 1802.0], [2192, 1619, 2192.0], [\"(?)\", \"(?)\", 1224.7502831983431], [\"(?)\", \"(?)\", 1856.058787788345], [\"(?)\", \"(?)\", 2041.3886794989783], [\"(?)\", \"(?)\", 2482.826591451349]], \"domain\": {\"x\": [0.0, 1.0], \"y\": [0.0, 1.0]}, \"hovertemplate\": \"labels=%{label}<br>average_house_value=%{value}<br>parent=%{parent}<br>id=%{id}<br>shelter_costs_owned=%{customdata[0]}<br>shelter_costs_rented=%{customdata[1]}<br>shelter_costs_ownedadditional_col_for_hover=%{color}<extra></extra>\", \"ids\": [\"2001/Bedford Park-Nortown\", \"2006/Bedford Park-Nortown\", \"2011/Bedford Park-Nortown\", \"2016/Bedford Park-Nortown\", \"2001/Bridle Path-Sunnybrook-York Mills\", \"2006/Bridle Path-Sunnybrook-York Mills\", \"2011/Bridle Path-Sunnybrook-York Mills\", \"2016/Bridle Path-Sunnybrook-York Mills\", \"2001/Casa Loma\", \"2006/Casa Loma\", \"2011/Casa Loma\", \"2016/Casa Loma\", \"2001/Forest Hill North\", \"2006/Forest Hill North\", \"2011/Forest Hill North\", \"2016/Forest Hill North\", \"2001/Forest Hill South\", \"2006/Forest Hill South\", \"2011/Forest Hill South\", \"2016/Forest Hill South\", \"2001/Kingsway South\", \"2006/Kingsway South\", \"2011/Kingsway South\", \"2016/Kingsway South\", \"2001/Lawrence Park South\", \"2006/Lawrence Park South\", \"2011/Lawrence Park South\", \"2016/Lawrence Park South\", \"2001/Rosedale-Moore Park\", \"2006/Rosedale-Moore Park\", \"2011/Rosedale-Moore Park\", \"2016/Rosedale-Moore Park\", \"2001/St.Andrew-Windfields\", \"2006/St.Andrew-Windfields\", \"2011/St.Andrew-Windfields\", \"2016/St.Andrew-Windfields\", \"2001/Yonge-St.Clair\", \"2006/Yonge-St.Clair\", \"2011/Yonge-St.Clair\", \"2016/Yonge-St.Clair\", \"2001\", \"2006\", \"2011\", \"2016\"], \"labels\": [\"Bedford Park-Nortown\", \"Bedford Park-Nortown\", \"Bedford Park-Nortown\", \"Bedford Park-Nortown\", \"Bridle Path-Sunnybrook-York Mills\", \"Bridle Path-Sunnybrook-York Mills\", \"Bridle Path-Sunnybrook-York Mills\", \"Bridle Path-Sunnybrook-York Mills\", \"Casa Loma\", \"Casa Loma\", \"Casa Loma\", \"Casa Loma\", \"Forest Hill North\", \"Forest Hill North\", \"Forest Hill North\", \"Forest Hill North\", \"Forest Hill South\", \"Forest Hill South\", \"Forest Hill South\", \"Forest Hill South\", \"Kingsway South\", \"Kingsway South\", \"Kingsway South\", \"Kingsway South\", \"Lawrence Park South\", \"Lawrence Park South\", \"Lawrence Park South\", \"Lawrence Park South\", \"Rosedale-Moore Park\", \"Rosedale-Moore Park\", \"Rosedale-Moore Park\", \"Rosedale-Moore Park\", \"St.Andrew-Windfields\", \"St.Andrew-Windfields\", \"St.Andrew-Windfields\", \"St.Andrew-Windfields\", \"Yonge-St.Clair\", \"Yonge-St.Clair\", \"Yonge-St.Clair\", \"Yonge-St.Clair\", \"2001\", \"2006\", \"2011\", \"2016\"], \"marker\": {\"coloraxis\": \"coloraxis\", \"colors\": [933.0, 1808.0, 1988.0, 2418.0, 1983.0, 2170.0, 2387.0, 2903.0, 1241.0, 1819.0, 2001.0, 2434.0, 940.0, 1731.0, 1904.0, 2316.0, 1001.0, 1781.0, 1959.0, 2383.0, 1362.0, 1625.0, 1787.0, 2173.0, 1021.0, 1977.0, 2174.0, 2644.0, 1219.0, 1868.0, 2054.0, 2498.0, 1055.0, 1881.0, 2069.0, 2516.0, 1091.0, 1638.0, 1802.0, 2192.0, 1224.7502831983431, 1856.058787788345, 2041.3886794989783, 2482.826591451349]}, \"name\": \"\", \"parents\": [\"2001\", \"2006\", \"2011\", \"2016\", \"2001\", \"2006\", \"2011\", \"2016\", \"2001\", \"2006\", \"2011\", \"2016\", \"2001\", \"2006\", \"2011\", \"2016\", \"2001\", \"2006\", \"2011\", \"2016\", \"2001\", \"2006\", \"2011\", \"2016\", \"2001\", \"2006\", \"2011\", \"2016\", \"2001\", \"2006\", \"2011\", \"2016\", \"2001\", \"2006\", \"2011\", \"2016\", \"2001\", \"2006\", \"2011\", \"2016\", \"\", \"\", \"\", \"\"], \"type\": \"sunburst\", \"values\": [565304, 826963, 1034387, 1295007, 927466, 1356757, 1697067, 2124653, 596077, 871981, 1090696, 1365503, 517466, 756983, 946854, 1185419, 726664, 1063011, 1329642, 1664653, 512334, 749476, 937464, 1173663, 664712, 972384, 1216283, 1522732, 664476, 972039, 1215852, 1522193, 607040, 888017, 1110755, 1390616, 494098, 722799, 904096, 1131888, 6275637, 9180410, 11483096, 14376327]}],\n",
       "                        {\"coloraxis\": {\"colorbar\": {\"title\": {\"text\": \"shelter_costs_ownedadditional_col_for_hover\"}}, \"colorscale\": [[0.0, \"rgb(247,251,255)\"], [0.125, \"rgb(222,235,247)\"], [0.25, \"rgb(198,219,239)\"], [0.375, \"rgb(158,202,225)\"], [0.5, \"rgb(107,174,214)\"], [0.625, \"rgb(66,146,198)\"], [0.75, \"rgb(33,113,181)\"], [0.875, \"rgb(8,81,156)\"], [1.0, \"rgb(8,48,107)\"]]}, \"legend\": {\"tracegroupgap\": 0}, \"template\": {\"data\": {\"bar\": [{\"error_x\": {\"color\": \"#2a3f5f\"}, \"error_y\": {\"color\": \"#2a3f5f\"}, \"marker\": {\"line\": {\"color\": \"#E5ECF6\", \"width\": 0.5}}, \"type\": \"bar\"}], \"barpolar\": [{\"marker\": {\"line\": {\"color\": \"#E5ECF6\", \"width\": 0.5}}, \"type\": \"barpolar\"}], \"carpet\": [{\"aaxis\": {\"endlinecolor\": \"#2a3f5f\", \"gridcolor\": \"white\", \"linecolor\": \"white\", \"minorgridcolor\": \"white\", \"startlinecolor\": \"#2a3f5f\"}, \"baxis\": {\"endlinecolor\": \"#2a3f5f\", \"gridcolor\": \"white\", \"linecolor\": \"white\", \"minorgridcolor\": \"white\", \"startlinecolor\": \"#2a3f5f\"}, \"type\": \"carpet\"}], \"choropleth\": [{\"colorbar\": {\"outlinewidth\": 0, \"ticks\": \"\"}, \"type\": \"choropleth\"}], \"contour\": [{\"colorbar\": {\"outlinewidth\": 0, \"ticks\": \"\"}, \"colorscale\": [[0.0, \"#0d0887\"], [0.1111111111111111, \"#46039f\"], [0.2222222222222222, \"#7201a8\"], [0.3333333333333333, \"#9c179e\"], [0.4444444444444444, \"#bd3786\"], [0.5555555555555556, \"#d8576b\"], [0.6666666666666666, \"#ed7953\"], [0.7777777777777778, \"#fb9f3a\"], [0.8888888888888888, \"#fdca26\"], [1.0, \"#f0f921\"]], \"type\": \"contour\"}], \"contourcarpet\": [{\"colorbar\": {\"outlinewidth\": 0, \"ticks\": \"\"}, \"type\": \"contourcarpet\"}], \"heatmap\": [{\"colorbar\": {\"outlinewidth\": 0, \"ticks\": \"\"}, \"colorscale\": [[0.0, \"#0d0887\"], [0.1111111111111111, \"#46039f\"], [0.2222222222222222, \"#7201a8\"], [0.3333333333333333, \"#9c179e\"], [0.4444444444444444, \"#bd3786\"], [0.5555555555555556, \"#d8576b\"], [0.6666666666666666, \"#ed7953\"], [0.7777777777777778, \"#fb9f3a\"], [0.8888888888888888, \"#fdca26\"], [1.0, \"#f0f921\"]], \"type\": \"heatmap\"}], \"heatmapgl\": [{\"colorbar\": {\"outlinewidth\": 0, \"ticks\": \"\"}, \"colorscale\": [[0.0, \"#0d0887\"], [0.1111111111111111, \"#46039f\"], [0.2222222222222222, \"#7201a8\"], [0.3333333333333333, \"#9c179e\"], [0.4444444444444444, \"#bd3786\"], [0.5555555555555556, \"#d8576b\"], [0.6666666666666666, \"#ed7953\"], [0.7777777777777778, \"#fb9f3a\"], [0.8888888888888888, \"#fdca26\"], [1.0, \"#f0f921\"]], \"type\": \"heatmapgl\"}], \"histogram\": [{\"marker\": {\"colorbar\": {\"outlinewidth\": 0, \"ticks\": \"\"}}, \"type\": \"histogram\"}], \"histogram2d\": [{\"colorbar\": {\"outlinewidth\": 0, \"ticks\": \"\"}, \"colorscale\": [[0.0, \"#0d0887\"], [0.1111111111111111, \"#46039f\"], [0.2222222222222222, \"#7201a8\"], [0.3333333333333333, \"#9c179e\"], [0.4444444444444444, \"#bd3786\"], [0.5555555555555556, \"#d8576b\"], [0.6666666666666666, \"#ed7953\"], [0.7777777777777778, \"#fb9f3a\"], [0.8888888888888888, \"#fdca26\"], [1.0, \"#f0f921\"]], \"type\": \"histogram2d\"}], \"histogram2dcontour\": [{\"colorbar\": {\"outlinewidth\": 0, \"ticks\": \"\"}, \"colorscale\": [[0.0, \"#0d0887\"], [0.1111111111111111, \"#46039f\"], [0.2222222222222222, \"#7201a8\"], [0.3333333333333333, \"#9c179e\"], [0.4444444444444444, \"#bd3786\"], [0.5555555555555556, \"#d8576b\"], [0.6666666666666666, \"#ed7953\"], [0.7777777777777778, \"#fb9f3a\"], [0.8888888888888888, \"#fdca26\"], [1.0, \"#f0f921\"]], \"type\": \"histogram2dcontour\"}], \"mesh3d\": [{\"colorbar\": {\"outlinewidth\": 0, \"ticks\": \"\"}, \"type\": \"mesh3d\"}], \"parcoords\": [{\"line\": {\"colorbar\": {\"outlinewidth\": 0, \"ticks\": \"\"}}, \"type\": \"parcoords\"}], \"pie\": [{\"automargin\": true, \"type\": \"pie\"}], \"scatter\": [{\"marker\": {\"colorbar\": {\"outlinewidth\": 0, \"ticks\": \"\"}}, \"type\": \"scatter\"}], \"scatter3d\": [{\"line\": {\"colorbar\": {\"outlinewidth\": 0, \"ticks\": \"\"}}, \"marker\": {\"colorbar\": {\"outlinewidth\": 0, \"ticks\": \"\"}}, \"type\": \"scatter3d\"}], \"scattercarpet\": [{\"marker\": {\"colorbar\": {\"outlinewidth\": 0, \"ticks\": \"\"}}, \"type\": \"scattercarpet\"}], \"scattergeo\": [{\"marker\": {\"colorbar\": {\"outlinewidth\": 0, \"ticks\": \"\"}}, \"type\": \"scattergeo\"}], \"scattergl\": [{\"marker\": {\"colorbar\": {\"outlinewidth\": 0, \"ticks\": \"\"}}, \"type\": \"scattergl\"}], \"scattermapbox\": [{\"marker\": {\"colorbar\": {\"outlinewidth\": 0, \"ticks\": \"\"}}, \"type\": \"scattermapbox\"}], \"scatterpolar\": [{\"marker\": {\"colorbar\": {\"outlinewidth\": 0, \"ticks\": \"\"}}, \"type\": \"scatterpolar\"}], \"scatterpolargl\": [{\"marker\": {\"colorbar\": {\"outlinewidth\": 0, \"ticks\": \"\"}}, \"type\": \"scatterpolargl\"}], \"scatterternary\": [{\"marker\": {\"colorbar\": {\"outlinewidth\": 0, \"ticks\": \"\"}}, \"type\": \"scatterternary\"}], \"surface\": [{\"colorbar\": {\"outlinewidth\": 0, \"ticks\": \"\"}, \"colorscale\": [[0.0, \"#0d0887\"], [0.1111111111111111, \"#46039f\"], [0.2222222222222222, \"#7201a8\"], [0.3333333333333333, \"#9c179e\"], [0.4444444444444444, \"#bd3786\"], [0.5555555555555556, \"#d8576b\"], [0.6666666666666666, \"#ed7953\"], [0.7777777777777778, \"#fb9f3a\"], [0.8888888888888888, \"#fdca26\"], [1.0, \"#f0f921\"]], \"type\": \"surface\"}], \"table\": [{\"cells\": {\"fill\": {\"color\": \"#EBF0F8\"}, \"line\": {\"color\": \"white\"}}, \"header\": {\"fill\": {\"color\": \"#C8D4E3\"}, \"line\": {\"color\": \"white\"}}, \"type\": \"table\"}]}, \"layout\": {\"annotationdefaults\": {\"arrowcolor\": \"#2a3f5f\", \"arrowhead\": 0, \"arrowwidth\": 1}, \"coloraxis\": {\"colorbar\": {\"outlinewidth\": 0, \"ticks\": \"\"}}, \"colorscale\": {\"diverging\": [[0, \"#8e0152\"], [0.1, \"#c51b7d\"], [0.2, \"#de77ae\"], [0.3, \"#f1b6da\"], [0.4, \"#fde0ef\"], [0.5, \"#f7f7f7\"], [0.6, \"#e6f5d0\"], [0.7, \"#b8e186\"], [0.8, \"#7fbc41\"], [0.9, \"#4d9221\"], [1, \"#276419\"]], \"sequential\": [[0.0, \"#0d0887\"], [0.1111111111111111, \"#46039f\"], [0.2222222222222222, \"#7201a8\"], [0.3333333333333333, \"#9c179e\"], [0.4444444444444444, \"#bd3786\"], [0.5555555555555556, \"#d8576b\"], [0.6666666666666666, \"#ed7953\"], [0.7777777777777778, \"#fb9f3a\"], [0.8888888888888888, \"#fdca26\"], [1.0, \"#f0f921\"]], \"sequentialminus\": [[0.0, \"#0d0887\"], [0.1111111111111111, \"#46039f\"], [0.2222222222222222, \"#7201a8\"], [0.3333333333333333, \"#9c179e\"], [0.4444444444444444, \"#bd3786\"], [0.5555555555555556, \"#d8576b\"], [0.6666666666666666, \"#ed7953\"], [0.7777777777777778, \"#fb9f3a\"], [0.8888888888888888, \"#fdca26\"], [1.0, \"#f0f921\"]]}, \"colorway\": [\"#636efa\", \"#EF553B\", \"#00cc96\", \"#ab63fa\", \"#FFA15A\", \"#19d3f3\", \"#FF6692\", \"#B6E880\", \"#FF97FF\", \"#FECB52\"], \"font\": {\"color\": \"#2a3f5f\"}, \"geo\": {\"bgcolor\": \"white\", \"lakecolor\": \"white\", \"landcolor\": \"#E5ECF6\", \"showlakes\": true, \"showland\": true, \"subunitcolor\": \"white\"}, \"hoverlabel\": {\"align\": \"left\"}, \"hovermode\": \"closest\", \"mapbox\": {\"style\": \"light\"}, \"paper_bgcolor\": \"white\", \"plot_bgcolor\": \"#E5ECF6\", \"polar\": {\"angularaxis\": {\"gridcolor\": \"white\", \"linecolor\": \"white\", \"ticks\": \"\"}, \"bgcolor\": \"#E5ECF6\", \"radialaxis\": {\"gridcolor\": \"white\", \"linecolor\": \"white\", \"ticks\": \"\"}}, \"scene\": {\"xaxis\": {\"backgroundcolor\": \"#E5ECF6\", \"gridcolor\": \"white\", \"gridwidth\": 2, \"linecolor\": \"white\", \"showbackground\": true, \"ticks\": \"\", \"zerolinecolor\": \"white\"}, \"yaxis\": {\"backgroundcolor\": \"#E5ECF6\", \"gridcolor\": \"white\", \"gridwidth\": 2, \"linecolor\": \"white\", \"showbackground\": true, \"ticks\": \"\", \"zerolinecolor\": \"white\"}, \"zaxis\": {\"backgroundcolor\": \"#E5ECF6\", \"gridcolor\": \"white\", \"gridwidth\": 2, \"linecolor\": \"white\", \"showbackground\": true, \"ticks\": \"\", \"zerolinecolor\": \"white\"}}, \"shapedefaults\": {\"line\": {\"color\": \"#2a3f5f\"}}, \"ternary\": {\"aaxis\": {\"gridcolor\": \"white\", \"linecolor\": \"white\", \"ticks\": \"\"}, \"baxis\": {\"gridcolor\": \"white\", \"linecolor\": \"white\", \"ticks\": \"\"}, \"bgcolor\": \"#E5ECF6\", \"caxis\": {\"gridcolor\": \"white\", \"linecolor\": \"white\", \"ticks\": \"\"}}, \"title\": {\"x\": 0.05}, \"xaxis\": {\"automargin\": true, \"gridcolor\": \"white\", \"linecolor\": \"white\", \"ticks\": \"\", \"title\": {\"standoff\": 15}, \"zerolinecolor\": \"white\", \"zerolinewidth\": 2}, \"yaxis\": {\"automargin\": true, \"gridcolor\": \"white\", \"linecolor\": \"white\", \"ticks\": \"\", \"title\": {\"standoff\": 15}, \"zerolinecolor\": \"white\", \"zerolinewidth\": 2}}}, \"title\": {\"text\": \"Costs Analysis of Most Expensive Neighbourhoods in Toronto per Year\"}},\n",
       "                        {\"responsive\": true}\n",
       "                    ).then(function(){\n",
       "                            \n",
       "var gd = document.getElementById('c48d3a98-b006-44bf-84cc-dc0791db0b27');\n",
       "var x = new MutationObserver(function (mutations, observer) {{\n",
       "        var display = window.getComputedStyle(gd).display;\n",
       "        if (!display || display === 'none') {{\n",
       "            console.log([gd, 'removed!']);\n",
       "            Plotly.purge(gd);\n",
       "            observer.disconnect();\n",
       "        }}\n",
       "}});\n",
       "\n",
       "// Listen for the removal of the full notebook cells\n",
       "var notebookContainer = gd.closest('#notebook-container');\n",
       "if (notebookContainer) {{\n",
       "    x.observe(notebookContainer, {childList: true});\n",
       "}}\n",
       "\n",
       "// Listen for the clearing of the current output cell\n",
       "var outputEl = gd.closest('.output');\n",
       "if (outputEl) {{\n",
       "    x.observe(outputEl, {childList: true});\n",
       "}}\n",
       "\n",
       "                        })\n",
       "                };\n",
       "                });\n",
       "            </script>\n",
       "        </div>"
      ]
     },
     "metadata": {},
     "output_type": "display_data"
    }
   ],
   "source": [
    "# Create the sunburst chart\n",
    "# YOUR CODE HERE!"
   ]
  }
 ],
 "metadata": {
  "file_extension": ".py",
  "interpreter": {
   "hash": "db335a6583cad23cd3372c05280223f52a2ddab7ce84f1a49897f97665964281"
  },
  "kernelspec": {
   "display_name": "Python [conda env:pyvizenv25] *",
   "language": "python",
   "name": "python3"
  },
  "language_info": {
   "codemirror_mode": {
    "name": "ipython",
    "version": 3
   },
   "file_extension": ".py",
   "mimetype": "text/x-python",
   "name": "python",
   "nbconvert_exporter": "python",
   "pygments_lexer": "ipython3",
   "version": "3.7.11"
  },
  "mimetype": "text/x-python",
  "name": "python",
  "npconvert_exporter": "python",
  "pygments_lexer": "ipython3",
  "version": 3
 },
 "nbformat": 4,
 "nbformat_minor": 4
}
